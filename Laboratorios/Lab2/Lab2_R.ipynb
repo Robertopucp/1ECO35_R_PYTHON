{
 "cells": [
  {
   "cell_type": "markdown",
   "metadata": {},
   "source": [
    "# Conditional, loops and functions"
   ]
  },
  {
   "cell_type": "markdown",
   "metadata": {},
   "source": [
    "# 1.  IF condition\n",
    "\n",
    "<font size = \"5\"> Features </font>\n",
    "\n",
    "\n",
    "We are going to cover certain functions necessary to be able to write ours. for\n",
    "1. We will learn to use the **if** function.\n",
    "2. We will see the types of **Loops** in R.\n",
    "3. Structure of a **function**.\n"
   ]
  },
  {
   "cell_type": "markdown",
   "metadata": {},
   "source": [
    "# If condition\n",
    "\n",
    "Function **if** test conditions. \n",
    "- Equals: a == b\n",
    "- Not Equals: a != b\n",
    "- Less than: a < b\n",
    "- Less than or equal to: a <= b\n",
    "- Greater than: a > b\n",
    "- Greater than or equal to: a >= b\n",
    "\n",
    "<img src=\"../images/if_R.png\" alt=\"image info\" />"
   ]
  },
  {
   "cell_type": "markdown",
   "metadata": {},
   "source": [
    "### The structure of the code is the following: <br><br>\n",
    "\n",
    "<font size=\"4\">\n",
    "if <font color='green'>test expresion</font>:<br>\n",
    "&nbsp;&nbsp;&nbsp;&nbsp;Code to excute<br>\n",
    "</font>\n",
    "\n",
    "The function **if** tests the veracity of a logic expression. The result of test statement should be a **<font color='red'>boolean</font>**. In other words, the output of the test statemen must be **<font color='red'>True</font>** or **<font color='red'>False</font>**. To sum, any function that its output is **boolean** can be used as a test expression in the **if** function."
   ]
  },
  {
   "cell_type": "code",
   "execution_count": 2,
   "metadata": {},
   "outputs": [],
   "source": [
    "library(glue)"
   ]
  },
  {
   "cell_type": "code",
   "execution_count": 3,
   "metadata": {},
   "outputs": [
    {
     "data": {
      "text/html": [
       "<span style=white-space:pre-wrap>'result A == B  FALSE '</span>"
      ],
      "text/latex": [
       "'result A == B  FALSE '"
      ],
      "text/markdown": [
       "<span style=white-space:pre-wrap>'result A == B  FALSE '</span>"
      ],
      "text/plain": [
       "result A == B  FALSE "
      ]
     },
     "metadata": {},
     "output_type": "display_data"
    },
    {
     "data": {
      "text/html": [
       "<span style=white-space:pre-wrap>'result A != B   TRUE '</span>"
      ],
      "text/latex": [
       "'result A != B   TRUE '"
      ],
      "text/markdown": [
       "<span style=white-space:pre-wrap>'result A != B   TRUE '</span>"
      ],
      "text/plain": [
       "result A != B   TRUE "
      ]
     },
     "metadata": {},
     "output_type": "display_data"
    },
    {
     "data": {
      "text/html": [
       "<span style=white-space:pre-wrap>'result A &gt; B  FALSE '</span>"
      ],
      "text/latex": [
       "'result A > B  FALSE '"
      ],
      "text/markdown": [
       "<span style=white-space:pre-wrap>'result A &gt; B  FALSE '</span>"
      ],
      "text/plain": [
       "result A > B  FALSE "
      ]
     },
     "metadata": {},
     "output_type": "display_data"
    }
   ],
   "source": [
    "A <- 20\n",
    "B <- 30\n",
    "\n",
    "result <- A == B\n",
    "glue( 'result A == B  {result} \\n')\n",
    "\n",
    "result <- A != B\n",
    "glue('result A != B   {result} \\n' )\n",
    "\n",
    "result <- A > B\n",
    "glue('result A > B  {result} \\n')"
   ]
  },
  {
   "cell_type": "markdown",
   "metadata": {},
   "source": [
    "## Test more than 1 expression\n",
    "\n",
    "We will use **elif**. This function allows us to add more test expressions.  <br><br>\n",
    "\n",
    "\n",
    "<img src=\"../images/eslse_if_R.png\" alt=\"image info\" />"
   ]
  },
  {
   "cell_type": "code",
   "execution_count": 2,
   "metadata": {},
   "outputs": [
    {
     "name": "stdout",
     "output_type": "stream",
     "text": [
      "[1] \"Test expresion 2 is True\"\n"
     ]
    }
   ],
   "source": [
    "A <- 10\n",
    "B <- 1\n",
    "\n",
    "if (A == B){\n",
    "    print( 'Test expresion 1 is True' )\n",
    "    \n",
    "} else if(A > B) {\n",
    "    print( 'Test expresion 2 is True' )\n",
    "\n",
    "} else if(A >= B) {\n",
    "    print( 'Test expresion 3 is True' )\n",
    "    \n",
    "} else if(A < B){\n",
    "    print( 'Test expresion 4 is True' )\n",
    "\n",
    "} else if(A <= B){\n",
    "    print( 'Test expresion 5 is True' )\n",
    "    \n",
    "} else {\n",
    "    \n",
    "        print( 'Test expresion 6 is True' )\n",
    "    }"
   ]
  },
  {
   "cell_type": "markdown",
   "metadata": {},
   "source": [
    "# R Nested if Statement"
   ]
  },
  {
   "cell_type": "code",
   "execution_count": 3,
   "metadata": {
    "scrolled": true
   },
   "outputs": [
    {
     "name": "stdout",
     "output_type": "stream",
     "text": [
      "[1] \"BAD\"\n"
     ]
    }
   ],
   "source": [
    "\n",
    "total <- 100\n",
    "#country = \"PE\"\n",
    "country <- \"AR\"\n",
    "\n",
    "\n",
    "if (country == \"PE\"){\n",
    "    \n",
    "    if(total <= 50){\n",
    "    print(\"Shipping Cost is  $50\")\n",
    "    } else if( total <= 100){\n",
    "    print(\"Shipping Cost is $25\")\n",
    "    } else if(total <= 150){\n",
    "    print(\"Shipping Costs $5\")          \n",
    "    } else {\n",
    "      print(\"FREE\")\n",
    "    }\n",
    "}\n",
    "        \n",
    "if (country == \"AR\"){\n",
    "    if (total <= 50){\n",
    "      print(\"Shipping Cost is  $100\")  \n",
    "    }\n",
    "    else{\n",
    "        print(\"BAD\")\n",
    "        }\n",
    "    }"
   ]
  },
  {
   "cell_type": "markdown",
   "metadata": {},
   "source": [
    "# Conclusion\n",
    "\n",
    "The **if** function is not only useful with logical expressions, but also with functions whose result is a **<font color = 'red' > Boolean </font>** (**True** or **False**).<br>"
   ]
  },
  {
   "cell_type": "markdown",
   "metadata": {},
   "source": [
    "# Loops\n",
    "Un loop es una función que permite realizar tareas de manera iterativa cierto número de veces (for loop) o mientras una condición sea verdadera (while loop).\n",
    "\n",
    "## While Loop\n",
    "While loop es utilizado para repetir código mientras la condición se mantenga verdadera. Cuando la expresión lógica sea falsa, el código terminará de ejecutarse. [More Info](https://www.geeksforgeeks.org/loops-in-r-for-while-repeat/)\n",
    "<img src=\"../images\\while_loop.jpg\">"
   ]
  },
  {
   "cell_type": "code",
   "execution_count": 6,
   "metadata": {
    "scrolled": true
   },
   "outputs": [
    {
     "name": "stdout",
     "output_type": "stream",
     "text": [
      "[1] 1\n",
      "[1] 3\n",
      "[1] 5\n"
     ]
    }
   ],
   "source": [
    "i <- 1 # Counting \n",
    "\n",
    "# condition \"i < 6\"\n",
    "while (i < 6){\n",
    "      # print i\n",
    "    print(i)\n",
    "    \n",
    "    #breand and ends code\n",
    "    i = 2 + i\n",
    "    # equivalents i = i +1    \n",
    "    \n",
    "}\n"
   ]
  },
  {
   "cell_type": "code",
   "execution_count": 7,
   "metadata": {},
   "outputs": [],
   "source": [
    "edad <- c(3, 6, 7, 10, 15, 17, 18, 31, 26, 88 , 100, 120, 110)"
   ]
  },
  {
   "cell_type": "code",
   "execution_count": 9,
   "metadata": {},
   "outputs": [
    {
     "data": {
      "text/html": [
       "13"
      ],
      "text/latex": [
       "13"
      ],
      "text/markdown": [
       "13"
      ],
      "text/plain": [
       "[1] 13"
      ]
     },
     "metadata": {},
     "output_type": "display_data"
    }
   ],
   "source": [
    "length(edad)"
   ]
  },
  {
   "cell_type": "code",
   "execution_count": 11,
   "metadata": {},
   "outputs": [
    {
     "name": "stdout",
     "output_type": "stream",
     "text": [
      "[1] 3\n",
      "[1] 6\n",
      "[1] 7\n",
      "[1] 10\n",
      "[1] 15\n",
      "[1] 17\n",
      "[1] 18\n",
      "[1] 31\n",
      "[1] 26\n",
      "[1] 88\n"
     ]
    }
   ],
   "source": [
    "edad <- c(3, 6, 7, 10, 15, 17, 18, 31, 26, 88 , 100, 120, 110)\n",
    "\n",
    "# Utilizaremos el paquete np.\n",
    "\n",
    "i = 1\n",
    "\n",
    "while (i < length(edad)-2){\n",
    "        print(edad[i])\n",
    "            i = 1 + i  \n",
    "}\n",
    "    "
   ]
  },
  {
   "cell_type": "markdown",
   "metadata": {},
   "source": [
    "### If I have my savings today of S/.1,000.00. How much will my savings be worth in 10 years at an interest rate of 2.5%?"
   ]
  },
  {
   "cell_type": "markdown",
   "metadata": {},
   "source": [
    "$$\n",
    "S_{y+1}\t=S_{y}(1+i)\n",
    "$$"
   ]
  },
  {
   "cell_type": "code",
   "execution_count": 13,
   "metadata": {},
   "outputs": [],
   "source": [
    "#  sasve\n",
    "S <- 1000\n",
    "\n",
    "# Periods\n",
    "n <- 10\n",
    "\n",
    "# interes rate\n",
    "i <- 0.025"
   ]
  },
  {
   "cell_type": "code",
   "execution_count": 14,
   "metadata": {},
   "outputs": [
    {
     "name": "stdout",
     "output_type": "stream",
     "text": [
      "periodo 2 : 1025\n",
      "periodo 3 : 1050.625\n",
      "periodo 4 : 1076.890625\n",
      "periodo 5 : 1103.812890625\n",
      "periodo 6 : 1131.40821289062\n",
      "periodo 7 : 1159.69341821289\n",
      "periodo 8 : 1188.68575366821\n",
      "periodo 9 : 1218.40289750992\n",
      "periodo 10 : 1248.86296994767\n"
     ]
    }
   ],
   "source": [
    "year = 1\n",
    "while (year < n){\n",
    "    S <-  S*(1+i)\n",
    "    year <-  year + 1\n",
    "    print(glue( \"periodo {year} : {S}\"))\n",
    "    }"
   ]
  },
  {
   "cell_type": "code",
   "execution_count": null,
   "metadata": {},
   "outputs": [],
   "source": [
    "# make list with 5 elements \n",
    "# imprimir solo las primeras 3 elementos (while)\n"
   ]
  },
  {
   "cell_type": "markdown",
   "metadata": {},
   "source": [
    "### Dataframe and conditional "
   ]
  },
  {
   "cell_type": "code",
   "execution_count": 48,
   "metadata": {
    "scrolled": false
   },
   "outputs": [
    {
     "data": {
      "text/html": [
       "<table class=\"dataframe\">\n",
       "<caption>A data.frame: 10 × 2</caption>\n",
       "<thead>\n",
       "\t<tr><th scope=col>nombres</th><th scope=col>edad</th></tr>\n",
       "\t<tr><th scope=col>&lt;chr&gt;</th><th scope=col>&lt;dbl&gt;</th></tr>\n",
       "</thead>\n",
       "<tbody>\n",
       "\t<tr><td>Marcelo</td><td> 23</td></tr>\n",
       "\t<tr><td>Octavio</td><td> 25</td></tr>\n",
       "\t<tr><td>Fredy  </td><td> 36</td></tr>\n",
       "\t<tr><td>Felipe </td><td> 78</td></tr>\n",
       "\t<tr><td>Arturo </td><td> 90</td></tr>\n",
       "\t<tr><td>Anzony </td><td> 32</td></tr>\n",
       "\t<tr><td>Finado </td><td>200</td></tr>\n",
       "\t<tr><td>Alex   </td><td> 24</td></tr>\n",
       "\t<tr><td>Anny   </td><td> 12</td></tr>\n",
       "\t<tr><td>Yampi  </td><td> 10</td></tr>\n",
       "</tbody>\n",
       "</table>\n"
      ],
      "text/latex": [
       "A data.frame: 10 × 2\n",
       "\\begin{tabular}{ll}\n",
       " nombres & edad\\\\\n",
       " <chr> & <dbl>\\\\\n",
       "\\hline\n",
       "\t Marcelo &  23\\\\\n",
       "\t Octavio &  25\\\\\n",
       "\t Fredy   &  36\\\\\n",
       "\t Felipe  &  78\\\\\n",
       "\t Arturo  &  90\\\\\n",
       "\t Anzony  &  32\\\\\n",
       "\t Finado  & 200\\\\\n",
       "\t Alex    &  24\\\\\n",
       "\t Anny    &  12\\\\\n",
       "\t Yampi   &  10\\\\\n",
       "\\end{tabular}\n"
      ],
      "text/markdown": [
       "\n",
       "A data.frame: 10 × 2\n",
       "\n",
       "| nombres &lt;chr&gt; | edad &lt;dbl&gt; |\n",
       "|---|---|\n",
       "| Marcelo |  23 |\n",
       "| Octavio |  25 |\n",
       "| Fredy   |  36 |\n",
       "| Felipe  |  78 |\n",
       "| Arturo  |  90 |\n",
       "| Anzony  |  32 |\n",
       "| Finado  | 200 |\n",
       "| Alex    |  24 |\n",
       "| Anny    |  12 |\n",
       "| Yampi   |  10 |\n",
       "\n"
      ],
      "text/plain": [
       "   nombres edad\n",
       "1  Marcelo  23 \n",
       "2  Octavio  25 \n",
       "3  Fredy    36 \n",
       "4  Felipe   78 \n",
       "5  Arturo   90 \n",
       "6  Anzony   32 \n",
       "7  Finado  200 \n",
       "8  Alex     24 \n",
       "9  Anny     12 \n",
       "10 Yampi    10 "
      ]
     },
     "metadata": {},
     "output_type": "display_data"
    }
   ],
   "source": [
    "personas  <- data.frame(\n",
    "  \"nombres\" = c('Marcelo', 'Octavio', 'Fredy', 'Felipe', 'Arturo', 'Anzony', 'Finado', 'Alex', 'Anny', 'Yampi'), \n",
    "  \"edad\" = c(23, 25, 36, 78, 90, 32, 200, 24, 12, 10))\n",
    "\n",
    "personas\n"
   ]
  },
  {
   "cell_type": "code",
   "execution_count": 49,
   "metadata": {},
   "outputs": [
    {
     "data": {
      "text/html": [
       "10"
      ],
      "text/latex": [
       "10"
      ],
      "text/markdown": [
       "10"
      ],
      "text/plain": [
       "[1] 10"
      ]
     },
     "metadata": {},
     "output_type": "display_data"
    }
   ],
   "source": [
    "dim(personas)[1]"
   ]
  },
  {
   "cell_type": "code",
   "execution_count": 50,
   "metadata": {},
   "outputs": [
    {
     "name": "stdout",
     "output_type": "stream",
     "text": [
      "[1] \"Que fue loco fantasmas\"\n"
     ]
    }
   ],
   "source": [
    "i <-1  # local \n",
    "\n",
    "nrows = dim(personas)[1]\n",
    "\n",
    "while (i <= nrows){\n",
    "    \n",
    "     if (personas$edad[i] > 100){\n",
    "        print('Que fue loco fantasmas')\n",
    "        }\n",
    "    else if (personas$edad[i] < 18){\n",
    "      personas$pasa[i] = \"Menor de edad\"   \n",
    "    } else {\n",
    "        personas$pasa[i] = \"OK\"   \n",
    "        }\n",
    "    i <- i + 1 \n",
    "}"
   ]
  },
  {
   "cell_type": "code",
   "execution_count": 51,
   "metadata": {
    "scrolled": false
   },
   "outputs": [
    {
     "data": {
      "text/html": [
       "<table class=\"dataframe\">\n",
       "<caption>A data.frame: 10 × 3</caption>\n",
       "<thead>\n",
       "\t<tr><th scope=col>nombres</th><th scope=col>edad</th><th scope=col>pasa</th></tr>\n",
       "\t<tr><th scope=col>&lt;chr&gt;</th><th scope=col>&lt;dbl&gt;</th><th scope=col>&lt;chr&gt;</th></tr>\n",
       "</thead>\n",
       "<tbody>\n",
       "\t<tr><td>Marcelo</td><td> 23</td><td>OK           </td></tr>\n",
       "\t<tr><td>Octavio</td><td> 25</td><td>OK           </td></tr>\n",
       "\t<tr><td>Fredy  </td><td> 36</td><td>OK           </td></tr>\n",
       "\t<tr><td>Felipe </td><td> 78</td><td>OK           </td></tr>\n",
       "\t<tr><td>Arturo </td><td> 90</td><td>OK           </td></tr>\n",
       "\t<tr><td>Anzony </td><td> 32</td><td>OK           </td></tr>\n",
       "\t<tr><td>Finado </td><td>200</td><td>OK           </td></tr>\n",
       "\t<tr><td>Alex   </td><td> 24</td><td>OK           </td></tr>\n",
       "\t<tr><td>Anny   </td><td> 12</td><td>Menor de edad</td></tr>\n",
       "\t<tr><td>Yampi  </td><td> 10</td><td>Menor de edad</td></tr>\n",
       "</tbody>\n",
       "</table>\n"
      ],
      "text/latex": [
       "A data.frame: 10 × 3\n",
       "\\begin{tabular}{lll}\n",
       " nombres & edad & pasa\\\\\n",
       " <chr> & <dbl> & <chr>\\\\\n",
       "\\hline\n",
       "\t Marcelo &  23 & OK           \\\\\n",
       "\t Octavio &  25 & OK           \\\\\n",
       "\t Fredy   &  36 & OK           \\\\\n",
       "\t Felipe  &  78 & OK           \\\\\n",
       "\t Arturo  &  90 & OK           \\\\\n",
       "\t Anzony  &  32 & OK           \\\\\n",
       "\t Finado  & 200 & OK           \\\\\n",
       "\t Alex    &  24 & OK           \\\\\n",
       "\t Anny    &  12 & Menor de edad\\\\\n",
       "\t Yampi   &  10 & Menor de edad\\\\\n",
       "\\end{tabular}\n"
      ],
      "text/markdown": [
       "\n",
       "A data.frame: 10 × 3\n",
       "\n",
       "| nombres &lt;chr&gt; | edad &lt;dbl&gt; | pasa &lt;chr&gt; |\n",
       "|---|---|---|\n",
       "| Marcelo |  23 | OK            |\n",
       "| Octavio |  25 | OK            |\n",
       "| Fredy   |  36 | OK            |\n",
       "| Felipe  |  78 | OK            |\n",
       "| Arturo  |  90 | OK            |\n",
       "| Anzony  |  32 | OK            |\n",
       "| Finado  | 200 | OK            |\n",
       "| Alex    |  24 | OK            |\n",
       "| Anny    |  12 | Menor de edad |\n",
       "| Yampi   |  10 | Menor de edad |\n",
       "\n"
      ],
      "text/plain": [
       "   nombres edad pasa         \n",
       "1  Marcelo  23  OK           \n",
       "2  Octavio  25  OK           \n",
       "3  Fredy    36  OK           \n",
       "4  Felipe   78  OK           \n",
       "5  Arturo   90  OK           \n",
       "6  Anzony   32  OK           \n",
       "7  Finado  200  OK           \n",
       "8  Alex     24  OK           \n",
       "9  Anny     12  Menor de edad\n",
       "10 Yampi    10  Menor de edad"
      ]
     },
     "metadata": {},
     "output_type": "display_data"
    }
   ],
   "source": [
    "personas"
   ]
  },
  {
   "cell_type": "markdown",
   "metadata": {},
   "source": [
    "# 2. For loops\n",
    "\n",
    "\n",
    "A for loop is used for iterating over a sequence. It executes a code a definite number of times. It has the following structure:\n",
    "\n",
    "<img src=\"../images/for_loop.jpg\" alt=\"image info\" />\n"
   ]
  },
  {
   "cell_type": "code",
   "execution_count": 62,
   "metadata": {},
   "outputs": [
    {
     "name": "stdout",
     "output_type": "stream",
     "text": [
      "[1] 31\n",
      "[1] 33\n",
      "[1] 35\n",
      "[1] 34\n",
      "[1] 30\n"
     ]
    }
   ],
   "source": [
    "ages = c(21, 23, 25, 24, 20)\n",
    "\n",
    "for (age in ages) {\n",
    "      print(age+10 )  \n",
    "}"
   ]
  },
  {
   "cell_type": "code",
   "execution_count": null,
   "metadata": {},
   "outputs": [],
   "source": [
    "# cd \"escritorio/stata/data\""
   ]
  },
  {
   "cell_type": "code",
   "execution_count": 21,
   "metadata": {},
   "outputs": [],
   "source": [
    "production_fish = read.csv(\"../../data/production_fish.csv\" )  # relative path "
   ]
  },
  {
   "cell_type": "code",
   "execution_count": 23,
   "metadata": {
    "scrolled": true
   },
   "outputs": [
    {
     "data": {
      "text/html": [
       "<table class=\"dataframe\">\n",
       "<caption>A data.frame: 16 × 15</caption>\n",
       "<thead>\n",
       "\t<tr><th scope=col>year</th><th scope=col>Consumo.Industrial...Anchoveta</th><th scope=col>Consumo.Humano...Congelado...Concha.de.abanico</th><th scope=col>Consumo.Humano...Congelado...Langostino</th><th scope=col>Consumo.Humano...Congelado...Merluza</th><th scope=col>Consumo.Humano...Congelado...Calamar.gigante</th><th scope=col>Consumo.Humano...Conservas...AtÃºn</th><th scope=col>Consumo.Humano...Conservas...Caballa</th><th scope=col>Consumo.Humano...Conservas...Jurel</th><th scope=col>Consumo.Humano...Conservas...Sardina</th><th scope=col>Consumo.Humano...Fresco...Concha.de.abanico</th><th scope=col>Consumo.Humano...Fresco...Jurel</th><th scope=col>Consumo.Humano...Fresco...Liza</th><th scope=col>Consumo.Humano...Fresco...Tollo</th><th scope=col>total_production</th></tr>\n",
       "\t<tr><th scope=col>&lt;int&gt;</th><th scope=col>&lt;dbl&gt;</th><th scope=col>&lt;dbl&gt;</th><th scope=col>&lt;dbl&gt;</th><th scope=col>&lt;dbl&gt;</th><th scope=col>&lt;dbl&gt;</th><th scope=col>&lt;dbl&gt;</th><th scope=col>&lt;dbl&gt;</th><th scope=col>&lt;dbl&gt;</th><th scope=col>&lt;dbl&gt;</th><th scope=col>&lt;dbl&gt;</th><th scope=col>&lt;dbl&gt;</th><th scope=col>&lt;dbl&gt;</th><th scope=col>&lt;dbl&gt;</th><th scope=col>&lt;dbl&gt;</th></tr>\n",
       "</thead>\n",
       "<tbody>\n",
       "\t<tr><td>2005</td><td>8628.396</td><td>13.53700</td><td> 9.02100</td><td>23.27900</td><td>235.6300</td><td> 9.877000</td><td>25.711000</td><td> 20.481000</td><td>0.16500000</td><td>1.8430800</td><td> 56.16794</td><td> 5.875600</td><td>0.430000</td><td>9030.414</td></tr>\n",
       "\t<tr><td>2006</td><td>5891.838</td><td>14.71400</td><td>11.29500</td><td>25.18900</td><td>365.7290</td><td>11.336000</td><td>58.245000</td><td>122.904000</td><td>0.04800000</td><td>4.0480000</td><td>136.82700</td><td> 3.166000</td><td>1.584000</td><td>6646.923</td></tr>\n",
       "\t<tr><td>2007</td><td>6084.713</td><td>19.93700</td><td>13.54800</td><td>28.35849</td><td>379.5566</td><td> 3.713293</td><td>26.248739</td><td> 82.910307</td><td>0.00102000</td><td>4.8229906</td><td>134.88732</td><td> 9.317622</td><td>2.834958</td><td>6790.849</td></tr>\n",
       "\t<tr><td>2008</td><td>6159.387</td><td>18.79000</td><td>12.81700</td><td>26.34840</td><td>484.1621</td><td> 3.283711</td><td>47.694121</td><td> 58.864202</td><td>0.00000000</td><td>0.8281875</td><td> 80.09288</td><td>14.514054</td><td>2.933360</td><td>6909.715</td></tr>\n",
       "\t<tr><td>2009</td><td>5828.636</td><td>24.63437</td><td>11.87740</td><td>36.77476</td><td>355.1066</td><td> 2.017061</td><td>51.355908</td><td> 14.289041</td><td>0.00000000</td><td>1.8430723</td><td> 47.07917</td><td>17.311344</td><td>4.057886</td><td>6394.983</td></tr>\n",
       "\t<tr><td>2010</td><td>3330.413</td><td>60.00125</td><td>14.47794</td><td>25.64770</td><td>327.5719</td><td> 9.182845</td><td> 9.729522</td><td>  5.774274</td><td>0.00000000</td><td>2.8247486</td><td> 10.40493</td><td> 9.706363</td><td>4.994712</td><td>3810.729</td></tr>\n",
       "\t<tr><td>2011</td><td>7000.093</td><td>92.02764</td><td>23.38448</td><td>28.54446</td><td>373.1957</td><td> 6.586856</td><td>20.478814</td><td> 83.277943</td><td>0.05446333</td><td>0.8731300</td><td> 72.95512</td><td>12.124808</td><td>5.687520</td><td>7719.284</td></tr>\n",
       "\t<tr><td>2012</td><td>3693.871</td><td>38.93339</td><td>22.70722</td><td>21.05478</td><td>457.0727</td><td> 1.115060</td><td> 9.978510</td><td> 43.693940</td><td>0.08846000</td><td>0.7446100</td><td> 72.93047</td><td>17.162420</td><td>4.235380</td><td>4383.588</td></tr>\n",
       "\t<tr><td>2013</td><td>4754.118</td><td>89.29328</td><td>19.11137</td><td>31.18746</td><td>410.7595</td><td> 7.136436</td><td>26.600553</td><td>  7.197624</td><td>0.00000000</td><td>2.1802522</td><td> 54.45454</td><td>12.530821</td><td>3.945647</td><td>5418.516</td></tr>\n",
       "\t<tr><td>2014</td><td>2255.453</td><td>52.26650</td><td>21.76299</td><td>30.77080</td><td>465.0076</td><td> 4.734540</td><td>29.576440</td><td>  8.882560</td><td>0.00000000</td><td>0.6081600</td><td> 46.34646</td><td>12.248670</td><td>5.206880</td><td>2932.865</td></tr>\n",
       "\t<tr><td>2015</td><td>3616.481</td><td>14.84315</td><td>26.77221</td><td>25.64413</td><td>426.9323</td><td>11.082120</td><td>15.314910</td><td>  2.769796</td><td>0.16414000</td><td>0.6159100</td><td> 17.53693</td><td>12.463520</td><td>7.717680</td><td>4178.338</td></tr>\n",
       "\t<tr><td>2016</td><td>2732.734</td><td>10.09013</td><td>29.25375</td><td>25.80021</td><td>246.1247</td><td>10.884490</td><td>57.675170</td><td>  0.412040</td><td>0.00749000</td><td>0.5797500</td><td> 12.47205</td><td>15.757580</td><td>9.453130</td><td>3151.244</td></tr>\n",
       "\t<tr><td>2017</td><td>3165.490</td><td> 4.59609</td><td>38.76007</td><td>37.14743</td><td>252.4299</td><td>11.802750</td><td>23.249140</td><td>  1.052910</td><td>0.00000000</td><td>0.3737000</td><td>  6.88953</td><td>29.061740</td><td>6.692660</td><td>3577.546</td></tr>\n",
       "\t<tr><td>2018</td><td>6072.888</td><td>36.53035</td><td>31.50588</td><td>34.87658</td><td>319.1465</td><td>18.138975</td><td>24.610468</td><td> 14.619846</td><td>0.00000000</td><td>1.5513662</td><td> 14.72097</td><td>23.326310</td><td>3.672117</td><td>6595.587</td></tr>\n",
       "\t<tr><td>2019</td><td>3381.437</td><td>53.11286</td><td>42.85764</td><td>28.97985</td><td>483.7652</td><td>17.839298</td><td>19.598784</td><td> 27.733432</td><td>0.00000000</td><td>1.2265210</td><td> 40.79870</td><td>24.029820</td><td>1.241883</td><td>4122.621</td></tr>\n",
       "\t<tr><td>2020</td><td>4314.558</td><td>46.99529</td><td>34.51697</td><td>19.84290</td><td>407.3848</td><td> 3.843680</td><td>28.408700</td><td> 23.475890</td><td>0.00000000</td><td>0.6166967</td><td> 48.11581</td><td>14.992172</td><td>0.544585</td><td>4943.296</td></tr>\n",
       "</tbody>\n",
       "</table>\n"
      ],
      "text/latex": [
       "A data.frame: 16 × 15\n",
       "\\begin{tabular}{lllllllllllllll}\n",
       " year & Consumo.Industrial...Anchoveta & Consumo.Humano...Congelado...Concha.de.abanico & Consumo.Humano...Congelado...Langostino & Consumo.Humano...Congelado...Merluza & Consumo.Humano...Congelado...Calamar.gigante & Consumo.Humano...Conservas...AtÃºn & Consumo.Humano...Conservas...Caballa & Consumo.Humano...Conservas...Jurel & Consumo.Humano...Conservas...Sardina & Consumo.Humano...Fresco...Concha.de.abanico & Consumo.Humano...Fresco...Jurel & Consumo.Humano...Fresco...Liza & Consumo.Humano...Fresco...Tollo & total\\_production\\\\\n",
       " <int> & <dbl> & <dbl> & <dbl> & <dbl> & <dbl> & <dbl> & <dbl> & <dbl> & <dbl> & <dbl> & <dbl> & <dbl> & <dbl> & <dbl>\\\\\n",
       "\\hline\n",
       "\t 2005 & 8628.396 & 13.53700 &  9.02100 & 23.27900 & 235.6300 &  9.877000 & 25.711000 &  20.481000 & 0.16500000 & 1.8430800 &  56.16794 &  5.875600 & 0.430000 & 9030.414\\\\\n",
       "\t 2006 & 5891.838 & 14.71400 & 11.29500 & 25.18900 & 365.7290 & 11.336000 & 58.245000 & 122.904000 & 0.04800000 & 4.0480000 & 136.82700 &  3.166000 & 1.584000 & 6646.923\\\\\n",
       "\t 2007 & 6084.713 & 19.93700 & 13.54800 & 28.35849 & 379.5566 &  3.713293 & 26.248739 &  82.910307 & 0.00102000 & 4.8229906 & 134.88732 &  9.317622 & 2.834958 & 6790.849\\\\\n",
       "\t 2008 & 6159.387 & 18.79000 & 12.81700 & 26.34840 & 484.1621 &  3.283711 & 47.694121 &  58.864202 & 0.00000000 & 0.8281875 &  80.09288 & 14.514054 & 2.933360 & 6909.715\\\\\n",
       "\t 2009 & 5828.636 & 24.63437 & 11.87740 & 36.77476 & 355.1066 &  2.017061 & 51.355908 &  14.289041 & 0.00000000 & 1.8430723 &  47.07917 & 17.311344 & 4.057886 & 6394.983\\\\\n",
       "\t 2010 & 3330.413 & 60.00125 & 14.47794 & 25.64770 & 327.5719 &  9.182845 &  9.729522 &   5.774274 & 0.00000000 & 2.8247486 &  10.40493 &  9.706363 & 4.994712 & 3810.729\\\\\n",
       "\t 2011 & 7000.093 & 92.02764 & 23.38448 & 28.54446 & 373.1957 &  6.586856 & 20.478814 &  83.277943 & 0.05446333 & 0.8731300 &  72.95512 & 12.124808 & 5.687520 & 7719.284\\\\\n",
       "\t 2012 & 3693.871 & 38.93339 & 22.70722 & 21.05478 & 457.0727 &  1.115060 &  9.978510 &  43.693940 & 0.08846000 & 0.7446100 &  72.93047 & 17.162420 & 4.235380 & 4383.588\\\\\n",
       "\t 2013 & 4754.118 & 89.29328 & 19.11137 & 31.18746 & 410.7595 &  7.136436 & 26.600553 &   7.197624 & 0.00000000 & 2.1802522 &  54.45454 & 12.530821 & 3.945647 & 5418.516\\\\\n",
       "\t 2014 & 2255.453 & 52.26650 & 21.76299 & 30.77080 & 465.0076 &  4.734540 & 29.576440 &   8.882560 & 0.00000000 & 0.6081600 &  46.34646 & 12.248670 & 5.206880 & 2932.865\\\\\n",
       "\t 2015 & 3616.481 & 14.84315 & 26.77221 & 25.64413 & 426.9323 & 11.082120 & 15.314910 &   2.769796 & 0.16414000 & 0.6159100 &  17.53693 & 12.463520 & 7.717680 & 4178.338\\\\\n",
       "\t 2016 & 2732.734 & 10.09013 & 29.25375 & 25.80021 & 246.1247 & 10.884490 & 57.675170 &   0.412040 & 0.00749000 & 0.5797500 &  12.47205 & 15.757580 & 9.453130 & 3151.244\\\\\n",
       "\t 2017 & 3165.490 &  4.59609 & 38.76007 & 37.14743 & 252.4299 & 11.802750 & 23.249140 &   1.052910 & 0.00000000 & 0.3737000 &   6.88953 & 29.061740 & 6.692660 & 3577.546\\\\\n",
       "\t 2018 & 6072.888 & 36.53035 & 31.50588 & 34.87658 & 319.1465 & 18.138975 & 24.610468 &  14.619846 & 0.00000000 & 1.5513662 &  14.72097 & 23.326310 & 3.672117 & 6595.587\\\\\n",
       "\t 2019 & 3381.437 & 53.11286 & 42.85764 & 28.97985 & 483.7652 & 17.839298 & 19.598784 &  27.733432 & 0.00000000 & 1.2265210 &  40.79870 & 24.029820 & 1.241883 & 4122.621\\\\\n",
       "\t 2020 & 4314.558 & 46.99529 & 34.51697 & 19.84290 & 407.3848 &  3.843680 & 28.408700 &  23.475890 & 0.00000000 & 0.6166967 &  48.11581 & 14.992172 & 0.544585 & 4943.296\\\\\n",
       "\\end{tabular}\n"
      ],
      "text/markdown": [
       "\n",
       "A data.frame: 16 × 15\n",
       "\n",
       "| year &lt;int&gt; | Consumo.Industrial...Anchoveta &lt;dbl&gt; | Consumo.Humano...Congelado...Concha.de.abanico &lt;dbl&gt; | Consumo.Humano...Congelado...Langostino &lt;dbl&gt; | Consumo.Humano...Congelado...Merluza &lt;dbl&gt; | Consumo.Humano...Congelado...Calamar.gigante &lt;dbl&gt; | Consumo.Humano...Conservas...AtÃºn &lt;dbl&gt; | Consumo.Humano...Conservas...Caballa &lt;dbl&gt; | Consumo.Humano...Conservas...Jurel &lt;dbl&gt; | Consumo.Humano...Conservas...Sardina &lt;dbl&gt; | Consumo.Humano...Fresco...Concha.de.abanico &lt;dbl&gt; | Consumo.Humano...Fresco...Jurel &lt;dbl&gt; | Consumo.Humano...Fresco...Liza &lt;dbl&gt; | Consumo.Humano...Fresco...Tollo &lt;dbl&gt; | total_production &lt;dbl&gt; |\n",
       "|---|---|---|---|---|---|---|---|---|---|---|---|---|---|---|\n",
       "| 2005 | 8628.396 | 13.53700 |  9.02100 | 23.27900 | 235.6300 |  9.877000 | 25.711000 |  20.481000 | 0.16500000 | 1.8430800 |  56.16794 |  5.875600 | 0.430000 | 9030.414 |\n",
       "| 2006 | 5891.838 | 14.71400 | 11.29500 | 25.18900 | 365.7290 | 11.336000 | 58.245000 | 122.904000 | 0.04800000 | 4.0480000 | 136.82700 |  3.166000 | 1.584000 | 6646.923 |\n",
       "| 2007 | 6084.713 | 19.93700 | 13.54800 | 28.35849 | 379.5566 |  3.713293 | 26.248739 |  82.910307 | 0.00102000 | 4.8229906 | 134.88732 |  9.317622 | 2.834958 | 6790.849 |\n",
       "| 2008 | 6159.387 | 18.79000 | 12.81700 | 26.34840 | 484.1621 |  3.283711 | 47.694121 |  58.864202 | 0.00000000 | 0.8281875 |  80.09288 | 14.514054 | 2.933360 | 6909.715 |\n",
       "| 2009 | 5828.636 | 24.63437 | 11.87740 | 36.77476 | 355.1066 |  2.017061 | 51.355908 |  14.289041 | 0.00000000 | 1.8430723 |  47.07917 | 17.311344 | 4.057886 | 6394.983 |\n",
       "| 2010 | 3330.413 | 60.00125 | 14.47794 | 25.64770 | 327.5719 |  9.182845 |  9.729522 |   5.774274 | 0.00000000 | 2.8247486 |  10.40493 |  9.706363 | 4.994712 | 3810.729 |\n",
       "| 2011 | 7000.093 | 92.02764 | 23.38448 | 28.54446 | 373.1957 |  6.586856 | 20.478814 |  83.277943 | 0.05446333 | 0.8731300 |  72.95512 | 12.124808 | 5.687520 | 7719.284 |\n",
       "| 2012 | 3693.871 | 38.93339 | 22.70722 | 21.05478 | 457.0727 |  1.115060 |  9.978510 |  43.693940 | 0.08846000 | 0.7446100 |  72.93047 | 17.162420 | 4.235380 | 4383.588 |\n",
       "| 2013 | 4754.118 | 89.29328 | 19.11137 | 31.18746 | 410.7595 |  7.136436 | 26.600553 |   7.197624 | 0.00000000 | 2.1802522 |  54.45454 | 12.530821 | 3.945647 | 5418.516 |\n",
       "| 2014 | 2255.453 | 52.26650 | 21.76299 | 30.77080 | 465.0076 |  4.734540 | 29.576440 |   8.882560 | 0.00000000 | 0.6081600 |  46.34646 | 12.248670 | 5.206880 | 2932.865 |\n",
       "| 2015 | 3616.481 | 14.84315 | 26.77221 | 25.64413 | 426.9323 | 11.082120 | 15.314910 |   2.769796 | 0.16414000 | 0.6159100 |  17.53693 | 12.463520 | 7.717680 | 4178.338 |\n",
       "| 2016 | 2732.734 | 10.09013 | 29.25375 | 25.80021 | 246.1247 | 10.884490 | 57.675170 |   0.412040 | 0.00749000 | 0.5797500 |  12.47205 | 15.757580 | 9.453130 | 3151.244 |\n",
       "| 2017 | 3165.490 |  4.59609 | 38.76007 | 37.14743 | 252.4299 | 11.802750 | 23.249140 |   1.052910 | 0.00000000 | 0.3737000 |   6.88953 | 29.061740 | 6.692660 | 3577.546 |\n",
       "| 2018 | 6072.888 | 36.53035 | 31.50588 | 34.87658 | 319.1465 | 18.138975 | 24.610468 |  14.619846 | 0.00000000 | 1.5513662 |  14.72097 | 23.326310 | 3.672117 | 6595.587 |\n",
       "| 2019 | 3381.437 | 53.11286 | 42.85764 | 28.97985 | 483.7652 | 17.839298 | 19.598784 |  27.733432 | 0.00000000 | 1.2265210 |  40.79870 | 24.029820 | 1.241883 | 4122.621 |\n",
       "| 2020 | 4314.558 | 46.99529 | 34.51697 | 19.84290 | 407.3848 |  3.843680 | 28.408700 |  23.475890 | 0.00000000 | 0.6166967 |  48.11581 | 14.992172 | 0.544585 | 4943.296 |\n",
       "\n"
      ],
      "text/plain": [
       "   year Consumo.Industrial...Anchoveta\n",
       "1  2005 8628.396                      \n",
       "2  2006 5891.838                      \n",
       "3  2007 6084.713                      \n",
       "4  2008 6159.387                      \n",
       "5  2009 5828.636                      \n",
       "6  2010 3330.413                      \n",
       "7  2011 7000.093                      \n",
       "8  2012 3693.871                      \n",
       "9  2013 4754.118                      \n",
       "10 2014 2255.453                      \n",
       "11 2015 3616.481                      \n",
       "12 2016 2732.734                      \n",
       "13 2017 3165.490                      \n",
       "14 2018 6072.888                      \n",
       "15 2019 3381.437                      \n",
       "16 2020 4314.558                      \n",
       "   Consumo.Humano...Congelado...Concha.de.abanico\n",
       "1  13.53700                                      \n",
       "2  14.71400                                      \n",
       "3  19.93700                                      \n",
       "4  18.79000                                      \n",
       "5  24.63437                                      \n",
       "6  60.00125                                      \n",
       "7  92.02764                                      \n",
       "8  38.93339                                      \n",
       "9  89.29328                                      \n",
       "10 52.26650                                      \n",
       "11 14.84315                                      \n",
       "12 10.09013                                      \n",
       "13  4.59609                                      \n",
       "14 36.53035                                      \n",
       "15 53.11286                                      \n",
       "16 46.99529                                      \n",
       "   Consumo.Humano...Congelado...Langostino Consumo.Humano...Congelado...Merluza\n",
       "1   9.02100                                23.27900                            \n",
       "2  11.29500                                25.18900                            \n",
       "3  13.54800                                28.35849                            \n",
       "4  12.81700                                26.34840                            \n",
       "5  11.87740                                36.77476                            \n",
       "6  14.47794                                25.64770                            \n",
       "7  23.38448                                28.54446                            \n",
       "8  22.70722                                21.05478                            \n",
       "9  19.11137                                31.18746                            \n",
       "10 21.76299                                30.77080                            \n",
       "11 26.77221                                25.64413                            \n",
       "12 29.25375                                25.80021                            \n",
       "13 38.76007                                37.14743                            \n",
       "14 31.50588                                34.87658                            \n",
       "15 42.85764                                28.97985                            \n",
       "16 34.51697                                19.84290                            \n",
       "   Consumo.Humano...Congelado...Calamar.gigante\n",
       "1  235.6300                                    \n",
       "2  365.7290                                    \n",
       "3  379.5566                                    \n",
       "4  484.1621                                    \n",
       "5  355.1066                                    \n",
       "6  327.5719                                    \n",
       "7  373.1957                                    \n",
       "8  457.0727                                    \n",
       "9  410.7595                                    \n",
       "10 465.0076                                    \n",
       "11 426.9323                                    \n",
       "12 246.1247                                    \n",
       "13 252.4299                                    \n",
       "14 319.1465                                    \n",
       "15 483.7652                                    \n",
       "16 407.3848                                    \n",
       "   Consumo.Humano...Conservas...AtÃºn Consumo.Humano...Conservas...Caballa\n",
       "1   9.877000                          25.711000                           \n",
       "2  11.336000                          58.245000                           \n",
       "3   3.713293                          26.248739                           \n",
       "4   3.283711                          47.694121                           \n",
       "5   2.017061                          51.355908                           \n",
       "6   9.182845                           9.729522                           \n",
       "7   6.586856                          20.478814                           \n",
       "8   1.115060                           9.978510                           \n",
       "9   7.136436                          26.600553                           \n",
       "10  4.734540                          29.576440                           \n",
       "11 11.082120                          15.314910                           \n",
       "12 10.884490                          57.675170                           \n",
       "13 11.802750                          23.249140                           \n",
       "14 18.138975                          24.610468                           \n",
       "15 17.839298                          19.598784                           \n",
       "16  3.843680                          28.408700                           \n",
       "   Consumo.Humano...Conservas...Jurel Consumo.Humano...Conservas...Sardina\n",
       "1   20.481000                         0.16500000                          \n",
       "2  122.904000                         0.04800000                          \n",
       "3   82.910307                         0.00102000                          \n",
       "4   58.864202                         0.00000000                          \n",
       "5   14.289041                         0.00000000                          \n",
       "6    5.774274                         0.00000000                          \n",
       "7   83.277943                         0.05446333                          \n",
       "8   43.693940                         0.08846000                          \n",
       "9    7.197624                         0.00000000                          \n",
       "10   8.882560                         0.00000000                          \n",
       "11   2.769796                         0.16414000                          \n",
       "12   0.412040                         0.00749000                          \n",
       "13   1.052910                         0.00000000                          \n",
       "14  14.619846                         0.00000000                          \n",
       "15  27.733432                         0.00000000                          \n",
       "16  23.475890                         0.00000000                          \n",
       "   Consumo.Humano...Fresco...Concha.de.abanico Consumo.Humano...Fresco...Jurel\n",
       "1  1.8430800                                    56.16794                      \n",
       "2  4.0480000                                   136.82700                      \n",
       "3  4.8229906                                   134.88732                      \n",
       "4  0.8281875                                    80.09288                      \n",
       "5  1.8430723                                    47.07917                      \n",
       "6  2.8247486                                    10.40493                      \n",
       "7  0.8731300                                    72.95512                      \n",
       "8  0.7446100                                    72.93047                      \n",
       "9  2.1802522                                    54.45454                      \n",
       "10 0.6081600                                    46.34646                      \n",
       "11 0.6159100                                    17.53693                      \n",
       "12 0.5797500                                    12.47205                      \n",
       "13 0.3737000                                     6.88953                      \n",
       "14 1.5513662                                    14.72097                      \n",
       "15 1.2265210                                    40.79870                      \n",
       "16 0.6166967                                    48.11581                      \n",
       "   Consumo.Humano...Fresco...Liza Consumo.Humano...Fresco...Tollo\n",
       "1   5.875600                      0.430000                       \n",
       "2   3.166000                      1.584000                       \n",
       "3   9.317622                      2.834958                       \n",
       "4  14.514054                      2.933360                       \n",
       "5  17.311344                      4.057886                       \n",
       "6   9.706363                      4.994712                       \n",
       "7  12.124808                      5.687520                       \n",
       "8  17.162420                      4.235380                       \n",
       "9  12.530821                      3.945647                       \n",
       "10 12.248670                      5.206880                       \n",
       "11 12.463520                      7.717680                       \n",
       "12 15.757580                      9.453130                       \n",
       "13 29.061740                      6.692660                       \n",
       "14 23.326310                      3.672117                       \n",
       "15 24.029820                      1.241883                       \n",
       "16 14.992172                      0.544585                       \n",
       "   total_production\n",
       "1  9030.414        \n",
       "2  6646.923        \n",
       "3  6790.849        \n",
       "4  6909.715        \n",
       "5  6394.983        \n",
       "6  3810.729        \n",
       "7  7719.284        \n",
       "8  4383.588        \n",
       "9  5418.516        \n",
       "10 2932.865        \n",
       "11 4178.338        \n",
       "12 3151.244        \n",
       "13 3577.546        \n",
       "14 6595.587        \n",
       "15 4122.621        \n",
       "16 4943.296        "
      ]
     },
     "metadata": {},
     "output_type": "display_data"
    }
   ],
   "source": [
    "production_fish"
   ]
  },
  {
   "cell_type": "code",
   "execution_count": 35,
   "metadata": {},
   "outputs": [
    {
     "data": {
      "text/html": [
       "<style>\n",
       ".list-inline {list-style: none; margin:0; padding: 0}\n",
       ".list-inline>li {display: inline-block}\n",
       ".list-inline>li:not(:last-child)::after {content: \"\\00b7\"; padding: 0 .5ex}\n",
       "</style>\n",
       "<ol class=list-inline><li>'year'</li><li>'Consumo.Industrial...Anchoveta'</li><li>'Consumo.Humano...Congelado...Concha.de.abanico'</li><li>'Consumo.Humano...Congelado...Langostino'</li><li>'Consumo.Humano...Congelado...Merluza'</li><li>'Consumo.Humano...Congelado...Calamar.gigante'</li><li>'Consumo.Humano...Conservas...AtÃºn'</li><li>'Consumo.Humano...Conservas...Caballa'</li><li>'Consumo.Humano...Conservas...Jurel'</li><li>'Consumo.Humano...Conservas...Sardina'</li><li>'Consumo.Humano...Fresco...Concha.de.abanico'</li><li>'Consumo.Humano...Fresco...Jurel'</li><li>'Consumo.Humano...Fresco...Liza'</li><li>'Consumo.Humano...Fresco...Tollo'</li><li>'total_production'</li></ol>\n"
      ],
      "text/latex": [
       "\\begin{enumerate*}\n",
       "\\item 'year'\n",
       "\\item 'Consumo.Industrial...Anchoveta'\n",
       "\\item 'Consumo.Humano...Congelado...Concha.de.abanico'\n",
       "\\item 'Consumo.Humano...Congelado...Langostino'\n",
       "\\item 'Consumo.Humano...Congelado...Merluza'\n",
       "\\item 'Consumo.Humano...Congelado...Calamar.gigante'\n",
       "\\item 'Consumo.Humano...Conservas...AtÃºn'\n",
       "\\item 'Consumo.Humano...Conservas...Caballa'\n",
       "\\item 'Consumo.Humano...Conservas...Jurel'\n",
       "\\item 'Consumo.Humano...Conservas...Sardina'\n",
       "\\item 'Consumo.Humano...Fresco...Concha.de.abanico'\n",
       "\\item 'Consumo.Humano...Fresco...Jurel'\n",
       "\\item 'Consumo.Humano...Fresco...Liza'\n",
       "\\item 'Consumo.Humano...Fresco...Tollo'\n",
       "\\item 'total\\_production'\n",
       "\\end{enumerate*}\n"
      ],
      "text/markdown": [
       "1. 'year'\n",
       "2. 'Consumo.Industrial...Anchoveta'\n",
       "3. 'Consumo.Humano...Congelado...Concha.de.abanico'\n",
       "4. 'Consumo.Humano...Congelado...Langostino'\n",
       "5. 'Consumo.Humano...Congelado...Merluza'\n",
       "6. 'Consumo.Humano...Congelado...Calamar.gigante'\n",
       "7. 'Consumo.Humano...Conservas...AtÃºn'\n",
       "8. 'Consumo.Humano...Conservas...Caballa'\n",
       "9. 'Consumo.Humano...Conservas...Jurel'\n",
       "10. 'Consumo.Humano...Conservas...Sardina'\n",
       "11. 'Consumo.Humano...Fresco...Concha.de.abanico'\n",
       "12. 'Consumo.Humano...Fresco...Jurel'\n",
       "13. 'Consumo.Humano...Fresco...Liza'\n",
       "14. 'Consumo.Humano...Fresco...Tollo'\n",
       "15. 'total_production'\n",
       "\n",
       "\n"
      ],
      "text/plain": [
       " [1] \"year\"                                          \n",
       " [2] \"Consumo.Industrial...Anchoveta\"                \n",
       " [3] \"Consumo.Humano...Congelado...Concha.de.abanico\"\n",
       " [4] \"Consumo.Humano...Congelado...Langostino\"       \n",
       " [5] \"Consumo.Humano...Congelado...Merluza\"          \n",
       " [6] \"Consumo.Humano...Congelado...Calamar.gigante\"  \n",
       " [7] \"Consumo.Humano...Conservas...AtÃºn\"            \n",
       " [8] \"Consumo.Humano...Conservas...Caballa\"          \n",
       " [9] \"Consumo.Humano...Conservas...Jurel\"            \n",
       "[10] \"Consumo.Humano...Conservas...Sardina\"          \n",
       "[11] \"Consumo.Humano...Fresco...Concha.de.abanico\"   \n",
       "[12] \"Consumo.Humano...Fresco...Jurel\"               \n",
       "[13] \"Consumo.Humano...Fresco...Liza\"                \n",
       "[14] \"Consumo.Humano...Fresco...Tollo\"               \n",
       "[15] \"total_production\"                              "
      ]
     },
     "metadata": {},
     "output_type": "display_data"
    }
   ],
   "source": [
    "names(production_fish)"
   ]
  },
  {
   "cell_type": "code",
   "execution_count": 26,
   "metadata": {},
   "outputs": [
    {
     "data": {
      "text/html": [
       "<style>\n",
       ".list-inline {list-style: none; margin:0; padding: 0}\n",
       ".list-inline>li {display: inline-block}\n",
       ".list-inline>li:not(:last-child)::after {content: \"\\00b7\"; padding: 0 .5ex}\n",
       "</style>\n",
       "<ol class=list-inline><li>16</li><li>15</li></ol>\n"
      ],
      "text/latex": [
       "\\begin{enumerate*}\n",
       "\\item 16\n",
       "\\item 15\n",
       "\\end{enumerate*}\n"
      ],
      "text/markdown": [
       "1. 16\n",
       "2. 15\n",
       "\n",
       "\n"
      ],
      "text/plain": [
       "[1] 16 15"
      ]
     },
     "metadata": {},
     "output_type": "display_data"
    }
   ],
   "source": [
    "dim(production_fish)"
   ]
  },
  {
   "cell_type": "code",
   "execution_count": 36,
   "metadata": {},
   "outputs": [],
   "source": [
    "colums <- names(production_fish)[-1]"
   ]
  },
  {
   "cell_type": "code",
   "execution_count": 38,
   "metadata": {
    "scrolled": true
   },
   "outputs": [
    {
     "data": {
      "text/html": [
       "<table class=\"dataframe\">\n",
       "<caption>A data.frame: 6 × 15</caption>\n",
       "<thead>\n",
       "\t<tr><th></th><th scope=col>year</th><th scope=col>Consumo.Industrial...Anchoveta</th><th scope=col>Consumo.Humano...Congelado...Concha.de.abanico</th><th scope=col>Consumo.Humano...Congelado...Langostino</th><th scope=col>Consumo.Humano...Congelado...Merluza</th><th scope=col>Consumo.Humano...Congelado...Calamar.gigante</th><th scope=col>Consumo.Humano...Conservas...AtÃºn</th><th scope=col>Consumo.Humano...Conservas...Caballa</th><th scope=col>Consumo.Humano...Conservas...Jurel</th><th scope=col>Consumo.Humano...Conservas...Sardina</th><th scope=col>Consumo.Humano...Fresco...Concha.de.abanico</th><th scope=col>Consumo.Humano...Fresco...Jurel</th><th scope=col>Consumo.Humano...Fresco...Liza</th><th scope=col>Consumo.Humano...Fresco...Tollo</th><th scope=col>total_production</th></tr>\n",
       "\t<tr><th></th><th scope=col>&lt;int&gt;</th><th scope=col>&lt;dbl&gt;</th><th scope=col>&lt;dbl&gt;</th><th scope=col>&lt;dbl&gt;</th><th scope=col>&lt;dbl&gt;</th><th scope=col>&lt;dbl&gt;</th><th scope=col>&lt;dbl&gt;</th><th scope=col>&lt;dbl&gt;</th><th scope=col>&lt;dbl&gt;</th><th scope=col>&lt;dbl&gt;</th><th scope=col>&lt;dbl&gt;</th><th scope=col>&lt;dbl&gt;</th><th scope=col>&lt;dbl&gt;</th><th scope=col>&lt;dbl&gt;</th><th scope=col>&lt;dbl&gt;</th></tr>\n",
       "</thead>\n",
       "<tbody>\n",
       "\t<tr><th scope=row>1</th><td>2005</td><td>8628.396</td><td>13.53700</td><td> 9.02100</td><td>23.27900</td><td>235.6300</td><td> 9.877000</td><td>25.711000</td><td> 20.481000</td><td>0.16500</td><td>1.8430800</td><td> 56.16794</td><td> 5.875600</td><td>0.430000</td><td>9030.414</td></tr>\n",
       "\t<tr><th scope=row>2</th><td>2006</td><td>5891.838</td><td>14.71400</td><td>11.29500</td><td>25.18900</td><td>365.7290</td><td>11.336000</td><td>58.245000</td><td>122.904000</td><td>0.04800</td><td>4.0480000</td><td>136.82700</td><td> 3.166000</td><td>1.584000</td><td>6646.923</td></tr>\n",
       "\t<tr><th scope=row>3</th><td>2007</td><td>6084.713</td><td>19.93700</td><td>13.54800</td><td>28.35849</td><td>379.5566</td><td> 3.713293</td><td>26.248739</td><td> 82.910307</td><td>0.00102</td><td>4.8229906</td><td>134.88732</td><td> 9.317622</td><td>2.834958</td><td>6790.849</td></tr>\n",
       "\t<tr><th scope=row>4</th><td>2008</td><td>6159.387</td><td>18.79000</td><td>12.81700</td><td>26.34840</td><td>484.1621</td><td> 3.283711</td><td>47.694121</td><td> 58.864202</td><td>0.00000</td><td>0.8281875</td><td> 80.09288</td><td>14.514054</td><td>2.933360</td><td>6909.715</td></tr>\n",
       "\t<tr><th scope=row>5</th><td>2009</td><td>5828.636</td><td>24.63437</td><td>11.87740</td><td>36.77476</td><td>355.1066</td><td> 2.017061</td><td>51.355908</td><td> 14.289041</td><td>0.00000</td><td>1.8430723</td><td> 47.07917</td><td>17.311344</td><td>4.057886</td><td>6394.983</td></tr>\n",
       "\t<tr><th scope=row>6</th><td>2010</td><td>3330.413</td><td>60.00125</td><td>14.47794</td><td>25.64770</td><td>327.5719</td><td> 9.182845</td><td> 9.729522</td><td>  5.774274</td><td>0.00000</td><td>2.8247486</td><td> 10.40493</td><td> 9.706363</td><td>4.994712</td><td>3810.729</td></tr>\n",
       "</tbody>\n",
       "</table>\n"
      ],
      "text/latex": [
       "A data.frame: 6 × 15\n",
       "\\begin{tabular}{r|lllllllllllllll}\n",
       "  & year & Consumo.Industrial...Anchoveta & Consumo.Humano...Congelado...Concha.de.abanico & Consumo.Humano...Congelado...Langostino & Consumo.Humano...Congelado...Merluza & Consumo.Humano...Congelado...Calamar.gigante & Consumo.Humano...Conservas...AtÃºn & Consumo.Humano...Conservas...Caballa & Consumo.Humano...Conservas...Jurel & Consumo.Humano...Conservas...Sardina & Consumo.Humano...Fresco...Concha.de.abanico & Consumo.Humano...Fresco...Jurel & Consumo.Humano...Fresco...Liza & Consumo.Humano...Fresco...Tollo & total\\_production\\\\\n",
       "  & <int> & <dbl> & <dbl> & <dbl> & <dbl> & <dbl> & <dbl> & <dbl> & <dbl> & <dbl> & <dbl> & <dbl> & <dbl> & <dbl> & <dbl>\\\\\n",
       "\\hline\n",
       "\t1 & 2005 & 8628.396 & 13.53700 &  9.02100 & 23.27900 & 235.6300 &  9.877000 & 25.711000 &  20.481000 & 0.16500 & 1.8430800 &  56.16794 &  5.875600 & 0.430000 & 9030.414\\\\\n",
       "\t2 & 2006 & 5891.838 & 14.71400 & 11.29500 & 25.18900 & 365.7290 & 11.336000 & 58.245000 & 122.904000 & 0.04800 & 4.0480000 & 136.82700 &  3.166000 & 1.584000 & 6646.923\\\\\n",
       "\t3 & 2007 & 6084.713 & 19.93700 & 13.54800 & 28.35849 & 379.5566 &  3.713293 & 26.248739 &  82.910307 & 0.00102 & 4.8229906 & 134.88732 &  9.317622 & 2.834958 & 6790.849\\\\\n",
       "\t4 & 2008 & 6159.387 & 18.79000 & 12.81700 & 26.34840 & 484.1621 &  3.283711 & 47.694121 &  58.864202 & 0.00000 & 0.8281875 &  80.09288 & 14.514054 & 2.933360 & 6909.715\\\\\n",
       "\t5 & 2009 & 5828.636 & 24.63437 & 11.87740 & 36.77476 & 355.1066 &  2.017061 & 51.355908 &  14.289041 & 0.00000 & 1.8430723 &  47.07917 & 17.311344 & 4.057886 & 6394.983\\\\\n",
       "\t6 & 2010 & 3330.413 & 60.00125 & 14.47794 & 25.64770 & 327.5719 &  9.182845 &  9.729522 &   5.774274 & 0.00000 & 2.8247486 &  10.40493 &  9.706363 & 4.994712 & 3810.729\\\\\n",
       "\\end{tabular}\n"
      ],
      "text/markdown": [
       "\n",
       "A data.frame: 6 × 15\n",
       "\n",
       "| <!--/--> | year &lt;int&gt; | Consumo.Industrial...Anchoveta &lt;dbl&gt; | Consumo.Humano...Congelado...Concha.de.abanico &lt;dbl&gt; | Consumo.Humano...Congelado...Langostino &lt;dbl&gt; | Consumo.Humano...Congelado...Merluza &lt;dbl&gt; | Consumo.Humano...Congelado...Calamar.gigante &lt;dbl&gt; | Consumo.Humano...Conservas...AtÃºn &lt;dbl&gt; | Consumo.Humano...Conservas...Caballa &lt;dbl&gt; | Consumo.Humano...Conservas...Jurel &lt;dbl&gt; | Consumo.Humano...Conservas...Sardina &lt;dbl&gt; | Consumo.Humano...Fresco...Concha.de.abanico &lt;dbl&gt; | Consumo.Humano...Fresco...Jurel &lt;dbl&gt; | Consumo.Humano...Fresco...Liza &lt;dbl&gt; | Consumo.Humano...Fresco...Tollo &lt;dbl&gt; | total_production &lt;dbl&gt; |\n",
       "|---|---|---|---|---|---|---|---|---|---|---|---|---|---|---|---|\n",
       "| 1 | 2005 | 8628.396 | 13.53700 |  9.02100 | 23.27900 | 235.6300 |  9.877000 | 25.711000 |  20.481000 | 0.16500 | 1.8430800 |  56.16794 |  5.875600 | 0.430000 | 9030.414 |\n",
       "| 2 | 2006 | 5891.838 | 14.71400 | 11.29500 | 25.18900 | 365.7290 | 11.336000 | 58.245000 | 122.904000 | 0.04800 | 4.0480000 | 136.82700 |  3.166000 | 1.584000 | 6646.923 |\n",
       "| 3 | 2007 | 6084.713 | 19.93700 | 13.54800 | 28.35849 | 379.5566 |  3.713293 | 26.248739 |  82.910307 | 0.00102 | 4.8229906 | 134.88732 |  9.317622 | 2.834958 | 6790.849 |\n",
       "| 4 | 2008 | 6159.387 | 18.79000 | 12.81700 | 26.34840 | 484.1621 |  3.283711 | 47.694121 |  58.864202 | 0.00000 | 0.8281875 |  80.09288 | 14.514054 | 2.933360 | 6909.715 |\n",
       "| 5 | 2009 | 5828.636 | 24.63437 | 11.87740 | 36.77476 | 355.1066 |  2.017061 | 51.355908 |  14.289041 | 0.00000 | 1.8430723 |  47.07917 | 17.311344 | 4.057886 | 6394.983 |\n",
       "| 6 | 2010 | 3330.413 | 60.00125 | 14.47794 | 25.64770 | 327.5719 |  9.182845 |  9.729522 |   5.774274 | 0.00000 | 2.8247486 |  10.40493 |  9.706363 | 4.994712 | 3810.729 |\n",
       "\n"
      ],
      "text/plain": [
       "  year Consumo.Industrial...Anchoveta\n",
       "1 2005 8628.396                      \n",
       "2 2006 5891.838                      \n",
       "3 2007 6084.713                      \n",
       "4 2008 6159.387                      \n",
       "5 2009 5828.636                      \n",
       "6 2010 3330.413                      \n",
       "  Consumo.Humano...Congelado...Concha.de.abanico\n",
       "1 13.53700                                      \n",
       "2 14.71400                                      \n",
       "3 19.93700                                      \n",
       "4 18.79000                                      \n",
       "5 24.63437                                      \n",
       "6 60.00125                                      \n",
       "  Consumo.Humano...Congelado...Langostino Consumo.Humano...Congelado...Merluza\n",
       "1  9.02100                                23.27900                            \n",
       "2 11.29500                                25.18900                            \n",
       "3 13.54800                                28.35849                            \n",
       "4 12.81700                                26.34840                            \n",
       "5 11.87740                                36.77476                            \n",
       "6 14.47794                                25.64770                            \n",
       "  Consumo.Humano...Congelado...Calamar.gigante\n",
       "1 235.6300                                    \n",
       "2 365.7290                                    \n",
       "3 379.5566                                    \n",
       "4 484.1621                                    \n",
       "5 355.1066                                    \n",
       "6 327.5719                                    \n",
       "  Consumo.Humano...Conservas...AtÃºn Consumo.Humano...Conservas...Caballa\n",
       "1  9.877000                          25.711000                           \n",
       "2 11.336000                          58.245000                           \n",
       "3  3.713293                          26.248739                           \n",
       "4  3.283711                          47.694121                           \n",
       "5  2.017061                          51.355908                           \n",
       "6  9.182845                           9.729522                           \n",
       "  Consumo.Humano...Conservas...Jurel Consumo.Humano...Conservas...Sardina\n",
       "1  20.481000                         0.16500                             \n",
       "2 122.904000                         0.04800                             \n",
       "3  82.910307                         0.00102                             \n",
       "4  58.864202                         0.00000                             \n",
       "5  14.289041                         0.00000                             \n",
       "6   5.774274                         0.00000                             \n",
       "  Consumo.Humano...Fresco...Concha.de.abanico Consumo.Humano...Fresco...Jurel\n",
       "1 1.8430800                                    56.16794                      \n",
       "2 4.0480000                                   136.82700                      \n",
       "3 4.8229906                                   134.88732                      \n",
       "4 0.8281875                                    80.09288                      \n",
       "5 1.8430723                                    47.07917                      \n",
       "6 2.8247486                                    10.40493                      \n",
       "  Consumo.Humano...Fresco...Liza Consumo.Humano...Fresco...Tollo\n",
       "1  5.875600                      0.430000                       \n",
       "2  3.166000                      1.584000                       \n",
       "3  9.317622                      2.834958                       \n",
       "4 14.514054                      2.933360                       \n",
       "5 17.311344                      4.057886                       \n",
       "6  9.706363                      4.994712                       \n",
       "  total_production\n",
       "1 9030.414        \n",
       "2 6646.923        \n",
       "3 6790.849        \n",
       "4 6909.715        \n",
       "5 6394.983        \n",
       "6 3810.729        "
      ]
     },
     "metadata": {},
     "output_type": "display_data"
    }
   ],
   "source": [
    "head(production_fish)"
   ]
  },
  {
   "cell_type": "code",
   "execution_count": 37,
   "metadata": {},
   "outputs": [
    {
     "data": {
      "text/html": [
       "<style>\n",
       ".list-inline {list-style: none; margin:0; padding: 0}\n",
       ".list-inline>li {display: inline-block}\n",
       ".list-inline>li:not(:last-child)::after {content: \"\\00b7\"; padding: 0 .5ex}\n",
       "</style>\n",
       "<ol class=list-inline><li>'Consumo.Industrial...Anchoveta'</li><li>'Consumo.Humano...Congelado...Concha.de.abanico'</li><li>'Consumo.Humano...Congelado...Langostino'</li><li>'Consumo.Humano...Congelado...Merluza'</li><li>'Consumo.Humano...Congelado...Calamar.gigante'</li><li>'Consumo.Humano...Conservas...AtÃºn'</li><li>'Consumo.Humano...Conservas...Caballa'</li><li>'Consumo.Humano...Conservas...Jurel'</li><li>'Consumo.Humano...Conservas...Sardina'</li><li>'Consumo.Humano...Fresco...Concha.de.abanico'</li><li>'Consumo.Humano...Fresco...Jurel'</li><li>'Consumo.Humano...Fresco...Liza'</li><li>'Consumo.Humano...Fresco...Tollo'</li><li>'total_production'</li></ol>\n"
      ],
      "text/latex": [
       "\\begin{enumerate*}\n",
       "\\item 'Consumo.Industrial...Anchoveta'\n",
       "\\item 'Consumo.Humano...Congelado...Concha.de.abanico'\n",
       "\\item 'Consumo.Humano...Congelado...Langostino'\n",
       "\\item 'Consumo.Humano...Congelado...Merluza'\n",
       "\\item 'Consumo.Humano...Congelado...Calamar.gigante'\n",
       "\\item 'Consumo.Humano...Conservas...AtÃºn'\n",
       "\\item 'Consumo.Humano...Conservas...Caballa'\n",
       "\\item 'Consumo.Humano...Conservas...Jurel'\n",
       "\\item 'Consumo.Humano...Conservas...Sardina'\n",
       "\\item 'Consumo.Humano...Fresco...Concha.de.abanico'\n",
       "\\item 'Consumo.Humano...Fresco...Jurel'\n",
       "\\item 'Consumo.Humano...Fresco...Liza'\n",
       "\\item 'Consumo.Humano...Fresco...Tollo'\n",
       "\\item 'total\\_production'\n",
       "\\end{enumerate*}\n"
      ],
      "text/markdown": [
       "1. 'Consumo.Industrial...Anchoveta'\n",
       "2. 'Consumo.Humano...Congelado...Concha.de.abanico'\n",
       "3. 'Consumo.Humano...Congelado...Langostino'\n",
       "4. 'Consumo.Humano...Congelado...Merluza'\n",
       "5. 'Consumo.Humano...Congelado...Calamar.gigante'\n",
       "6. 'Consumo.Humano...Conservas...AtÃºn'\n",
       "7. 'Consumo.Humano...Conservas...Caballa'\n",
       "8. 'Consumo.Humano...Conservas...Jurel'\n",
       "9. 'Consumo.Humano...Conservas...Sardina'\n",
       "10. 'Consumo.Humano...Fresco...Concha.de.abanico'\n",
       "11. 'Consumo.Humano...Fresco...Jurel'\n",
       "12. 'Consumo.Humano...Fresco...Liza'\n",
       "13. 'Consumo.Humano...Fresco...Tollo'\n",
       "14. 'total_production'\n",
       "\n",
       "\n"
      ],
      "text/plain": [
       " [1] \"Consumo.Industrial...Anchoveta\"                \n",
       " [2] \"Consumo.Humano...Congelado...Concha.de.abanico\"\n",
       " [3] \"Consumo.Humano...Congelado...Langostino\"       \n",
       " [4] \"Consumo.Humano...Congelado...Merluza\"          \n",
       " [5] \"Consumo.Humano...Congelado...Calamar.gigante\"  \n",
       " [6] \"Consumo.Humano...Conservas...AtÃºn\"            \n",
       " [7] \"Consumo.Humano...Conservas...Caballa\"          \n",
       " [8] \"Consumo.Humano...Conservas...Jurel\"            \n",
       " [9] \"Consumo.Humano...Conservas...Sardina\"          \n",
       "[10] \"Consumo.Humano...Fresco...Concha.de.abanico\"   \n",
       "[11] \"Consumo.Humano...Fresco...Jurel\"               \n",
       "[12] \"Consumo.Humano...Fresco...Liza\"                \n",
       "[13] \"Consumo.Humano...Fresco...Tollo\"               \n",
       "[14] \"total_production\"                              "
      ]
     },
     "metadata": {},
     "output_type": "display_data"
    }
   ],
   "source": [
    "colums"
   ]
  },
  {
   "cell_type": "code",
   "execution_count": 40,
   "metadata": {},
   "outputs": [
    {
     "data": {
      "text/html": [
       "<table class=\"dataframe\">\n",
       "<caption>A data.frame: 16 × 16</caption>\n",
       "<thead>\n",
       "\t<tr><th scope=col>year</th><th scope=col>Consumo.Industrial...Anchoveta</th><th scope=col>Consumo.Humano...Congelado...Concha.de.abanico</th><th scope=col>Consumo.Humano...Congelado...Langostino</th><th scope=col>Consumo.Humano...Congelado...Merluza</th><th scope=col>Consumo.Humano...Congelado...Calamar.gigante</th><th scope=col>Consumo.Humano...Conservas...AtÃºn</th><th scope=col>Consumo.Humano...Conservas...Caballa</th><th scope=col>Consumo.Humano...Conservas...Jurel</th><th scope=col>Consumo.Humano...Conservas...Sardina</th><th scope=col>Consumo.Humano...Fresco...Concha.de.abanico</th><th scope=col>Consumo.Humano...Fresco...Jurel</th><th scope=col>Consumo.Humano...Fresco...Liza</th><th scope=col>Consumo.Humano...Fresco...Tollo</th><th scope=col>total_production</th><th scope=col>new</th></tr>\n",
       "\t<tr><th scope=col>&lt;int&gt;</th><th scope=col>&lt;dbl&gt;</th><th scope=col>&lt;dbl&gt;</th><th scope=col>&lt;dbl&gt;</th><th scope=col>&lt;dbl&gt;</th><th scope=col>&lt;dbl&gt;</th><th scope=col>&lt;dbl&gt;</th><th scope=col>&lt;dbl&gt;</th><th scope=col>&lt;dbl&gt;</th><th scope=col>&lt;dbl&gt;</th><th scope=col>&lt;dbl&gt;</th><th scope=col>&lt;dbl&gt;</th><th scope=col>&lt;dbl&gt;</th><th scope=col>&lt;dbl&gt;</th><th scope=col>&lt;dbl&gt;</th><th scope=col>&lt;dbl&gt;</th></tr>\n",
       "</thead>\n",
       "<tbody>\n",
       "\t<tr><td>2005</td><td>8628.396</td><td>13.53700</td><td> 9.02100</td><td>23.27900</td><td>235.6300</td><td> 9.877000</td><td>25.711000</td><td> 20.481000</td><td>0.16500000</td><td>1.8430800</td><td> 56.16794</td><td> 5.875600</td><td>0.430000</td><td>9030.414</td><td>1</td></tr>\n",
       "\t<tr><td>2006</td><td>5891.838</td><td>14.71400</td><td>11.29500</td><td>25.18900</td><td>365.7290</td><td>11.336000</td><td>58.245000</td><td>122.904000</td><td>0.04800000</td><td>4.0480000</td><td>136.82700</td><td> 3.166000</td><td>1.584000</td><td>6646.923</td><td>1</td></tr>\n",
       "\t<tr><td>2007</td><td>6084.713</td><td>19.93700</td><td>13.54800</td><td>28.35849</td><td>379.5566</td><td> 3.713293</td><td>26.248739</td><td> 82.910307</td><td>0.00102000</td><td>4.8229906</td><td>134.88732</td><td> 9.317622</td><td>2.834958</td><td>6790.849</td><td>1</td></tr>\n",
       "\t<tr><td>2008</td><td>6159.387</td><td>18.79000</td><td>12.81700</td><td>26.34840</td><td>484.1621</td><td> 3.283711</td><td>47.694121</td><td> 58.864202</td><td>0.00000000</td><td>0.8281875</td><td> 80.09288</td><td>14.514054</td><td>2.933360</td><td>6909.715</td><td>1</td></tr>\n",
       "\t<tr><td>2009</td><td>5828.636</td><td>24.63437</td><td>11.87740</td><td>36.77476</td><td>355.1066</td><td> 2.017061</td><td>51.355908</td><td> 14.289041</td><td>0.00000000</td><td>1.8430723</td><td> 47.07917</td><td>17.311344</td><td>4.057886</td><td>6394.983</td><td>1</td></tr>\n",
       "\t<tr><td>2010</td><td>3330.413</td><td>60.00125</td><td>14.47794</td><td>25.64770</td><td>327.5719</td><td> 9.182845</td><td> 9.729522</td><td>  5.774274</td><td>0.00000000</td><td>2.8247486</td><td> 10.40493</td><td> 9.706363</td><td>4.994712</td><td>3810.729</td><td>1</td></tr>\n",
       "\t<tr><td>2011</td><td>7000.093</td><td>92.02764</td><td>23.38448</td><td>28.54446</td><td>373.1957</td><td> 6.586856</td><td>20.478814</td><td> 83.277943</td><td>0.05446333</td><td>0.8731300</td><td> 72.95512</td><td>12.124808</td><td>5.687520</td><td>7719.284</td><td>1</td></tr>\n",
       "\t<tr><td>2012</td><td>3693.871</td><td>38.93339</td><td>22.70722</td><td>21.05478</td><td>457.0727</td><td> 1.115060</td><td> 9.978510</td><td> 43.693940</td><td>0.08846000</td><td>0.7446100</td><td> 72.93047</td><td>17.162420</td><td>4.235380</td><td>4383.588</td><td>1</td></tr>\n",
       "\t<tr><td>2013</td><td>4754.118</td><td>89.29328</td><td>19.11137</td><td>31.18746</td><td>410.7595</td><td> 7.136436</td><td>26.600553</td><td>  7.197624</td><td>0.00000000</td><td>2.1802522</td><td> 54.45454</td><td>12.530821</td><td>3.945647</td><td>5418.516</td><td>1</td></tr>\n",
       "\t<tr><td>2014</td><td>2255.453</td><td>52.26650</td><td>21.76299</td><td>30.77080</td><td>465.0076</td><td> 4.734540</td><td>29.576440</td><td>  8.882560</td><td>0.00000000</td><td>0.6081600</td><td> 46.34646</td><td>12.248670</td><td>5.206880</td><td>2932.865</td><td>1</td></tr>\n",
       "\t<tr><td>2015</td><td>3616.481</td><td>14.84315</td><td>26.77221</td><td>25.64413</td><td>426.9323</td><td>11.082120</td><td>15.314910</td><td>  2.769796</td><td>0.16414000</td><td>0.6159100</td><td> 17.53693</td><td>12.463520</td><td>7.717680</td><td>4178.338</td><td>1</td></tr>\n",
       "\t<tr><td>2016</td><td>2732.734</td><td>10.09013</td><td>29.25375</td><td>25.80021</td><td>246.1247</td><td>10.884490</td><td>57.675170</td><td>  0.412040</td><td>0.00749000</td><td>0.5797500</td><td> 12.47205</td><td>15.757580</td><td>9.453130</td><td>3151.244</td><td>1</td></tr>\n",
       "\t<tr><td>2017</td><td>3165.490</td><td> 4.59609</td><td>38.76007</td><td>37.14743</td><td>252.4299</td><td>11.802750</td><td>23.249140</td><td>  1.052910</td><td>0.00000000</td><td>0.3737000</td><td>  6.88953</td><td>29.061740</td><td>6.692660</td><td>3577.546</td><td>1</td></tr>\n",
       "\t<tr><td>2018</td><td>6072.888</td><td>36.53035</td><td>31.50588</td><td>34.87658</td><td>319.1465</td><td>18.138975</td><td>24.610468</td><td> 14.619846</td><td>0.00000000</td><td>1.5513662</td><td> 14.72097</td><td>23.326310</td><td>3.672117</td><td>6595.587</td><td>1</td></tr>\n",
       "\t<tr><td>2019</td><td>3381.437</td><td>53.11286</td><td>42.85764</td><td>28.97985</td><td>483.7652</td><td>17.839298</td><td>19.598784</td><td> 27.733432</td><td>0.00000000</td><td>1.2265210</td><td> 40.79870</td><td>24.029820</td><td>1.241883</td><td>4122.621</td><td>1</td></tr>\n",
       "\t<tr><td>2020</td><td>4314.558</td><td>46.99529</td><td>34.51697</td><td>19.84290</td><td>407.3848</td><td> 3.843680</td><td>28.408700</td><td> 23.475890</td><td>0.00000000</td><td>0.6166967</td><td> 48.11581</td><td>14.992172</td><td>0.544585</td><td>4943.296</td><td>1</td></tr>\n",
       "</tbody>\n",
       "</table>\n"
      ],
      "text/latex": [
       "A data.frame: 16 × 16\n",
       "\\begin{tabular}{llllllllllllllll}\n",
       " year & Consumo.Industrial...Anchoveta & Consumo.Humano...Congelado...Concha.de.abanico & Consumo.Humano...Congelado...Langostino & Consumo.Humano...Congelado...Merluza & Consumo.Humano...Congelado...Calamar.gigante & Consumo.Humano...Conservas...AtÃºn & Consumo.Humano...Conservas...Caballa & Consumo.Humano...Conservas...Jurel & Consumo.Humano...Conservas...Sardina & Consumo.Humano...Fresco...Concha.de.abanico & Consumo.Humano...Fresco...Jurel & Consumo.Humano...Fresco...Liza & Consumo.Humano...Fresco...Tollo & total\\_production & new\\\\\n",
       " <int> & <dbl> & <dbl> & <dbl> & <dbl> & <dbl> & <dbl> & <dbl> & <dbl> & <dbl> & <dbl> & <dbl> & <dbl> & <dbl> & <dbl> & <dbl>\\\\\n",
       "\\hline\n",
       "\t 2005 & 8628.396 & 13.53700 &  9.02100 & 23.27900 & 235.6300 &  9.877000 & 25.711000 &  20.481000 & 0.16500000 & 1.8430800 &  56.16794 &  5.875600 & 0.430000 & 9030.414 & 1\\\\\n",
       "\t 2006 & 5891.838 & 14.71400 & 11.29500 & 25.18900 & 365.7290 & 11.336000 & 58.245000 & 122.904000 & 0.04800000 & 4.0480000 & 136.82700 &  3.166000 & 1.584000 & 6646.923 & 1\\\\\n",
       "\t 2007 & 6084.713 & 19.93700 & 13.54800 & 28.35849 & 379.5566 &  3.713293 & 26.248739 &  82.910307 & 0.00102000 & 4.8229906 & 134.88732 &  9.317622 & 2.834958 & 6790.849 & 1\\\\\n",
       "\t 2008 & 6159.387 & 18.79000 & 12.81700 & 26.34840 & 484.1621 &  3.283711 & 47.694121 &  58.864202 & 0.00000000 & 0.8281875 &  80.09288 & 14.514054 & 2.933360 & 6909.715 & 1\\\\\n",
       "\t 2009 & 5828.636 & 24.63437 & 11.87740 & 36.77476 & 355.1066 &  2.017061 & 51.355908 &  14.289041 & 0.00000000 & 1.8430723 &  47.07917 & 17.311344 & 4.057886 & 6394.983 & 1\\\\\n",
       "\t 2010 & 3330.413 & 60.00125 & 14.47794 & 25.64770 & 327.5719 &  9.182845 &  9.729522 &   5.774274 & 0.00000000 & 2.8247486 &  10.40493 &  9.706363 & 4.994712 & 3810.729 & 1\\\\\n",
       "\t 2011 & 7000.093 & 92.02764 & 23.38448 & 28.54446 & 373.1957 &  6.586856 & 20.478814 &  83.277943 & 0.05446333 & 0.8731300 &  72.95512 & 12.124808 & 5.687520 & 7719.284 & 1\\\\\n",
       "\t 2012 & 3693.871 & 38.93339 & 22.70722 & 21.05478 & 457.0727 &  1.115060 &  9.978510 &  43.693940 & 0.08846000 & 0.7446100 &  72.93047 & 17.162420 & 4.235380 & 4383.588 & 1\\\\\n",
       "\t 2013 & 4754.118 & 89.29328 & 19.11137 & 31.18746 & 410.7595 &  7.136436 & 26.600553 &   7.197624 & 0.00000000 & 2.1802522 &  54.45454 & 12.530821 & 3.945647 & 5418.516 & 1\\\\\n",
       "\t 2014 & 2255.453 & 52.26650 & 21.76299 & 30.77080 & 465.0076 &  4.734540 & 29.576440 &   8.882560 & 0.00000000 & 0.6081600 &  46.34646 & 12.248670 & 5.206880 & 2932.865 & 1\\\\\n",
       "\t 2015 & 3616.481 & 14.84315 & 26.77221 & 25.64413 & 426.9323 & 11.082120 & 15.314910 &   2.769796 & 0.16414000 & 0.6159100 &  17.53693 & 12.463520 & 7.717680 & 4178.338 & 1\\\\\n",
       "\t 2016 & 2732.734 & 10.09013 & 29.25375 & 25.80021 & 246.1247 & 10.884490 & 57.675170 &   0.412040 & 0.00749000 & 0.5797500 &  12.47205 & 15.757580 & 9.453130 & 3151.244 & 1\\\\\n",
       "\t 2017 & 3165.490 &  4.59609 & 38.76007 & 37.14743 & 252.4299 & 11.802750 & 23.249140 &   1.052910 & 0.00000000 & 0.3737000 &   6.88953 & 29.061740 & 6.692660 & 3577.546 & 1\\\\\n",
       "\t 2018 & 6072.888 & 36.53035 & 31.50588 & 34.87658 & 319.1465 & 18.138975 & 24.610468 &  14.619846 & 0.00000000 & 1.5513662 &  14.72097 & 23.326310 & 3.672117 & 6595.587 & 1\\\\\n",
       "\t 2019 & 3381.437 & 53.11286 & 42.85764 & 28.97985 & 483.7652 & 17.839298 & 19.598784 &  27.733432 & 0.00000000 & 1.2265210 &  40.79870 & 24.029820 & 1.241883 & 4122.621 & 1\\\\\n",
       "\t 2020 & 4314.558 & 46.99529 & 34.51697 & 19.84290 & 407.3848 &  3.843680 & 28.408700 &  23.475890 & 0.00000000 & 0.6166967 &  48.11581 & 14.992172 & 0.544585 & 4943.296 & 1\\\\\n",
       "\\end{tabular}\n"
      ],
      "text/markdown": [
       "\n",
       "A data.frame: 16 × 16\n",
       "\n",
       "| year &lt;int&gt; | Consumo.Industrial...Anchoveta &lt;dbl&gt; | Consumo.Humano...Congelado...Concha.de.abanico &lt;dbl&gt; | Consumo.Humano...Congelado...Langostino &lt;dbl&gt; | Consumo.Humano...Congelado...Merluza &lt;dbl&gt; | Consumo.Humano...Congelado...Calamar.gigante &lt;dbl&gt; | Consumo.Humano...Conservas...AtÃºn &lt;dbl&gt; | Consumo.Humano...Conservas...Caballa &lt;dbl&gt; | Consumo.Humano...Conservas...Jurel &lt;dbl&gt; | Consumo.Humano...Conservas...Sardina &lt;dbl&gt; | Consumo.Humano...Fresco...Concha.de.abanico &lt;dbl&gt; | Consumo.Humano...Fresco...Jurel &lt;dbl&gt; | Consumo.Humano...Fresco...Liza &lt;dbl&gt; | Consumo.Humano...Fresco...Tollo &lt;dbl&gt; | total_production &lt;dbl&gt; | new &lt;dbl&gt; |\n",
       "|---|---|---|---|---|---|---|---|---|---|---|---|---|---|---|---|\n",
       "| 2005 | 8628.396 | 13.53700 |  9.02100 | 23.27900 | 235.6300 |  9.877000 | 25.711000 |  20.481000 | 0.16500000 | 1.8430800 |  56.16794 |  5.875600 | 0.430000 | 9030.414 | 1 |\n",
       "| 2006 | 5891.838 | 14.71400 | 11.29500 | 25.18900 | 365.7290 | 11.336000 | 58.245000 | 122.904000 | 0.04800000 | 4.0480000 | 136.82700 |  3.166000 | 1.584000 | 6646.923 | 1 |\n",
       "| 2007 | 6084.713 | 19.93700 | 13.54800 | 28.35849 | 379.5566 |  3.713293 | 26.248739 |  82.910307 | 0.00102000 | 4.8229906 | 134.88732 |  9.317622 | 2.834958 | 6790.849 | 1 |\n",
       "| 2008 | 6159.387 | 18.79000 | 12.81700 | 26.34840 | 484.1621 |  3.283711 | 47.694121 |  58.864202 | 0.00000000 | 0.8281875 |  80.09288 | 14.514054 | 2.933360 | 6909.715 | 1 |\n",
       "| 2009 | 5828.636 | 24.63437 | 11.87740 | 36.77476 | 355.1066 |  2.017061 | 51.355908 |  14.289041 | 0.00000000 | 1.8430723 |  47.07917 | 17.311344 | 4.057886 | 6394.983 | 1 |\n",
       "| 2010 | 3330.413 | 60.00125 | 14.47794 | 25.64770 | 327.5719 |  9.182845 |  9.729522 |   5.774274 | 0.00000000 | 2.8247486 |  10.40493 |  9.706363 | 4.994712 | 3810.729 | 1 |\n",
       "| 2011 | 7000.093 | 92.02764 | 23.38448 | 28.54446 | 373.1957 |  6.586856 | 20.478814 |  83.277943 | 0.05446333 | 0.8731300 |  72.95512 | 12.124808 | 5.687520 | 7719.284 | 1 |\n",
       "| 2012 | 3693.871 | 38.93339 | 22.70722 | 21.05478 | 457.0727 |  1.115060 |  9.978510 |  43.693940 | 0.08846000 | 0.7446100 |  72.93047 | 17.162420 | 4.235380 | 4383.588 | 1 |\n",
       "| 2013 | 4754.118 | 89.29328 | 19.11137 | 31.18746 | 410.7595 |  7.136436 | 26.600553 |   7.197624 | 0.00000000 | 2.1802522 |  54.45454 | 12.530821 | 3.945647 | 5418.516 | 1 |\n",
       "| 2014 | 2255.453 | 52.26650 | 21.76299 | 30.77080 | 465.0076 |  4.734540 | 29.576440 |   8.882560 | 0.00000000 | 0.6081600 |  46.34646 | 12.248670 | 5.206880 | 2932.865 | 1 |\n",
       "| 2015 | 3616.481 | 14.84315 | 26.77221 | 25.64413 | 426.9323 | 11.082120 | 15.314910 |   2.769796 | 0.16414000 | 0.6159100 |  17.53693 | 12.463520 | 7.717680 | 4178.338 | 1 |\n",
       "| 2016 | 2732.734 | 10.09013 | 29.25375 | 25.80021 | 246.1247 | 10.884490 | 57.675170 |   0.412040 | 0.00749000 | 0.5797500 |  12.47205 | 15.757580 | 9.453130 | 3151.244 | 1 |\n",
       "| 2017 | 3165.490 |  4.59609 | 38.76007 | 37.14743 | 252.4299 | 11.802750 | 23.249140 |   1.052910 | 0.00000000 | 0.3737000 |   6.88953 | 29.061740 | 6.692660 | 3577.546 | 1 |\n",
       "| 2018 | 6072.888 | 36.53035 | 31.50588 | 34.87658 | 319.1465 | 18.138975 | 24.610468 |  14.619846 | 0.00000000 | 1.5513662 |  14.72097 | 23.326310 | 3.672117 | 6595.587 | 1 |\n",
       "| 2019 | 3381.437 | 53.11286 | 42.85764 | 28.97985 | 483.7652 | 17.839298 | 19.598784 |  27.733432 | 0.00000000 | 1.2265210 |  40.79870 | 24.029820 | 1.241883 | 4122.621 | 1 |\n",
       "| 2020 | 4314.558 | 46.99529 | 34.51697 | 19.84290 | 407.3848 |  3.843680 | 28.408700 |  23.475890 | 0.00000000 | 0.6166967 |  48.11581 | 14.992172 | 0.544585 | 4943.296 | 1 |\n",
       "\n"
      ],
      "text/plain": [
       "   year Consumo.Industrial...Anchoveta\n",
       "1  2005 8628.396                      \n",
       "2  2006 5891.838                      \n",
       "3  2007 6084.713                      \n",
       "4  2008 6159.387                      \n",
       "5  2009 5828.636                      \n",
       "6  2010 3330.413                      \n",
       "7  2011 7000.093                      \n",
       "8  2012 3693.871                      \n",
       "9  2013 4754.118                      \n",
       "10 2014 2255.453                      \n",
       "11 2015 3616.481                      \n",
       "12 2016 2732.734                      \n",
       "13 2017 3165.490                      \n",
       "14 2018 6072.888                      \n",
       "15 2019 3381.437                      \n",
       "16 2020 4314.558                      \n",
       "   Consumo.Humano...Congelado...Concha.de.abanico\n",
       "1  13.53700                                      \n",
       "2  14.71400                                      \n",
       "3  19.93700                                      \n",
       "4  18.79000                                      \n",
       "5  24.63437                                      \n",
       "6  60.00125                                      \n",
       "7  92.02764                                      \n",
       "8  38.93339                                      \n",
       "9  89.29328                                      \n",
       "10 52.26650                                      \n",
       "11 14.84315                                      \n",
       "12 10.09013                                      \n",
       "13  4.59609                                      \n",
       "14 36.53035                                      \n",
       "15 53.11286                                      \n",
       "16 46.99529                                      \n",
       "   Consumo.Humano...Congelado...Langostino Consumo.Humano...Congelado...Merluza\n",
       "1   9.02100                                23.27900                            \n",
       "2  11.29500                                25.18900                            \n",
       "3  13.54800                                28.35849                            \n",
       "4  12.81700                                26.34840                            \n",
       "5  11.87740                                36.77476                            \n",
       "6  14.47794                                25.64770                            \n",
       "7  23.38448                                28.54446                            \n",
       "8  22.70722                                21.05478                            \n",
       "9  19.11137                                31.18746                            \n",
       "10 21.76299                                30.77080                            \n",
       "11 26.77221                                25.64413                            \n",
       "12 29.25375                                25.80021                            \n",
       "13 38.76007                                37.14743                            \n",
       "14 31.50588                                34.87658                            \n",
       "15 42.85764                                28.97985                            \n",
       "16 34.51697                                19.84290                            \n",
       "   Consumo.Humano...Congelado...Calamar.gigante\n",
       "1  235.6300                                    \n",
       "2  365.7290                                    \n",
       "3  379.5566                                    \n",
       "4  484.1621                                    \n",
       "5  355.1066                                    \n",
       "6  327.5719                                    \n",
       "7  373.1957                                    \n",
       "8  457.0727                                    \n",
       "9  410.7595                                    \n",
       "10 465.0076                                    \n",
       "11 426.9323                                    \n",
       "12 246.1247                                    \n",
       "13 252.4299                                    \n",
       "14 319.1465                                    \n",
       "15 483.7652                                    \n",
       "16 407.3848                                    \n",
       "   Consumo.Humano...Conservas...AtÃºn Consumo.Humano...Conservas...Caballa\n",
       "1   9.877000                          25.711000                           \n",
       "2  11.336000                          58.245000                           \n",
       "3   3.713293                          26.248739                           \n",
       "4   3.283711                          47.694121                           \n",
       "5   2.017061                          51.355908                           \n",
       "6   9.182845                           9.729522                           \n",
       "7   6.586856                          20.478814                           \n",
       "8   1.115060                           9.978510                           \n",
       "9   7.136436                          26.600553                           \n",
       "10  4.734540                          29.576440                           \n",
       "11 11.082120                          15.314910                           \n",
       "12 10.884490                          57.675170                           \n",
       "13 11.802750                          23.249140                           \n",
       "14 18.138975                          24.610468                           \n",
       "15 17.839298                          19.598784                           \n",
       "16  3.843680                          28.408700                           \n",
       "   Consumo.Humano...Conservas...Jurel Consumo.Humano...Conservas...Sardina\n",
       "1   20.481000                         0.16500000                          \n",
       "2  122.904000                         0.04800000                          \n",
       "3   82.910307                         0.00102000                          \n",
       "4   58.864202                         0.00000000                          \n",
       "5   14.289041                         0.00000000                          \n",
       "6    5.774274                         0.00000000                          \n",
       "7   83.277943                         0.05446333                          \n",
       "8   43.693940                         0.08846000                          \n",
       "9    7.197624                         0.00000000                          \n",
       "10   8.882560                         0.00000000                          \n",
       "11   2.769796                         0.16414000                          \n",
       "12   0.412040                         0.00749000                          \n",
       "13   1.052910                         0.00000000                          \n",
       "14  14.619846                         0.00000000                          \n",
       "15  27.733432                         0.00000000                          \n",
       "16  23.475890                         0.00000000                          \n",
       "   Consumo.Humano...Fresco...Concha.de.abanico Consumo.Humano...Fresco...Jurel\n",
       "1  1.8430800                                    56.16794                      \n",
       "2  4.0480000                                   136.82700                      \n",
       "3  4.8229906                                   134.88732                      \n",
       "4  0.8281875                                    80.09288                      \n",
       "5  1.8430723                                    47.07917                      \n",
       "6  2.8247486                                    10.40493                      \n",
       "7  0.8731300                                    72.95512                      \n",
       "8  0.7446100                                    72.93047                      \n",
       "9  2.1802522                                    54.45454                      \n",
       "10 0.6081600                                    46.34646                      \n",
       "11 0.6159100                                    17.53693                      \n",
       "12 0.5797500                                    12.47205                      \n",
       "13 0.3737000                                     6.88953                      \n",
       "14 1.5513662                                    14.72097                      \n",
       "15 1.2265210                                    40.79870                      \n",
       "16 0.6166967                                    48.11581                      \n",
       "   Consumo.Humano...Fresco...Liza Consumo.Humano...Fresco...Tollo\n",
       "1   5.875600                      0.430000                       \n",
       "2   3.166000                      1.584000                       \n",
       "3   9.317622                      2.834958                       \n",
       "4  14.514054                      2.933360                       \n",
       "5  17.311344                      4.057886                       \n",
       "6   9.706363                      4.994712                       \n",
       "7  12.124808                      5.687520                       \n",
       "8  17.162420                      4.235380                       \n",
       "9  12.530821                      3.945647                       \n",
       "10 12.248670                      5.206880                       \n",
       "11 12.463520                      7.717680                       \n",
       "12 15.757580                      9.453130                       \n",
       "13 29.061740                      6.692660                       \n",
       "14 23.326310                      3.672117                       \n",
       "15 24.029820                      1.241883                       \n",
       "16 14.992172                      0.544585                       \n",
       "   total_production new\n",
       "1  9030.414         1  \n",
       "2  6646.923         1  \n",
       "3  6790.849         1  \n",
       "4  6909.715         1  \n",
       "5  6394.983         1  \n",
       "6  3810.729         1  \n",
       "7  7719.284         1  \n",
       "8  4383.588         1  \n",
       "9  5418.516         1  \n",
       "10 2932.865         1  \n",
       "11 4178.338         1  \n",
       "12 3151.244         1  \n",
       "13 3577.546         1  \n",
       "14 6595.587         1  \n",
       "15 4122.621         1  \n",
       "16 4943.296         1  "
      ]
     },
     "metadata": {},
     "output_type": "display_data"
    }
   ],
   "source": [
    "production_fish"
   ]
  },
  {
   "cell_type": "code",
   "execution_count": 41,
   "metadata": {},
   "outputs": [],
   "source": [
    "production_fish['new2'] <- 2"
   ]
  },
  {
   "cell_type": "code",
   "execution_count": 42,
   "metadata": {
    "scrolled": true
   },
   "outputs": [
    {
     "data": {
      "text/html": [
       "<table class=\"dataframe\">\n",
       "<caption>A data.frame: 16 × 17</caption>\n",
       "<thead>\n",
       "\t<tr><th scope=col>year</th><th scope=col>Consumo.Industrial...Anchoveta</th><th scope=col>Consumo.Humano...Congelado...Concha.de.abanico</th><th scope=col>Consumo.Humano...Congelado...Langostino</th><th scope=col>Consumo.Humano...Congelado...Merluza</th><th scope=col>Consumo.Humano...Congelado...Calamar.gigante</th><th scope=col>Consumo.Humano...Conservas...AtÃºn</th><th scope=col>Consumo.Humano...Conservas...Caballa</th><th scope=col>Consumo.Humano...Conservas...Jurel</th><th scope=col>Consumo.Humano...Conservas...Sardina</th><th scope=col>Consumo.Humano...Fresco...Concha.de.abanico</th><th scope=col>Consumo.Humano...Fresco...Jurel</th><th scope=col>Consumo.Humano...Fresco...Liza</th><th scope=col>Consumo.Humano...Fresco...Tollo</th><th scope=col>total_production</th><th scope=col>new</th><th scope=col>new2</th></tr>\n",
       "\t<tr><th scope=col>&lt;int&gt;</th><th scope=col>&lt;dbl&gt;</th><th scope=col>&lt;dbl&gt;</th><th scope=col>&lt;dbl&gt;</th><th scope=col>&lt;dbl&gt;</th><th scope=col>&lt;dbl&gt;</th><th scope=col>&lt;dbl&gt;</th><th scope=col>&lt;dbl&gt;</th><th scope=col>&lt;dbl&gt;</th><th scope=col>&lt;dbl&gt;</th><th scope=col>&lt;dbl&gt;</th><th scope=col>&lt;dbl&gt;</th><th scope=col>&lt;dbl&gt;</th><th scope=col>&lt;dbl&gt;</th><th scope=col>&lt;dbl&gt;</th><th scope=col>&lt;dbl&gt;</th><th scope=col>&lt;dbl&gt;</th></tr>\n",
       "</thead>\n",
       "<tbody>\n",
       "\t<tr><td>2005</td><td>8628.396</td><td>13.53700</td><td> 9.02100</td><td>23.27900</td><td>235.6300</td><td> 9.877000</td><td>25.711000</td><td> 20.481000</td><td>0.16500000</td><td>1.8430800</td><td> 56.16794</td><td> 5.875600</td><td>0.430000</td><td>9030.414</td><td>1</td><td>2</td></tr>\n",
       "\t<tr><td>2006</td><td>5891.838</td><td>14.71400</td><td>11.29500</td><td>25.18900</td><td>365.7290</td><td>11.336000</td><td>58.245000</td><td>122.904000</td><td>0.04800000</td><td>4.0480000</td><td>136.82700</td><td> 3.166000</td><td>1.584000</td><td>6646.923</td><td>1</td><td>2</td></tr>\n",
       "\t<tr><td>2007</td><td>6084.713</td><td>19.93700</td><td>13.54800</td><td>28.35849</td><td>379.5566</td><td> 3.713293</td><td>26.248739</td><td> 82.910307</td><td>0.00102000</td><td>4.8229906</td><td>134.88732</td><td> 9.317622</td><td>2.834958</td><td>6790.849</td><td>1</td><td>2</td></tr>\n",
       "\t<tr><td>2008</td><td>6159.387</td><td>18.79000</td><td>12.81700</td><td>26.34840</td><td>484.1621</td><td> 3.283711</td><td>47.694121</td><td> 58.864202</td><td>0.00000000</td><td>0.8281875</td><td> 80.09288</td><td>14.514054</td><td>2.933360</td><td>6909.715</td><td>1</td><td>2</td></tr>\n",
       "\t<tr><td>2009</td><td>5828.636</td><td>24.63437</td><td>11.87740</td><td>36.77476</td><td>355.1066</td><td> 2.017061</td><td>51.355908</td><td> 14.289041</td><td>0.00000000</td><td>1.8430723</td><td> 47.07917</td><td>17.311344</td><td>4.057886</td><td>6394.983</td><td>1</td><td>2</td></tr>\n",
       "\t<tr><td>2010</td><td>3330.413</td><td>60.00125</td><td>14.47794</td><td>25.64770</td><td>327.5719</td><td> 9.182845</td><td> 9.729522</td><td>  5.774274</td><td>0.00000000</td><td>2.8247486</td><td> 10.40493</td><td> 9.706363</td><td>4.994712</td><td>3810.729</td><td>1</td><td>2</td></tr>\n",
       "\t<tr><td>2011</td><td>7000.093</td><td>92.02764</td><td>23.38448</td><td>28.54446</td><td>373.1957</td><td> 6.586856</td><td>20.478814</td><td> 83.277943</td><td>0.05446333</td><td>0.8731300</td><td> 72.95512</td><td>12.124808</td><td>5.687520</td><td>7719.284</td><td>1</td><td>2</td></tr>\n",
       "\t<tr><td>2012</td><td>3693.871</td><td>38.93339</td><td>22.70722</td><td>21.05478</td><td>457.0727</td><td> 1.115060</td><td> 9.978510</td><td> 43.693940</td><td>0.08846000</td><td>0.7446100</td><td> 72.93047</td><td>17.162420</td><td>4.235380</td><td>4383.588</td><td>1</td><td>2</td></tr>\n",
       "\t<tr><td>2013</td><td>4754.118</td><td>89.29328</td><td>19.11137</td><td>31.18746</td><td>410.7595</td><td> 7.136436</td><td>26.600553</td><td>  7.197624</td><td>0.00000000</td><td>2.1802522</td><td> 54.45454</td><td>12.530821</td><td>3.945647</td><td>5418.516</td><td>1</td><td>2</td></tr>\n",
       "\t<tr><td>2014</td><td>2255.453</td><td>52.26650</td><td>21.76299</td><td>30.77080</td><td>465.0076</td><td> 4.734540</td><td>29.576440</td><td>  8.882560</td><td>0.00000000</td><td>0.6081600</td><td> 46.34646</td><td>12.248670</td><td>5.206880</td><td>2932.865</td><td>1</td><td>2</td></tr>\n",
       "\t<tr><td>2015</td><td>3616.481</td><td>14.84315</td><td>26.77221</td><td>25.64413</td><td>426.9323</td><td>11.082120</td><td>15.314910</td><td>  2.769796</td><td>0.16414000</td><td>0.6159100</td><td> 17.53693</td><td>12.463520</td><td>7.717680</td><td>4178.338</td><td>1</td><td>2</td></tr>\n",
       "\t<tr><td>2016</td><td>2732.734</td><td>10.09013</td><td>29.25375</td><td>25.80021</td><td>246.1247</td><td>10.884490</td><td>57.675170</td><td>  0.412040</td><td>0.00749000</td><td>0.5797500</td><td> 12.47205</td><td>15.757580</td><td>9.453130</td><td>3151.244</td><td>1</td><td>2</td></tr>\n",
       "\t<tr><td>2017</td><td>3165.490</td><td> 4.59609</td><td>38.76007</td><td>37.14743</td><td>252.4299</td><td>11.802750</td><td>23.249140</td><td>  1.052910</td><td>0.00000000</td><td>0.3737000</td><td>  6.88953</td><td>29.061740</td><td>6.692660</td><td>3577.546</td><td>1</td><td>2</td></tr>\n",
       "\t<tr><td>2018</td><td>6072.888</td><td>36.53035</td><td>31.50588</td><td>34.87658</td><td>319.1465</td><td>18.138975</td><td>24.610468</td><td> 14.619846</td><td>0.00000000</td><td>1.5513662</td><td> 14.72097</td><td>23.326310</td><td>3.672117</td><td>6595.587</td><td>1</td><td>2</td></tr>\n",
       "\t<tr><td>2019</td><td>3381.437</td><td>53.11286</td><td>42.85764</td><td>28.97985</td><td>483.7652</td><td>17.839298</td><td>19.598784</td><td> 27.733432</td><td>0.00000000</td><td>1.2265210</td><td> 40.79870</td><td>24.029820</td><td>1.241883</td><td>4122.621</td><td>1</td><td>2</td></tr>\n",
       "\t<tr><td>2020</td><td>4314.558</td><td>46.99529</td><td>34.51697</td><td>19.84290</td><td>407.3848</td><td> 3.843680</td><td>28.408700</td><td> 23.475890</td><td>0.00000000</td><td>0.6166967</td><td> 48.11581</td><td>14.992172</td><td>0.544585</td><td>4943.296</td><td>1</td><td>2</td></tr>\n",
       "</tbody>\n",
       "</table>\n"
      ],
      "text/latex": [
       "A data.frame: 16 × 17\n",
       "\\begin{tabular}{lllllllllllllllll}\n",
       " year & Consumo.Industrial...Anchoveta & Consumo.Humano...Congelado...Concha.de.abanico & Consumo.Humano...Congelado...Langostino & Consumo.Humano...Congelado...Merluza & Consumo.Humano...Congelado...Calamar.gigante & Consumo.Humano...Conservas...AtÃºn & Consumo.Humano...Conservas...Caballa & Consumo.Humano...Conservas...Jurel & Consumo.Humano...Conservas...Sardina & Consumo.Humano...Fresco...Concha.de.abanico & Consumo.Humano...Fresco...Jurel & Consumo.Humano...Fresco...Liza & Consumo.Humano...Fresco...Tollo & total\\_production & new & new2\\\\\n",
       " <int> & <dbl> & <dbl> & <dbl> & <dbl> & <dbl> & <dbl> & <dbl> & <dbl> & <dbl> & <dbl> & <dbl> & <dbl> & <dbl> & <dbl> & <dbl> & <dbl>\\\\\n",
       "\\hline\n",
       "\t 2005 & 8628.396 & 13.53700 &  9.02100 & 23.27900 & 235.6300 &  9.877000 & 25.711000 &  20.481000 & 0.16500000 & 1.8430800 &  56.16794 &  5.875600 & 0.430000 & 9030.414 & 1 & 2\\\\\n",
       "\t 2006 & 5891.838 & 14.71400 & 11.29500 & 25.18900 & 365.7290 & 11.336000 & 58.245000 & 122.904000 & 0.04800000 & 4.0480000 & 136.82700 &  3.166000 & 1.584000 & 6646.923 & 1 & 2\\\\\n",
       "\t 2007 & 6084.713 & 19.93700 & 13.54800 & 28.35849 & 379.5566 &  3.713293 & 26.248739 &  82.910307 & 0.00102000 & 4.8229906 & 134.88732 &  9.317622 & 2.834958 & 6790.849 & 1 & 2\\\\\n",
       "\t 2008 & 6159.387 & 18.79000 & 12.81700 & 26.34840 & 484.1621 &  3.283711 & 47.694121 &  58.864202 & 0.00000000 & 0.8281875 &  80.09288 & 14.514054 & 2.933360 & 6909.715 & 1 & 2\\\\\n",
       "\t 2009 & 5828.636 & 24.63437 & 11.87740 & 36.77476 & 355.1066 &  2.017061 & 51.355908 &  14.289041 & 0.00000000 & 1.8430723 &  47.07917 & 17.311344 & 4.057886 & 6394.983 & 1 & 2\\\\\n",
       "\t 2010 & 3330.413 & 60.00125 & 14.47794 & 25.64770 & 327.5719 &  9.182845 &  9.729522 &   5.774274 & 0.00000000 & 2.8247486 &  10.40493 &  9.706363 & 4.994712 & 3810.729 & 1 & 2\\\\\n",
       "\t 2011 & 7000.093 & 92.02764 & 23.38448 & 28.54446 & 373.1957 &  6.586856 & 20.478814 &  83.277943 & 0.05446333 & 0.8731300 &  72.95512 & 12.124808 & 5.687520 & 7719.284 & 1 & 2\\\\\n",
       "\t 2012 & 3693.871 & 38.93339 & 22.70722 & 21.05478 & 457.0727 &  1.115060 &  9.978510 &  43.693940 & 0.08846000 & 0.7446100 &  72.93047 & 17.162420 & 4.235380 & 4383.588 & 1 & 2\\\\\n",
       "\t 2013 & 4754.118 & 89.29328 & 19.11137 & 31.18746 & 410.7595 &  7.136436 & 26.600553 &   7.197624 & 0.00000000 & 2.1802522 &  54.45454 & 12.530821 & 3.945647 & 5418.516 & 1 & 2\\\\\n",
       "\t 2014 & 2255.453 & 52.26650 & 21.76299 & 30.77080 & 465.0076 &  4.734540 & 29.576440 &   8.882560 & 0.00000000 & 0.6081600 &  46.34646 & 12.248670 & 5.206880 & 2932.865 & 1 & 2\\\\\n",
       "\t 2015 & 3616.481 & 14.84315 & 26.77221 & 25.64413 & 426.9323 & 11.082120 & 15.314910 &   2.769796 & 0.16414000 & 0.6159100 &  17.53693 & 12.463520 & 7.717680 & 4178.338 & 1 & 2\\\\\n",
       "\t 2016 & 2732.734 & 10.09013 & 29.25375 & 25.80021 & 246.1247 & 10.884490 & 57.675170 &   0.412040 & 0.00749000 & 0.5797500 &  12.47205 & 15.757580 & 9.453130 & 3151.244 & 1 & 2\\\\\n",
       "\t 2017 & 3165.490 &  4.59609 & 38.76007 & 37.14743 & 252.4299 & 11.802750 & 23.249140 &   1.052910 & 0.00000000 & 0.3737000 &   6.88953 & 29.061740 & 6.692660 & 3577.546 & 1 & 2\\\\\n",
       "\t 2018 & 6072.888 & 36.53035 & 31.50588 & 34.87658 & 319.1465 & 18.138975 & 24.610468 &  14.619846 & 0.00000000 & 1.5513662 &  14.72097 & 23.326310 & 3.672117 & 6595.587 & 1 & 2\\\\\n",
       "\t 2019 & 3381.437 & 53.11286 & 42.85764 & 28.97985 & 483.7652 & 17.839298 & 19.598784 &  27.733432 & 0.00000000 & 1.2265210 &  40.79870 & 24.029820 & 1.241883 & 4122.621 & 1 & 2\\\\\n",
       "\t 2020 & 4314.558 & 46.99529 & 34.51697 & 19.84290 & 407.3848 &  3.843680 & 28.408700 &  23.475890 & 0.00000000 & 0.6166967 &  48.11581 & 14.992172 & 0.544585 & 4943.296 & 1 & 2\\\\\n",
       "\\end{tabular}\n"
      ],
      "text/markdown": [
       "\n",
       "A data.frame: 16 × 17\n",
       "\n",
       "| year &lt;int&gt; | Consumo.Industrial...Anchoveta &lt;dbl&gt; | Consumo.Humano...Congelado...Concha.de.abanico &lt;dbl&gt; | Consumo.Humano...Congelado...Langostino &lt;dbl&gt; | Consumo.Humano...Congelado...Merluza &lt;dbl&gt; | Consumo.Humano...Congelado...Calamar.gigante &lt;dbl&gt; | Consumo.Humano...Conservas...AtÃºn &lt;dbl&gt; | Consumo.Humano...Conservas...Caballa &lt;dbl&gt; | Consumo.Humano...Conservas...Jurel &lt;dbl&gt; | Consumo.Humano...Conservas...Sardina &lt;dbl&gt; | Consumo.Humano...Fresco...Concha.de.abanico &lt;dbl&gt; | Consumo.Humano...Fresco...Jurel &lt;dbl&gt; | Consumo.Humano...Fresco...Liza &lt;dbl&gt; | Consumo.Humano...Fresco...Tollo &lt;dbl&gt; | total_production &lt;dbl&gt; | new &lt;dbl&gt; | new2 &lt;dbl&gt; |\n",
       "|---|---|---|---|---|---|---|---|---|---|---|---|---|---|---|---|---|\n",
       "| 2005 | 8628.396 | 13.53700 |  9.02100 | 23.27900 | 235.6300 |  9.877000 | 25.711000 |  20.481000 | 0.16500000 | 1.8430800 |  56.16794 |  5.875600 | 0.430000 | 9030.414 | 1 | 2 |\n",
       "| 2006 | 5891.838 | 14.71400 | 11.29500 | 25.18900 | 365.7290 | 11.336000 | 58.245000 | 122.904000 | 0.04800000 | 4.0480000 | 136.82700 |  3.166000 | 1.584000 | 6646.923 | 1 | 2 |\n",
       "| 2007 | 6084.713 | 19.93700 | 13.54800 | 28.35849 | 379.5566 |  3.713293 | 26.248739 |  82.910307 | 0.00102000 | 4.8229906 | 134.88732 |  9.317622 | 2.834958 | 6790.849 | 1 | 2 |\n",
       "| 2008 | 6159.387 | 18.79000 | 12.81700 | 26.34840 | 484.1621 |  3.283711 | 47.694121 |  58.864202 | 0.00000000 | 0.8281875 |  80.09288 | 14.514054 | 2.933360 | 6909.715 | 1 | 2 |\n",
       "| 2009 | 5828.636 | 24.63437 | 11.87740 | 36.77476 | 355.1066 |  2.017061 | 51.355908 |  14.289041 | 0.00000000 | 1.8430723 |  47.07917 | 17.311344 | 4.057886 | 6394.983 | 1 | 2 |\n",
       "| 2010 | 3330.413 | 60.00125 | 14.47794 | 25.64770 | 327.5719 |  9.182845 |  9.729522 |   5.774274 | 0.00000000 | 2.8247486 |  10.40493 |  9.706363 | 4.994712 | 3810.729 | 1 | 2 |\n",
       "| 2011 | 7000.093 | 92.02764 | 23.38448 | 28.54446 | 373.1957 |  6.586856 | 20.478814 |  83.277943 | 0.05446333 | 0.8731300 |  72.95512 | 12.124808 | 5.687520 | 7719.284 | 1 | 2 |\n",
       "| 2012 | 3693.871 | 38.93339 | 22.70722 | 21.05478 | 457.0727 |  1.115060 |  9.978510 |  43.693940 | 0.08846000 | 0.7446100 |  72.93047 | 17.162420 | 4.235380 | 4383.588 | 1 | 2 |\n",
       "| 2013 | 4754.118 | 89.29328 | 19.11137 | 31.18746 | 410.7595 |  7.136436 | 26.600553 |   7.197624 | 0.00000000 | 2.1802522 |  54.45454 | 12.530821 | 3.945647 | 5418.516 | 1 | 2 |\n",
       "| 2014 | 2255.453 | 52.26650 | 21.76299 | 30.77080 | 465.0076 |  4.734540 | 29.576440 |   8.882560 | 0.00000000 | 0.6081600 |  46.34646 | 12.248670 | 5.206880 | 2932.865 | 1 | 2 |\n",
       "| 2015 | 3616.481 | 14.84315 | 26.77221 | 25.64413 | 426.9323 | 11.082120 | 15.314910 |   2.769796 | 0.16414000 | 0.6159100 |  17.53693 | 12.463520 | 7.717680 | 4178.338 | 1 | 2 |\n",
       "| 2016 | 2732.734 | 10.09013 | 29.25375 | 25.80021 | 246.1247 | 10.884490 | 57.675170 |   0.412040 | 0.00749000 | 0.5797500 |  12.47205 | 15.757580 | 9.453130 | 3151.244 | 1 | 2 |\n",
       "| 2017 | 3165.490 |  4.59609 | 38.76007 | 37.14743 | 252.4299 | 11.802750 | 23.249140 |   1.052910 | 0.00000000 | 0.3737000 |   6.88953 | 29.061740 | 6.692660 | 3577.546 | 1 | 2 |\n",
       "| 2018 | 6072.888 | 36.53035 | 31.50588 | 34.87658 | 319.1465 | 18.138975 | 24.610468 |  14.619846 | 0.00000000 | 1.5513662 |  14.72097 | 23.326310 | 3.672117 | 6595.587 | 1 | 2 |\n",
       "| 2019 | 3381.437 | 53.11286 | 42.85764 | 28.97985 | 483.7652 | 17.839298 | 19.598784 |  27.733432 | 0.00000000 | 1.2265210 |  40.79870 | 24.029820 | 1.241883 | 4122.621 | 1 | 2 |\n",
       "| 2020 | 4314.558 | 46.99529 | 34.51697 | 19.84290 | 407.3848 |  3.843680 | 28.408700 |  23.475890 | 0.00000000 | 0.6166967 |  48.11581 | 14.992172 | 0.544585 | 4943.296 | 1 | 2 |\n",
       "\n"
      ],
      "text/plain": [
       "   year Consumo.Industrial...Anchoveta\n",
       "1  2005 8628.396                      \n",
       "2  2006 5891.838                      \n",
       "3  2007 6084.713                      \n",
       "4  2008 6159.387                      \n",
       "5  2009 5828.636                      \n",
       "6  2010 3330.413                      \n",
       "7  2011 7000.093                      \n",
       "8  2012 3693.871                      \n",
       "9  2013 4754.118                      \n",
       "10 2014 2255.453                      \n",
       "11 2015 3616.481                      \n",
       "12 2016 2732.734                      \n",
       "13 2017 3165.490                      \n",
       "14 2018 6072.888                      \n",
       "15 2019 3381.437                      \n",
       "16 2020 4314.558                      \n",
       "   Consumo.Humano...Congelado...Concha.de.abanico\n",
       "1  13.53700                                      \n",
       "2  14.71400                                      \n",
       "3  19.93700                                      \n",
       "4  18.79000                                      \n",
       "5  24.63437                                      \n",
       "6  60.00125                                      \n",
       "7  92.02764                                      \n",
       "8  38.93339                                      \n",
       "9  89.29328                                      \n",
       "10 52.26650                                      \n",
       "11 14.84315                                      \n",
       "12 10.09013                                      \n",
       "13  4.59609                                      \n",
       "14 36.53035                                      \n",
       "15 53.11286                                      \n",
       "16 46.99529                                      \n",
       "   Consumo.Humano...Congelado...Langostino Consumo.Humano...Congelado...Merluza\n",
       "1   9.02100                                23.27900                            \n",
       "2  11.29500                                25.18900                            \n",
       "3  13.54800                                28.35849                            \n",
       "4  12.81700                                26.34840                            \n",
       "5  11.87740                                36.77476                            \n",
       "6  14.47794                                25.64770                            \n",
       "7  23.38448                                28.54446                            \n",
       "8  22.70722                                21.05478                            \n",
       "9  19.11137                                31.18746                            \n",
       "10 21.76299                                30.77080                            \n",
       "11 26.77221                                25.64413                            \n",
       "12 29.25375                                25.80021                            \n",
       "13 38.76007                                37.14743                            \n",
       "14 31.50588                                34.87658                            \n",
       "15 42.85764                                28.97985                            \n",
       "16 34.51697                                19.84290                            \n",
       "   Consumo.Humano...Congelado...Calamar.gigante\n",
       "1  235.6300                                    \n",
       "2  365.7290                                    \n",
       "3  379.5566                                    \n",
       "4  484.1621                                    \n",
       "5  355.1066                                    \n",
       "6  327.5719                                    \n",
       "7  373.1957                                    \n",
       "8  457.0727                                    \n",
       "9  410.7595                                    \n",
       "10 465.0076                                    \n",
       "11 426.9323                                    \n",
       "12 246.1247                                    \n",
       "13 252.4299                                    \n",
       "14 319.1465                                    \n",
       "15 483.7652                                    \n",
       "16 407.3848                                    \n",
       "   Consumo.Humano...Conservas...AtÃºn Consumo.Humano...Conservas...Caballa\n",
       "1   9.877000                          25.711000                           \n",
       "2  11.336000                          58.245000                           \n",
       "3   3.713293                          26.248739                           \n",
       "4   3.283711                          47.694121                           \n",
       "5   2.017061                          51.355908                           \n",
       "6   9.182845                           9.729522                           \n",
       "7   6.586856                          20.478814                           \n",
       "8   1.115060                           9.978510                           \n",
       "9   7.136436                          26.600553                           \n",
       "10  4.734540                          29.576440                           \n",
       "11 11.082120                          15.314910                           \n",
       "12 10.884490                          57.675170                           \n",
       "13 11.802750                          23.249140                           \n",
       "14 18.138975                          24.610468                           \n",
       "15 17.839298                          19.598784                           \n",
       "16  3.843680                          28.408700                           \n",
       "   Consumo.Humano...Conservas...Jurel Consumo.Humano...Conservas...Sardina\n",
       "1   20.481000                         0.16500000                          \n",
       "2  122.904000                         0.04800000                          \n",
       "3   82.910307                         0.00102000                          \n",
       "4   58.864202                         0.00000000                          \n",
       "5   14.289041                         0.00000000                          \n",
       "6    5.774274                         0.00000000                          \n",
       "7   83.277943                         0.05446333                          \n",
       "8   43.693940                         0.08846000                          \n",
       "9    7.197624                         0.00000000                          \n",
       "10   8.882560                         0.00000000                          \n",
       "11   2.769796                         0.16414000                          \n",
       "12   0.412040                         0.00749000                          \n",
       "13   1.052910                         0.00000000                          \n",
       "14  14.619846                         0.00000000                          \n",
       "15  27.733432                         0.00000000                          \n",
       "16  23.475890                         0.00000000                          \n",
       "   Consumo.Humano...Fresco...Concha.de.abanico Consumo.Humano...Fresco...Jurel\n",
       "1  1.8430800                                    56.16794                      \n",
       "2  4.0480000                                   136.82700                      \n",
       "3  4.8229906                                   134.88732                      \n",
       "4  0.8281875                                    80.09288                      \n",
       "5  1.8430723                                    47.07917                      \n",
       "6  2.8247486                                    10.40493                      \n",
       "7  0.8731300                                    72.95512                      \n",
       "8  0.7446100                                    72.93047                      \n",
       "9  2.1802522                                    54.45454                      \n",
       "10 0.6081600                                    46.34646                      \n",
       "11 0.6159100                                    17.53693                      \n",
       "12 0.5797500                                    12.47205                      \n",
       "13 0.3737000                                     6.88953                      \n",
       "14 1.5513662                                    14.72097                      \n",
       "15 1.2265210                                    40.79870                      \n",
       "16 0.6166967                                    48.11581                      \n",
       "   Consumo.Humano...Fresco...Liza Consumo.Humano...Fresco...Tollo\n",
       "1   5.875600                      0.430000                       \n",
       "2   3.166000                      1.584000                       \n",
       "3   9.317622                      2.834958                       \n",
       "4  14.514054                      2.933360                       \n",
       "5  17.311344                      4.057886                       \n",
       "6   9.706363                      4.994712                       \n",
       "7  12.124808                      5.687520                       \n",
       "8  17.162420                      4.235380                       \n",
       "9  12.530821                      3.945647                       \n",
       "10 12.248670                      5.206880                       \n",
       "11 12.463520                      7.717680                       \n",
       "12 15.757580                      9.453130                       \n",
       "13 29.061740                      6.692660                       \n",
       "14 23.326310                      3.672117                       \n",
       "15 24.029820                      1.241883                       \n",
       "16 14.992172                      0.544585                       \n",
       "   total_production new new2\n",
       "1  9030.414         1   2   \n",
       "2  6646.923         1   2   \n",
       "3  6790.849         1   2   \n",
       "4  6909.715         1   2   \n",
       "5  6394.983         1   2   \n",
       "6  3810.729         1   2   \n",
       "7  7719.284         1   2   \n",
       "8  4383.588         1   2   \n",
       "9  5418.516         1   2   \n",
       "10 2932.865         1   2   \n",
       "11 4178.338         1   2   \n",
       "12 3151.244         1   2   \n",
       "13 3577.546         1   2   \n",
       "14 6595.587         1   2   \n",
       "15 4122.621         1   2   \n",
       "16 4943.296         1   2   "
      ]
     },
     "metadata": {},
     "output_type": "display_data"
    }
   ],
   "source": [
    "production_fish"
   ]
  },
  {
   "cell_type": "code",
   "execution_count": 47,
   "metadata": {},
   "outputs": [],
   "source": [
    "library(glue)"
   ]
  },
  {
   "cell_type": "code",
   "execution_count": null,
   "metadata": {},
   "outputs": [],
   "source": [
    "glue('{col}_%')"
   ]
  },
  {
   "cell_type": "code",
   "execution_count": 48,
   "metadata": {},
   "outputs": [],
   "source": [
    "for (col in colums){\n",
    "    production_fish[glue('{col}_%')]   <- (production_fish[glue('{col}')]  * 100) / production_fish$total_production\n",
    "    }"
   ]
  },
  {
   "cell_type": "code",
   "execution_count": 49,
   "metadata": {},
   "outputs": [
    {
     "data": {
      "text/html": [
       "<table class=\"dataframe\">\n",
       "<caption>A data.frame: 16 × 31</caption>\n",
       "<thead>\n",
       "\t<tr><th scope=col>year</th><th scope=col>Consumo.Industrial...Anchoveta</th><th scope=col>Consumo.Humano...Congelado...Concha.de.abanico</th><th scope=col>Consumo.Humano...Congelado...Langostino</th><th scope=col>Consumo.Humano...Congelado...Merluza</th><th scope=col>Consumo.Humano...Congelado...Calamar.gigante</th><th scope=col>Consumo.Humano...Conservas...AtÃºn</th><th scope=col>Consumo.Humano...Conservas...Caballa</th><th scope=col>Consumo.Humano...Conservas...Jurel</th><th scope=col>Consumo.Humano...Conservas...Sardina</th><th scope=col>...</th><th scope=col>Consumo.Humano...Congelado...Calamar.gigante_%</th><th scope=col>Consumo.Humano...Conservas...AtÃºn_%</th><th scope=col>Consumo.Humano...Conservas...Caballa_%</th><th scope=col>Consumo.Humano...Conservas...Jurel_%</th><th scope=col>Consumo.Humano...Conservas...Sardina_%</th><th scope=col>Consumo.Humano...Fresco...Concha.de.abanico_%</th><th scope=col>Consumo.Humano...Fresco...Jurel_%</th><th scope=col>Consumo.Humano...Fresco...Liza_%</th><th scope=col>Consumo.Humano...Fresco...Tollo_%</th><th scope=col>total_production_%</th></tr>\n",
       "\t<tr><th scope=col>&lt;int&gt;</th><th scope=col>&lt;dbl&gt;</th><th scope=col>&lt;dbl&gt;</th><th scope=col>&lt;dbl&gt;</th><th scope=col>&lt;dbl&gt;</th><th scope=col>&lt;dbl&gt;</th><th scope=col>&lt;dbl&gt;</th><th scope=col>&lt;dbl&gt;</th><th scope=col>&lt;dbl&gt;</th><th scope=col>&lt;dbl&gt;</th><th scope=col>...</th><th scope=col>&lt;dbl&gt;</th><th scope=col>&lt;dbl&gt;</th><th scope=col>&lt;dbl&gt;</th><th scope=col>&lt;dbl&gt;</th><th scope=col>&lt;dbl&gt;</th><th scope=col>&lt;dbl&gt;</th><th scope=col>&lt;dbl&gt;</th><th scope=col>&lt;dbl&gt;</th><th scope=col>&lt;dbl&gt;</th><th scope=col>&lt;dbl&gt;</th></tr>\n",
       "</thead>\n",
       "<tbody>\n",
       "\t<tr><td>2005</td><td>95.54818</td><td>0.1499045</td><td>0.09989576</td><td>0.2577844</td><td> 2.609294</td><td>0.10937484</td><td>0.2847156</td><td>0.22680024</td><td>1.827159e-03</td><td>...</td><td> 2.609294</td><td>0.10937484</td><td>0.2847156</td><td>0.22680024</td><td>1.827159e-03</td><td>0.02040970</td><td>0.6219863</td><td>0.06506457</td><td>0.004761687</td><td>100</td></tr>\n",
       "\t<tr><td>2006</td><td>88.64008</td><td>0.2213656</td><td>0.16992825</td><td>0.3789573</td><td> 5.502230</td><td>0.17054508</td><td>0.8762701</td><td>1.84903601</td><td>7.221386e-04</td><td>...</td><td> 5.502230</td><td>0.17054508</td><td>0.8762701</td><td>1.84903601</td><td>7.221386e-04</td><td>0.06090036</td><td>2.0585014</td><td>0.04763106</td><td>0.023830575</td><td>100</td></tr>\n",
       "\t<tr><td>2007</td><td>89.60165</td><td>0.2935863</td><td>0.19950376</td><td>0.4175986</td><td> 5.589236</td><td>0.05468083</td><td>0.3865310</td><td>1.22091218</td><td>1.502021e-05</td><td>...</td><td> 5.589236</td><td>0.05468083</td><td>0.3865310</td><td>1.22091218</td><td>1.502021e-05</td><td>0.07102191</td><td>1.9863099</td><td>0.13720850</td><td>0.041746742</td><td>100</td></tr>\n",
       "\t<tr><td>2008</td><td>89.14097</td><td>0.2719360</td><td>0.18549246</td><td>0.3813239</td><td> 7.006976</td><td>0.04752310</td><td>0.6902473</td><td>0.85190492</td><td>0.000000e+00</td><td>...</td><td> 7.006976</td><td>0.04752310</td><td>0.6902473</td><td>0.85190492</td><td>0.000000e+00</td><td>0.01198584</td><td>1.1591344</td><td>0.21005286</td><td>0.042452694</td><td>100</td></tr>\n",
       "\t<tr><td>2009</td><td>91.14389</td><td>0.3852141</td><td>0.18572997</td><td>0.5750565</td><td> 5.552894</td><td>0.03154131</td><td>0.8030656</td><td>0.22344144</td><td>0.000000e+00</td><td>...</td><td> 5.552894</td><td>0.03154131</td><td>0.8030656</td><td>0.22344144</td><td>0.000000e+00</td><td>0.02882060</td><td>0.7361893</td><td>0.27070197</td><td>0.063454207</td><td>100</td></tr>\n",
       "\t<tr><td>2010</td><td>87.39569</td><td>1.5745346</td><td>0.37992567</td><td>0.6730391</td><td> 8.596043</td><td>0.24097343</td><td>0.2553192</td><td>0.15152675</td><td>0.000000e+00</td><td>...</td><td> 8.596043</td><td>0.24097343</td><td>0.2553192</td><td>0.15152675</td><td>0.000000e+00</td><td>0.07412620</td><td>0.2730431</td><td>0.25471143</td><td>0.131069716</td><td>100</td></tr>\n",
       "\t<tr><td>2011</td><td>90.68319</td><td>1.1921785</td><td>0.30293586</td><td>0.3697812</td><td> 4.834589</td><td>0.08532989</td><td>0.2652942</td><td>1.07882993</td><td>7.055490e-04</td><td>...</td><td> 4.834589</td><td>0.08532989</td><td>0.2652942</td><td>1.07882993</td><td>7.055490e-04</td><td>0.01131102</td><td>0.9451022</td><td>0.15707167</td><td>0.073679378</td><td>100</td></tr>\n",
       "\t<tr><td>2012</td><td>84.26593</td><td>0.8881626</td><td>0.51800534</td><td>0.4803093</td><td>10.426908</td><td>0.02543715</td><td>0.2276334</td><td>0.99676202</td><td>2.017982e-03</td><td>...</td><td>10.426908</td><td>0.02543715</td><td>0.2276334</td><td>0.99676202</td><td>2.017982e-03</td><td>0.01698631</td><td>1.6637163</td><td>0.39151535</td><td>0.096619026</td><td>100</td></tr>\n",
       "\t<tr><td>2013</td><td>87.73839</td><td>1.6479289</td><td>0.35270493</td><td>0.5755720</td><td> 7.580665</td><td>0.13170463</td><td>0.4909196</td><td>0.13283387</td><td>0.000000e+00</td><td>...</td><td> 7.580665</td><td>0.13170463</td><td>0.4909196</td><td>0.13283387</td><td>0.000000e+00</td><td>0.04023707</td><td>1.0049715</td><td>0.23125928</td><td>0.072817863</td><td>100</td></tr>\n",
       "\t<tr><td>2014</td><td>76.90274</td><td>1.7820970</td><td>0.74203858</td><td>1.0491720</td><td>15.855062</td><td>0.16143054</td><td>1.0084487</td><td>0.30286290</td><td>0.000000e+00</td><td>...</td><td>15.855062</td><td>0.16143054</td><td>1.0084487</td><td>0.30286290</td><td>0.000000e+00</td><td>0.02073604</td><td>1.5802452</td><td>0.41763497</td><td>0.177535616</td><td>100</td></tr>\n",
       "\t<tr><td>2015</td><td>86.55310</td><td>0.3552405</td><td>0.64073821</td><td>0.6137399</td><td>10.217753</td><td>0.26522793</td><td>0.3665311</td><td>0.06628941</td><td>3.928356e-03</td><td>...</td><td>10.217753</td><td>0.26522793</td><td>0.3665311</td><td>0.06628941</td><td>3.928356e-03</td><td>0.01474055</td><td>0.4197106</td><td>0.29828892</td><td>0.184706921</td><td>100</td></tr>\n",
       "\t<tr><td>2016</td><td>86.71920</td><td>0.3201951</td><td>0.92832379</td><td>0.8187309</td><td> 7.810397</td><td>0.34540293</td><td>1.8302348</td><td>0.01307547</td><td>2.376839e-04</td><td>...</td><td> 7.810397</td><td>0.34540293</td><td>1.8302348</td><td>0.01307547</td><td>2.376839e-04</td><td>0.01839750</td><td>0.3957818</td><td>0.50004312</td><td>0.299980875</td><td>100</td></tr>\n",
       "\t<tr><td>2017</td><td>88.48216</td><td>0.1284705</td><td>1.08342612</td><td>1.0383494</td><td> 7.055952</td><td>0.32991188</td><td>0.6498627</td><td>0.02943107</td><td>0.000000e+00</td><td>...</td><td> 7.055952</td><td>0.32991188</td><td>0.6498627</td><td>0.02943107</td><td>0.000000e+00</td><td>0.01044571</td><td>0.1925770</td><td>0.81233724</td><td>0.187074035</td><td>100</td></tr>\n",
       "\t<tr><td>2018</td><td>92.07501</td><td>0.5538605</td><td>0.47768118</td><td>0.5287865</td><td> 4.838788</td><td>0.27501683</td><td>0.3731354</td><td>0.22166102</td><td>0.000000e+00</td><td>...</td><td> 4.838788</td><td>0.27501683</td><td>0.3731354</td><td>0.22166102</td><td>0.000000e+00</td><td>0.02352128</td><td>0.2231942</td><td>0.35366540</td><td>0.055675361</td><td>100</td></tr>\n",
       "\t<tr><td>2019</td><td>82.02153</td><td>1.2883275</td><td>1.03957251</td><td>0.7029472</td><td>11.734409</td><td>0.43271736</td><td>0.4753962</td><td>0.67271355</td><td>0.000000e+00</td><td>...</td><td>11.734409</td><td>0.43271736</td><td>0.4753962</td><td>0.67271355</td><td>0.000000e+00</td><td>0.02975100</td><td>0.9896301</td><td>0.58287722</td><td>0.030123626</td><td>100</td></tr>\n",
       "\t<tr><td>2020</td><td>87.28100</td><td>0.9506873</td><td>0.69825827</td><td>0.4014103</td><td> 8.241159</td><td>0.07775541</td><td>0.5746915</td><td>0.47490361</td><td>0.000000e+00</td><td>...</td><td> 8.241159</td><td>0.07775541</td><td>0.5746915</td><td>0.47490361</td><td>0.000000e+00</td><td>0.01247542</td><td>0.9733549</td><td>0.30328293</td><td>0.011016638</td><td>100</td></tr>\n",
       "</tbody>\n",
       "</table>\n"
      ],
      "text/latex": [
       "A data.frame: 16 × 31\n",
       "\\begin{tabular}{lllllllllllllllllllll}\n",
       " year & Consumo.Industrial...Anchoveta & Consumo.Humano...Congelado...Concha.de.abanico & Consumo.Humano...Congelado...Langostino & Consumo.Humano...Congelado...Merluza & Consumo.Humano...Congelado...Calamar.gigante & Consumo.Humano...Conservas...AtÃºn & Consumo.Humano...Conservas...Caballa & Consumo.Humano...Conservas...Jurel & Consumo.Humano...Conservas...Sardina & ... & Consumo.Humano...Congelado...Calamar.gigante\\_\\% & Consumo.Humano...Conservas...AtÃºn\\_\\% & Consumo.Humano...Conservas...Caballa\\_\\% & Consumo.Humano...Conservas...Jurel\\_\\% & Consumo.Humano...Conservas...Sardina\\_\\% & Consumo.Humano...Fresco...Concha.de.abanico\\_\\% & Consumo.Humano...Fresco...Jurel\\_\\% & Consumo.Humano...Fresco...Liza\\_\\% & Consumo.Humano...Fresco...Tollo\\_\\% & total\\_production\\_\\%\\\\\n",
       " <int> & <dbl> & <dbl> & <dbl> & <dbl> & <dbl> & <dbl> & <dbl> & <dbl> & <dbl> & ... & <dbl> & <dbl> & <dbl> & <dbl> & <dbl> & <dbl> & <dbl> & <dbl> & <dbl> & <dbl>\\\\\n",
       "\\hline\n",
       "\t 2005 & 95.54818 & 0.1499045 & 0.09989576 & 0.2577844 &  2.609294 & 0.10937484 & 0.2847156 & 0.22680024 & 1.827159e-03 & ... &  2.609294 & 0.10937484 & 0.2847156 & 0.22680024 & 1.827159e-03 & 0.02040970 & 0.6219863 & 0.06506457 & 0.004761687 & 100\\\\\n",
       "\t 2006 & 88.64008 & 0.2213656 & 0.16992825 & 0.3789573 &  5.502230 & 0.17054508 & 0.8762701 & 1.84903601 & 7.221386e-04 & ... &  5.502230 & 0.17054508 & 0.8762701 & 1.84903601 & 7.221386e-04 & 0.06090036 & 2.0585014 & 0.04763106 & 0.023830575 & 100\\\\\n",
       "\t 2007 & 89.60165 & 0.2935863 & 0.19950376 & 0.4175986 &  5.589236 & 0.05468083 & 0.3865310 & 1.22091218 & 1.502021e-05 & ... &  5.589236 & 0.05468083 & 0.3865310 & 1.22091218 & 1.502021e-05 & 0.07102191 & 1.9863099 & 0.13720850 & 0.041746742 & 100\\\\\n",
       "\t 2008 & 89.14097 & 0.2719360 & 0.18549246 & 0.3813239 &  7.006976 & 0.04752310 & 0.6902473 & 0.85190492 & 0.000000e+00 & ... &  7.006976 & 0.04752310 & 0.6902473 & 0.85190492 & 0.000000e+00 & 0.01198584 & 1.1591344 & 0.21005286 & 0.042452694 & 100\\\\\n",
       "\t 2009 & 91.14389 & 0.3852141 & 0.18572997 & 0.5750565 &  5.552894 & 0.03154131 & 0.8030656 & 0.22344144 & 0.000000e+00 & ... &  5.552894 & 0.03154131 & 0.8030656 & 0.22344144 & 0.000000e+00 & 0.02882060 & 0.7361893 & 0.27070197 & 0.063454207 & 100\\\\\n",
       "\t 2010 & 87.39569 & 1.5745346 & 0.37992567 & 0.6730391 &  8.596043 & 0.24097343 & 0.2553192 & 0.15152675 & 0.000000e+00 & ... &  8.596043 & 0.24097343 & 0.2553192 & 0.15152675 & 0.000000e+00 & 0.07412620 & 0.2730431 & 0.25471143 & 0.131069716 & 100\\\\\n",
       "\t 2011 & 90.68319 & 1.1921785 & 0.30293586 & 0.3697812 &  4.834589 & 0.08532989 & 0.2652942 & 1.07882993 & 7.055490e-04 & ... &  4.834589 & 0.08532989 & 0.2652942 & 1.07882993 & 7.055490e-04 & 0.01131102 & 0.9451022 & 0.15707167 & 0.073679378 & 100\\\\\n",
       "\t 2012 & 84.26593 & 0.8881626 & 0.51800534 & 0.4803093 & 10.426908 & 0.02543715 & 0.2276334 & 0.99676202 & 2.017982e-03 & ... & 10.426908 & 0.02543715 & 0.2276334 & 0.99676202 & 2.017982e-03 & 0.01698631 & 1.6637163 & 0.39151535 & 0.096619026 & 100\\\\\n",
       "\t 2013 & 87.73839 & 1.6479289 & 0.35270493 & 0.5755720 &  7.580665 & 0.13170463 & 0.4909196 & 0.13283387 & 0.000000e+00 & ... &  7.580665 & 0.13170463 & 0.4909196 & 0.13283387 & 0.000000e+00 & 0.04023707 & 1.0049715 & 0.23125928 & 0.072817863 & 100\\\\\n",
       "\t 2014 & 76.90274 & 1.7820970 & 0.74203858 & 1.0491720 & 15.855062 & 0.16143054 & 1.0084487 & 0.30286290 & 0.000000e+00 & ... & 15.855062 & 0.16143054 & 1.0084487 & 0.30286290 & 0.000000e+00 & 0.02073604 & 1.5802452 & 0.41763497 & 0.177535616 & 100\\\\\n",
       "\t 2015 & 86.55310 & 0.3552405 & 0.64073821 & 0.6137399 & 10.217753 & 0.26522793 & 0.3665311 & 0.06628941 & 3.928356e-03 & ... & 10.217753 & 0.26522793 & 0.3665311 & 0.06628941 & 3.928356e-03 & 0.01474055 & 0.4197106 & 0.29828892 & 0.184706921 & 100\\\\\n",
       "\t 2016 & 86.71920 & 0.3201951 & 0.92832379 & 0.8187309 &  7.810397 & 0.34540293 & 1.8302348 & 0.01307547 & 2.376839e-04 & ... &  7.810397 & 0.34540293 & 1.8302348 & 0.01307547 & 2.376839e-04 & 0.01839750 & 0.3957818 & 0.50004312 & 0.299980875 & 100\\\\\n",
       "\t 2017 & 88.48216 & 0.1284705 & 1.08342612 & 1.0383494 &  7.055952 & 0.32991188 & 0.6498627 & 0.02943107 & 0.000000e+00 & ... &  7.055952 & 0.32991188 & 0.6498627 & 0.02943107 & 0.000000e+00 & 0.01044571 & 0.1925770 & 0.81233724 & 0.187074035 & 100\\\\\n",
       "\t 2018 & 92.07501 & 0.5538605 & 0.47768118 & 0.5287865 &  4.838788 & 0.27501683 & 0.3731354 & 0.22166102 & 0.000000e+00 & ... &  4.838788 & 0.27501683 & 0.3731354 & 0.22166102 & 0.000000e+00 & 0.02352128 & 0.2231942 & 0.35366540 & 0.055675361 & 100\\\\\n",
       "\t 2019 & 82.02153 & 1.2883275 & 1.03957251 & 0.7029472 & 11.734409 & 0.43271736 & 0.4753962 & 0.67271355 & 0.000000e+00 & ... & 11.734409 & 0.43271736 & 0.4753962 & 0.67271355 & 0.000000e+00 & 0.02975100 & 0.9896301 & 0.58287722 & 0.030123626 & 100\\\\\n",
       "\t 2020 & 87.28100 & 0.9506873 & 0.69825827 & 0.4014103 &  8.241159 & 0.07775541 & 0.5746915 & 0.47490361 & 0.000000e+00 & ... &  8.241159 & 0.07775541 & 0.5746915 & 0.47490361 & 0.000000e+00 & 0.01247542 & 0.9733549 & 0.30328293 & 0.011016638 & 100\\\\\n",
       "\\end{tabular}\n"
      ],
      "text/markdown": [
       "\n",
       "A data.frame: 16 × 31\n",
       "\n",
       "| year &lt;int&gt; | Consumo.Industrial...Anchoveta &lt;dbl&gt; | Consumo.Humano...Congelado...Concha.de.abanico &lt;dbl&gt; | Consumo.Humano...Congelado...Langostino &lt;dbl&gt; | Consumo.Humano...Congelado...Merluza &lt;dbl&gt; | Consumo.Humano...Congelado...Calamar.gigante &lt;dbl&gt; | Consumo.Humano...Conservas...AtÃºn &lt;dbl&gt; | Consumo.Humano...Conservas...Caballa &lt;dbl&gt; | Consumo.Humano...Conservas...Jurel &lt;dbl&gt; | Consumo.Humano...Conservas...Sardina &lt;dbl&gt; | ... ... | Consumo.Humano...Congelado...Calamar.gigante_% &lt;dbl&gt; | Consumo.Humano...Conservas...AtÃºn_% &lt;dbl&gt; | Consumo.Humano...Conservas...Caballa_% &lt;dbl&gt; | Consumo.Humano...Conservas...Jurel_% &lt;dbl&gt; | Consumo.Humano...Conservas...Sardina_% &lt;dbl&gt; | Consumo.Humano...Fresco...Concha.de.abanico_% &lt;dbl&gt; | Consumo.Humano...Fresco...Jurel_% &lt;dbl&gt; | Consumo.Humano...Fresco...Liza_% &lt;dbl&gt; | Consumo.Humano...Fresco...Tollo_% &lt;dbl&gt; | total_production_% &lt;dbl&gt; |\n",
       "|---|---|---|---|---|---|---|---|---|---|---|---|---|---|---|---|---|---|---|---|---|\n",
       "| 2005 | 95.54818 | 0.1499045 | 0.09989576 | 0.2577844 |  2.609294 | 0.10937484 | 0.2847156 | 0.22680024 | 1.827159e-03 | ... |  2.609294 | 0.10937484 | 0.2847156 | 0.22680024 | 1.827159e-03 | 0.02040970 | 0.6219863 | 0.06506457 | 0.004761687 | 100 |\n",
       "| 2006 | 88.64008 | 0.2213656 | 0.16992825 | 0.3789573 |  5.502230 | 0.17054508 | 0.8762701 | 1.84903601 | 7.221386e-04 | ... |  5.502230 | 0.17054508 | 0.8762701 | 1.84903601 | 7.221386e-04 | 0.06090036 | 2.0585014 | 0.04763106 | 0.023830575 | 100 |\n",
       "| 2007 | 89.60165 | 0.2935863 | 0.19950376 | 0.4175986 |  5.589236 | 0.05468083 | 0.3865310 | 1.22091218 | 1.502021e-05 | ... |  5.589236 | 0.05468083 | 0.3865310 | 1.22091218 | 1.502021e-05 | 0.07102191 | 1.9863099 | 0.13720850 | 0.041746742 | 100 |\n",
       "| 2008 | 89.14097 | 0.2719360 | 0.18549246 | 0.3813239 |  7.006976 | 0.04752310 | 0.6902473 | 0.85190492 | 0.000000e+00 | ... |  7.006976 | 0.04752310 | 0.6902473 | 0.85190492 | 0.000000e+00 | 0.01198584 | 1.1591344 | 0.21005286 | 0.042452694 | 100 |\n",
       "| 2009 | 91.14389 | 0.3852141 | 0.18572997 | 0.5750565 |  5.552894 | 0.03154131 | 0.8030656 | 0.22344144 | 0.000000e+00 | ... |  5.552894 | 0.03154131 | 0.8030656 | 0.22344144 | 0.000000e+00 | 0.02882060 | 0.7361893 | 0.27070197 | 0.063454207 | 100 |\n",
       "| 2010 | 87.39569 | 1.5745346 | 0.37992567 | 0.6730391 |  8.596043 | 0.24097343 | 0.2553192 | 0.15152675 | 0.000000e+00 | ... |  8.596043 | 0.24097343 | 0.2553192 | 0.15152675 | 0.000000e+00 | 0.07412620 | 0.2730431 | 0.25471143 | 0.131069716 | 100 |\n",
       "| 2011 | 90.68319 | 1.1921785 | 0.30293586 | 0.3697812 |  4.834589 | 0.08532989 | 0.2652942 | 1.07882993 | 7.055490e-04 | ... |  4.834589 | 0.08532989 | 0.2652942 | 1.07882993 | 7.055490e-04 | 0.01131102 | 0.9451022 | 0.15707167 | 0.073679378 | 100 |\n",
       "| 2012 | 84.26593 | 0.8881626 | 0.51800534 | 0.4803093 | 10.426908 | 0.02543715 | 0.2276334 | 0.99676202 | 2.017982e-03 | ... | 10.426908 | 0.02543715 | 0.2276334 | 0.99676202 | 2.017982e-03 | 0.01698631 | 1.6637163 | 0.39151535 | 0.096619026 | 100 |\n",
       "| 2013 | 87.73839 | 1.6479289 | 0.35270493 | 0.5755720 |  7.580665 | 0.13170463 | 0.4909196 | 0.13283387 | 0.000000e+00 | ... |  7.580665 | 0.13170463 | 0.4909196 | 0.13283387 | 0.000000e+00 | 0.04023707 | 1.0049715 | 0.23125928 | 0.072817863 | 100 |\n",
       "| 2014 | 76.90274 | 1.7820970 | 0.74203858 | 1.0491720 | 15.855062 | 0.16143054 | 1.0084487 | 0.30286290 | 0.000000e+00 | ... | 15.855062 | 0.16143054 | 1.0084487 | 0.30286290 | 0.000000e+00 | 0.02073604 | 1.5802452 | 0.41763497 | 0.177535616 | 100 |\n",
       "| 2015 | 86.55310 | 0.3552405 | 0.64073821 | 0.6137399 | 10.217753 | 0.26522793 | 0.3665311 | 0.06628941 | 3.928356e-03 | ... | 10.217753 | 0.26522793 | 0.3665311 | 0.06628941 | 3.928356e-03 | 0.01474055 | 0.4197106 | 0.29828892 | 0.184706921 | 100 |\n",
       "| 2016 | 86.71920 | 0.3201951 | 0.92832379 | 0.8187309 |  7.810397 | 0.34540293 | 1.8302348 | 0.01307547 | 2.376839e-04 | ... |  7.810397 | 0.34540293 | 1.8302348 | 0.01307547 | 2.376839e-04 | 0.01839750 | 0.3957818 | 0.50004312 | 0.299980875 | 100 |\n",
       "| 2017 | 88.48216 | 0.1284705 | 1.08342612 | 1.0383494 |  7.055952 | 0.32991188 | 0.6498627 | 0.02943107 | 0.000000e+00 | ... |  7.055952 | 0.32991188 | 0.6498627 | 0.02943107 | 0.000000e+00 | 0.01044571 | 0.1925770 | 0.81233724 | 0.187074035 | 100 |\n",
       "| 2018 | 92.07501 | 0.5538605 | 0.47768118 | 0.5287865 |  4.838788 | 0.27501683 | 0.3731354 | 0.22166102 | 0.000000e+00 | ... |  4.838788 | 0.27501683 | 0.3731354 | 0.22166102 | 0.000000e+00 | 0.02352128 | 0.2231942 | 0.35366540 | 0.055675361 | 100 |\n",
       "| 2019 | 82.02153 | 1.2883275 | 1.03957251 | 0.7029472 | 11.734409 | 0.43271736 | 0.4753962 | 0.67271355 | 0.000000e+00 | ... | 11.734409 | 0.43271736 | 0.4753962 | 0.67271355 | 0.000000e+00 | 0.02975100 | 0.9896301 | 0.58287722 | 0.030123626 | 100 |\n",
       "| 2020 | 87.28100 | 0.9506873 | 0.69825827 | 0.4014103 |  8.241159 | 0.07775541 | 0.5746915 | 0.47490361 | 0.000000e+00 | ... |  8.241159 | 0.07775541 | 0.5746915 | 0.47490361 | 0.000000e+00 | 0.01247542 | 0.9733549 | 0.30328293 | 0.011016638 | 100 |\n",
       "\n"
      ],
      "text/plain": [
       "   year Consumo.Industrial...Anchoveta\n",
       "1  2005 95.54818                      \n",
       "2  2006 88.64008                      \n",
       "3  2007 89.60165                      \n",
       "4  2008 89.14097                      \n",
       "5  2009 91.14389                      \n",
       "6  2010 87.39569                      \n",
       "7  2011 90.68319                      \n",
       "8  2012 84.26593                      \n",
       "9  2013 87.73839                      \n",
       "10 2014 76.90274                      \n",
       "11 2015 86.55310                      \n",
       "12 2016 86.71920                      \n",
       "13 2017 88.48216                      \n",
       "14 2018 92.07501                      \n",
       "15 2019 82.02153                      \n",
       "16 2020 87.28100                      \n",
       "   Consumo.Humano...Congelado...Concha.de.abanico\n",
       "1  0.1499045                                     \n",
       "2  0.2213656                                     \n",
       "3  0.2935863                                     \n",
       "4  0.2719360                                     \n",
       "5  0.3852141                                     \n",
       "6  1.5745346                                     \n",
       "7  1.1921785                                     \n",
       "8  0.8881626                                     \n",
       "9  1.6479289                                     \n",
       "10 1.7820970                                     \n",
       "11 0.3552405                                     \n",
       "12 0.3201951                                     \n",
       "13 0.1284705                                     \n",
       "14 0.5538605                                     \n",
       "15 1.2883275                                     \n",
       "16 0.9506873                                     \n",
       "   Consumo.Humano...Congelado...Langostino Consumo.Humano...Congelado...Merluza\n",
       "1  0.09989576                              0.2577844                           \n",
       "2  0.16992825                              0.3789573                           \n",
       "3  0.19950376                              0.4175986                           \n",
       "4  0.18549246                              0.3813239                           \n",
       "5  0.18572997                              0.5750565                           \n",
       "6  0.37992567                              0.6730391                           \n",
       "7  0.30293586                              0.3697812                           \n",
       "8  0.51800534                              0.4803093                           \n",
       "9  0.35270493                              0.5755720                           \n",
       "10 0.74203858                              1.0491720                           \n",
       "11 0.64073821                              0.6137399                           \n",
       "12 0.92832379                              0.8187309                           \n",
       "13 1.08342612                              1.0383494                           \n",
       "14 0.47768118                              0.5287865                           \n",
       "15 1.03957251                              0.7029472                           \n",
       "16 0.69825827                              0.4014103                           \n",
       "   Consumo.Humano...Congelado...Calamar.gigante\n",
       "1   2.609294                                   \n",
       "2   5.502230                                   \n",
       "3   5.589236                                   \n",
       "4   7.006976                                   \n",
       "5   5.552894                                   \n",
       "6   8.596043                                   \n",
       "7   4.834589                                   \n",
       "8  10.426908                                   \n",
       "9   7.580665                                   \n",
       "10 15.855062                                   \n",
       "11 10.217753                                   \n",
       "12  7.810397                                   \n",
       "13  7.055952                                   \n",
       "14  4.838788                                   \n",
       "15 11.734409                                   \n",
       "16  8.241159                                   \n",
       "   Consumo.Humano...Conservas...AtÃºn Consumo.Humano...Conservas...Caballa\n",
       "1  0.10937484                         0.2847156                           \n",
       "2  0.17054508                         0.8762701                           \n",
       "3  0.05468083                         0.3865310                           \n",
       "4  0.04752310                         0.6902473                           \n",
       "5  0.03154131                         0.8030656                           \n",
       "6  0.24097343                         0.2553192                           \n",
       "7  0.08532989                         0.2652942                           \n",
       "8  0.02543715                         0.2276334                           \n",
       "9  0.13170463                         0.4909196                           \n",
       "10 0.16143054                         1.0084487                           \n",
       "11 0.26522793                         0.3665311                           \n",
       "12 0.34540293                         1.8302348                           \n",
       "13 0.32991188                         0.6498627                           \n",
       "14 0.27501683                         0.3731354                           \n",
       "15 0.43271736                         0.4753962                           \n",
       "16 0.07775541                         0.5746915                           \n",
       "   Consumo.Humano...Conservas...Jurel Consumo.Humano...Conservas...Sardina ...\n",
       "1  0.22680024                         1.827159e-03                         ...\n",
       "2  1.84903601                         7.221386e-04                         ...\n",
       "3  1.22091218                         1.502021e-05                         ...\n",
       "4  0.85190492                         0.000000e+00                         ...\n",
       "5  0.22344144                         0.000000e+00                         ...\n",
       "6  0.15152675                         0.000000e+00                         ...\n",
       "7  1.07882993                         7.055490e-04                         ...\n",
       "8  0.99676202                         2.017982e-03                         ...\n",
       "9  0.13283387                         0.000000e+00                         ...\n",
       "10 0.30286290                         0.000000e+00                         ...\n",
       "11 0.06628941                         3.928356e-03                         ...\n",
       "12 0.01307547                         2.376839e-04                         ...\n",
       "13 0.02943107                         0.000000e+00                         ...\n",
       "14 0.22166102                         0.000000e+00                         ...\n",
       "15 0.67271355                         0.000000e+00                         ...\n",
       "16 0.47490361                         0.000000e+00                         ...\n",
       "   Consumo.Humano...Congelado...Calamar.gigante_%\n",
       "1   2.609294                                     \n",
       "2   5.502230                                     \n",
       "3   5.589236                                     \n",
       "4   7.006976                                     \n",
       "5   5.552894                                     \n",
       "6   8.596043                                     \n",
       "7   4.834589                                     \n",
       "8  10.426908                                     \n",
       "9   7.580665                                     \n",
       "10 15.855062                                     \n",
       "11 10.217753                                     \n",
       "12  7.810397                                     \n",
       "13  7.055952                                     \n",
       "14  4.838788                                     \n",
       "15 11.734409                                     \n",
       "16  8.241159                                     \n",
       "   Consumo.Humano...Conservas...AtÃºn_% Consumo.Humano...Conservas...Caballa_%\n",
       "1  0.10937484                           0.2847156                             \n",
       "2  0.17054508                           0.8762701                             \n",
       "3  0.05468083                           0.3865310                             \n",
       "4  0.04752310                           0.6902473                             \n",
       "5  0.03154131                           0.8030656                             \n",
       "6  0.24097343                           0.2553192                             \n",
       "7  0.08532989                           0.2652942                             \n",
       "8  0.02543715                           0.2276334                             \n",
       "9  0.13170463                           0.4909196                             \n",
       "10 0.16143054                           1.0084487                             \n",
       "11 0.26522793                           0.3665311                             \n",
       "12 0.34540293                           1.8302348                             \n",
       "13 0.32991188                           0.6498627                             \n",
       "14 0.27501683                           0.3731354                             \n",
       "15 0.43271736                           0.4753962                             \n",
       "16 0.07775541                           0.5746915                             \n",
       "   Consumo.Humano...Conservas...Jurel_% Consumo.Humano...Conservas...Sardina_%\n",
       "1  0.22680024                           1.827159e-03                          \n",
       "2  1.84903601                           7.221386e-04                          \n",
       "3  1.22091218                           1.502021e-05                          \n",
       "4  0.85190492                           0.000000e+00                          \n",
       "5  0.22344144                           0.000000e+00                          \n",
       "6  0.15152675                           0.000000e+00                          \n",
       "7  1.07882993                           7.055490e-04                          \n",
       "8  0.99676202                           2.017982e-03                          \n",
       "9  0.13283387                           0.000000e+00                          \n",
       "10 0.30286290                           0.000000e+00                          \n",
       "11 0.06628941                           3.928356e-03                          \n",
       "12 0.01307547                           2.376839e-04                          \n",
       "13 0.02943107                           0.000000e+00                          \n",
       "14 0.22166102                           0.000000e+00                          \n",
       "15 0.67271355                           0.000000e+00                          \n",
       "16 0.47490361                           0.000000e+00                          \n",
       "   Consumo.Humano...Fresco...Concha.de.abanico_%\n",
       "1  0.02040970                                   \n",
       "2  0.06090036                                   \n",
       "3  0.07102191                                   \n",
       "4  0.01198584                                   \n",
       "5  0.02882060                                   \n",
       "6  0.07412620                                   \n",
       "7  0.01131102                                   \n",
       "8  0.01698631                                   \n",
       "9  0.04023707                                   \n",
       "10 0.02073604                                   \n",
       "11 0.01474055                                   \n",
       "12 0.01839750                                   \n",
       "13 0.01044571                                   \n",
       "14 0.02352128                                   \n",
       "15 0.02975100                                   \n",
       "16 0.01247542                                   \n",
       "   Consumo.Humano...Fresco...Jurel_% Consumo.Humano...Fresco...Liza_%\n",
       "1  0.6219863                         0.06506457                      \n",
       "2  2.0585014                         0.04763106                      \n",
       "3  1.9863099                         0.13720850                      \n",
       "4  1.1591344                         0.21005286                      \n",
       "5  0.7361893                         0.27070197                      \n",
       "6  0.2730431                         0.25471143                      \n",
       "7  0.9451022                         0.15707167                      \n",
       "8  1.6637163                         0.39151535                      \n",
       "9  1.0049715                         0.23125928                      \n",
       "10 1.5802452                         0.41763497                      \n",
       "11 0.4197106                         0.29828892                      \n",
       "12 0.3957818                         0.50004312                      \n",
       "13 0.1925770                         0.81233724                      \n",
       "14 0.2231942                         0.35366540                      \n",
       "15 0.9896301                         0.58287722                      \n",
       "16 0.9733549                         0.30328293                      \n",
       "   Consumo.Humano...Fresco...Tollo_% total_production_%\n",
       "1  0.004761687                       100               \n",
       "2  0.023830575                       100               \n",
       "3  0.041746742                       100               \n",
       "4  0.042452694                       100               \n",
       "5  0.063454207                       100               \n",
       "6  0.131069716                       100               \n",
       "7  0.073679378                       100               \n",
       "8  0.096619026                       100               \n",
       "9  0.072817863                       100               \n",
       "10 0.177535616                       100               \n",
       "11 0.184706921                       100               \n",
       "12 0.299980875                       100               \n",
       "13 0.187074035                       100               \n",
       "14 0.055675361                       100               \n",
       "15 0.030123626                       100               \n",
       "16 0.011016638                       100               "
      ]
     },
     "metadata": {},
     "output_type": "display_data"
    }
   ],
   "source": [
    "production_fish"
   ]
  },
  {
   "cell_type": "code",
   "execution_count": 130,
   "metadata": {},
   "outputs": [
    {
     "data": {
      "text/html": [
       "<table class=\"dataframe\">\n",
       "<caption>A data.frame: 16 × 29</caption>\n",
       "<thead>\n",
       "\t<tr><th scope=col>year</th><th scope=col>Consumo.Industrial...Anchoveta</th><th scope=col>Consumo.Humano...Congelado...Concha.de.abanico</th><th scope=col>Consumo.Humano...Congelado...Langostino</th><th scope=col>Consumo.Humano...Congelado...Merluza</th><th scope=col>Consumo.Humano...Congelado...Calamar.gigante</th><th scope=col>Consumo.Humano...Conservas...AtÃºn</th><th scope=col>Consumo.Humano...Conservas...Caballa</th><th scope=col>Consumo.Humano...Conservas...Jurel</th><th scope=col>Consumo.Humano...Conservas...Sardina</th><th scope=col>...</th><th scope=col>Consumo.Humano...Congelado...Calamar.gigante_%</th><th scope=col>Consumo.Humano...Conservas...AtÃºn_%</th><th scope=col>Consumo.Humano...Conservas...Caballa_%</th><th scope=col>Consumo.Humano...Conservas...Jurel_%</th><th scope=col>Consumo.Humano...Conservas...Sardina_%</th><th scope=col>Consumo.Humano...Fresco...Concha.de.abanico_%</th><th scope=col>Consumo.Humano...Fresco...Jurel_%</th><th scope=col>Consumo.Humano...Fresco...Liza_%</th><th scope=col>Consumo.Humano...Fresco...Tollo_%</th><th scope=col>total_production_%</th></tr>\n",
       "\t<tr><th scope=col>&lt;int&gt;</th><th scope=col>&lt;dbl&gt;</th><th scope=col>&lt;dbl&gt;</th><th scope=col>&lt;dbl&gt;</th><th scope=col>&lt;dbl&gt;</th><th scope=col>&lt;dbl&gt;</th><th scope=col>&lt;dbl&gt;</th><th scope=col>&lt;dbl&gt;</th><th scope=col>&lt;dbl&gt;</th><th scope=col>&lt;dbl&gt;</th><th scope=col>...</th><th scope=col>&lt;dbl&gt;</th><th scope=col>&lt;dbl&gt;</th><th scope=col>&lt;dbl&gt;</th><th scope=col>&lt;dbl&gt;</th><th scope=col>&lt;dbl&gt;</th><th scope=col>&lt;dbl&gt;</th><th scope=col>&lt;dbl&gt;</th><th scope=col>&lt;dbl&gt;</th><th scope=col>&lt;dbl&gt;</th><th scope=col>&lt;dbl&gt;</th></tr>\n",
       "</thead>\n",
       "<tbody>\n",
       "\t<tr><td>2005</td><td>8628.396</td><td>13.53700</td><td> 9.02100</td><td>23.27900</td><td>235.6300</td><td> 9.877000</td><td>25.711000</td><td> 20.481000</td><td>0.16500000</td><td>...</td><td> 2.609294</td><td>0.10937484</td><td>0.2847156</td><td>0.22680024</td><td>1.827159e-03</td><td>0.02040970</td><td>0.6219863</td><td>0.06506457</td><td>0.004761687</td><td>100</td></tr>\n",
       "\t<tr><td>2006</td><td>5891.838</td><td>14.71400</td><td>11.29500</td><td>25.18900</td><td>365.7290</td><td>11.336000</td><td>58.245000</td><td>122.904000</td><td>0.04800000</td><td>...</td><td> 5.502230</td><td>0.17054508</td><td>0.8762701</td><td>1.84903601</td><td>7.221386e-04</td><td>0.06090036</td><td>2.0585014</td><td>0.04763106</td><td>0.023830575</td><td>100</td></tr>\n",
       "\t<tr><td>2007</td><td>6084.713</td><td>19.93700</td><td>13.54800</td><td>28.35849</td><td>379.5566</td><td> 3.713293</td><td>26.248739</td><td> 82.910307</td><td>0.00102000</td><td>...</td><td> 5.589236</td><td>0.05468083</td><td>0.3865310</td><td>1.22091218</td><td>1.502021e-05</td><td>0.07102191</td><td>1.9863099</td><td>0.13720850</td><td>0.041746742</td><td>100</td></tr>\n",
       "\t<tr><td>2008</td><td>6159.387</td><td>18.79000</td><td>12.81700</td><td>26.34840</td><td>484.1621</td><td> 3.283711</td><td>47.694121</td><td> 58.864202</td><td>0.00000000</td><td>...</td><td> 7.006976</td><td>0.04752310</td><td>0.6902473</td><td>0.85190492</td><td>0.000000e+00</td><td>0.01198584</td><td>1.1591344</td><td>0.21005286</td><td>0.042452694</td><td>100</td></tr>\n",
       "\t<tr><td>2009</td><td>5828.636</td><td>24.63437</td><td>11.87740</td><td>36.77476</td><td>355.1066</td><td> 2.017061</td><td>51.355908</td><td> 14.289041</td><td>0.00000000</td><td>...</td><td> 5.552894</td><td>0.03154131</td><td>0.8030656</td><td>0.22344144</td><td>0.000000e+00</td><td>0.02882060</td><td>0.7361893</td><td>0.27070197</td><td>0.063454207</td><td>100</td></tr>\n",
       "\t<tr><td>2010</td><td>3330.413</td><td>60.00125</td><td>14.47794</td><td>25.64770</td><td>327.5719</td><td> 9.182845</td><td> 9.729522</td><td>  5.774274</td><td>0.00000000</td><td>...</td><td> 8.596043</td><td>0.24097343</td><td>0.2553192</td><td>0.15152675</td><td>0.000000e+00</td><td>0.07412620</td><td>0.2730431</td><td>0.25471143</td><td>0.131069716</td><td>100</td></tr>\n",
       "\t<tr><td>2011</td><td>7000.093</td><td>92.02764</td><td>23.38448</td><td>28.54446</td><td>373.1957</td><td> 6.586856</td><td>20.478814</td><td> 83.277943</td><td>0.05446333</td><td>...</td><td> 4.834589</td><td>0.08532989</td><td>0.2652942</td><td>1.07882993</td><td>7.055490e-04</td><td>0.01131102</td><td>0.9451022</td><td>0.15707167</td><td>0.073679378</td><td>100</td></tr>\n",
       "\t<tr><td>2012</td><td>3693.871</td><td>38.93339</td><td>22.70722</td><td>21.05478</td><td>457.0727</td><td> 1.115060</td><td> 9.978510</td><td> 43.693940</td><td>0.08846000</td><td>...</td><td>10.426908</td><td>0.02543715</td><td>0.2276334</td><td>0.99676202</td><td>2.017982e-03</td><td>0.01698631</td><td>1.6637163</td><td>0.39151535</td><td>0.096619026</td><td>100</td></tr>\n",
       "\t<tr><td>2013</td><td>4754.118</td><td>89.29328</td><td>19.11137</td><td>31.18746</td><td>410.7595</td><td> 7.136436</td><td>26.600553</td><td>  7.197624</td><td>0.00000000</td><td>...</td><td> 7.580665</td><td>0.13170463</td><td>0.4909196</td><td>0.13283387</td><td>0.000000e+00</td><td>0.04023707</td><td>1.0049715</td><td>0.23125928</td><td>0.072817863</td><td>100</td></tr>\n",
       "\t<tr><td>2014</td><td>2255.453</td><td>52.26650</td><td>21.76299</td><td>30.77080</td><td>465.0076</td><td> 4.734540</td><td>29.576440</td><td>  8.882560</td><td>0.00000000</td><td>...</td><td>15.855062</td><td>0.16143054</td><td>1.0084487</td><td>0.30286290</td><td>0.000000e+00</td><td>0.02073604</td><td>1.5802452</td><td>0.41763497</td><td>0.177535616</td><td>100</td></tr>\n",
       "\t<tr><td>2015</td><td>3616.481</td><td>14.84315</td><td>26.77221</td><td>25.64413</td><td>426.9323</td><td>11.082120</td><td>15.314910</td><td>  2.769796</td><td>0.16414000</td><td>...</td><td>10.217753</td><td>0.26522793</td><td>0.3665311</td><td>0.06628941</td><td>3.928356e-03</td><td>0.01474055</td><td>0.4197106</td><td>0.29828892</td><td>0.184706921</td><td>100</td></tr>\n",
       "\t<tr><td>2016</td><td>2732.734</td><td>10.09013</td><td>29.25375</td><td>25.80021</td><td>246.1247</td><td>10.884490</td><td>57.675170</td><td>  0.412040</td><td>0.00749000</td><td>...</td><td> 7.810397</td><td>0.34540293</td><td>1.8302348</td><td>0.01307547</td><td>2.376839e-04</td><td>0.01839750</td><td>0.3957818</td><td>0.50004312</td><td>0.299980875</td><td>100</td></tr>\n",
       "\t<tr><td>2017</td><td>3165.490</td><td> 4.59609</td><td>38.76007</td><td>37.14743</td><td>252.4299</td><td>11.802750</td><td>23.249140</td><td>  1.052910</td><td>0.00000000</td><td>...</td><td> 7.055952</td><td>0.32991188</td><td>0.6498627</td><td>0.02943107</td><td>0.000000e+00</td><td>0.01044571</td><td>0.1925770</td><td>0.81233724</td><td>0.187074035</td><td>100</td></tr>\n",
       "\t<tr><td>2018</td><td>6072.888</td><td>36.53035</td><td>31.50588</td><td>34.87658</td><td>319.1465</td><td>18.138975</td><td>24.610468</td><td> 14.619846</td><td>0.00000000</td><td>...</td><td> 4.838788</td><td>0.27501683</td><td>0.3731354</td><td>0.22166102</td><td>0.000000e+00</td><td>0.02352128</td><td>0.2231942</td><td>0.35366540</td><td>0.055675361</td><td>100</td></tr>\n",
       "\t<tr><td>2019</td><td>3381.437</td><td>53.11286</td><td>42.85764</td><td>28.97985</td><td>483.7652</td><td>17.839298</td><td>19.598784</td><td> 27.733432</td><td>0.00000000</td><td>...</td><td>11.734409</td><td>0.43271736</td><td>0.4753962</td><td>0.67271355</td><td>0.000000e+00</td><td>0.02975100</td><td>0.9896301</td><td>0.58287722</td><td>0.030123626</td><td>100</td></tr>\n",
       "\t<tr><td>2020</td><td>4314.558</td><td>46.99529</td><td>34.51697</td><td>19.84290</td><td>407.3848</td><td> 3.843680</td><td>28.408700</td><td> 23.475890</td><td>0.00000000</td><td>...</td><td> 8.241159</td><td>0.07775541</td><td>0.5746915</td><td>0.47490361</td><td>0.000000e+00</td><td>0.01247542</td><td>0.9733549</td><td>0.30328293</td><td>0.011016638</td><td>100</td></tr>\n",
       "</tbody>\n",
       "</table>\n"
      ],
      "text/latex": [
       "A data.frame: 16 × 29\n",
       "\\begin{tabular}{lllllllllllllllllllll}\n",
       " year & Consumo.Industrial...Anchoveta & Consumo.Humano...Congelado...Concha.de.abanico & Consumo.Humano...Congelado...Langostino & Consumo.Humano...Congelado...Merluza & Consumo.Humano...Congelado...Calamar.gigante & Consumo.Humano...Conservas...AtÃºn & Consumo.Humano...Conservas...Caballa & Consumo.Humano...Conservas...Jurel & Consumo.Humano...Conservas...Sardina & ... & Consumo.Humano...Congelado...Calamar.gigante\\_\\% & Consumo.Humano...Conservas...AtÃºn\\_\\% & Consumo.Humano...Conservas...Caballa\\_\\% & Consumo.Humano...Conservas...Jurel\\_\\% & Consumo.Humano...Conservas...Sardina\\_\\% & Consumo.Humano...Fresco...Concha.de.abanico\\_\\% & Consumo.Humano...Fresco...Jurel\\_\\% & Consumo.Humano...Fresco...Liza\\_\\% & Consumo.Humano...Fresco...Tollo\\_\\% & total\\_production\\_\\%\\\\\n",
       " <int> & <dbl> & <dbl> & <dbl> & <dbl> & <dbl> & <dbl> & <dbl> & <dbl> & <dbl> & ... & <dbl> & <dbl> & <dbl> & <dbl> & <dbl> & <dbl> & <dbl> & <dbl> & <dbl> & <dbl>\\\\\n",
       "\\hline\n",
       "\t 2005 & 8628.396 & 13.53700 &  9.02100 & 23.27900 & 235.6300 &  9.877000 & 25.711000 &  20.481000 & 0.16500000 & ... &  2.609294 & 0.10937484 & 0.2847156 & 0.22680024 & 1.827159e-03 & 0.02040970 & 0.6219863 & 0.06506457 & 0.004761687 & 100\\\\\n",
       "\t 2006 & 5891.838 & 14.71400 & 11.29500 & 25.18900 & 365.7290 & 11.336000 & 58.245000 & 122.904000 & 0.04800000 & ... &  5.502230 & 0.17054508 & 0.8762701 & 1.84903601 & 7.221386e-04 & 0.06090036 & 2.0585014 & 0.04763106 & 0.023830575 & 100\\\\\n",
       "\t 2007 & 6084.713 & 19.93700 & 13.54800 & 28.35849 & 379.5566 &  3.713293 & 26.248739 &  82.910307 & 0.00102000 & ... &  5.589236 & 0.05468083 & 0.3865310 & 1.22091218 & 1.502021e-05 & 0.07102191 & 1.9863099 & 0.13720850 & 0.041746742 & 100\\\\\n",
       "\t 2008 & 6159.387 & 18.79000 & 12.81700 & 26.34840 & 484.1621 &  3.283711 & 47.694121 &  58.864202 & 0.00000000 & ... &  7.006976 & 0.04752310 & 0.6902473 & 0.85190492 & 0.000000e+00 & 0.01198584 & 1.1591344 & 0.21005286 & 0.042452694 & 100\\\\\n",
       "\t 2009 & 5828.636 & 24.63437 & 11.87740 & 36.77476 & 355.1066 &  2.017061 & 51.355908 &  14.289041 & 0.00000000 & ... &  5.552894 & 0.03154131 & 0.8030656 & 0.22344144 & 0.000000e+00 & 0.02882060 & 0.7361893 & 0.27070197 & 0.063454207 & 100\\\\\n",
       "\t 2010 & 3330.413 & 60.00125 & 14.47794 & 25.64770 & 327.5719 &  9.182845 &  9.729522 &   5.774274 & 0.00000000 & ... &  8.596043 & 0.24097343 & 0.2553192 & 0.15152675 & 0.000000e+00 & 0.07412620 & 0.2730431 & 0.25471143 & 0.131069716 & 100\\\\\n",
       "\t 2011 & 7000.093 & 92.02764 & 23.38448 & 28.54446 & 373.1957 &  6.586856 & 20.478814 &  83.277943 & 0.05446333 & ... &  4.834589 & 0.08532989 & 0.2652942 & 1.07882993 & 7.055490e-04 & 0.01131102 & 0.9451022 & 0.15707167 & 0.073679378 & 100\\\\\n",
       "\t 2012 & 3693.871 & 38.93339 & 22.70722 & 21.05478 & 457.0727 &  1.115060 &  9.978510 &  43.693940 & 0.08846000 & ... & 10.426908 & 0.02543715 & 0.2276334 & 0.99676202 & 2.017982e-03 & 0.01698631 & 1.6637163 & 0.39151535 & 0.096619026 & 100\\\\\n",
       "\t 2013 & 4754.118 & 89.29328 & 19.11137 & 31.18746 & 410.7595 &  7.136436 & 26.600553 &   7.197624 & 0.00000000 & ... &  7.580665 & 0.13170463 & 0.4909196 & 0.13283387 & 0.000000e+00 & 0.04023707 & 1.0049715 & 0.23125928 & 0.072817863 & 100\\\\\n",
       "\t 2014 & 2255.453 & 52.26650 & 21.76299 & 30.77080 & 465.0076 &  4.734540 & 29.576440 &   8.882560 & 0.00000000 & ... & 15.855062 & 0.16143054 & 1.0084487 & 0.30286290 & 0.000000e+00 & 0.02073604 & 1.5802452 & 0.41763497 & 0.177535616 & 100\\\\\n",
       "\t 2015 & 3616.481 & 14.84315 & 26.77221 & 25.64413 & 426.9323 & 11.082120 & 15.314910 &   2.769796 & 0.16414000 & ... & 10.217753 & 0.26522793 & 0.3665311 & 0.06628941 & 3.928356e-03 & 0.01474055 & 0.4197106 & 0.29828892 & 0.184706921 & 100\\\\\n",
       "\t 2016 & 2732.734 & 10.09013 & 29.25375 & 25.80021 & 246.1247 & 10.884490 & 57.675170 &   0.412040 & 0.00749000 & ... &  7.810397 & 0.34540293 & 1.8302348 & 0.01307547 & 2.376839e-04 & 0.01839750 & 0.3957818 & 0.50004312 & 0.299980875 & 100\\\\\n",
       "\t 2017 & 3165.490 &  4.59609 & 38.76007 & 37.14743 & 252.4299 & 11.802750 & 23.249140 &   1.052910 & 0.00000000 & ... &  7.055952 & 0.32991188 & 0.6498627 & 0.02943107 & 0.000000e+00 & 0.01044571 & 0.1925770 & 0.81233724 & 0.187074035 & 100\\\\\n",
       "\t 2018 & 6072.888 & 36.53035 & 31.50588 & 34.87658 & 319.1465 & 18.138975 & 24.610468 &  14.619846 & 0.00000000 & ... &  4.838788 & 0.27501683 & 0.3731354 & 0.22166102 & 0.000000e+00 & 0.02352128 & 0.2231942 & 0.35366540 & 0.055675361 & 100\\\\\n",
       "\t 2019 & 3381.437 & 53.11286 & 42.85764 & 28.97985 & 483.7652 & 17.839298 & 19.598784 &  27.733432 & 0.00000000 & ... & 11.734409 & 0.43271736 & 0.4753962 & 0.67271355 & 0.000000e+00 & 0.02975100 & 0.9896301 & 0.58287722 & 0.030123626 & 100\\\\\n",
       "\t 2020 & 4314.558 & 46.99529 & 34.51697 & 19.84290 & 407.3848 &  3.843680 & 28.408700 &  23.475890 & 0.00000000 & ... &  8.241159 & 0.07775541 & 0.5746915 & 0.47490361 & 0.000000e+00 & 0.01247542 & 0.9733549 & 0.30328293 & 0.011016638 & 100\\\\\n",
       "\\end{tabular}\n"
      ],
      "text/markdown": [
       "\n",
       "A data.frame: 16 × 29\n",
       "\n",
       "| year &lt;int&gt; | Consumo.Industrial...Anchoveta &lt;dbl&gt; | Consumo.Humano...Congelado...Concha.de.abanico &lt;dbl&gt; | Consumo.Humano...Congelado...Langostino &lt;dbl&gt; | Consumo.Humano...Congelado...Merluza &lt;dbl&gt; | Consumo.Humano...Congelado...Calamar.gigante &lt;dbl&gt; | Consumo.Humano...Conservas...AtÃºn &lt;dbl&gt; | Consumo.Humano...Conservas...Caballa &lt;dbl&gt; | Consumo.Humano...Conservas...Jurel &lt;dbl&gt; | Consumo.Humano...Conservas...Sardina &lt;dbl&gt; | ... ... | Consumo.Humano...Congelado...Calamar.gigante_% &lt;dbl&gt; | Consumo.Humano...Conservas...AtÃºn_% &lt;dbl&gt; | Consumo.Humano...Conservas...Caballa_% &lt;dbl&gt; | Consumo.Humano...Conservas...Jurel_% &lt;dbl&gt; | Consumo.Humano...Conservas...Sardina_% &lt;dbl&gt; | Consumo.Humano...Fresco...Concha.de.abanico_% &lt;dbl&gt; | Consumo.Humano...Fresco...Jurel_% &lt;dbl&gt; | Consumo.Humano...Fresco...Liza_% &lt;dbl&gt; | Consumo.Humano...Fresco...Tollo_% &lt;dbl&gt; | total_production_% &lt;dbl&gt; |\n",
       "|---|---|---|---|---|---|---|---|---|---|---|---|---|---|---|---|---|---|---|---|---|\n",
       "| 2005 | 8628.396 | 13.53700 |  9.02100 | 23.27900 | 235.6300 |  9.877000 | 25.711000 |  20.481000 | 0.16500000 | ... |  2.609294 | 0.10937484 | 0.2847156 | 0.22680024 | 1.827159e-03 | 0.02040970 | 0.6219863 | 0.06506457 | 0.004761687 | 100 |\n",
       "| 2006 | 5891.838 | 14.71400 | 11.29500 | 25.18900 | 365.7290 | 11.336000 | 58.245000 | 122.904000 | 0.04800000 | ... |  5.502230 | 0.17054508 | 0.8762701 | 1.84903601 | 7.221386e-04 | 0.06090036 | 2.0585014 | 0.04763106 | 0.023830575 | 100 |\n",
       "| 2007 | 6084.713 | 19.93700 | 13.54800 | 28.35849 | 379.5566 |  3.713293 | 26.248739 |  82.910307 | 0.00102000 | ... |  5.589236 | 0.05468083 | 0.3865310 | 1.22091218 | 1.502021e-05 | 0.07102191 | 1.9863099 | 0.13720850 | 0.041746742 | 100 |\n",
       "| 2008 | 6159.387 | 18.79000 | 12.81700 | 26.34840 | 484.1621 |  3.283711 | 47.694121 |  58.864202 | 0.00000000 | ... |  7.006976 | 0.04752310 | 0.6902473 | 0.85190492 | 0.000000e+00 | 0.01198584 | 1.1591344 | 0.21005286 | 0.042452694 | 100 |\n",
       "| 2009 | 5828.636 | 24.63437 | 11.87740 | 36.77476 | 355.1066 |  2.017061 | 51.355908 |  14.289041 | 0.00000000 | ... |  5.552894 | 0.03154131 | 0.8030656 | 0.22344144 | 0.000000e+00 | 0.02882060 | 0.7361893 | 0.27070197 | 0.063454207 | 100 |\n",
       "| 2010 | 3330.413 | 60.00125 | 14.47794 | 25.64770 | 327.5719 |  9.182845 |  9.729522 |   5.774274 | 0.00000000 | ... |  8.596043 | 0.24097343 | 0.2553192 | 0.15152675 | 0.000000e+00 | 0.07412620 | 0.2730431 | 0.25471143 | 0.131069716 | 100 |\n",
       "| 2011 | 7000.093 | 92.02764 | 23.38448 | 28.54446 | 373.1957 |  6.586856 | 20.478814 |  83.277943 | 0.05446333 | ... |  4.834589 | 0.08532989 | 0.2652942 | 1.07882993 | 7.055490e-04 | 0.01131102 | 0.9451022 | 0.15707167 | 0.073679378 | 100 |\n",
       "| 2012 | 3693.871 | 38.93339 | 22.70722 | 21.05478 | 457.0727 |  1.115060 |  9.978510 |  43.693940 | 0.08846000 | ... | 10.426908 | 0.02543715 | 0.2276334 | 0.99676202 | 2.017982e-03 | 0.01698631 | 1.6637163 | 0.39151535 | 0.096619026 | 100 |\n",
       "| 2013 | 4754.118 | 89.29328 | 19.11137 | 31.18746 | 410.7595 |  7.136436 | 26.600553 |   7.197624 | 0.00000000 | ... |  7.580665 | 0.13170463 | 0.4909196 | 0.13283387 | 0.000000e+00 | 0.04023707 | 1.0049715 | 0.23125928 | 0.072817863 | 100 |\n",
       "| 2014 | 2255.453 | 52.26650 | 21.76299 | 30.77080 | 465.0076 |  4.734540 | 29.576440 |   8.882560 | 0.00000000 | ... | 15.855062 | 0.16143054 | 1.0084487 | 0.30286290 | 0.000000e+00 | 0.02073604 | 1.5802452 | 0.41763497 | 0.177535616 | 100 |\n",
       "| 2015 | 3616.481 | 14.84315 | 26.77221 | 25.64413 | 426.9323 | 11.082120 | 15.314910 |   2.769796 | 0.16414000 | ... | 10.217753 | 0.26522793 | 0.3665311 | 0.06628941 | 3.928356e-03 | 0.01474055 | 0.4197106 | 0.29828892 | 0.184706921 | 100 |\n",
       "| 2016 | 2732.734 | 10.09013 | 29.25375 | 25.80021 | 246.1247 | 10.884490 | 57.675170 |   0.412040 | 0.00749000 | ... |  7.810397 | 0.34540293 | 1.8302348 | 0.01307547 | 2.376839e-04 | 0.01839750 | 0.3957818 | 0.50004312 | 0.299980875 | 100 |\n",
       "| 2017 | 3165.490 |  4.59609 | 38.76007 | 37.14743 | 252.4299 | 11.802750 | 23.249140 |   1.052910 | 0.00000000 | ... |  7.055952 | 0.32991188 | 0.6498627 | 0.02943107 | 0.000000e+00 | 0.01044571 | 0.1925770 | 0.81233724 | 0.187074035 | 100 |\n",
       "| 2018 | 6072.888 | 36.53035 | 31.50588 | 34.87658 | 319.1465 | 18.138975 | 24.610468 |  14.619846 | 0.00000000 | ... |  4.838788 | 0.27501683 | 0.3731354 | 0.22166102 | 0.000000e+00 | 0.02352128 | 0.2231942 | 0.35366540 | 0.055675361 | 100 |\n",
       "| 2019 | 3381.437 | 53.11286 | 42.85764 | 28.97985 | 483.7652 | 17.839298 | 19.598784 |  27.733432 | 0.00000000 | ... | 11.734409 | 0.43271736 | 0.4753962 | 0.67271355 | 0.000000e+00 | 0.02975100 | 0.9896301 | 0.58287722 | 0.030123626 | 100 |\n",
       "| 2020 | 4314.558 | 46.99529 | 34.51697 | 19.84290 | 407.3848 |  3.843680 | 28.408700 |  23.475890 | 0.00000000 | ... |  8.241159 | 0.07775541 | 0.5746915 | 0.47490361 | 0.000000e+00 | 0.01247542 | 0.9733549 | 0.30328293 | 0.011016638 | 100 |\n",
       "\n"
      ],
      "text/plain": [
       "   year Consumo.Industrial...Anchoveta\n",
       "1  2005 8628.396                      \n",
       "2  2006 5891.838                      \n",
       "3  2007 6084.713                      \n",
       "4  2008 6159.387                      \n",
       "5  2009 5828.636                      \n",
       "6  2010 3330.413                      \n",
       "7  2011 7000.093                      \n",
       "8  2012 3693.871                      \n",
       "9  2013 4754.118                      \n",
       "10 2014 2255.453                      \n",
       "11 2015 3616.481                      \n",
       "12 2016 2732.734                      \n",
       "13 2017 3165.490                      \n",
       "14 2018 6072.888                      \n",
       "15 2019 3381.437                      \n",
       "16 2020 4314.558                      \n",
       "   Consumo.Humano...Congelado...Concha.de.abanico\n",
       "1  13.53700                                      \n",
       "2  14.71400                                      \n",
       "3  19.93700                                      \n",
       "4  18.79000                                      \n",
       "5  24.63437                                      \n",
       "6  60.00125                                      \n",
       "7  92.02764                                      \n",
       "8  38.93339                                      \n",
       "9  89.29328                                      \n",
       "10 52.26650                                      \n",
       "11 14.84315                                      \n",
       "12 10.09013                                      \n",
       "13  4.59609                                      \n",
       "14 36.53035                                      \n",
       "15 53.11286                                      \n",
       "16 46.99529                                      \n",
       "   Consumo.Humano...Congelado...Langostino Consumo.Humano...Congelado...Merluza\n",
       "1   9.02100                                23.27900                            \n",
       "2  11.29500                                25.18900                            \n",
       "3  13.54800                                28.35849                            \n",
       "4  12.81700                                26.34840                            \n",
       "5  11.87740                                36.77476                            \n",
       "6  14.47794                                25.64770                            \n",
       "7  23.38448                                28.54446                            \n",
       "8  22.70722                                21.05478                            \n",
       "9  19.11137                                31.18746                            \n",
       "10 21.76299                                30.77080                            \n",
       "11 26.77221                                25.64413                            \n",
       "12 29.25375                                25.80021                            \n",
       "13 38.76007                                37.14743                            \n",
       "14 31.50588                                34.87658                            \n",
       "15 42.85764                                28.97985                            \n",
       "16 34.51697                                19.84290                            \n",
       "   Consumo.Humano...Congelado...Calamar.gigante\n",
       "1  235.6300                                    \n",
       "2  365.7290                                    \n",
       "3  379.5566                                    \n",
       "4  484.1621                                    \n",
       "5  355.1066                                    \n",
       "6  327.5719                                    \n",
       "7  373.1957                                    \n",
       "8  457.0727                                    \n",
       "9  410.7595                                    \n",
       "10 465.0076                                    \n",
       "11 426.9323                                    \n",
       "12 246.1247                                    \n",
       "13 252.4299                                    \n",
       "14 319.1465                                    \n",
       "15 483.7652                                    \n",
       "16 407.3848                                    \n",
       "   Consumo.Humano...Conservas...AtÃºn Consumo.Humano...Conservas...Caballa\n",
       "1   9.877000                          25.711000                           \n",
       "2  11.336000                          58.245000                           \n",
       "3   3.713293                          26.248739                           \n",
       "4   3.283711                          47.694121                           \n",
       "5   2.017061                          51.355908                           \n",
       "6   9.182845                           9.729522                           \n",
       "7   6.586856                          20.478814                           \n",
       "8   1.115060                           9.978510                           \n",
       "9   7.136436                          26.600553                           \n",
       "10  4.734540                          29.576440                           \n",
       "11 11.082120                          15.314910                           \n",
       "12 10.884490                          57.675170                           \n",
       "13 11.802750                          23.249140                           \n",
       "14 18.138975                          24.610468                           \n",
       "15 17.839298                          19.598784                           \n",
       "16  3.843680                          28.408700                           \n",
       "   Consumo.Humano...Conservas...Jurel Consumo.Humano...Conservas...Sardina ...\n",
       "1   20.481000                         0.16500000                           ...\n",
       "2  122.904000                         0.04800000                           ...\n",
       "3   82.910307                         0.00102000                           ...\n",
       "4   58.864202                         0.00000000                           ...\n",
       "5   14.289041                         0.00000000                           ...\n",
       "6    5.774274                         0.00000000                           ...\n",
       "7   83.277943                         0.05446333                           ...\n",
       "8   43.693940                         0.08846000                           ...\n",
       "9    7.197624                         0.00000000                           ...\n",
       "10   8.882560                         0.00000000                           ...\n",
       "11   2.769796                         0.16414000                           ...\n",
       "12   0.412040                         0.00749000                           ...\n",
       "13   1.052910                         0.00000000                           ...\n",
       "14  14.619846                         0.00000000                           ...\n",
       "15  27.733432                         0.00000000                           ...\n",
       "16  23.475890                         0.00000000                           ...\n",
       "   Consumo.Humano...Congelado...Calamar.gigante_%\n",
       "1   2.609294                                     \n",
       "2   5.502230                                     \n",
       "3   5.589236                                     \n",
       "4   7.006976                                     \n",
       "5   5.552894                                     \n",
       "6   8.596043                                     \n",
       "7   4.834589                                     \n",
       "8  10.426908                                     \n",
       "9   7.580665                                     \n",
       "10 15.855062                                     \n",
       "11 10.217753                                     \n",
       "12  7.810397                                     \n",
       "13  7.055952                                     \n",
       "14  4.838788                                     \n",
       "15 11.734409                                     \n",
       "16  8.241159                                     \n",
       "   Consumo.Humano...Conservas...AtÃºn_% Consumo.Humano...Conservas...Caballa_%\n",
       "1  0.10937484                           0.2847156                             \n",
       "2  0.17054508                           0.8762701                             \n",
       "3  0.05468083                           0.3865310                             \n",
       "4  0.04752310                           0.6902473                             \n",
       "5  0.03154131                           0.8030656                             \n",
       "6  0.24097343                           0.2553192                             \n",
       "7  0.08532989                           0.2652942                             \n",
       "8  0.02543715                           0.2276334                             \n",
       "9  0.13170463                           0.4909196                             \n",
       "10 0.16143054                           1.0084487                             \n",
       "11 0.26522793                           0.3665311                             \n",
       "12 0.34540293                           1.8302348                             \n",
       "13 0.32991188                           0.6498627                             \n",
       "14 0.27501683                           0.3731354                             \n",
       "15 0.43271736                           0.4753962                             \n",
       "16 0.07775541                           0.5746915                             \n",
       "   Consumo.Humano...Conservas...Jurel_% Consumo.Humano...Conservas...Sardina_%\n",
       "1  0.22680024                           1.827159e-03                          \n",
       "2  1.84903601                           7.221386e-04                          \n",
       "3  1.22091218                           1.502021e-05                          \n",
       "4  0.85190492                           0.000000e+00                          \n",
       "5  0.22344144                           0.000000e+00                          \n",
       "6  0.15152675                           0.000000e+00                          \n",
       "7  1.07882993                           7.055490e-04                          \n",
       "8  0.99676202                           2.017982e-03                          \n",
       "9  0.13283387                           0.000000e+00                          \n",
       "10 0.30286290                           0.000000e+00                          \n",
       "11 0.06628941                           3.928356e-03                          \n",
       "12 0.01307547                           2.376839e-04                          \n",
       "13 0.02943107                           0.000000e+00                          \n",
       "14 0.22166102                           0.000000e+00                          \n",
       "15 0.67271355                           0.000000e+00                          \n",
       "16 0.47490361                           0.000000e+00                          \n",
       "   Consumo.Humano...Fresco...Concha.de.abanico_%\n",
       "1  0.02040970                                   \n",
       "2  0.06090036                                   \n",
       "3  0.07102191                                   \n",
       "4  0.01198584                                   \n",
       "5  0.02882060                                   \n",
       "6  0.07412620                                   \n",
       "7  0.01131102                                   \n",
       "8  0.01698631                                   \n",
       "9  0.04023707                                   \n",
       "10 0.02073604                                   \n",
       "11 0.01474055                                   \n",
       "12 0.01839750                                   \n",
       "13 0.01044571                                   \n",
       "14 0.02352128                                   \n",
       "15 0.02975100                                   \n",
       "16 0.01247542                                   \n",
       "   Consumo.Humano...Fresco...Jurel_% Consumo.Humano...Fresco...Liza_%\n",
       "1  0.6219863                         0.06506457                      \n",
       "2  2.0585014                         0.04763106                      \n",
       "3  1.9863099                         0.13720850                      \n",
       "4  1.1591344                         0.21005286                      \n",
       "5  0.7361893                         0.27070197                      \n",
       "6  0.2730431                         0.25471143                      \n",
       "7  0.9451022                         0.15707167                      \n",
       "8  1.6637163                         0.39151535                      \n",
       "9  1.0049715                         0.23125928                      \n",
       "10 1.5802452                         0.41763497                      \n",
       "11 0.4197106                         0.29828892                      \n",
       "12 0.3957818                         0.50004312                      \n",
       "13 0.1925770                         0.81233724                      \n",
       "14 0.2231942                         0.35366540                      \n",
       "15 0.9896301                         0.58287722                      \n",
       "16 0.9733549                         0.30328293                      \n",
       "   Consumo.Humano...Fresco...Tollo_% total_production_%\n",
       "1  0.004761687                       100               \n",
       "2  0.023830575                       100               \n",
       "3  0.041746742                       100               \n",
       "4  0.042452694                       100               \n",
       "5  0.063454207                       100               \n",
       "6  0.131069716                       100               \n",
       "7  0.073679378                       100               \n",
       "8  0.096619026                       100               \n",
       "9  0.072817863                       100               \n",
       "10 0.177535616                       100               \n",
       "11 0.184706921                       100               \n",
       "12 0.299980875                       100               \n",
       "13 0.187074035                       100               \n",
       "14 0.055675361                       100               \n",
       "15 0.030123626                       100               \n",
       "16 0.011016638                       100               "
      ]
     },
     "metadata": {},
     "output_type": "display_data"
    }
   ],
   "source": [
    "production_fish"
   ]
  },
  {
   "cell_type": "markdown",
   "metadata": {},
   "source": [
    "# 3.  Functions \n",
    "\n",
    "- Abstraction and Reusability: Replicate the code you will use over and over again.\n",
    "- Modularity: Functions allow complex processes to be broken up into smaller steps\n",
    "\n",
    "<img src=\"../images/function_R.png\">\n",
    "\n",
    "More detail in Kaggle:\n",
    "\n",
    "https://www.kaggle.com/code/ananta/packages-and-functions-in-r/notebook"
   ]
  },
  {
   "cell_type": "code",
   "execution_count": 50,
   "metadata": {},
   "outputs": [],
   "source": [
    "calculator <- function(x,z,a)\n",
    "    {\n",
    "    m <- (x+z)**a\n",
    "    return(m)\n",
    "}\n",
    "\n"
   ]
  },
  {
   "cell_type": "code",
   "execution_count": 51,
   "metadata": {},
   "outputs": [
    {
     "ename": "ERROR",
     "evalue": "Error in eval(expr, envir, enclos): objeto 'm' no encontrado\n",
     "output_type": "error",
     "traceback": [
      "Error in eval(expr, envir, enclos): objeto 'm' no encontrado\nTraceback:\n"
     ]
    }
   ],
   "source": [
    "m"
   ]
  },
  {
   "cell_type": "code",
   "execution_count": 52,
   "metadata": {},
   "outputs": [
    {
     "ename": "ERROR",
     "evalue": "Error in des_matrix(X): no se pudo encontrar la función \"des_matrix\"\n",
     "output_type": "error",
     "traceback": [
      "Error in des_matrix(X): no se pudo encontrar la función \"des_matrix\"\nTraceback:\n"
     ]
    }
   ],
   "source": [
    "des_matrix(X)"
   ]
  },
  {
   "cell_type": "code",
   "execution_count": 138,
   "metadata": {},
   "outputs": [
    {
     "data": {
      "text/html": [
       "2.44948974278318"
      ],
      "text/latex": [
       "2.44948974278318"
      ],
      "text/markdown": [
       "2.44948974278318"
      ],
      "text/plain": [
       "[1] 2.44949"
      ]
     },
     "metadata": {},
     "output_type": "display_data"
    }
   ],
   "source": [
    "calculator(4,2,0.5)"
   ]
  },
  {
   "cell_type": "code",
   "execution_count": 139,
   "metadata": {},
   "outputs": [
    {
     "data": {
      "text/html": [
       "216"
      ],
      "text/latex": [
       "216"
      ],
      "text/markdown": [
       "216"
      ],
      "text/plain": [
       "[1] 216"
      ]
     },
     "metadata": {},
     "output_type": "display_data"
    }
   ],
   "source": [
    "calculator(1,5,3)"
   ]
  },
  {
   "cell_type": "markdown",
   "metadata": {},
   "source": [
    "### <a id='2.2'> 2.2 Multiples outcomes </a> "
   ]
  },
  {
   "cell_type": "code",
   "execution_count": 53,
   "metadata": {},
   "outputs": [],
   "source": [
    "# several kind of object \n",
    "# this function select elements of a list\n",
    "\n",
    "select <- function(a)\n",
    "    {\n",
    "    a1 <- a[1]\n",
    "    a2 <- a[length(a)]\n",
    "    \n",
    "    return(list(a1,a2,length(a)))\n",
    "    }"
   ]
  },
  {
   "cell_type": "code",
   "execution_count": 55,
   "metadata": {},
   "outputs": [],
   "source": [
    "lista <- c(2011,2012,2013,2014,2015,2016,2017,2018,2019,2020,2021)\n",
    "\n",
    "output <- select(lista)"
   ]
  },
  {
   "cell_type": "code",
   "execution_count": 56,
   "metadata": {},
   "outputs": [
    {
     "data": {
      "text/html": [
       "<ol>\n",
       "\t<li>2011</li>\n",
       "\t<li>2021</li>\n",
       "\t<li>11</li>\n",
       "</ol>\n"
      ],
      "text/latex": [
       "\\begin{enumerate}\n",
       "\\item 2011\n",
       "\\item 2021\n",
       "\\item 11\n",
       "\\end{enumerate}\n"
      ],
      "text/markdown": [
       "1. 2011\n",
       "2. 2021\n",
       "3. 11\n",
       "\n",
       "\n"
      ],
      "text/plain": [
       "[[1]]\n",
       "[1] 2011\n",
       "\n",
       "[[2]]\n",
       "[1] 2021\n",
       "\n",
       "[[3]]\n",
       "[1] 11\n"
      ]
     },
     "metadata": {},
     "output_type": "display_data"
    }
   ],
   "source": [
    "output"
   ]
  },
  {
   "cell_type": "code",
   "execution_count": 168,
   "metadata": {},
   "outputs": [
    {
     "name": "stdout",
     "output_type": "stream",
     "text": [
      "first element: 2011 \n",
      " last_element: 2021 \n",
      " number of elements: 11"
     ]
    }
   ],
   "source": [
    "lista = c(2011,2012,2013,2014,2015,2016,2017,2018,2019,2020,2021)\n",
    "\n",
    "output = select(lista)\n",
    "\n",
    "f_element = output[[1]]\n",
    "l_element = output[[2]]\n",
    "num_element = output[[3]]\n",
    "\n",
    "cat('first element:', f_element,'\\n','last_element:', l_element,'\\n','number of elements:', num_element)"
   ]
  },
  {
   "cell_type": "markdown",
   "metadata": {},
   "source": [
    "### <a id='2.3'> 2.3 Conditional in function </a> \n"
   ]
  },
  {
   "cell_type": "code",
   "execution_count": 12,
   "metadata": {},
   "outputs": [],
   "source": [
    "lista <- 2000:2030\n",
    "\n",
    "calculator_square <- function( x, y ){\n",
    "    \n",
    "        results = x[y]\n",
    "    \n",
    "    if (1995 >= results){\n",
    "        \n",
    "        print( \"Year is before 1995\")\n",
    "    } else if ( 2005 >= results &&  results  > 1995){\n",
    "        \n",
    "        print( \"Year is after 1995\")\n",
    "        \n",
    "    } else if (  2022 >= results &&  results > 2005 ){\n",
    "        return(results)\n",
    "    } else {\n",
    "     \n",
    "       print( \"Future Year !!\")   \n",
    "        \n",
    "    }\n",
    "    \n",
    "}\n"
   ]
  },
  {
   "cell_type": "code",
   "execution_count": 13,
   "metadata": {},
   "outputs": [
    {
     "name": "stdout",
     "output_type": "stream",
     "text": [
      "[1] \"Year is after 1995\"\n"
     ]
    }
   ],
   "source": [
    "calculator_square(lista,4)"
   ]
  },
  {
   "cell_type": "code",
   "execution_count": 14,
   "metadata": {},
   "outputs": [
    {
     "name": "stdout",
     "output_type": "stream",
     "text": [
      "[1] \"Future Year !!\"\n"
     ]
    }
   ],
   "source": [
    "calculator_square(lista,length(lista))"
   ]
  },
  {
   "cell_type": "code",
   "execution_count": 15,
   "metadata": {},
   "outputs": [
    {
     "name": "stdout",
     "output_type": "stream",
     "text": [
      "[1] \"Year is after 1995\"\n"
     ]
    }
   ],
   "source": [
    "calculator_square(lista,2)"
   ]
  },
  {
   "cell_type": "code",
   "execution_count": null,
   "metadata": {},
   "outputs": [],
   "source": []
  },
  {
   "cell_type": "code",
   "execution_count": null,
   "metadata": {},
   "outputs": [],
   "source": []
  },
  {
   "cell_type": "code",
   "execution_count": null,
   "metadata": {},
   "outputs": [],
   "source": []
  },
  {
   "cell_type": "code",
   "execution_count": null,
   "metadata": {},
   "outputs": [],
   "source": []
  },
  {
   "cell_type": "code",
   "execution_count": null,
   "metadata": {},
   "outputs": [],
   "source": []
  },
  {
   "cell_type": "code",
   "execution_count": null,
   "metadata": {},
   "outputs": [],
   "source": []
  },
  {
   "cell_type": "code",
   "execution_count": null,
   "metadata": {},
   "outputs": [],
   "source": []
  },
  {
   "cell_type": "code",
   "execution_count": null,
   "metadata": {},
   "outputs": [],
   "source": []
  },
  {
   "cell_type": "code",
   "execution_count": null,
   "metadata": {},
   "outputs": [],
   "source": []
  },
  {
   "cell_type": "code",
   "execution_count": null,
   "metadata": {},
   "outputs": [],
   "source": []
  },
  {
   "cell_type": "code",
   "execution_count": null,
   "metadata": {},
   "outputs": [],
   "source": []
  },
  {
   "cell_type": "code",
   "execution_count": null,
   "metadata": {},
   "outputs": [],
   "source": []
  },
  {
   "cell_type": "code",
   "execution_count": null,
   "metadata": {},
   "outputs": [],
   "source": []
  },
  {
   "cell_type": "code",
   "execution_count": null,
   "metadata": {},
   "outputs": [],
   "source": []
  },
  {
   "cell_type": "code",
   "execution_count": null,
   "metadata": {},
   "outputs": [],
   "source": []
  }
 ],
 "metadata": {
  "kernelspec": {
   "display_name": "R",
   "language": "R",
   "name": "ir"
  },
  "language_info": {
   "codemirror_mode": "r",
   "file_extension": ".r",
   "mimetype": "text/x-r-source",
   "name": "R",
   "pygments_lexer": "r",
   "version": "4.2.0"
  }
 },
 "nbformat": 4,
 "nbformat_minor": 4
}
