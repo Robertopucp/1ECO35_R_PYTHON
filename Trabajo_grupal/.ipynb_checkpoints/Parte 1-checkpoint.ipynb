{
 "cells": [
  {
   "cell_type": "code",
   "execution_count": 1,
   "id": "c52976b3",
   "metadata": {},
   "outputs": [],
   "source": [
    "# import main packages\n",
    "\n",
    "import re\n",
    "import time\n",
    "\n",
    "from selenium import webdriver\n",
    "from selenium.webdriver.common.by import By\n",
    "from selenium.webdriver.common.keys import Keys\n",
    "from selenium.webdriver.support.ui import Select\n",
    "\n",
    "from webdriver_manager.chrome import ChromeDriverManager"
   ]
  },
  {
   "cell_type": "code",
   "execution_count": 2,
   "id": "2890a717",
   "metadata": {},
   "outputs": [
    {
     "name": "stdout",
     "output_type": "stream",
     "text": [
      "\n"
     ]
    },
    {
     "name": "stderr",
     "output_type": "stream",
     "text": [
      "[WDM] - ====== WebDriver manager ======\n",
      "[WDM] - Current google-chrome version is 103.0.5060\n",
      "[WDM] - Get LATEST chromedriver version for 103.0.5060 google-chrome\n",
      "[WDM] - Driver [C:\\Users\\PERSONAL\\.wdm\\drivers\\chromedriver\\win32\\103.0.5060.53\\chromedriver.exe] found in cache\n",
      "C:\\Users\\PERSONAL\\AppData\\Local\\Temp/ipykernel_9464/1993801135.py:1: DeprecationWarning: executable_path has been deprecated, please pass in a Service object\n",
      "  driver = webdriver.Chrome( ChromeDriverManager().install() )\n"
     ]
    }
   ],
   "source": [
    "driver = webdriver.Chrome( ChromeDriverManager().install() )\n",
    "url = \"https://www.sunedu.gob.pe/lista-universidades/\"\n",
    "driver.get( url )\n",
    "\n",
    "driver.maximize_window()"
   ]
  },
  {
   "cell_type": "code",
   "execution_count": 3,
   "id": "921f50df",
   "metadata": {},
   "outputs": [
    {
     "name": "stderr",
     "output_type": "stream",
     "text": [
      "C:\\Users\\PERSONAL\\AppData\\Local\\Temp/ipykernel_9464/1725902584.py:1: DeprecationWarning: find_element_by_xpath is deprecated. Please use find_element(by=By.XPATH, value=xpath) instead\n",
      "  driver = driver.find_element_by_xpath('//*[@id=\"fw_c\"]/div[1]/div/div/div/div[1]/ul/li[1]/a')\n"
     ]
    }
   ],
   "source": [
    "driver1 = driver.find_element_by_xpath('//*[@id=\"fw_c\"]/div[1]/div/div/div/div[1]/ul/li[1]/a')\n",
    "driver1.click()"
   ]
  },
  {
   "cell_type": "code",
   "execution_count": null,
   "id": "eaa0da49",
   "metadata": {},
   "outputs": [],
   "source": [
    "driver2 = driver.find_element_by_xpath('//*[@id=\"fw_c\"]/div[1]/div/div/div/div[1]/ul/li[2]/a')\n",
    "driver1.click()"
   ]
  },
  {
   "cell_type": "code",
   "execution_count": null,
   "id": "995d06e1",
   "metadata": {},
   "outputs": [],
   "source": []
  },
  {
   "cell_type": "code",
   "execution_count": null,
   "id": "e17fe7fe",
   "metadata": {},
   "outputs": [],
   "source": []
  }
 ],
 "metadata": {
  "kernelspec": {
   "display_name": "Python 3 (ipykernel)",
   "language": "python",
   "name": "python3"
  },
  "language_info": {
   "codemirror_mode": {
    "name": "ipython",
    "version": 3
   },
   "file_extension": ".py",
   "mimetype": "text/x-python",
   "name": "python",
   "nbconvert_exporter": "python",
   "pygments_lexer": "ipython3",
   "version": "3.9.7"
  }
 },
 "nbformat": 4,
 "nbformat_minor": 5
}
