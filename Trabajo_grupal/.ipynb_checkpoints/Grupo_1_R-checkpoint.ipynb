{
 "cells": [
  {
   "cell_type": "markdown",
   "id": "cc2cbfd5",
   "metadata": {},
   "source": [
    "### Trabajo grupal 5: Grupo 1"
   ]
  },
  {
   "cell_type": "code",
   "execution_count": null,
   "id": "348a8984",
   "metadata": {},
   "outputs": [],
   "source": [
    " #install.packages('readstata13')\n",
    "\n",
    "pacman::p_load(tidyverse, haven, dplyr, foreign,glue, devtools)\n",
    "\n",
    "library(readstata13)\n",
    "\n",
    "library(tidyr)  # RE for R\n",
    "#library(dplyr)\n",
    "#library(foreign)"
   ]
  },
  {
   "cell_type": "code",
   "execution_count": null,
   "id": "2c960986",
   "metadata": {},
   "outputs": [],
   "source": [
    "\n",
    "#Data ENAHO PANEL 2015-2019\n",
    "data1 <- read_dta(\"../../data/Juntos_program/data.dta\", encoding = \"latin1\")\n",
    "#Data Programa Juntos\n",
    "data2 <- read_dta(\"../../data/Juntos_program/unidos.dta\", encoding = \"latin1\")"
   ]
  },
  {
   "cell_type": "code",
   "execution_count": null,
   "id": "87960184",
   "metadata": {},
   "outputs": [],
   "source": [
    "names(data1)"
   ]
  },
  {
   "cell_type": "code",
   "execution_count": null,
   "id": "0bc50886",
   "metadata": {},
   "outputs": [],
   "source": [
    "head(data1)"
   ]
  },
  {
   "cell_type": "code",
   "execution_count": null,
   "id": "cffcad49",
   "metadata": {},
   "outputs": [],
   "source": [
    "head(data2)"
   ]
  },
  {
   "cell_type": "markdown",
   "id": "76dbf441",
   "metadata": {},
   "source": [
    "## DHS "
   ]
  },
  {
   "cell_type": "code",
   "execution_count": null,
   "id": "65d42f7d",
   "metadata": {},
   "outputs": [],
   "source": [
    "\n",
    "names <- names(data1)\n",
    "filter_list <- c()\n",
    "\n",
    "for (i in 1:length(names)){\n",
    "        w <-  gsub('[/_]','', names[i])\n",
    "        filter_list[i] <- w\n",
    "        print(w)    \n",
    "}"
   ]
  },
  {
   "cell_type": "code",
   "execution_count": null,
   "id": "fe823508",
   "metadata": {},
   "outputs": [],
   "source": [
    "names(data1) <- filter_list\n",
    "names(data1)"
   ]
  },
  {
   "cell_type": "code",
   "execution_count": null,
   "id": "957f2bfb",
   "metadata": {},
   "outputs": [],
   "source": [
    "#Creamos base de datos por año, Quitamos numeros a las variables y creamos variable year \n",
    "#respectivamente. \n",
    "year <- c(\"15\",\"16\",\"17\",\"18\",\"19\")\n",
    "\n",
    "for (i in 1:5){\n",
    "    temp <- names(data1)[grepl(year[i],names(data1))]\n",
    "    if (year[i]==\"15\"){\n",
    "        data_panel <- data1[c(\"numper\",temp)]\n",
    "        asd <- glue(\"{year[1]}$\")\n",
    "        names(data_panel) <- gsub(asd, '', names(data_panel))\n",
    "        data_panel$year <- glue(\"20{year[1]}\")\n",
    "    }\n",
    "    else{\n",
    "        data_temp <- data1[c(\"numper\",temp)]\n",
    "        asd <- glue(\"{year[i]}$\")\n",
    "        names(data_temp) <- gsub(asd, '', names(data_temp))\n",
    "        data_temp$year <- glue(\"20{year[i]}\")\n",
    "        data_panel <- rbind(data_panel, data_temp)\n",
    "    }\n",
    "    \n",
    "}"
   ]
  },
  {
   "cell_type": "code",
   "execution_count": null,
   "id": "d3eeac14",
   "metadata": {},
   "outputs": [],
   "source": [
    "\n",
    "#Data ENAHO (panel 2015-2019) LIMPIA.\n",
    "head(data_panel)"
   ]
  },
  {
   "cell_type": "markdown",
   "id": "e85b8529",
   "metadata": {},
   "source": [
    "## MERGE "
   ]
  },
  {
   "cell_type": "code",
   "execution_count": null,
   "id": "532af9f2",
   "metadata": {},
   "outputs": [],
   "source": [
    "#### Combinamos las bases de PANEL ENAHO y programa Juntos\n",
    "base_total <- merge( data_panel, data2, by = c(\"ubigeo\"), all.x = TRUE)"
   ]
  },
  {
   "cell_type": "code",
   "execution_count": null,
   "id": "d5f80fab",
   "metadata": {},
   "outputs": [],
   "source": [
    "\n",
    "head(base_total)"
   ]
  },
  {
   "cell_type": "code",
   "execution_count": null,
   "id": "987963f1",
   "metadata": {},
   "outputs": [],
   "source": []
  }
 ],
 "metadata": {
  "kernelspec": {
   "display_name": "R 4.0.2",
   "language": "R",
   "name": "ir"
  },
  "language_info": {
   "codemirror_mode": "r",
   "file_extension": ".r",
   "mimetype": "text/x-r-source",
   "name": "R",
   "pygments_lexer": "r",
   "version": "4.0.3"
  }
 },
 "nbformat": 4,
 "nbformat_minor": 5
}
