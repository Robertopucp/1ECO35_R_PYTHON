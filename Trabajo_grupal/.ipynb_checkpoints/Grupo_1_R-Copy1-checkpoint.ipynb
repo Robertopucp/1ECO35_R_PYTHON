{
 "cells": [
  {
   "cell_type": "markdown",
   "id": "cc2cbfd5",
   "metadata": {},
   "source": [
    "### Trabajo grupal 5: Grupo 1"
   ]
  },
  {
   "cell_type": "code",
   "execution_count": 2,
   "id": "8ef75eaf",
   "metadata": {
    "scrolled": true
   },
   "outputs": [
    {
     "name": "stderr",
     "output_type": "stream",
     "text": [
      "Installing package into 'C:/Users/Diego Rodriguez/Documents/R/win-library/4.0'\n",
      "(as 'lib' is unspecified)\n",
      "\n"
     ]
    },
    {
     "name": "stdout",
     "output_type": "stream",
     "text": [
      "package 'readstata13' successfully unpacked and MD5 sums checked\n",
      "\n",
      "The downloaded binary packages are in\n",
      "\tC:\\Users\\Diego Rodriguez\\AppData\\Local\\Temp\\RtmpmqUVze\\downloaded_packages\n"
     ]
    }
   ],
   "source": [
    "# install.packages('readstata13')"
   ]
  },
  {
   "cell_type": "code",
   "execution_count": 3,
   "id": "348a8984",
   "metadata": {},
   "outputs": [
    {
     "name": "stderr",
     "output_type": "stream",
     "text": [
      "Warning message:\n",
      "\"package 'readstata13' was built under R version 4.0.5\"\n"
     ]
    }
   ],
   "source": [
    "library(tidyverse)\n",
    "library(haven)\n",
    "library(foreign)\n",
    "library(readstata13)\n",
    "library(tidyr)  # RE for R\n",
    "#library(dplyr)\n",
    "#library(foreign)"
   ]
  },
  {
   "cell_type": "code",
   "execution_count": 5,
   "id": "2c960986",
   "metadata": {
    "scrolled": false
   },
   "outputs": [],
   "source": [
    "#Data ENAHO PANEL 2015-2019\n",
    "data1 <- read_dta(\"../data/Juntos_program/data.dta\", encoding = \"latin1\")\n",
    "#Data Programa Juntos\n",
    "data2 <- read_dta(\"../data/Juntos_program/unidos.dta\", encoding = \"latin1\")"
   ]
  },
  {
   "cell_type": "code",
   "execution_count": 6,
   "id": "87960184",
   "metadata": {
    "scrolled": true
   },
   "outputs": [
    {
     "data": {
      "text/html": [
       "<style>\n",
       ".list-inline {list-style: none; margin:0; padding: 0}\n",
       ".list-inline>li {display: inline-block}\n",
       ".list-inline>li:not(:last-child)::after {content: \"\\00b7\"; padding: 0 .5ex}\n",
       "</style>\n",
       "<ol class=list-inline><li>'numper'</li><li>'numpanh15'</li><li>'numpanh16'</li><li>'numpanh17'</li><li>'numpanh18'</li><li>'numpanh19'</li><li>'mes_15'</li><li>'ubigeo_15'</li><li>'dominio_15'</li><li>'p400a3_15'</li><li>'p4022_15'</li><li>'mes_16'</li><li>'ubigeo_16'</li><li>'dominio_16'</li><li>'p400a3_16'</li><li>'p4022_16'</li><li>'mes_17'</li><li>'ubigeo_17'</li><li>'dominio_17'</li><li>'p400a3_17'</li><li>'p4022_17'</li><li>'mes_18'</li><li>'ubigeo_18'</li><li>'dominio_18'</li><li>'p400a3_18'</li><li>'p4022_18'</li><li>'mes_19'</li><li>'ubigeo_19'</li><li>'dominio_19'</li><li>'p400a3_19'</li><li>'p4022_19'</li></ol>\n"
      ],
      "text/latex": [
       "\\begin{enumerate*}\n",
       "\\item 'numper'\n",
       "\\item 'numpanh15'\n",
       "\\item 'numpanh16'\n",
       "\\item 'numpanh17'\n",
       "\\item 'numpanh18'\n",
       "\\item 'numpanh19'\n",
       "\\item 'mes\\_15'\n",
       "\\item 'ubigeo\\_15'\n",
       "\\item 'dominio\\_15'\n",
       "\\item 'p400a3\\_15'\n",
       "\\item 'p4022\\_15'\n",
       "\\item 'mes\\_16'\n",
       "\\item 'ubigeo\\_16'\n",
       "\\item 'dominio\\_16'\n",
       "\\item 'p400a3\\_16'\n",
       "\\item 'p4022\\_16'\n",
       "\\item 'mes\\_17'\n",
       "\\item 'ubigeo\\_17'\n",
       "\\item 'dominio\\_17'\n",
       "\\item 'p400a3\\_17'\n",
       "\\item 'p4022\\_17'\n",
       "\\item 'mes\\_18'\n",
       "\\item 'ubigeo\\_18'\n",
       "\\item 'dominio\\_18'\n",
       "\\item 'p400a3\\_18'\n",
       "\\item 'p4022\\_18'\n",
       "\\item 'mes\\_19'\n",
       "\\item 'ubigeo\\_19'\n",
       "\\item 'dominio\\_19'\n",
       "\\item 'p400a3\\_19'\n",
       "\\item 'p4022\\_19'\n",
       "\\end{enumerate*}\n"
      ],
      "text/markdown": [
       "1. 'numper'\n",
       "2. 'numpanh15'\n",
       "3. 'numpanh16'\n",
       "4. 'numpanh17'\n",
       "5. 'numpanh18'\n",
       "6. 'numpanh19'\n",
       "7. 'mes_15'\n",
       "8. 'ubigeo_15'\n",
       "9. 'dominio_15'\n",
       "10. 'p400a3_15'\n",
       "11. 'p4022_15'\n",
       "12. 'mes_16'\n",
       "13. 'ubigeo_16'\n",
       "14. 'dominio_16'\n",
       "15. 'p400a3_16'\n",
       "16. 'p4022_16'\n",
       "17. 'mes_17'\n",
       "18. 'ubigeo_17'\n",
       "19. 'dominio_17'\n",
       "20. 'p400a3_17'\n",
       "21. 'p4022_17'\n",
       "22. 'mes_18'\n",
       "23. 'ubigeo_18'\n",
       "24. 'dominio_18'\n",
       "25. 'p400a3_18'\n",
       "26. 'p4022_18'\n",
       "27. 'mes_19'\n",
       "28. 'ubigeo_19'\n",
       "29. 'dominio_19'\n",
       "30. 'p400a3_19'\n",
       "31. 'p4022_19'\n",
       "\n",
       "\n"
      ],
      "text/plain": [
       " [1] \"numper\"     \"numpanh15\"  \"numpanh16\"  \"numpanh17\"  \"numpanh18\" \n",
       " [6] \"numpanh19\"  \"mes_15\"     \"ubigeo_15\"  \"dominio_15\" \"p400a3_15\" \n",
       "[11] \"p4022_15\"   \"mes_16\"     \"ubigeo_16\"  \"dominio_16\" \"p400a3_16\" \n",
       "[16] \"p4022_16\"   \"mes_17\"     \"ubigeo_17\"  \"dominio_17\" \"p400a3_17\" \n",
       "[21] \"p4022_17\"   \"mes_18\"     \"ubigeo_18\"  \"dominio_18\" \"p400a3_18\" \n",
       "[26] \"p4022_18\"   \"mes_19\"     \"ubigeo_19\"  \"dominio_19\" \"p400a3_19\" \n",
       "[31] \"p4022_19\"  "
      ]
     },
     "metadata": {},
     "output_type": "display_data"
    }
   ],
   "source": [
    "names(data1)"
   ]
  },
  {
   "cell_type": "code",
   "execution_count": 11,
   "id": "6d160d3f",
   "metadata": {},
   "outputs": [
    {
     "data": {
      "text/html": [
       "<style>\n",
       ".list-inline {list-style: none; margin:0; padding: 0}\n",
       ".list-inline>li {display: inline-block}\n",
       ".list-inline>li:not(:last-child)::after {content: \"\\00b7\"; padding: 0 .5ex}\n",
       "</style>\n",
       "<ol class=list-inline><li>'ubigeo'</li><li>'distrito'</li><li>'provincia'</li><li>'region'</li><li>'unidos'</li></ol>\n"
      ],
      "text/latex": [
       "\\begin{enumerate*}\n",
       "\\item 'ubigeo'\n",
       "\\item 'distrito'\n",
       "\\item 'provincia'\n",
       "\\item 'region'\n",
       "\\item 'unidos'\n",
       "\\end{enumerate*}\n"
      ],
      "text/markdown": [
       "1. 'ubigeo'\n",
       "2. 'distrito'\n",
       "3. 'provincia'\n",
       "4. 'region'\n",
       "5. 'unidos'\n",
       "\n",
       "\n"
      ],
      "text/plain": [
       "[1] \"ubigeo\"    \"distrito\"  \"provincia\" \"region\"    \"unidos\"   "
      ]
     },
     "metadata": {},
     "output_type": "display_data"
    }
   ],
   "source": [
    "names(data2)"
   ]
  },
  {
   "cell_type": "code",
   "execution_count": 14,
   "id": "0bc50886",
   "metadata": {
    "scrolled": true
   },
   "outputs": [
    {
     "ename": "ERROR",
     "evalue": "Error in parse(text = x, srcfile = src): <text>:1:1: inesperado '['\n1: [\n    ^\n",
     "output_type": "error",
     "traceback": [
      "Error in parse(text = x, srcfile = src): <text>:1:1: inesperado '['\n1: [\n    ^\nTraceback:\n"
     ]
    }
   ],
   "source": [
    "[data1]ubigeo)"
   ]
  },
  {
   "cell_type": "code",
   "execution_count": 9,
   "id": "cffcad49",
   "metadata": {
    "scrolled": true
   },
   "outputs": [
    {
     "data": {
      "text/html": [
       "<table class=\"dataframe\">\n",
       "<caption>A tibble: 1874 × 5</caption>\n",
       "<thead>\n",
       "\t<tr><th scope=col>ubigeo</th><th scope=col>distrito</th><th scope=col>provincia</th><th scope=col>region</th><th scope=col>unidos</th></tr>\n",
       "\t<tr><th scope=col>&lt;dbl&gt;</th><th scope=col>&lt;chr&gt;</th><th scope=col>&lt;chr&gt;</th><th scope=col>&lt;chr&gt;</th><th scope=col>&lt;dbl&gt;</th></tr>\n",
       "</thead>\n",
       "<tbody>\n",
       "\t<tr><td>10101</td><td>Chachapoyas            </td><td>Chachapoyas</td><td>Amazonas</td><td>1</td></tr>\n",
       "\t<tr><td>10102</td><td>Asuncion               </td><td>Chachapoyas</td><td>Amazonas</td><td>1</td></tr>\n",
       "\t<tr><td>10103</td><td>Balsas                 </td><td>Chachapoyas</td><td>Amazonas</td><td>0</td></tr>\n",
       "\t<tr><td>10104</td><td>Cheto                  </td><td>Chachapoyas</td><td>Amazonas</td><td>1</td></tr>\n",
       "\t<tr><td>10105</td><td>Chiliquin              </td><td>Chachapoyas</td><td>Amazonas</td><td>0</td></tr>\n",
       "\t<tr><td>10106</td><td>Chuquibamba            </td><td>Chachapoyas</td><td>Amazonas</td><td>1</td></tr>\n",
       "\t<tr><td>10107</td><td>Granada                </td><td>Chachapoyas</td><td>Amazonas</td><td>0</td></tr>\n",
       "\t<tr><td>10108</td><td>Huancas                </td><td>Chachapoyas</td><td>Amazonas</td><td>1</td></tr>\n",
       "\t<tr><td>10109</td><td>La Jalca               </td><td>Chachapoyas</td><td>Amazonas</td><td>0</td></tr>\n",
       "\t<tr><td>10110</td><td>Leimebamba             </td><td>Chachapoyas</td><td>Amazonas</td><td>0</td></tr>\n",
       "\t<tr><td>10111</td><td>Levanto                </td><td>Chachapoyas</td><td>Amazonas</td><td>0</td></tr>\n",
       "\t<tr><td>10112</td><td>Magdalena              </td><td>Chachapoyas</td><td>Amazonas</td><td>1</td></tr>\n",
       "\t<tr><td>10113</td><td>Mariscal Castilla      </td><td>Chachapoyas</td><td>Amazonas</td><td>0</td></tr>\n",
       "\t<tr><td>10114</td><td>Molinopampa            </td><td>Chachapoyas</td><td>Amazonas</td><td>0</td></tr>\n",
       "\t<tr><td>10115</td><td>Montevideo             </td><td>Chachapoyas</td><td>Amazonas</td><td>1</td></tr>\n",
       "\t<tr><td>10116</td><td>Olleros                </td><td>Chachapoyas</td><td>Amazonas</td><td>1</td></tr>\n",
       "\t<tr><td>10117</td><td>Quinjalca              </td><td>Chachapoyas</td><td>Amazonas</td><td>1</td></tr>\n",
       "\t<tr><td>10118</td><td>San Francisco de Daguas</td><td>Chachapoyas</td><td>Amazonas</td><td>0</td></tr>\n",
       "\t<tr><td>10119</td><td>San Isidro de Maino    </td><td>Chachapoyas</td><td>Amazonas</td><td>0</td></tr>\n",
       "\t<tr><td>10120</td><td>Soloco                 </td><td>Chachapoyas</td><td>Amazonas</td><td>1</td></tr>\n",
       "\t<tr><td>10121</td><td>Sonche                 </td><td>Chachapoyas</td><td>Amazonas</td><td>1</td></tr>\n",
       "\t<tr><td>10201</td><td>Bagua                  </td><td>Bagua      </td><td>Amazonas</td><td>1</td></tr>\n",
       "\t<tr><td>10202</td><td>Aramango               </td><td>Bagua      </td><td>Amazonas</td><td>1</td></tr>\n",
       "\t<tr><td>10203</td><td>Copallin               </td><td>Bagua      </td><td>Amazonas</td><td>0</td></tr>\n",
       "\t<tr><td>10204</td><td>El Parco               </td><td>Bagua      </td><td>Amazonas</td><td>0</td></tr>\n",
       "\t<tr><td>10205</td><td>Imaza                  </td><td>Bagua      </td><td>Amazonas</td><td>0</td></tr>\n",
       "\t<tr><td>10206</td><td>La Peca                </td><td>Bagua      </td><td>Amazonas</td><td>0</td></tr>\n",
       "\t<tr><td>10301</td><td>Jumbilla               </td><td>Bongara    </td><td>Amazonas</td><td>0</td></tr>\n",
       "\t<tr><td>10302</td><td>Chisquilla             </td><td>Bongara    </td><td>Amazonas</td><td>0</td></tr>\n",
       "\t<tr><td>10303</td><td>Churuja                </td><td>Bongara    </td><td>Amazonas</td><td>1</td></tr>\n",
       "\t<tr><td>...</td><td>...</td><td>...</td><td>...</td><td>...</td></tr>\n",
       "\t<tr><td>240101</td><td>Tumbes                </td><td>Tumbes              </td><td>Tumbes </td><td>0</td></tr>\n",
       "\t<tr><td>240102</td><td>Corrales              </td><td>Tumbes              </td><td>Tumbes </td><td>0</td></tr>\n",
       "\t<tr><td>240103</td><td>La Cruz               </td><td>Tumbes              </td><td>Tumbes </td><td>0</td></tr>\n",
       "\t<tr><td>240104</td><td>Pampas de Hospital    </td><td>Tumbes              </td><td>Tumbes </td><td>1</td></tr>\n",
       "\t<tr><td>240105</td><td>San Jacinto           </td><td>Tumbes              </td><td>Tumbes </td><td>0</td></tr>\n",
       "\t<tr><td>240106</td><td>San Juan de La Virgen </td><td>Tumbes              </td><td>Tumbes </td><td>1</td></tr>\n",
       "\t<tr><td>240201</td><td>Zorritos              </td><td>Contralmirante Villa</td><td>Tumbes </td><td>1</td></tr>\n",
       "\t<tr><td>240202</td><td>Casitas               </td><td>Contralmirante Villa</td><td>Tumbes </td><td>0</td></tr>\n",
       "\t<tr><td>240203</td><td>Canoas de Punta Sal   </td><td>Contralmirante Villa</td><td>Tumbes </td><td>1</td></tr>\n",
       "\t<tr><td>240301</td><td>Zarumilla             </td><td>Zarumilla           </td><td>Tumbes </td><td>0</td></tr>\n",
       "\t<tr><td>240302</td><td>Aguas Verdes          </td><td>Zarumilla           </td><td>Tumbes </td><td>1</td></tr>\n",
       "\t<tr><td>240303</td><td>Matapalo              </td><td>Zarumilla           </td><td>Tumbes </td><td>0</td></tr>\n",
       "\t<tr><td>240304</td><td>Papayal               </td><td>Zarumilla           </td><td>Tumbes </td><td>1</td></tr>\n",
       "\t<tr><td>250101</td><td>Calleria              </td><td>Coronel Portillo    </td><td>Ucayali</td><td>0</td></tr>\n",
       "\t<tr><td>250102</td><td>Campoverde            </td><td>Coronel Portillo    </td><td>Ucayali</td><td>0</td></tr>\n",
       "\t<tr><td>250103</td><td>Iparia                </td><td>Coronel Portillo    </td><td>Ucayali</td><td>0</td></tr>\n",
       "\t<tr><td>250104</td><td>Masisea               </td><td>Coronel Portillo    </td><td>Ucayali</td><td>1</td></tr>\n",
       "\t<tr><td>250105</td><td>Yarinacocha           </td><td>Coronel Portillo    </td><td>Ucayali</td><td>1</td></tr>\n",
       "\t<tr><td>250106</td><td>Nueva Requena         </td><td>Coronel Portillo    </td><td>Ucayali</td><td>1</td></tr>\n",
       "\t<tr><td>250107</td><td>Manantay              </td><td>Coronel Portillo    </td><td>Ucayali</td><td>1</td></tr>\n",
       "\t<tr><td>250201</td><td>Raymondi              </td><td>Atalaya             </td><td>Ucayali</td><td>1</td></tr>\n",
       "\t<tr><td>250202</td><td>Sepahua               </td><td>Atalaya             </td><td>Ucayali</td><td>1</td></tr>\n",
       "\t<tr><td>250203</td><td>Tahuania              </td><td>Atalaya             </td><td>Ucayali</td><td>0</td></tr>\n",
       "\t<tr><td>250204</td><td>Yurua                 </td><td>Atalaya             </td><td>Ucayali</td><td>1</td></tr>\n",
       "\t<tr><td>250301</td><td>Padre Abad            </td><td>Padre Abad          </td><td>Ucayali</td><td>0</td></tr>\n",
       "\t<tr><td>250302</td><td>Irazola               </td><td>Padre Abad          </td><td>Ucayali</td><td>0</td></tr>\n",
       "\t<tr><td>250303</td><td>Curimana              </td><td>Padre Abad          </td><td>Ucayali</td><td>0</td></tr>\n",
       "\t<tr><td>250304</td><td>Neshuya               </td><td>Padre Abad          </td><td>Ucayali</td><td>0</td></tr>\n",
       "\t<tr><td>250305</td><td>Alexander von Humboldt</td><td>Padre Abad          </td><td>Ucayali</td><td>0</td></tr>\n",
       "\t<tr><td>250401</td><td>Purus                 </td><td>Purus               </td><td>Ucayali</td><td>1</td></tr>\n",
       "</tbody>\n",
       "</table>\n"
      ],
      "text/latex": [
       "A tibble: 1874 × 5\n",
       "\\begin{tabular}{lllll}\n",
       " ubigeo & distrito & provincia & region & unidos\\\\\n",
       " <dbl> & <chr> & <chr> & <chr> & <dbl>\\\\\n",
       "\\hline\n",
       "\t 10101 & Chachapoyas             & Chachapoyas & Amazonas & 1\\\\\n",
       "\t 10102 & Asuncion                & Chachapoyas & Amazonas & 1\\\\\n",
       "\t 10103 & Balsas                  & Chachapoyas & Amazonas & 0\\\\\n",
       "\t 10104 & Cheto                   & Chachapoyas & Amazonas & 1\\\\\n",
       "\t 10105 & Chiliquin               & Chachapoyas & Amazonas & 0\\\\\n",
       "\t 10106 & Chuquibamba             & Chachapoyas & Amazonas & 1\\\\\n",
       "\t 10107 & Granada                 & Chachapoyas & Amazonas & 0\\\\\n",
       "\t 10108 & Huancas                 & Chachapoyas & Amazonas & 1\\\\\n",
       "\t 10109 & La Jalca                & Chachapoyas & Amazonas & 0\\\\\n",
       "\t 10110 & Leimebamba              & Chachapoyas & Amazonas & 0\\\\\n",
       "\t 10111 & Levanto                 & Chachapoyas & Amazonas & 0\\\\\n",
       "\t 10112 & Magdalena               & Chachapoyas & Amazonas & 1\\\\\n",
       "\t 10113 & Mariscal Castilla       & Chachapoyas & Amazonas & 0\\\\\n",
       "\t 10114 & Molinopampa             & Chachapoyas & Amazonas & 0\\\\\n",
       "\t 10115 & Montevideo              & Chachapoyas & Amazonas & 1\\\\\n",
       "\t 10116 & Olleros                 & Chachapoyas & Amazonas & 1\\\\\n",
       "\t 10117 & Quinjalca               & Chachapoyas & Amazonas & 1\\\\\n",
       "\t 10118 & San Francisco de Daguas & Chachapoyas & Amazonas & 0\\\\\n",
       "\t 10119 & San Isidro de Maino     & Chachapoyas & Amazonas & 0\\\\\n",
       "\t 10120 & Soloco                  & Chachapoyas & Amazonas & 1\\\\\n",
       "\t 10121 & Sonche                  & Chachapoyas & Amazonas & 1\\\\\n",
       "\t 10201 & Bagua                   & Bagua       & Amazonas & 1\\\\\n",
       "\t 10202 & Aramango                & Bagua       & Amazonas & 1\\\\\n",
       "\t 10203 & Copallin                & Bagua       & Amazonas & 0\\\\\n",
       "\t 10204 & El Parco                & Bagua       & Amazonas & 0\\\\\n",
       "\t 10205 & Imaza                   & Bagua       & Amazonas & 0\\\\\n",
       "\t 10206 & La Peca                 & Bagua       & Amazonas & 0\\\\\n",
       "\t 10301 & Jumbilla                & Bongara     & Amazonas & 0\\\\\n",
       "\t 10302 & Chisquilla              & Bongara     & Amazonas & 0\\\\\n",
       "\t 10303 & Churuja                 & Bongara     & Amazonas & 1\\\\\n",
       "\t ... & ... & ... & ... & ...\\\\\n",
       "\t 240101 & Tumbes                 & Tumbes               & Tumbes  & 0\\\\\n",
       "\t 240102 & Corrales               & Tumbes               & Tumbes  & 0\\\\\n",
       "\t 240103 & La Cruz                & Tumbes               & Tumbes  & 0\\\\\n",
       "\t 240104 & Pampas de Hospital     & Tumbes               & Tumbes  & 1\\\\\n",
       "\t 240105 & San Jacinto            & Tumbes               & Tumbes  & 0\\\\\n",
       "\t 240106 & San Juan de La Virgen  & Tumbes               & Tumbes  & 1\\\\\n",
       "\t 240201 & Zorritos               & Contralmirante Villa & Tumbes  & 1\\\\\n",
       "\t 240202 & Casitas                & Contralmirante Villa & Tumbes  & 0\\\\\n",
       "\t 240203 & Canoas de Punta Sal    & Contralmirante Villa & Tumbes  & 1\\\\\n",
       "\t 240301 & Zarumilla              & Zarumilla            & Tumbes  & 0\\\\\n",
       "\t 240302 & Aguas Verdes           & Zarumilla            & Tumbes  & 1\\\\\n",
       "\t 240303 & Matapalo               & Zarumilla            & Tumbes  & 0\\\\\n",
       "\t 240304 & Papayal                & Zarumilla            & Tumbes  & 1\\\\\n",
       "\t 250101 & Calleria               & Coronel Portillo     & Ucayali & 0\\\\\n",
       "\t 250102 & Campoverde             & Coronel Portillo     & Ucayali & 0\\\\\n",
       "\t 250103 & Iparia                 & Coronel Portillo     & Ucayali & 0\\\\\n",
       "\t 250104 & Masisea                & Coronel Portillo     & Ucayali & 1\\\\\n",
       "\t 250105 & Yarinacocha            & Coronel Portillo     & Ucayali & 1\\\\\n",
       "\t 250106 & Nueva Requena          & Coronel Portillo     & Ucayali & 1\\\\\n",
       "\t 250107 & Manantay               & Coronel Portillo     & Ucayali & 1\\\\\n",
       "\t 250201 & Raymondi               & Atalaya              & Ucayali & 1\\\\\n",
       "\t 250202 & Sepahua                & Atalaya              & Ucayali & 1\\\\\n",
       "\t 250203 & Tahuania               & Atalaya              & Ucayali & 0\\\\\n",
       "\t 250204 & Yurua                  & Atalaya              & Ucayali & 1\\\\\n",
       "\t 250301 & Padre Abad             & Padre Abad           & Ucayali & 0\\\\\n",
       "\t 250302 & Irazola                & Padre Abad           & Ucayali & 0\\\\\n",
       "\t 250303 & Curimana               & Padre Abad           & Ucayali & 0\\\\\n",
       "\t 250304 & Neshuya                & Padre Abad           & Ucayali & 0\\\\\n",
       "\t 250305 & Alexander von Humboldt & Padre Abad           & Ucayali & 0\\\\\n",
       "\t 250401 & Purus                  & Purus                & Ucayali & 1\\\\\n",
       "\\end{tabular}\n"
      ],
      "text/markdown": [
       "\n",
       "A tibble: 1874 × 5\n",
       "\n",
       "| ubigeo &lt;dbl&gt; | distrito &lt;chr&gt; | provincia &lt;chr&gt; | region &lt;chr&gt; | unidos &lt;dbl&gt; |\n",
       "|---|---|---|---|---|\n",
       "| 10101 | Chachapoyas             | Chachapoyas | Amazonas | 1 |\n",
       "| 10102 | Asuncion                | Chachapoyas | Amazonas | 1 |\n",
       "| 10103 | Balsas                  | Chachapoyas | Amazonas | 0 |\n",
       "| 10104 | Cheto                   | Chachapoyas | Amazonas | 1 |\n",
       "| 10105 | Chiliquin               | Chachapoyas | Amazonas | 0 |\n",
       "| 10106 | Chuquibamba             | Chachapoyas | Amazonas | 1 |\n",
       "| 10107 | Granada                 | Chachapoyas | Amazonas | 0 |\n",
       "| 10108 | Huancas                 | Chachapoyas | Amazonas | 1 |\n",
       "| 10109 | La Jalca                | Chachapoyas | Amazonas | 0 |\n",
       "| 10110 | Leimebamba              | Chachapoyas | Amazonas | 0 |\n",
       "| 10111 | Levanto                 | Chachapoyas | Amazonas | 0 |\n",
       "| 10112 | Magdalena               | Chachapoyas | Amazonas | 1 |\n",
       "| 10113 | Mariscal Castilla       | Chachapoyas | Amazonas | 0 |\n",
       "| 10114 | Molinopampa             | Chachapoyas | Amazonas | 0 |\n",
       "| 10115 | Montevideo              | Chachapoyas | Amazonas | 1 |\n",
       "| 10116 | Olleros                 | Chachapoyas | Amazonas | 1 |\n",
       "| 10117 | Quinjalca               | Chachapoyas | Amazonas | 1 |\n",
       "| 10118 | San Francisco de Daguas | Chachapoyas | Amazonas | 0 |\n",
       "| 10119 | San Isidro de Maino     | Chachapoyas | Amazonas | 0 |\n",
       "| 10120 | Soloco                  | Chachapoyas | Amazonas | 1 |\n",
       "| 10121 | Sonche                  | Chachapoyas | Amazonas | 1 |\n",
       "| 10201 | Bagua                   | Bagua       | Amazonas | 1 |\n",
       "| 10202 | Aramango                | Bagua       | Amazonas | 1 |\n",
       "| 10203 | Copallin                | Bagua       | Amazonas | 0 |\n",
       "| 10204 | El Parco                | Bagua       | Amazonas | 0 |\n",
       "| 10205 | Imaza                   | Bagua       | Amazonas | 0 |\n",
       "| 10206 | La Peca                 | Bagua       | Amazonas | 0 |\n",
       "| 10301 | Jumbilla                | Bongara     | Amazonas | 0 |\n",
       "| 10302 | Chisquilla              | Bongara     | Amazonas | 0 |\n",
       "| 10303 | Churuja                 | Bongara     | Amazonas | 1 |\n",
       "| ... | ... | ... | ... | ... |\n",
       "| 240101 | Tumbes                 | Tumbes               | Tumbes  | 0 |\n",
       "| 240102 | Corrales               | Tumbes               | Tumbes  | 0 |\n",
       "| 240103 | La Cruz                | Tumbes               | Tumbes  | 0 |\n",
       "| 240104 | Pampas de Hospital     | Tumbes               | Tumbes  | 1 |\n",
       "| 240105 | San Jacinto            | Tumbes               | Tumbes  | 0 |\n",
       "| 240106 | San Juan de La Virgen  | Tumbes               | Tumbes  | 1 |\n",
       "| 240201 | Zorritos               | Contralmirante Villa | Tumbes  | 1 |\n",
       "| 240202 | Casitas                | Contralmirante Villa | Tumbes  | 0 |\n",
       "| 240203 | Canoas de Punta Sal    | Contralmirante Villa | Tumbes  | 1 |\n",
       "| 240301 | Zarumilla              | Zarumilla            | Tumbes  | 0 |\n",
       "| 240302 | Aguas Verdes           | Zarumilla            | Tumbes  | 1 |\n",
       "| 240303 | Matapalo               | Zarumilla            | Tumbes  | 0 |\n",
       "| 240304 | Papayal                | Zarumilla            | Tumbes  | 1 |\n",
       "| 250101 | Calleria               | Coronel Portillo     | Ucayali | 0 |\n",
       "| 250102 | Campoverde             | Coronel Portillo     | Ucayali | 0 |\n",
       "| 250103 | Iparia                 | Coronel Portillo     | Ucayali | 0 |\n",
       "| 250104 | Masisea                | Coronel Portillo     | Ucayali | 1 |\n",
       "| 250105 | Yarinacocha            | Coronel Portillo     | Ucayali | 1 |\n",
       "| 250106 | Nueva Requena          | Coronel Portillo     | Ucayali | 1 |\n",
       "| 250107 | Manantay               | Coronel Portillo     | Ucayali | 1 |\n",
       "| 250201 | Raymondi               | Atalaya              | Ucayali | 1 |\n",
       "| 250202 | Sepahua                | Atalaya              | Ucayali | 1 |\n",
       "| 250203 | Tahuania               | Atalaya              | Ucayali | 0 |\n",
       "| 250204 | Yurua                  | Atalaya              | Ucayali | 1 |\n",
       "| 250301 | Padre Abad             | Padre Abad           | Ucayali | 0 |\n",
       "| 250302 | Irazola                | Padre Abad           | Ucayali | 0 |\n",
       "| 250303 | Curimana               | Padre Abad           | Ucayali | 0 |\n",
       "| 250304 | Neshuya                | Padre Abad           | Ucayali | 0 |\n",
       "| 250305 | Alexander von Humboldt | Padre Abad           | Ucayali | 0 |\n",
       "| 250401 | Purus                  | Purus                | Ucayali | 1 |\n",
       "\n"
      ],
      "text/plain": [
       "     ubigeo distrito                provincia            region   unidos\n",
       "1    10101  Chachapoyas             Chachapoyas          Amazonas 1     \n",
       "2    10102  Asuncion                Chachapoyas          Amazonas 1     \n",
       "3    10103  Balsas                  Chachapoyas          Amazonas 0     \n",
       "4    10104  Cheto                   Chachapoyas          Amazonas 1     \n",
       "5    10105  Chiliquin               Chachapoyas          Amazonas 0     \n",
       "6    10106  Chuquibamba             Chachapoyas          Amazonas 1     \n",
       "7    10107  Granada                 Chachapoyas          Amazonas 0     \n",
       "8    10108  Huancas                 Chachapoyas          Amazonas 1     \n",
       "9    10109  La Jalca                Chachapoyas          Amazonas 0     \n",
       "10   10110  Leimebamba              Chachapoyas          Amazonas 0     \n",
       "11   10111  Levanto                 Chachapoyas          Amazonas 0     \n",
       "12   10112  Magdalena               Chachapoyas          Amazonas 1     \n",
       "13   10113  Mariscal Castilla       Chachapoyas          Amazonas 0     \n",
       "14   10114  Molinopampa             Chachapoyas          Amazonas 0     \n",
       "15   10115  Montevideo              Chachapoyas          Amazonas 1     \n",
       "16   10116  Olleros                 Chachapoyas          Amazonas 1     \n",
       "17   10117  Quinjalca               Chachapoyas          Amazonas 1     \n",
       "18   10118  San Francisco de Daguas Chachapoyas          Amazonas 0     \n",
       "19   10119  San Isidro de Maino     Chachapoyas          Amazonas 0     \n",
       "20   10120  Soloco                  Chachapoyas          Amazonas 1     \n",
       "21   10121  Sonche                  Chachapoyas          Amazonas 1     \n",
       "22   10201  Bagua                   Bagua                Amazonas 1     \n",
       "23   10202  Aramango                Bagua                Amazonas 1     \n",
       "24   10203  Copallin                Bagua                Amazonas 0     \n",
       "25   10204  El Parco                Bagua                Amazonas 0     \n",
       "26   10205  Imaza                   Bagua                Amazonas 0     \n",
       "27   10206  La Peca                 Bagua                Amazonas 0     \n",
       "28   10301  Jumbilla                Bongara              Amazonas 0     \n",
       "29   10302  Chisquilla              Bongara              Amazonas 0     \n",
       "30   10303  Churuja                 Bongara              Amazonas 1     \n",
       "...  ...    ...                     ...                  ...      ...   \n",
       "1845 240101 Tumbes                  Tumbes               Tumbes   0     \n",
       "1846 240102 Corrales                Tumbes               Tumbes   0     \n",
       "1847 240103 La Cruz                 Tumbes               Tumbes   0     \n",
       "1848 240104 Pampas de Hospital      Tumbes               Tumbes   1     \n",
       "1849 240105 San Jacinto             Tumbes               Tumbes   0     \n",
       "1850 240106 San Juan de La Virgen   Tumbes               Tumbes   1     \n",
       "1851 240201 Zorritos                Contralmirante Villa Tumbes   1     \n",
       "1852 240202 Casitas                 Contralmirante Villa Tumbes   0     \n",
       "1853 240203 Canoas de Punta Sal     Contralmirante Villa Tumbes   1     \n",
       "1854 240301 Zarumilla               Zarumilla            Tumbes   0     \n",
       "1855 240302 Aguas Verdes            Zarumilla            Tumbes   1     \n",
       "1856 240303 Matapalo                Zarumilla            Tumbes   0     \n",
       "1857 240304 Papayal                 Zarumilla            Tumbes   1     \n",
       "1858 250101 Calleria                Coronel Portillo     Ucayali  0     \n",
       "1859 250102 Campoverde              Coronel Portillo     Ucayali  0     \n",
       "1860 250103 Iparia                  Coronel Portillo     Ucayali  0     \n",
       "1861 250104 Masisea                 Coronel Portillo     Ucayali  1     \n",
       "1862 250105 Yarinacocha             Coronel Portillo     Ucayali  1     \n",
       "1863 250106 Nueva Requena           Coronel Portillo     Ucayali  1     \n",
       "1864 250107 Manantay                Coronel Portillo     Ucayali  1     \n",
       "1865 250201 Raymondi                Atalaya              Ucayali  1     \n",
       "1866 250202 Sepahua                 Atalaya              Ucayali  1     \n",
       "1867 250203 Tahuania                Atalaya              Ucayali  0     \n",
       "1868 250204 Yurua                   Atalaya              Ucayali  1     \n",
       "1869 250301 Padre Abad              Padre Abad           Ucayali  0     \n",
       "1870 250302 Irazola                 Padre Abad           Ucayali  0     \n",
       "1871 250303 Curimana                Padre Abad           Ucayali  0     \n",
       "1872 250304 Neshuya                 Padre Abad           Ucayali  0     \n",
       "1873 250305 Alexander von Humboldt  Padre Abad           Ucayali  0     \n",
       "1874 250401 Purus                   Purus                Ucayali  1     "
      ]
     },
     "metadata": {},
     "output_type": "display_data"
    }
   ],
   "source": [
    "data2"
   ]
  },
  {
   "cell_type": "markdown",
   "id": "76dbf441",
   "metadata": {},
   "source": [
    "## DHS "
   ]
  },
  {
   "cell_type": "code",
   "execution_count": null,
   "id": "65d42f7d",
   "metadata": {},
   "outputs": [],
   "source": [
    "\n",
    "names <- names(data1)\n",
    "filter_list <- c()\n",
    "\n",
    "for (i in 1:length(names)){\n",
    "        w <-  gsub('[/_]','', names[i])\n",
    "        filter_list[i] <- w\n",
    "        print(w)    \n",
    "}"
   ]
  },
  {
   "cell_type": "code",
   "execution_count": null,
   "id": "fe823508",
   "metadata": {},
   "outputs": [],
   "source": [
    "names(data1) <- filter_list\n",
    "names(data1)"
   ]
  },
  {
   "cell_type": "code",
   "execution_count": null,
   "id": "957f2bfb",
   "metadata": {},
   "outputs": [],
   "source": [
    "#Creamos base de datos por año, Quitamos numeros a las variables y creamos variable year \n",
    "#respectivamente. \n",
    "year <- c(\"15\",\"16\",\"17\",\"18\",\"19\")\n",
    "\n",
    "for (i in 1:5){\n",
    "    temp <- names(data1)[grepl(year[i],names(data1))]\n",
    "    if (year[i]==\"15\"){\n",
    "        data_panel <- data1[c(\"numper\",temp)]\n",
    "        asd <- glue(\"{year[1]}$\")\n",
    "        names(data_panel) <- gsub(asd, '', names(data_panel))\n",
    "        data_panel$year <- glue(\"20{year[1]}\")\n",
    "    }\n",
    "    else{\n",
    "        data_temp <- data1[c(\"numper\",temp)]\n",
    "        asd <- glue(\"{year[i]}$\")\n",
    "        names(data_temp) <- gsub(asd, '', names(data_temp))\n",
    "        data_temp$year <- glue(\"20{year[i]}\")\n",
    "        data_panel <- rbind(data_panel, data_temp)\n",
    "    }\n",
    "    \n",
    "}"
   ]
  },
  {
   "cell_type": "code",
   "execution_count": null,
   "id": "d3eeac14",
   "metadata": {},
   "outputs": [],
   "source": [
    "\n",
    "#Data ENAHO (panel 2015-2019) LIMPIA.\n",
    "head(data_panel)"
   ]
  },
  {
   "cell_type": "markdown",
   "id": "e85b8529",
   "metadata": {},
   "source": [
    "## MERGE "
   ]
  },
  {
   "cell_type": "code",
   "execution_count": null,
   "id": "532af9f2",
   "metadata": {},
   "outputs": [],
   "source": [
    "#### Combinamos las bases de PANEL ENAHO y programa Juntos\n",
    "base_total <- merge( data_panel, data2, by = c(\"ubigeo\"), all.x = TRUE)"
   ]
  },
  {
   "cell_type": "code",
   "execution_count": null,
   "id": "d5f80fab",
   "metadata": {},
   "outputs": [],
   "source": [
    "\n",
    "head(base_total)"
   ]
  },
  {
   "cell_type": "code",
   "execution_count": null,
   "id": "987963f1",
   "metadata": {},
   "outputs": [],
   "source": []
  }
 ],
 "metadata": {
  "kernelspec": {
   "display_name": "R 4.0.2",
   "language": "R",
   "name": "ir"
  },
  "language_info": {
   "codemirror_mode": "r",
   "file_extension": ".r",
   "mimetype": "text/x-r-source",
   "name": "R",
   "pygments_lexer": "r",
   "version": "4.0.3"
  }
 },
 "nbformat": 4,
 "nbformat_minor": 5
}
