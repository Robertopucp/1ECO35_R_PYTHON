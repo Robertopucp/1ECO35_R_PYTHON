{
 "cells": [
  {
   "cell_type": "markdown",
   "id": "148caed1",
   "metadata": {},
   "source": [
    "## Geopandas"
   ]
  },
  {
   "cell_type": "markdown",
   "id": "d3daac37",
   "metadata": {},
   "source": [
    "#### Ubicar las universidades en un mapa del Perú. Para ello, crear un mapa con las universidades públicas y distinga entre aquellas que recibieron licenciamiento o no. Luego, crear otro mapa con la misma información pero en el caso de universidades privadas."
   ]
  },
  {
   "cell_type": "code",
   "execution_count": 15,
   "id": "10c93c19",
   "metadata": {},
   "outputs": [],
   "source": [
    "import matplotlib.pyplot as plt \n",
    "import chardet\n",
    "import geopandas as gpd\n",
    "from geopandas import GeoSeries\n",
    "from shapely.geometry import Point, LineString\n",
    "\n",
    "\n",
    "import folium\n",
    "from folium import Marker, GeoJson\n",
    "from folium.plugins import MarkerCluster, HeatMap\n",
    "\n",
    "import pandas as pd\n",
    "import numpy as np\n",
    "import html5lib\n",
    "import os\n",
    "import sys\n",
    "import time\n",
    "import lxml\n"
   ]
  },
  {
   "cell_type": "code",
   "execution_count": null,
   "id": "53a305c6",
   "metadata": {},
   "outputs": [],
   "source": [
    "datos = pd.read_excel(r\"../../Entrega_TF/Grupo1/Universidades_Grupo1.xlsx\")\n",
    "datos"
   ]
  },
  {
   "cell_type": "code",
   "execution_count": null,
   "id": "da704eb7",
   "metadata": {},
   "outputs": [],
   "source": [
    "datos1 = gpd.GeoDataFrame(datos, geometry=gpd.points_from_xy( base.lat, base.lng ) )\n",
    "datos1.head()"
   ]
  },
  {
   "cell_type": "code",
   "execution_count": null,
   "id": "ff1f5120",
   "metadata": {},
   "outputs": [],
   "source": [
    "datos_publica = datos1[ datos1.Tipo == 0]\n",
    "datos_privada = datos1[ datos1.Tipo == 1]"
   ]
  },
  {
   "cell_type": "code",
   "execution_count": null,
   "id": "7238a7e6",
   "metadata": {},
   "outputs": [],
   "source": [
    "lice_publica = datos_publica[ datos_publica.licenciamiento == 1]\n",
    "nlice_publica = datos_publica[ datos_publica.licenciamiento == 0]\n",
    "lice_privada = datos_privada[ datos_privada.licenciamiento == 1]\n",
    "nlice_privada = datos_privada[ datos_privada.licenciamiento == 0]"
   ]
  },
  {
   "cell_type": "code",
   "execution_count": null,
   "id": "d0eefcce",
   "metadata": {},
   "outputs": [],
   "source": [
    "mapa = gpd.read_file(r'../../Entrega_TF/Grupo1/shape_file/DISTRITOS.shp')\n",
    "mapa"
   ]
  },
  {
   "cell_type": "code",
   "execution_count": null,
   "id": "cb8aa373",
   "metadata": {},
   "outputs": [],
   "source": []
  },
  {
   "cell_type": "code",
   "execution_count": null,
   "id": "7288b7eb",
   "metadata": {},
   "outputs": [],
   "source": []
  }
 ],
 "metadata": {
  "kernelspec": {
   "display_name": "Python 3 (ipykernel)",
   "language": "python",
   "name": "python3"
  },
  "language_info": {
   "codemirror_mode": {
    "name": "ipython",
    "version": 3
   },
   "file_extension": ".py",
   "mimetype": "text/x-python",
   "name": "python",
   "nbconvert_exporter": "python",
   "pygments_lexer": "ipython3",
   "version": "3.10.4"
  }
 },
 "nbformat": 4,
 "nbformat_minor": 5
}
