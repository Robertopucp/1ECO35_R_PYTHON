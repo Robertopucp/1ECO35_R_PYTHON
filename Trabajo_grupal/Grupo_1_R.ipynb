{
 "cells": [
  {
   "cell_type": "markdown",
   "id": "cc2cbfd5",
   "metadata": {},
   "source": [
    "### Trabajo grupal 5: Grupo 1"
   ]
  },
  {
   "cell_type": "code",
   "execution_count": 1,
   "id": "348a8984",
   "metadata": {
    "scrolled": true
   },
   "outputs": [
    {
     "name": "stderr",
     "output_type": "stream",
     "text": [
      "also installing the dependencies 'htmltools', 'xfun', 'bslib', 'tinytex', 'knitr', 'rmarkdown', 'jsonlite', 'reprex'\n",
      "\n",
      "Warning message:\n",
      "\"unable to access index for repository http://www.stats.ox.ac.uk/pub/RWin/bin/windows/contrib/3.6:\n",
      "  cannot open URL 'http://www.stats.ox.ac.uk/pub/RWin/bin/windows/contrib/3.6/PACKAGES'\""
     ]
    },
    {
     "name": "stdout",
     "output_type": "stream",
     "text": [
      "\n",
      "  There are binary versions available but the source versions are later:\n",
      "           binary source needs_compilation\n",
      "htmltools 0.5.1.1  0.5.2              TRUE\n",
      "xfun         0.22   0.31              TRUE\n",
      "bslib       0.2.4  0.3.1             FALSE\n",
      "tinytex      0.31   0.39             FALSE\n",
      "knitr        1.33   1.39             FALSE\n",
      "rmarkdown     2.8   2.14             FALSE\n",
      "jsonlite    1.7.2  1.8.0              TRUE\n",
      "reprex      2.0.0  2.0.1             FALSE\n",
      "\n",
      "  Binaries will be installed\n",
      "package 'htmltools' successfully unpacked and MD5 sums checked\n"
     ]
    },
    {
     "name": "stderr",
     "output_type": "stream",
     "text": [
      "Warning message:\n",
      "\"cannot remove prior installation of package 'htmltools'\"Warning message in file.copy(savedcopy, lib, recursive = TRUE):\n",
      "\"problem copying C:\\Users\\PERSONAL\\anaconda3\\Lib\\R\\library\\00LOCK\\htmltools\\libs\\x64\\htmltools.dll to C:\\Users\\PERSONAL\\anaconda3\\Lib\\R\\library\\htmltools\\libs\\x64\\htmltools.dll: Permission denied\"Warning message:\n",
      "\"restored 'htmltools'\""
     ]
    },
    {
     "name": "stdout",
     "output_type": "stream",
     "text": [
      "package 'xfun' successfully unpacked and MD5 sums checked\n",
      "package 'jsonlite' successfully unpacked and MD5 sums checked\n"
     ]
    },
    {
     "name": "stderr",
     "output_type": "stream",
     "text": [
      "Warning message:\n",
      "\"cannot remove prior installation of package 'jsonlite'\"Warning message in file.copy(savedcopy, lib, recursive = TRUE):\n",
      "\"problem copying C:\\Users\\PERSONAL\\anaconda3\\Lib\\R\\library\\00LOCK\\jsonlite\\libs\\x64\\jsonlite.dll to C:\\Users\\PERSONAL\\anaconda3\\Lib\\R\\library\\jsonlite\\libs\\x64\\jsonlite.dll: Permission denied\"Warning message:\n",
      "\"restored 'jsonlite'\""
     ]
    },
    {
     "name": "stdout",
     "output_type": "stream",
     "text": [
      "package 'tidyverse' successfully unpacked and MD5 sums checked\n",
      "\n",
      "The downloaded binary packages are in\n",
      "\tC:\\Users\\PERSONAL\\AppData\\Local\\Temp\\RtmpmyNhkA\\downloaded_packages\n"
     ]
    },
    {
     "name": "stderr",
     "output_type": "stream",
     "text": [
      "installing the source packages 'bslib', 'tinytex', 'knitr', 'rmarkdown', 'reprex'\n",
      "\n",
      "Warning message in utils::install.packages(package, ...):\n",
      "\"installation of package 'bslib' had non-zero exit status\"Warning message in utils::install.packages(package, ...):\n",
      "\"installation of package 'tinytex' had non-zero exit status\"Warning message in utils::install.packages(package, ...):\n",
      "\"installation of package 'knitr' had non-zero exit status\"Warning message in utils::install.packages(package, ...):\n",
      "\"installation of package 'rmarkdown' had non-zero exit status\"Warning message in utils::install.packages(package, ...):\n",
      "\"installation of package 'reprex' had non-zero exit status\"\n",
      "tidyverse installed\n",
      "Warning message:\n",
      "\"package 'tidyverse' was built under R version 3.6.3\"Warning message:\n",
      "\"package 'foreign' is not available (for R version 3.6.1)\"Warning message:\n",
      "\"unable to access index for repository http://www.stats.ox.ac.uk/pub/RWin/bin/windows/contrib/3.6:\n",
      "  cannot open URL 'http://www.stats.ox.ac.uk/pub/RWin/bin/windows/contrib/3.6/PACKAGES'\"Warning message:\n",
      "\"'BiocManager' not available.  Could not check Bioconductor.\n",
      "\n",
      "Please use `install.packages('BiocManager')` and then retry.\"Warning message in p_install(package, character.only = TRUE, ...):\n",
      "\"\"Warning message in library(package, lib.loc = lib.loc, character.only = TRUE, logical.return = TRUE, :\n",
      "\"there is no package called 'foreign'\"also installing the dependencies 'glue', 'cli', 'rcmdcheck', 'sessioninfo'\n",
      "\n",
      "Warning message:\n",
      "\"unable to access index for repository http://www.stats.ox.ac.uk/pub/RWin/bin/windows/contrib/3.6:\n",
      "  cannot open URL 'http://www.stats.ox.ac.uk/pub/RWin/bin/windows/contrib/3.6/PACKAGES'\""
     ]
    },
    {
     "name": "stdout",
     "output_type": "stream",
     "text": [
      "\n",
      "  There are binary versions available but the source versions are later:\n",
      "            binary source needs_compilation\n",
      "glue         1.4.2  1.6.2              TRUE\n",
      "cli          2.5.0  3.3.0              TRUE\n",
      "rcmdcheck    1.3.3  1.4.0             FALSE\n",
      "sessioninfo  1.1.1  1.2.2             FALSE\n",
      "devtools     2.4.1  2.4.3             FALSE\n",
      "\n",
      "  Binaries will be installed\n"
     ]
    },
    {
     "name": "stderr",
     "output_type": "stream",
     "text": [
      "Warning message:\n",
      "\"package 'glue' is in use and will not be installed\""
     ]
    },
    {
     "name": "stdout",
     "output_type": "stream",
     "text": [
      "package 'cli' successfully unpacked and MD5 sums checked\n",
      "\n",
      "The downloaded binary packages are in\n",
      "\tC:\\Users\\PERSONAL\\AppData\\Local\\Temp\\RtmpmyNhkA\\downloaded_packages\n"
     ]
    },
    {
     "name": "stderr",
     "output_type": "stream",
     "text": [
      "installing the source packages 'rcmdcheck', 'sessioninfo', 'devtools'\n",
      "\n",
      "Warning message in utils::install.packages(package, ...):\n",
      "\"installation of package 'sessioninfo' had non-zero exit status\"Warning message in utils::install.packages(package, ...):\n",
      "\"installation of package 'rcmdcheck' had non-zero exit status\"Warning message in utils::install.packages(package, ...):\n",
      "\"installation of package 'devtools' had non-zero exit status\"Warning message in p_install(package, character.only = TRUE, ...):\n",
      "\"\"Warning message in library(package, lib.loc = lib.loc, character.only = TRUE, logical.return = TRUE, :\n",
      "\"there is no package called 'devtools'\"Warning message in pacman::p_load(tidyverse, haven, dplyr, foreign, glue, devtools):\n",
      "\"Failed to install/load:\n",
      "tidyverse, foreign, devtools\"Warning message:\n",
      "\"package 'readstata13' was built under R version 3.6.3\"Warning message:\n",
      "\"package 'tidyr' was built under R version 3.6.3\""
     ]
    }
   ],
   "source": [
    " #install.packages('readstata13')\n",
    "\n",
    "pacman::p_load(tidyverse, haven, dplyr, foreign,glue, devtools)\n",
    "\n",
    "library(readstata13)\n",
    "\n",
    "library(tidyr)  # RE for R\n",
    "#library(dplyr)\n",
    "#library(foreign)"
   ]
  },
  {
   "cell_type": "code",
   "execution_count": 13,
   "id": "2c960986",
   "metadata": {},
   "outputs": [],
   "source": [
    "\n",
    "#Data ENAHO PANEL 2015-2019\n",
    "d1 <- read_dta(\"../data/Juntos_program/data.dta\", encoding = \"latin1\")\n",
    "#Data Programa Juntos\n",
    "d2 <- read_dta(\"../data/Juntos_program/unidos.dta\", encoding = \"latin1\")"
   ]
  },
  {
   "cell_type": "code",
   "execution_count": 14,
   "id": "87960184",
   "metadata": {},
   "outputs": [
    {
     "data": {
      "text/html": [
       "<ol class=list-inline>\n",
       "\t<li>'numper'</li>\n",
       "\t<li>'numpanh15'</li>\n",
       "\t<li>'numpanh16'</li>\n",
       "\t<li>'numpanh17'</li>\n",
       "\t<li>'numpanh18'</li>\n",
       "\t<li>'numpanh19'</li>\n",
       "\t<li>'mes_15'</li>\n",
       "\t<li>'ubigeo_15'</li>\n",
       "\t<li>'dominio_15'</li>\n",
       "\t<li>'p400a3_15'</li>\n",
       "\t<li>'p4022_15'</li>\n",
       "\t<li>'mes_16'</li>\n",
       "\t<li>'ubigeo_16'</li>\n",
       "\t<li>'dominio_16'</li>\n",
       "\t<li>'p400a3_16'</li>\n",
       "\t<li>'p4022_16'</li>\n",
       "\t<li>'mes_17'</li>\n",
       "\t<li>'ubigeo_17'</li>\n",
       "\t<li>'dominio_17'</li>\n",
       "\t<li>'p400a3_17'</li>\n",
       "\t<li>'p4022_17'</li>\n",
       "\t<li>'mes_18'</li>\n",
       "\t<li>'ubigeo_18'</li>\n",
       "\t<li>'dominio_18'</li>\n",
       "\t<li>'p400a3_18'</li>\n",
       "\t<li>'p4022_18'</li>\n",
       "\t<li>'mes_19'</li>\n",
       "\t<li>'ubigeo_19'</li>\n",
       "\t<li>'dominio_19'</li>\n",
       "\t<li>'p400a3_19'</li>\n",
       "\t<li>'p4022_19'</li>\n",
       "</ol>\n"
      ],
      "text/latex": [
       "\\begin{enumerate*}\n",
       "\\item 'numper'\n",
       "\\item 'numpanh15'\n",
       "\\item 'numpanh16'\n",
       "\\item 'numpanh17'\n",
       "\\item 'numpanh18'\n",
       "\\item 'numpanh19'\n",
       "\\item 'mes\\_15'\n",
       "\\item 'ubigeo\\_15'\n",
       "\\item 'dominio\\_15'\n",
       "\\item 'p400a3\\_15'\n",
       "\\item 'p4022\\_15'\n",
       "\\item 'mes\\_16'\n",
       "\\item 'ubigeo\\_16'\n",
       "\\item 'dominio\\_16'\n",
       "\\item 'p400a3\\_16'\n",
       "\\item 'p4022\\_16'\n",
       "\\item 'mes\\_17'\n",
       "\\item 'ubigeo\\_17'\n",
       "\\item 'dominio\\_17'\n",
       "\\item 'p400a3\\_17'\n",
       "\\item 'p4022\\_17'\n",
       "\\item 'mes\\_18'\n",
       "\\item 'ubigeo\\_18'\n",
       "\\item 'dominio\\_18'\n",
       "\\item 'p400a3\\_18'\n",
       "\\item 'p4022\\_18'\n",
       "\\item 'mes\\_19'\n",
       "\\item 'ubigeo\\_19'\n",
       "\\item 'dominio\\_19'\n",
       "\\item 'p400a3\\_19'\n",
       "\\item 'p4022\\_19'\n",
       "\\end{enumerate*}\n"
      ],
      "text/markdown": [
       "1. 'numper'\n",
       "2. 'numpanh15'\n",
       "3. 'numpanh16'\n",
       "4. 'numpanh17'\n",
       "5. 'numpanh18'\n",
       "6. 'numpanh19'\n",
       "7. 'mes_15'\n",
       "8. 'ubigeo_15'\n",
       "9. 'dominio_15'\n",
       "10. 'p400a3_15'\n",
       "11. 'p4022_15'\n",
       "12. 'mes_16'\n",
       "13. 'ubigeo_16'\n",
       "14. 'dominio_16'\n",
       "15. 'p400a3_16'\n",
       "16. 'p4022_16'\n",
       "17. 'mes_17'\n",
       "18. 'ubigeo_17'\n",
       "19. 'dominio_17'\n",
       "20. 'p400a3_17'\n",
       "21. 'p4022_17'\n",
       "22. 'mes_18'\n",
       "23. 'ubigeo_18'\n",
       "24. 'dominio_18'\n",
       "25. 'p400a3_18'\n",
       "26. 'p4022_18'\n",
       "27. 'mes_19'\n",
       "28. 'ubigeo_19'\n",
       "29. 'dominio_19'\n",
       "30. 'p400a3_19'\n",
       "31. 'p4022_19'\n",
       "\n",
       "\n"
      ],
      "text/plain": [
       " [1] \"numper\"     \"numpanh15\"  \"numpanh16\"  \"numpanh17\"  \"numpanh18\" \n",
       " [6] \"numpanh19\"  \"mes_15\"     \"ubigeo_15\"  \"dominio_15\" \"p400a3_15\" \n",
       "[11] \"p4022_15\"   \"mes_16\"     \"ubigeo_16\"  \"dominio_16\" \"p400a3_16\" \n",
       "[16] \"p4022_16\"   \"mes_17\"     \"ubigeo_17\"  \"dominio_17\" \"p400a3_17\" \n",
       "[21] \"p4022_17\"   \"mes_18\"     \"ubigeo_18\"  \"dominio_18\" \"p400a3_18\" \n",
       "[26] \"p4022_18\"   \"mes_19\"     \"ubigeo_19\"  \"dominio_19\" \"p400a3_19\" \n",
       "[31] \"p4022_19\"  "
      ]
     },
     "metadata": {},
     "output_type": "display_data"
    }
   ],
   "source": [
    "names(d1)"
   ]
  },
  {
   "cell_type": "markdown",
   "id": "bfb2410b",
   "metadata": {},
   "source": [
    "### DHS y limpiar base de datos"
   ]
  },
  {
   "cell_type": "code",
   "execution_count": 15,
   "id": "43ce2fe5",
   "metadata": {},
   "outputs": [
    {
     "name": "stdout",
     "output_type": "stream",
     "text": [
      "[1] \"numper\"\n",
      "[1] \"numpanh15\"\n",
      "[1] \"numpanh16\"\n",
      "[1] \"numpanh17\"\n",
      "[1] \"numpanh18\"\n",
      "[1] \"numpanh19\"\n",
      "[1] \"mes15\"\n",
      "[1] \"ubigeo15\"\n",
      "[1] \"dominio15\"\n",
      "[1] \"p400a315\"\n",
      "[1] \"p402215\"\n",
      "[1] \"mes16\"\n",
      "[1] \"ubigeo16\"\n",
      "[1] \"dominio16\"\n",
      "[1] \"p400a316\"\n",
      "[1] \"p402216\"\n",
      "[1] \"mes17\"\n",
      "[1] \"ubigeo17\"\n",
      "[1] \"dominio17\"\n",
      "[1] \"p400a317\"\n",
      "[1] \"p402217\"\n",
      "[1] \"mes18\"\n",
      "[1] \"ubigeo18\"\n",
      "[1] \"dominio18\"\n",
      "[1] \"p400a318\"\n",
      "[1] \"p402218\"\n",
      "[1] \"mes19\"\n",
      "[1] \"ubigeo19\"\n",
      "[1] \"dominio19\"\n",
      "[1] \"p400a319\"\n",
      "[1] \"p402219\"\n"
     ]
    }
   ],
   "source": [
    "names <- names(d1)\n",
    "filter_list <- c()\n",
    "\n",
    "for (i in 1:length(names)){\n",
    "        w <-  gsub('[/_]','', names[i])\n",
    "        filter_list[i] <- w\n",
    "        print(w)    \n",
    "}"
   ]
  },
  {
   "cell_type": "code",
   "execution_count": null,
   "id": "4b139078",
   "metadata": {},
   "outputs": [],
   "source": [
    "nuevo_panel <- reshape(data = , idvar = c(\"cong\", \"viv\", \"hog\"), varying = 4:28, sep=\"_\", timevar = \"time_var\", \n",
    "                   times = c(16,17,18,19,20), direction = \"long\")"
   ]
  },
  {
   "cell_type": "code",
   "execution_count": 16,
   "id": "fbe74fc8",
   "metadata": {
    "scrolled": true
   },
   "outputs": [
    {
     "data": {
      "text/html": [
       "<ol class=list-inline>\n",
       "\t<li>'numper'</li>\n",
       "\t<li>'numpanh15'</li>\n",
       "\t<li>'numpanh16'</li>\n",
       "\t<li>'numpanh17'</li>\n",
       "\t<li>'numpanh18'</li>\n",
       "\t<li>'numpanh19'</li>\n",
       "\t<li>'mes15'</li>\n",
       "\t<li>'ubigeo15'</li>\n",
       "\t<li>'dominio15'</li>\n",
       "\t<li>'p400a315'</li>\n",
       "\t<li>'p402215'</li>\n",
       "\t<li>'mes16'</li>\n",
       "\t<li>'ubigeo16'</li>\n",
       "\t<li>'dominio16'</li>\n",
       "\t<li>'p400a316'</li>\n",
       "\t<li>'p402216'</li>\n",
       "\t<li>'mes17'</li>\n",
       "\t<li>'ubigeo17'</li>\n",
       "\t<li>'dominio17'</li>\n",
       "\t<li>'p400a317'</li>\n",
       "\t<li>'p402217'</li>\n",
       "\t<li>'mes18'</li>\n",
       "\t<li>'ubigeo18'</li>\n",
       "\t<li>'dominio18'</li>\n",
       "\t<li>'p400a318'</li>\n",
       "\t<li>'p402218'</li>\n",
       "\t<li>'mes19'</li>\n",
       "\t<li>'ubigeo19'</li>\n",
       "\t<li>'dominio19'</li>\n",
       "\t<li>'p400a319'</li>\n",
       "\t<li>'p402219'</li>\n",
       "</ol>\n"
      ],
      "text/latex": [
       "\\begin{enumerate*}\n",
       "\\item 'numper'\n",
       "\\item 'numpanh15'\n",
       "\\item 'numpanh16'\n",
       "\\item 'numpanh17'\n",
       "\\item 'numpanh18'\n",
       "\\item 'numpanh19'\n",
       "\\item 'mes15'\n",
       "\\item 'ubigeo15'\n",
       "\\item 'dominio15'\n",
       "\\item 'p400a315'\n",
       "\\item 'p402215'\n",
       "\\item 'mes16'\n",
       "\\item 'ubigeo16'\n",
       "\\item 'dominio16'\n",
       "\\item 'p400a316'\n",
       "\\item 'p402216'\n",
       "\\item 'mes17'\n",
       "\\item 'ubigeo17'\n",
       "\\item 'dominio17'\n",
       "\\item 'p400a317'\n",
       "\\item 'p402217'\n",
       "\\item 'mes18'\n",
       "\\item 'ubigeo18'\n",
       "\\item 'dominio18'\n",
       "\\item 'p400a318'\n",
       "\\item 'p402218'\n",
       "\\item 'mes19'\n",
       "\\item 'ubigeo19'\n",
       "\\item 'dominio19'\n",
       "\\item 'p400a319'\n",
       "\\item 'p402219'\n",
       "\\end{enumerate*}\n"
      ],
      "text/markdown": [
       "1. 'numper'\n",
       "2. 'numpanh15'\n",
       "3. 'numpanh16'\n",
       "4. 'numpanh17'\n",
       "5. 'numpanh18'\n",
       "6. 'numpanh19'\n",
       "7. 'mes15'\n",
       "8. 'ubigeo15'\n",
       "9. 'dominio15'\n",
       "10. 'p400a315'\n",
       "11. 'p402215'\n",
       "12. 'mes16'\n",
       "13. 'ubigeo16'\n",
       "14. 'dominio16'\n",
       "15. 'p400a316'\n",
       "16. 'p402216'\n",
       "17. 'mes17'\n",
       "18. 'ubigeo17'\n",
       "19. 'dominio17'\n",
       "20. 'p400a317'\n",
       "21. 'p402217'\n",
       "22. 'mes18'\n",
       "23. 'ubigeo18'\n",
       "24. 'dominio18'\n",
       "25. 'p400a318'\n",
       "26. 'p402218'\n",
       "27. 'mes19'\n",
       "28. 'ubigeo19'\n",
       "29. 'dominio19'\n",
       "30. 'p400a319'\n",
       "31. 'p402219'\n",
       "\n",
       "\n"
      ],
      "text/plain": [
       " [1] \"numper\"    \"numpanh15\" \"numpanh16\" \"numpanh17\" \"numpanh18\" \"numpanh19\"\n",
       " [7] \"mes15\"     \"ubigeo15\"  \"dominio15\" \"p400a315\"  \"p402215\"   \"mes16\"    \n",
       "[13] \"ubigeo16\"  \"dominio16\" \"p400a316\"  \"p402216\"   \"mes17\"     \"ubigeo17\" \n",
       "[19] \"dominio17\" \"p400a317\"  \"p402217\"   \"mes18\"     \"ubigeo18\"  \"dominio18\"\n",
       "[25] \"p400a318\"  \"p402218\"   \"mes19\"     \"ubigeo19\"  \"dominio19\" \"p400a319\" \n",
       "[31] \"p402219\"  "
      ]
     },
     "metadata": {},
     "output_type": "display_data"
    }
   ],
   "source": [
    "names(d1) <- filter_list\n",
    "names(d1)"
   ]
  },
  {
   "cell_type": "code",
   "execution_count": 17,
   "id": "5f7ccf98",
   "metadata": {},
   "outputs": [],
   "source": [
    "#Creamos base de datos por año y quitamos numeros a las variables y creamos variable year respectivamente. \n",
    "year <- c(\"15\",\"16\",\"17\",\"18\",\"19\")\n",
    "\n",
    "for (i in 1:5){\n",
    "    temp <- names(d1)[grepl(year[i],names(d1))]\n",
    "    if (year[i]==\"15\"){\n",
    "        datos_panel <- d1[c(\"numper\",temp)]\n",
    "        asd <- glue(\"{year[1]}$\")\n",
    "        names(datos_panel) <- gsub(asd, '', names(datos_panel))\n",
    "        datos_panel$year <- glue(\"20{year[1]}\")\n",
    "    }\n",
    "    else{\n",
    "        datos_temp <- d1[c(\"numper\",temp)]\n",
    "        asd <- glue(\"{year[i]}$\")\n",
    "        names(datos_temp) <- gsub(asd, '', names(datos_temp))\n",
    "        datos_temp$year <- glue(\"20{year[i]}\")\n",
    "        datos_panel <- rbind(datos_panel, datos_temp)\n",
    "    }\n",
    "    \n",
    "}"
   ]
  },
  {
   "cell_type": "code",
   "execution_count": 18,
   "id": "11cebb39",
   "metadata": {},
   "outputs": [
    {
     "data": {
      "text/html": [
       "<table>\n",
       "<thead><tr><th scope=col>numper</th><th scope=col>numpanh</th><th scope=col>mes</th><th scope=col>ubigeo</th><th scope=col>dominio</th><th scope=col>p400a3</th><th scope=col>p4022</th><th scope=col>year</th></tr></thead>\n",
       "<tbody>\n",
       "\t<tr><td>15368       </td><td>1158        </td><td>11          </td><td>10101       </td><td>sierra norte</td><td>1946        </td><td>0           </td><td>2015        </td></tr>\n",
       "\t<tr><td>15369       </td><td>1158        </td><td>11          </td><td>10101       </td><td>sierra norte</td><td>1973        </td><td>0           </td><td>2015        </td></tr>\n",
       "\t<tr><td>15380       </td><td>1162        </td><td>11          </td><td>10101       </td><td>sierra norte</td><td>1987        </td><td>1           </td><td>2015        </td></tr>\n",
       "\t<tr><td>15381       </td><td>1162        </td><td>11          </td><td>10101       </td><td>sierra norte</td><td>2009        </td><td>1           </td><td>2015        </td></tr>\n",
       "\t<tr><td>15410       </td><td>1185        </td><td> 7          </td><td>10101       </td><td>sierra norte</td><td>1955        </td><td>0           </td><td>2015        </td></tr>\n",
       "\t<tr><td>15412       </td><td>1186        </td><td> 7          </td><td>10101       </td><td>sierra norte</td><td>1966        </td><td>0           </td><td>2015        </td></tr>\n",
       "</tbody>\n",
       "</table>\n"
      ],
      "text/latex": [
       "\\begin{tabular}{r|llllllll}\n",
       " numper & numpanh & mes & ubigeo & dominio & p400a3 & p4022 & year\\\\\n",
       "\\hline\n",
       "\t 15368        & 1158         & 11           & 10101        & sierra norte & 1946         & 0            & 2015        \\\\\n",
       "\t 15369        & 1158         & 11           & 10101        & sierra norte & 1973         & 0            & 2015        \\\\\n",
       "\t 15380        & 1162         & 11           & 10101        & sierra norte & 1987         & 1            & 2015        \\\\\n",
       "\t 15381        & 1162         & 11           & 10101        & sierra norte & 2009         & 1            & 2015        \\\\\n",
       "\t 15410        & 1185         &  7           & 10101        & sierra norte & 1955         & 0            & 2015        \\\\\n",
       "\t 15412        & 1186         &  7           & 10101        & sierra norte & 1966         & 0            & 2015        \\\\\n",
       "\\end{tabular}\n"
      ],
      "text/markdown": [
       "\n",
       "| numper | numpanh | mes | ubigeo | dominio | p400a3 | p4022 | year |\n",
       "|---|---|---|---|---|---|---|---|\n",
       "| 15368        | 1158         | 11           | 10101        | sierra norte | 1946         | 0            | 2015         |\n",
       "| 15369        | 1158         | 11           | 10101        | sierra norte | 1973         | 0            | 2015         |\n",
       "| 15380        | 1162         | 11           | 10101        | sierra norte | 1987         | 1            | 2015         |\n",
       "| 15381        | 1162         | 11           | 10101        | sierra norte | 2009         | 1            | 2015         |\n",
       "| 15410        | 1185         |  7           | 10101        | sierra norte | 1955         | 0            | 2015         |\n",
       "| 15412        | 1186         |  7           | 10101        | sierra norte | 1966         | 0            | 2015         |\n",
       "\n"
      ],
      "text/plain": [
       "  numper numpanh mes ubigeo dominio      p400a3 p4022 year\n",
       "1 15368  1158    11  10101  sierra norte 1946   0     2015\n",
       "2 15369  1158    11  10101  sierra norte 1973   0     2015\n",
       "3 15380  1162    11  10101  sierra norte 1987   1     2015\n",
       "4 15381  1162    11  10101  sierra norte 2009   1     2015\n",
       "5 15410  1185     7  10101  sierra norte 1955   0     2015\n",
       "6 15412  1186     7  10101  sierra norte 1966   0     2015"
      ]
     },
     "metadata": {},
     "output_type": "display_data"
    }
   ],
   "source": [
    "\n",
    "#Data ENAHO (panel 2015-2019) LIMPIA.\n",
    "head(datos_panel)"
   ]
  },
  {
   "cell_type": "code",
   "execution_count": 19,
   "id": "06c5422c",
   "metadata": {},
   "outputs": [],
   "source": [
    "#### Combinamos las bases de PANEL ENAHO y programa Juntos\n",
    "total <- merge( datos_panel, d2, by = c(\"ubigeo\"), all.x = TRUE)"
   ]
  },
  {
   "cell_type": "code",
   "execution_count": 20,
   "id": "4f66ff59",
   "metadata": {},
   "outputs": [
    {
     "data": {
      "text/html": [
       "<table>\n",
       "<thead><tr><th scope=col>ubigeo</th><th scope=col>numper</th><th scope=col>numpanh</th><th scope=col>mes</th><th scope=col>dominio</th><th scope=col>p400a3</th><th scope=col>p4022</th><th scope=col>year</th><th scope=col>distrito</th><th scope=col>provincia</th><th scope=col>region</th><th scope=col>unidos</th></tr></thead>\n",
       "<tbody>\n",
       "\t<tr><td>10101       </td><td>15368       </td><td>1158        </td><td>11          </td><td>sierra norte</td><td>1946        </td><td>0           </td><td>2015        </td><td>Chachapoyas </td><td>Chachapoyas </td><td>Amazonas    </td><td>1           </td></tr>\n",
       "\t<tr><td>10101       </td><td>15369       </td><td>1158        </td><td>11          </td><td>sierra norte</td><td>1973        </td><td>0           </td><td>2015        </td><td>Chachapoyas </td><td>Chachapoyas </td><td>Amazonas    </td><td>1           </td></tr>\n",
       "\t<tr><td>10101       </td><td>15380       </td><td>1162        </td><td>11          </td><td>sierra norte</td><td>1987        </td><td>1           </td><td>2015        </td><td>Chachapoyas </td><td>Chachapoyas </td><td>Amazonas    </td><td>1           </td></tr>\n",
       "\t<tr><td>10101       </td><td>15381       </td><td>1162        </td><td>11          </td><td>sierra norte</td><td>2009        </td><td>1           </td><td>2015        </td><td>Chachapoyas </td><td>Chachapoyas </td><td>Amazonas    </td><td>1           </td></tr>\n",
       "\t<tr><td>10101       </td><td>15410       </td><td>1185        </td><td> 7          </td><td>sierra norte</td><td>1955        </td><td>0           </td><td>2015        </td><td>Chachapoyas </td><td>Chachapoyas </td><td>Amazonas    </td><td>1           </td></tr>\n",
       "\t<tr><td>10101       </td><td>15412       </td><td>1186        </td><td> 7          </td><td>sierra norte</td><td>1966        </td><td>0           </td><td>2015        </td><td>Chachapoyas </td><td>Chachapoyas </td><td>Amazonas    </td><td>1           </td></tr>\n",
       "</tbody>\n",
       "</table>\n"
      ],
      "text/latex": [
       "\\begin{tabular}{r|llllllllllll}\n",
       " ubigeo & numper & numpanh & mes & dominio & p400a3 & p4022 & year & distrito & provincia & region & unidos\\\\\n",
       "\\hline\n",
       "\t 10101        & 15368        & 1158         & 11           & sierra norte & 1946         & 0            & 2015         & Chachapoyas  & Chachapoyas  & Amazonas     & 1           \\\\\n",
       "\t 10101        & 15369        & 1158         & 11           & sierra norte & 1973         & 0            & 2015         & Chachapoyas  & Chachapoyas  & Amazonas     & 1           \\\\\n",
       "\t 10101        & 15380        & 1162         & 11           & sierra norte & 1987         & 1            & 2015         & Chachapoyas  & Chachapoyas  & Amazonas     & 1           \\\\\n",
       "\t 10101        & 15381        & 1162         & 11           & sierra norte & 2009         & 1            & 2015         & Chachapoyas  & Chachapoyas  & Amazonas     & 1           \\\\\n",
       "\t 10101        & 15410        & 1185         &  7           & sierra norte & 1955         & 0            & 2015         & Chachapoyas  & Chachapoyas  & Amazonas     & 1           \\\\\n",
       "\t 10101        & 15412        & 1186         &  7           & sierra norte & 1966         & 0            & 2015         & Chachapoyas  & Chachapoyas  & Amazonas     & 1           \\\\\n",
       "\\end{tabular}\n"
      ],
      "text/markdown": [
       "\n",
       "| ubigeo | numper | numpanh | mes | dominio | p400a3 | p4022 | year | distrito | provincia | region | unidos |\n",
       "|---|---|---|---|---|---|---|---|---|---|---|---|\n",
       "| 10101        | 15368        | 1158         | 11           | sierra norte | 1946         | 0            | 2015         | Chachapoyas  | Chachapoyas  | Amazonas     | 1            |\n",
       "| 10101        | 15369        | 1158         | 11           | sierra norte | 1973         | 0            | 2015         | Chachapoyas  | Chachapoyas  | Amazonas     | 1            |\n",
       "| 10101        | 15380        | 1162         | 11           | sierra norte | 1987         | 1            | 2015         | Chachapoyas  | Chachapoyas  | Amazonas     | 1            |\n",
       "| 10101        | 15381        | 1162         | 11           | sierra norte | 2009         | 1            | 2015         | Chachapoyas  | Chachapoyas  | Amazonas     | 1            |\n",
       "| 10101        | 15410        | 1185         |  7           | sierra norte | 1955         | 0            | 2015         | Chachapoyas  | Chachapoyas  | Amazonas     | 1            |\n",
       "| 10101        | 15412        | 1186         |  7           | sierra norte | 1966         | 0            | 2015         | Chachapoyas  | Chachapoyas  | Amazonas     | 1            |\n",
       "\n"
      ],
      "text/plain": [
       "  ubigeo numper numpanh mes dominio      p400a3 p4022 year distrito   \n",
       "1 10101  15368  1158    11  sierra norte 1946   0     2015 Chachapoyas\n",
       "2 10101  15369  1158    11  sierra norte 1973   0     2015 Chachapoyas\n",
       "3 10101  15380  1162    11  sierra norte 1987   1     2015 Chachapoyas\n",
       "4 10101  15381  1162    11  sierra norte 2009   1     2015 Chachapoyas\n",
       "5 10101  15410  1185     7  sierra norte 1955   0     2015 Chachapoyas\n",
       "6 10101  15412  1186     7  sierra norte 1966   0     2015 Chachapoyas\n",
       "  provincia   region   unidos\n",
       "1 Chachapoyas Amazonas 1     \n",
       "2 Chachapoyas Amazonas 1     \n",
       "3 Chachapoyas Amazonas 1     \n",
       "4 Chachapoyas Amazonas 1     \n",
       "5 Chachapoyas Amazonas 1     \n",
       "6 Chachapoyas Amazonas 1     "
      ]
     },
     "metadata": {},
     "output_type": "display_data"
    }
   ],
   "source": [
    "\n",
    "head(total)"
   ]
  },
  {
   "cell_type": "code",
   "execution_count": null,
   "id": "fb6ac5b4",
   "metadata": {},
   "outputs": [],
   "source": []
  }
 ],
 "metadata": {
  "kernelspec": {
   "display_name": "R",
   "language": "R",
   "name": "ir"
  },
  "language_info": {
   "codemirror_mode": "r",
   "file_extension": ".r",
   "mimetype": "text/x-r-source",
   "name": "R",
   "pygments_lexer": "r",
   "version": "3.6.1"
  }
 },
 "nbformat": 4,
 "nbformat_minor": 5
}
