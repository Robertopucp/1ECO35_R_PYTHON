{
 "cells": [
  {
   "cell_type": "markdown",
   "id": "b9a3dafd",
   "metadata": {},
   "source": [
    "## Trabajo Grupal 7"
   ]
  },
  {
   "cell_type": "markdown",
   "id": "3c435521",
   "metadata": {},
   "source": [
    "### Grupo 1"
   ]
  },
  {
   "cell_type": "markdown",
   "id": "2da45a88",
   "metadata": {},
   "source": [
    "### Repositorio del curso"
   ]
  },
  {
   "cell_type": "code",
   "execution_count": 10,
   "id": "55d78856",
   "metadata": {
    "scrolled": true
   },
   "outputs": [
    {
     "name": "stdout",
     "output_type": "stream",
     "text": [
      "Collecting prettytable\n",
      "  Downloading prettytable-3.3.0-py3-none-any.whl (26 kB)\n",
      "Requirement already satisfied: wcwidth in c:\\users\\diego rodriguez\\anaconda3\\lib\\site-packages (from prettytable) (0.2.5)\n",
      "Installing collected packages: prettytable\n",
      "Successfully installed prettytable-3.3.0\n"
     ]
    }
   ],
   "source": [
    "#!pip install selenium\n",
    "#!pip install webdriver-manager\n",
    "#!pip install prettytable"
   ]
  },
  {
   "cell_type": "code",
   "execution_count": 44,
   "id": "99bd58c1",
   "metadata": {},
   "outputs": [],
   "source": [
    "from selenium import webdriver\n",
    "from webdriver_manager.chrome import ChromeDriverManager\n",
    "import re\n",
    "import time "
   ]
  },
  {
   "cell_type": "code",
   "execution_count": 45,
   "id": "fea04b96",
   "metadata": {},
   "outputs": [],
   "source": [
    "import os\n",
    "import sys"
   ]
  },
  {
   "cell_type": "code",
   "execution_count": 46,
   "id": "e491bf4e",
   "metadata": {
    "scrolled": true
   },
   "outputs": [
    {
     "name": "stdout",
     "output_type": "stream",
     "text": [
      "\n"
     ]
    },
    {
     "name": "stderr",
     "output_type": "stream",
     "text": [
      "[WDM] - ====== WebDriver manager ======\n",
      "[WDM] - Current google-chrome version is 102.0.5005\n",
      "[WDM] - Get LATEST chromedriver version for 102.0.5005 google-chrome\n",
      "[WDM] - Driver [C:\\Users\\PERSONAL\\.wdm\\drivers\\chromedriver\\win32\\102.0.5005.61\\chromedriver.exe] found in cache\n",
      "C:\\Users\\PERSONAL\\AppData\\Local\\Temp/ipykernel_6728/1967860126.py:1: DeprecationWarning: executable_path has been deprecated, please pass in a Service object\n",
      "  driver = webdriver.Chrome(ChromeDriverManager().install() )\n"
     ]
    }
   ],
   "source": [
    "driver = webdriver.Chrome(ChromeDriverManager().install() )\n",
    "\n",
    "url = 'https://github.com/Robertopucp/1ECO35_R_PYTHON'\n",
    "driver.get( url )\n",
    "\n",
    "driver.maximize_window()"
   ]
  },
  {
   "cell_type": "markdown",
   "id": "3888c934",
   "metadata": {},
   "source": [
    "### BCRP"
   ]
  },
  {
   "cell_type": "code",
   "execution_count": 47,
   "id": "76400ece",
   "metadata": {},
   "outputs": [
    {
     "name": "stdout",
     "output_type": "stream",
     "text": [
      "\n"
     ]
    },
    {
     "name": "stderr",
     "output_type": "stream",
     "text": [
      "[WDM] - ====== WebDriver manager ======\n",
      "[WDM] - Current google-chrome version is 102.0.5005\n",
      "[WDM] - Get LATEST chromedriver version for 102.0.5005 google-chrome\n",
      "[WDM] - Driver [C:\\Users\\PERSONAL\\.wdm\\drivers\\chromedriver\\win32\\102.0.5005.61\\chromedriver.exe] found in cache\n",
      "C:\\Users\\PERSONAL\\AppData\\Local\\Temp/ipykernel_6728/2786520800.py:1: DeprecationWarning: executable_path has been deprecated, please pass in a Service object\n",
      "  driver1 = webdriver.Chrome( ChromeDriverManager().install() )\n"
     ]
    }
   ],
   "source": [
    "driver1 = webdriver.Chrome( ChromeDriverManager().install() )\n",
    "\n",
    "url = 'https://www.bcrp.gob.pe/docs/Publicaciones/Nota-Semanal/2020/resumen-informativo-2020-04-02/?utm_source=phplist4557&utm_medium=email&utm_content=HTML&utm_campaign=BCRP%3A+Resumen+Informativo+Semanal+-+2+de+abril+de+2020#viii-3'\n",
    "driver1.get( url )\n",
    "\n",
    "driver1.maximize_window()"
   ]
  },
  {
   "cell_type": "code",
   "execution_count": 48,
   "id": "1270ea33",
   "metadata": {},
   "outputs": [
    {
     "data": {
      "text/plain": [
       "<selenium.webdriver.remote.webelement.WebElement (session=\"052ba40d5457d06ffa9cafabdf007fb2\", element=\"e0da71b7-8b1d-433c-b7c0-6786f08ae649\")>"
      ]
     },
     "execution_count": 48,
     "metadata": {},
     "output_type": "execute_result"
    }
   ],
   "source": [
    "elements = driver1.find_elements(By.TAG_NAME, 'img')\n",
    "elements[2].click()\n",
    "elements[2]"
   ]
  },
  {
   "cell_type": "code",
   "execution_count": 49,
   "id": "eeeed435",
   "metadata": {},
   "outputs": [
    {
     "name": "stderr",
     "output_type": "stream",
     "text": [
      "C:\\Users\\PERSONAL\\AppData\\Local\\Temp/ipykernel_6728/4190550744.py:1: DeprecationWarning: find_element_by_xpath is deprecated. Please use find_element(by=By.XPATH, value=xpath) instead\n",
      "  results = driver1.find_element_by_xpath('/html/body/div/table/tbody/tr/td/table/tbody/tr/td/p/img')\n"
     ]
    }
   ],
   "source": [
    "results = driver1.find_element_by_xpath('/html/body/div/table/tbody/tr/td/table/tbody/tr/td/p/img')"
   ]
  },
  {
   "cell_type": "code",
   "execution_count": 50,
   "id": "71283e4a",
   "metadata": {},
   "outputs": [],
   "source": [
    "results\n",
    "results.click()"
   ]
  },
  {
   "cell_type": "markdown",
   "id": "771fd970",
   "metadata": {},
   "source": [
    "## HTML"
   ]
  },
  {
   "cell_type": "markdown",
   "id": "ef496edc",
   "metadata": {},
   "source": [
    "### 1) Repositorio del curso\n",
    "[Link](https://github.com/Robertopucp/1ECO35_R_PYTHON)"
   ]
  },
  {
   "cell_type": "markdown",
   "id": "e12dd404",
   "metadata": {},
   "source": [
    "### 2) Tabla de inflación anual de marzo\n",
    "| |Total| Sin alimentos y energía|Alimentos y energía|Tendencial|\n",
    "|---|---|---|---|---|\n",
    "|Dic.19|1.9|2.3|1.4|1.7|\n",
    "|Ene.20|1.9|2.3|1.4|1.8|\n",
    "|Feb.20|1.9|2.3|1.4|1.7|\n",
    "|Mar.20|1.8|1.7|1.9|1.6|\n"
   ]
  },
  {
   "cell_type": "markdown",
   "id": "fe3e2df0",
   "metadata": {},
   "source": [
    "### 3) Lista desplegable\n",
    "<!DOCTYPE html>\n",
    "<html>\n",
    "<body>\n",
    "\n",
    "<h3> Lima </h3>\n",
    "\n",
    "<p>Click en la opción donde se ubique tu vivienda:</p>\n",
    "\n",
    "<form action=\"/action_page.php\">\n",
    "  <input type=\"radio\" id=\"LM\" name=\"Lima Metropolitana\" value=\"Lima Metropolitana\">\n",
    "  <label for=\"LM\">Lima_Metropolitana</label><br>\n",
    "  <input type=\"radio\" id=\"LP\" name=\"Lima Provincia\" value=\"Lima Provincia\">\n",
    "  <label for=\"LP\">Lima_Provincia</label><br>\n",
    "  <input type=\"radio\" id=\"LR\" name=\"Lima Región\" value=\"Lima Región\">\n",
    "  <label for=\"LR\">Lima_Región</label><br><br>\n",
    "\n",
    "  <button onclick=\"showContent()\">Submit</button>\n",
    "    \n",
    "</form>\n",
    "\n",
    "</body>\n",
    "</html>"
   ]
  },
  {
   "cell_type": "markdown",
   "id": "24691eb4",
   "metadata": {},
   "source": [
    "### 4) Formulario\n",
    "<!DOCTYPE html>\n",
    "<html>\n",
    "<body>\n",
    "\n",
    "<h3>Datos</h3>\n",
    "\n",
    "<form action=\"/action_page.php\">\n",
    "  <label for=\"nombre\">Nombre:</label>\n",
    "  <input type=\"text\" id=\"Nombre\" name=\"Nombre\"><br><br>\n",
    "  <label for=\"apellidos\">Apellidos:</label>\n",
    "  <input type=\"text\" id=\"apellidos\" name=\"apellidos\"><br><br>\n",
    "  <label for=\"DNI\">DNI:</label>\n",
    "  <input type=\"DNI\" id=\"DNI\" name=\"DNI\"><br><br>\n",
    "  <label for=\"Correo electrónico\">Correo electrónico:</label>\n",
    "  <input type=\"text\" id=\"Correo electrónico\" name=\"Correo electrónico\"><br><br>\n",
    "  <button onclick=\"Enviar\">Enviar</button>\n",
    "</form>\n",
    "\n",
    "<p>Click en el botón \"enviar\" para guardar y enviar los datos personales.</p>\n",
    "\n",
    "</body>\n",
    "</html>"
   ]
  },
  {
   "cell_type": "markdown",
   "id": "e6956f95",
   "metadata": {},
   "source": [
    "### Página ONPE - SCRAPPER"
   ]
  },
  {
   "cell_type": "code",
   "execution_count": 23,
   "id": "9827f505",
   "metadata": {},
   "outputs": [],
   "source": [
    "from selenium import webdriver\n",
    "from selenium.webdriver.common.by import By\n",
    "from selenium.webdriver.common.keys import Keys\n",
    "from selenium.common.exceptions import NoSuchElementException\n",
    "from selenium.webdriver import ActionChains\n",
    "import pandas as pd\n",
    "import numpy as np\n",
    "import os\n",
    "import time  \n",
    "import sys\n",
    "import re \n",
    "import unidecode\n",
    "from selenium.webdriver.support.ui import Select\n",
    "from webdriver_manager.chrome import ChromeDriverManager"
   ]
  },
  {
   "cell_type": "code",
   "execution_count": 36,
   "id": "2dfeb6c3",
   "metadata": {},
   "outputs": [
    {
     "name": "stdout",
     "output_type": "stream",
     "text": [
      "\n"
     ]
    },
    {
     "name": "stderr",
     "output_type": "stream",
     "text": [
      "[WDM] - ====== WebDriver manager ======\n",
      "[WDM] - Current google-chrome version is 102.0.5005\n",
      "[WDM] - Get LATEST chromedriver version for 102.0.5005 google-chrome\n",
      "[WDM] - Driver [C:\\Users\\PERSONAL\\.wdm\\drivers\\chromedriver\\win32\\102.0.5005.61\\chromedriver.exe] found in cache\n",
      "C:\\Users\\PERSONAL\\AppData\\Local\\Temp/ipykernel_6728/303410565.py:1: DeprecationWarning: executable_path has been deprecated, please pass in a Service object\n",
      "  drivers = webdriver.Chrome(ChromeDriverManager().install() )\n"
     ]
    }
   ],
   "source": [
    "drivers = webdriver.Chrome(ChromeDriverManager().install() )\n",
    "\n",
    "url = 'https://resultadoshistorico.onpe.gob.pe/EG2021/'\n",
    "drivers.get( url )\n",
    "\n",
    "drivers.maximize_window()"
   ]
  },
  {
   "cell_type": "code",
   "execution_count": 37,
   "id": "a65bcb8f",
   "metadata": {},
   "outputs": [
    {
     "name": "stderr",
     "output_type": "stream",
     "text": [
      "C:\\Users\\PERSONAL\\AppData\\Local\\Temp/ipykernel_6728/342850016.py:1: DeprecationWarning: find_element_by_xpath is deprecated. Please use find_element(by=By.XPATH, value=xpath) instead\n",
      "  results = drivers.find_element_by_xpath(\"/html/body/onpe-root/onpe-home-onpe/div[1]/div/div/div/div[2]/div[3]/div/div/a/div[2]\")\n"
     ]
    }
   ],
   "source": [
    "results = drivers.find_element_by_xpath(\"/html/body/onpe-root/onpe-home-onpe/div[1]/div/div/div/div[2]/div[3]/div/div/a/div[2]\")\n",
    "results.click()"
   ]
  },
  {
   "cell_type": "code",
   "execution_count": 40,
   "id": "cc823283",
   "metadata": {},
   "outputs": [
    {
     "name": "stderr",
     "output_type": "stream",
     "text": [
      "C:\\Users\\PERSONAL\\AppData\\Local\\Temp/ipykernel_6728/624747554.py:2: DeprecationWarning: find_element_by_* commands are deprecated. Please use find_element() instead\n",
      "  dpt = Select( drivers.find_element_by_id( \"select_departamento\" ) )\n",
      "C:\\Users\\PERSONAL\\AppData\\Local\\Temp/ipykernel_6728/624747554.py:11: DeprecationWarning: find_element_by_xpath is deprecated. Please use find_element(by=By.XPATH, value=xpath) instead\n",
      "  table_path = drivers.find_element_by_xpath(\"//*[@id='table-scroll']/div\")\n"
     ]
    },
    {
     "name": "stdout",
     "output_type": "stream",
     "text": [
      "AMAZONAS\n",
      "ANCASH\n",
      "APURIMAC\n",
      "AREQUIPA\n",
      "AYACUCHO\n",
      "CAJAMARCA\n",
      "CALLAO\n",
      "CUSCO\n",
      "HUANCAVELICA\n",
      "HUANUCO\n",
      "ICA\n",
      "JUNIN\n",
      "LA LIBERTAD\n",
      "LAMBAYEQUE\n",
      "LIMA\n",
      "LIMA PROVINCIAS\n",
      "LORETO\n",
      "MADRE DE DIOS\n",
      "MOQUEGUA\n",
      "PASCO\n",
      "PIURA\n",
      "PUNO\n",
      "SAN MARTIN\n",
      "TACNA\n",
      "TUMBES\n",
      "UCAYALI\n"
     ]
    }
   ],
   "source": [
    "for dpt_idx in range( 26 ):\n",
    "    dpt = Select( drivers.find_element_by_id( \"select_departamento\" ) )\n",
    "    departamento = dpt.options[ dpt_idx ]\n",
    "    dpt_name = departamento.text \n",
    "    \n",
    "    print(dpt_name)\n",
    "    departamento.click()\n",
    "    \n",
    "    ## Get table of presidential votes\n",
    "    # Get html at this point\n",
    "    table_path = drivers.find_element_by_xpath(\"//*[@id='table-scroll']/div\") \n",
    "    table_html = table_path.get_attribute( 'innerHTML' )\n",
    "    # Read the table using pandas\n",
    "    table = pd.read_html( table_html )\n",
    "    # Get UBIGEO\n",
    "    ubigeo = drivers.current_url.split(\"/\")[ -1 ]  \n",
    "                                           \n",
    "    #Cleaningtables\n",
    "    row_new_columns = table[ 0 ].iloc[ 0 , 1:5 ] \n",
    "    clean_columns = row_new_columns.str.replace( \" \", \"_\").str.lower().str.replace( \"%\", \"share_\").tolist()\n",
    "     # Selecting specific columns\n",
    "    table_clean = table[0].iloc[ 1:, 1:5 ].copy()\n",
    "    # rename columns\n",
    "    table_clean.columns = clean_columns\n",
    "     \n",
    "    # New values to columns \n",
    "    table_clean[ 'region' ] = dpt_name\n",
    "    table_clean[ 'ubigeo' ] = ubigeo\n",
    "                        \n",
    "  # store tables\n",
    "    all_tables[ ubigeo ] = table_clean\n",
    "        "
   ]
  },
  {
   "cell_type": "code",
   "execution_count": 41,
   "id": "60ccabfb",
   "metadata": {},
   "outputs": [
    {
     "data": {
      "text/html": [
       "<div>\n",
       "<style scoped>\n",
       "    .dataframe tbody tr th:only-of-type {\n",
       "        vertical-align: middle;\n",
       "    }\n",
       "\n",
       "    .dataframe tbody tr th {\n",
       "        vertical-align: top;\n",
       "    }\n",
       "\n",
       "    .dataframe thead th {\n",
       "        text-align: right;\n",
       "    }\n",
       "</style>\n",
       "<table border=\"1\" class=\"dataframe\">\n",
       "  <thead>\n",
       "    <tr style=\"text-align: right;\">\n",
       "      <th></th>\n",
       "      <th>organizaciones_políticas</th>\n",
       "      <th>total</th>\n",
       "      <th>share_válidos</th>\n",
       "      <th>share_emitidos</th>\n",
       "      <th>region</th>\n",
       "      <th>ubigeo</th>\n",
       "    </tr>\n",
       "  </thead>\n",
       "  <tbody>\n",
       "    <tr>\n",
       "      <th>1</th>\n",
       "      <td>FRENTE POPULAR AGRICOLA FIA DEL PERU - FREPAP</td>\n",
       "      <td>9967</td>\n",
       "      <td>5.802%</td>\n",
       "      <td>3.857%</td>\n",
       "      <td>UCAYALI</td>\n",
       "      <td>D44026</td>\n",
       "    </tr>\n",
       "    <tr>\n",
       "      <th>2</th>\n",
       "      <td>PARTIDO NACIONALISTA PERUANO</td>\n",
       "      <td>2644</td>\n",
       "      <td>1.539%</td>\n",
       "      <td>1.023%</td>\n",
       "      <td>UCAYALI</td>\n",
       "      <td>D44026</td>\n",
       "    </tr>\n",
       "    <tr>\n",
       "      <th>3</th>\n",
       "      <td>PARTIDO MORADO</td>\n",
       "      <td>3672</td>\n",
       "      <td>2.138%</td>\n",
       "      <td>1.421%</td>\n",
       "      <td>UCAYALI</td>\n",
       "      <td>D44026</td>\n",
       "    </tr>\n",
       "    <tr>\n",
       "      <th>4</th>\n",
       "      <td>VICTORIA NACIONAL</td>\n",
       "      <td>9957</td>\n",
       "      <td>5.797%</td>\n",
       "      <td>3.853%</td>\n",
       "      <td>UCAYALI</td>\n",
       "      <td>D44026</td>\n",
       "    </tr>\n",
       "    <tr>\n",
       "      <th>5</th>\n",
       "      <td>ACCION POPULAR</td>\n",
       "      <td>20274</td>\n",
       "      <td>11.803%</td>\n",
       "      <td>7.846%</td>\n",
       "      <td>UCAYALI</td>\n",
       "      <td>D44026</td>\n",
       "    </tr>\n",
       "    <tr>\n",
       "      <th>6</th>\n",
       "      <td>PODEMOS PERU</td>\n",
       "      <td>15619</td>\n",
       "      <td>9.093%</td>\n",
       "      <td>6.045%</td>\n",
       "      <td>UCAYALI</td>\n",
       "      <td>D44026</td>\n",
       "    </tr>\n",
       "    <tr>\n",
       "      <th>7</th>\n",
       "      <td>JUNTOS POR EL PERU</td>\n",
       "      <td>13665</td>\n",
       "      <td>7.955%</td>\n",
       "      <td>5.288%</td>\n",
       "      <td>UCAYALI</td>\n",
       "      <td>D44026</td>\n",
       "    </tr>\n",
       "    <tr>\n",
       "      <th>8</th>\n",
       "      <td>PARTIDO POPULAR CRISTIANO - PPC</td>\n",
       "      <td>3808</td>\n",
       "      <td>2.217%</td>\n",
       "      <td>1.474%</td>\n",
       "      <td>UCAYALI</td>\n",
       "      <td>D44026</td>\n",
       "    </tr>\n",
       "    <tr>\n",
       "      <th>9</th>\n",
       "      <td>FUERZA POPULAR</td>\n",
       "      <td>30098</td>\n",
       "      <td>17.522%</td>\n",
       "      <td>11.648%</td>\n",
       "      <td>UCAYALI</td>\n",
       "      <td>D44026</td>\n",
       "    </tr>\n",
       "    <tr>\n",
       "      <th>10</th>\n",
       "      <td>UNION POR EL PERU</td>\n",
       "      <td>8389</td>\n",
       "      <td>4.884%</td>\n",
       "      <td>3.247%</td>\n",
       "      <td>UCAYALI</td>\n",
       "      <td>D44026</td>\n",
       "    </tr>\n",
       "    <tr>\n",
       "      <th>11</th>\n",
       "      <td>RENOVACION POPULAR</td>\n",
       "      <td>9623</td>\n",
       "      <td>5.602%</td>\n",
       "      <td>3.724%</td>\n",
       "      <td>UCAYALI</td>\n",
       "      <td>D44026</td>\n",
       "    </tr>\n",
       "    <tr>\n",
       "      <th>12</th>\n",
       "      <td>RENACIMIENTO UNIDO NACIONAL</td>\n",
       "      <td>1112</td>\n",
       "      <td>0.647%</td>\n",
       "      <td>0.430%</td>\n",
       "      <td>UCAYALI</td>\n",
       "      <td>D44026</td>\n",
       "    </tr>\n",
       "    <tr>\n",
       "      <th>13</th>\n",
       "      <td>PARTIDO DEMOCRATICO SOMOS PERU</td>\n",
       "      <td>7906</td>\n",
       "      <td>4.603%</td>\n",
       "      <td>3.060%</td>\n",
       "      <td>UCAYALI</td>\n",
       "      <td>D44026</td>\n",
       "    </tr>\n",
       "    <tr>\n",
       "      <th>14</th>\n",
       "      <td>PARTIDO POLITICO NACIONAL PERU LIBRE</td>\n",
       "      <td>17850</td>\n",
       "      <td>10.392%</td>\n",
       "      <td>6.908%</td>\n",
       "      <td>UCAYALI</td>\n",
       "      <td>D44026</td>\n",
       "    </tr>\n",
       "    <tr>\n",
       "      <th>15</th>\n",
       "      <td>ALIANZA PARA EL PROGRESO</td>\n",
       "      <td>17190</td>\n",
       "      <td>10.007%</td>\n",
       "      <td>6.653%</td>\n",
       "      <td>UCAYALI</td>\n",
       "      <td>D44026</td>\n",
       "    </tr>\n",
       "    <tr>\n",
       "      <th>16</th>\n",
       "      <td>TOTAL DE VOTOS VÁLIDOS</td>\n",
       "      <td>171774</td>\n",
       "      <td>100.000%</td>\n",
       "      <td>66.478%</td>\n",
       "      <td>UCAYALI</td>\n",
       "      <td>D44026</td>\n",
       "    </tr>\n",
       "    <tr>\n",
       "      <th>17</th>\n",
       "      <td>VOTOS BLANCOS</td>\n",
       "      <td>37820</td>\n",
       "      <td>NaN</td>\n",
       "      <td>14.637%</td>\n",
       "      <td>UCAYALI</td>\n",
       "      <td>D44026</td>\n",
       "    </tr>\n",
       "    <tr>\n",
       "      <th>18</th>\n",
       "      <td>VOTOS NULOS</td>\n",
       "      <td>48800</td>\n",
       "      <td>NaN</td>\n",
       "      <td>18.886%</td>\n",
       "      <td>UCAYALI</td>\n",
       "      <td>D44026</td>\n",
       "    </tr>\n",
       "    <tr>\n",
       "      <th>19</th>\n",
       "      <td>TOTAL DE VOTOS EMITIDOS</td>\n",
       "      <td>258394</td>\n",
       "      <td>NaN</td>\n",
       "      <td>100.000%</td>\n",
       "      <td>UCAYALI</td>\n",
       "      <td>D44026</td>\n",
       "    </tr>\n",
       "  </tbody>\n",
       "</table>\n",
       "</div>"
      ],
      "text/plain": [
       "                         organizaciones_políticas   total share_válidos  \\\n",
       "1   FRENTE POPULAR AGRICOLA FIA DEL PERU - FREPAP    9967        5.802%   \n",
       "2                    PARTIDO NACIONALISTA PERUANO    2644        1.539%   \n",
       "3                                  PARTIDO MORADO    3672        2.138%   \n",
       "4                               VICTORIA NACIONAL    9957        5.797%   \n",
       "5                                  ACCION POPULAR   20274       11.803%   \n",
       "6                                    PODEMOS PERU   15619        9.093%   \n",
       "7                              JUNTOS POR EL PERU   13665        7.955%   \n",
       "8                 PARTIDO POPULAR CRISTIANO - PPC    3808        2.217%   \n",
       "9                                  FUERZA POPULAR   30098       17.522%   \n",
       "10                              UNION POR EL PERU    8389        4.884%   \n",
       "11                             RENOVACION POPULAR    9623        5.602%   \n",
       "12                    RENACIMIENTO UNIDO NACIONAL    1112        0.647%   \n",
       "13                 PARTIDO DEMOCRATICO SOMOS PERU    7906        4.603%   \n",
       "14           PARTIDO POLITICO NACIONAL PERU LIBRE   17850       10.392%   \n",
       "15                       ALIANZA PARA EL PROGRESO   17190       10.007%   \n",
       "16                         TOTAL DE VOTOS VÁLIDOS  171774      100.000%   \n",
       "17                                  VOTOS BLANCOS   37820           NaN   \n",
       "18                                    VOTOS NULOS   48800           NaN   \n",
       "19                        TOTAL DE VOTOS EMITIDOS  258394           NaN   \n",
       "\n",
       "   share_emitidos   region  ubigeo  \n",
       "1          3.857%  UCAYALI  D44026  \n",
       "2          1.023%  UCAYALI  D44026  \n",
       "3          1.421%  UCAYALI  D44026  \n",
       "4          3.853%  UCAYALI  D44026  \n",
       "5          7.846%  UCAYALI  D44026  \n",
       "6          6.045%  UCAYALI  D44026  \n",
       "7          5.288%  UCAYALI  D44026  \n",
       "8          1.474%  UCAYALI  D44026  \n",
       "9         11.648%  UCAYALI  D44026  \n",
       "10         3.247%  UCAYALI  D44026  \n",
       "11         3.724%  UCAYALI  D44026  \n",
       "12         0.430%  UCAYALI  D44026  \n",
       "13         3.060%  UCAYALI  D44026  \n",
       "14         6.908%  UCAYALI  D44026  \n",
       "15         6.653%  UCAYALI  D44026  \n",
       "16        66.478%  UCAYALI  D44026  \n",
       "17        14.637%  UCAYALI  D44026  \n",
       "18        18.886%  UCAYALI  D44026  \n",
       "19       100.000%  UCAYALI  D44026  "
      ]
     },
     "execution_count": 41,
     "metadata": {},
     "output_type": "execute_result"
    }
   ],
   "source": [
    "all_tables['D44026'] "
   ]
  },
  {
   "cell_type": "code",
   "execution_count": 42,
   "id": "bf211e32",
   "metadata": {},
   "outputs": [
    {
     "data": {
      "text/html": [
       "<div>\n",
       "<style scoped>\n",
       "    .dataframe tbody tr th:only-of-type {\n",
       "        vertical-align: middle;\n",
       "    }\n",
       "\n",
       "    .dataframe tbody tr th {\n",
       "        vertical-align: top;\n",
       "    }\n",
       "\n",
       "    .dataframe thead th {\n",
       "        text-align: right;\n",
       "    }\n",
       "</style>\n",
       "<table border=\"1\" class=\"dataframe\">\n",
       "  <thead>\n",
       "    <tr style=\"text-align: right;\">\n",
       "      <th></th>\n",
       "      <th>organizaciones_políticas</th>\n",
       "      <th>total</th>\n",
       "      <th>share_válidos</th>\n",
       "      <th>share_emitidos</th>\n",
       "      <th>region</th>\n",
       "      <th>ubigeo</th>\n",
       "    </tr>\n",
       "  </thead>\n",
       "  <tbody>\n",
       "    <tr>\n",
       "      <th>0</th>\n",
       "      <td>FRENTE POPULAR AGRICOLA FIA DEL PERU - FREPAP</td>\n",
       "      <td>2000</td>\n",
       "      <td>1.678%</td>\n",
       "      <td>1.086%</td>\n",
       "      <td>AMAZONAS</td>\n",
       "      <td>D44001</td>\n",
       "    </tr>\n",
       "    <tr>\n",
       "      <th>1</th>\n",
       "      <td>PARTIDO NACIONALISTA PERUANO</td>\n",
       "      <td>11651</td>\n",
       "      <td>9.772%</td>\n",
       "      <td>6.328%</td>\n",
       "      <td>AMAZONAS</td>\n",
       "      <td>D44001</td>\n",
       "    </tr>\n",
       "    <tr>\n",
       "      <th>2</th>\n",
       "      <td>EL FRENTE AMPLIO POR JUSTICIA, VIDA Y LIBERTAD</td>\n",
       "      <td>2923</td>\n",
       "      <td>2.452%</td>\n",
       "      <td>1.588%</td>\n",
       "      <td>AMAZONAS</td>\n",
       "      <td>D44001</td>\n",
       "    </tr>\n",
       "    <tr>\n",
       "      <th>3</th>\n",
       "      <td>PARTIDO MORADO</td>\n",
       "      <td>3641</td>\n",
       "      <td>3.054%</td>\n",
       "      <td>1.978%</td>\n",
       "      <td>AMAZONAS</td>\n",
       "      <td>D44001</td>\n",
       "    </tr>\n",
       "    <tr>\n",
       "      <th>4</th>\n",
       "      <td>VICTORIA NACIONAL</td>\n",
       "      <td>6109</td>\n",
       "      <td>5.124%</td>\n",
       "      <td>3.318%</td>\n",
       "      <td>AMAZONAS</td>\n",
       "      <td>D44001</td>\n",
       "    </tr>\n",
       "    <tr>\n",
       "      <th>...</th>\n",
       "      <td>...</td>\n",
       "      <td>...</td>\n",
       "      <td>...</td>\n",
       "      <td>...</td>\n",
       "      <td>...</td>\n",
       "      <td>...</td>\n",
       "    </tr>\n",
       "    <tr>\n",
       "      <th>553</th>\n",
       "      <td>ALIANZA PARA EL PROGRESO</td>\n",
       "      <td>17190</td>\n",
       "      <td>10.007%</td>\n",
       "      <td>6.653%</td>\n",
       "      <td>UCAYALI</td>\n",
       "      <td>D44026</td>\n",
       "    </tr>\n",
       "    <tr>\n",
       "      <th>554</th>\n",
       "      <td>TOTAL DE VOTOS VÁLIDOS</td>\n",
       "      <td>171774</td>\n",
       "      <td>100.000%</td>\n",
       "      <td>66.478%</td>\n",
       "      <td>UCAYALI</td>\n",
       "      <td>D44026</td>\n",
       "    </tr>\n",
       "    <tr>\n",
       "      <th>555</th>\n",
       "      <td>VOTOS BLANCOS</td>\n",
       "      <td>37820</td>\n",
       "      <td>NaN</td>\n",
       "      <td>14.637%</td>\n",
       "      <td>UCAYALI</td>\n",
       "      <td>D44026</td>\n",
       "    </tr>\n",
       "    <tr>\n",
       "      <th>556</th>\n",
       "      <td>VOTOS NULOS</td>\n",
       "      <td>48800</td>\n",
       "      <td>NaN</td>\n",
       "      <td>18.886%</td>\n",
       "      <td>UCAYALI</td>\n",
       "      <td>D44026</td>\n",
       "    </tr>\n",
       "    <tr>\n",
       "      <th>557</th>\n",
       "      <td>TOTAL DE VOTOS EMITIDOS</td>\n",
       "      <td>258394</td>\n",
       "      <td>NaN</td>\n",
       "      <td>100.000%</td>\n",
       "      <td>UCAYALI</td>\n",
       "      <td>D44026</td>\n",
       "    </tr>\n",
       "  </tbody>\n",
       "</table>\n",
       "<p>558 rows × 6 columns</p>\n",
       "</div>"
      ],
      "text/plain": [
       "                           organizaciones_políticas   total share_válidos  \\\n",
       "0     FRENTE POPULAR AGRICOLA FIA DEL PERU - FREPAP    2000        1.678%   \n",
       "1                      PARTIDO NACIONALISTA PERUANO   11651        9.772%   \n",
       "2    EL FRENTE AMPLIO POR JUSTICIA, VIDA Y LIBERTAD    2923        2.452%   \n",
       "3                                    PARTIDO MORADO    3641        3.054%   \n",
       "4                                 VICTORIA NACIONAL    6109        5.124%   \n",
       "..                                              ...     ...           ...   \n",
       "553                        ALIANZA PARA EL PROGRESO   17190       10.007%   \n",
       "554                          TOTAL DE VOTOS VÁLIDOS  171774      100.000%   \n",
       "555                                   VOTOS BLANCOS   37820           NaN   \n",
       "556                                     VOTOS NULOS   48800           NaN   \n",
       "557                         TOTAL DE VOTOS EMITIDOS  258394           NaN   \n",
       "\n",
       "    share_emitidos    region  ubigeo  \n",
       "0           1.086%  AMAZONAS  D44001  \n",
       "1           6.328%  AMAZONAS  D44001  \n",
       "2           1.588%  AMAZONAS  D44001  \n",
       "3           1.978%  AMAZONAS  D44001  \n",
       "4           3.318%  AMAZONAS  D44001  \n",
       "..             ...       ...     ...  \n",
       "553         6.653%   UCAYALI  D44026  \n",
       "554        66.478%   UCAYALI  D44026  \n",
       "555        14.637%   UCAYALI  D44026  \n",
       "556        18.886%   UCAYALI  D44026  \n",
       "557       100.000%   UCAYALI  D44026  \n",
       "\n",
       "[558 rows x 6 columns]"
      ]
     },
     "execution_count": 42,
     "metadata": {},
     "output_type": "execute_result"
    }
   ],
   "source": [
    "dt = pd.concat( all_tables.values() ).reset_index( drop = True )\n",
    "dt"
   ]
  }
 ],
 "metadata": {
  "kernelspec": {
   "display_name": "Python 3 (ipykernel)",
   "language": "python",
   "name": "python3"
  },
  "language_info": {
   "codemirror_mode": {
    "name": "ipython",
    "version": 3
   },
   "file_extension": ".py",
   "mimetype": "text/x-python",
   "name": "python",
   "nbconvert_exporter": "python",
   "pygments_lexer": "ipython3",
   "version": "3.9.7"
  }
 },
 "nbformat": 4,
 "nbformat_minor": 5
}
