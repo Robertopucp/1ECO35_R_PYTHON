{
 "cells": [
  {
   "cell_type": "markdown",
   "id": "b9a3dafd",
   "metadata": {},
   "source": [
    "## Trabajo Grupal 7"
   ]
  },
  {
   "cell_type": "markdown",
   "id": "3c435521",
   "metadata": {},
   "source": [
    "### Grupo 1"
   ]
  },
  {
   "cell_type": "code",
   "execution_count": 3,
   "id": "55d78856",
   "metadata": {},
   "outputs": [],
   "source": [
    "#!pip install selenium\n",
    "#!pip install webdriver-manager"
   ]
  },
  {
   "cell_type": "code",
   "execution_count": 68,
   "id": "99bd58c1",
   "metadata": {},
   "outputs": [],
   "source": [
    "# this library is to manipulate browser\n",
    "from selenium import webdriver\n",
    "\n",
    "# it allows you to work with differen versions of drivers\n",
    "# We call ChromeDriver\n",
    "from webdriver_manager.chrome import ChromeDriverManager\n",
    "import re\n",
    "import time "
   ]
  },
  {
   "cell_type": "code",
   "execution_count": 69,
   "id": "fea04b96",
   "metadata": {},
   "outputs": [],
   "source": [
    "import os\n",
    "import sys"
   ]
  },
  {
   "cell_type": "code",
   "execution_count": 70,
   "id": "e491bf4e",
   "metadata": {},
   "outputs": [
    {
     "name": "stdout",
     "output_type": "stream",
     "text": [
      "\n"
     ]
    },
    {
     "name": "stderr",
     "output_type": "stream",
     "text": [
      "[WDM] - ====== WebDriver manager ======\n",
      "[WDM] - Current google-chrome version is 102.0.5005\n",
      "[WDM] - Get LATEST chromedriver version for 102.0.5005 google-chrome\n",
      "[WDM] - Driver [C:\\Users\\PERSONAL\\.wdm\\drivers\\chromedriver\\win32\\102.0.5005.61\\chromedriver.exe] found in cache\n",
      "C:\\Users\\PERSONAL\\AppData\\Local\\Temp/ipykernel_20344/1967860126.py:1: DeprecationWarning: executable_path has been deprecated, please pass in a Service object\n",
      "  driver = webdriver.Chrome(ChromeDriverManager().install() )\n"
     ]
    }
   ],
   "source": [
    "driver = webdriver.Chrome(ChromeDriverManager().install() )\n",
    "\n",
    "url = 'https://github.com/Robertopucp/1ECO35_R_PYTHON'\n",
    "driver.get( url )\n",
    "\n",
    "driver.maximize_window()"
   ]
  },
  {
   "cell_type": "markdown",
   "id": "a77e3d50",
   "metadata": {},
   "source": [
    "[Link text Here](https://github.com/Robertopucp/1ECO35_R_PYTHON)"
   ]
  },
  {
   "cell_type": "code",
   "execution_count": 71,
   "id": "bdfa4b5e",
   "metadata": {},
   "outputs": [
    {
     "name": "stdout",
     "output_type": "stream",
     "text": [
      "\n"
     ]
    },
    {
     "name": "stderr",
     "output_type": "stream",
     "text": [
      "[WDM] - ====== WebDriver manager ======\n",
      "[WDM] - Current google-chrome version is 102.0.5005\n",
      "[WDM] - Get LATEST chromedriver version for 102.0.5005 google-chrome\n",
      "[WDM] - Driver [C:\\Users\\PERSONAL\\.wdm\\drivers\\chromedriver\\win32\\102.0.5005.61\\chromedriver.exe] found in cache\n",
      "C:\\Users\\PERSONAL\\AppData\\Local\\Temp/ipykernel_20344/2786520800.py:1: DeprecationWarning: executable_path has been deprecated, please pass in a Service object\n",
      "  driver1 = webdriver.Chrome( ChromeDriverManager().install() )\n"
     ]
    }
   ],
   "source": [
    "driver1 = webdriver.Chrome( ChromeDriverManager().install() )\n",
    "\n",
    "url = 'https://www.bcrp.gob.pe/docs/Publicaciones/Nota-Semanal/2020/resumen-informativo-2020-04-02/?utm_source=phplist4557&utm_medium=email&utm_content=HTML&utm_campaign=BCRP%3A+Resumen+Informativo+Semanal+-+2+de+abril+de+2020#viii-3'\n",
    "driver1.get( url )\n",
    "\n",
    "driver1.maximize_window()"
   ]
  },
  {
   "cell_type": "code",
   "execution_count": 72,
   "id": "0fd08a6c",
   "metadata": {},
   "outputs": [],
   "source": [
    "driver1.execute_script(\"document.body.style.zoom='100%'\")"
   ]
  },
  {
   "cell_type": "code",
   "execution_count": 73,
   "id": "2698ce54",
   "metadata": {},
   "outputs": [
    {
     "data": {
      "text/plain": [
       "<selenium.webdriver.remote.webelement.WebElement (session=\"354cb315d8ec308bfcaae99c091c9657\", element=\"81d9d851-eabb-4c6b-8278-22a1cc31bbdd\")>"
      ]
     },
     "execution_count": 73,
     "metadata": {},
     "output_type": "execute_result"
    }
   ],
   "source": [
    "elements = driver1.find_elements(By.TAG_NAME, 'img')\n",
    "elements[2].click()\n",
    "elements[2]"
   ]
  },
  {
   "cell_type": "code",
   "execution_count": 74,
   "id": "0e0a4bb2",
   "metadata": {},
   "outputs": [
    {
     "name": "stderr",
     "output_type": "stream",
     "text": [
      "C:\\Users\\PERSONAL\\AppData\\Local\\Temp/ipykernel_20344/4190550744.py:1: DeprecationWarning: find_element_by_xpath is deprecated. Please use find_element(by=By.XPATH, value=xpath) instead\n",
      "  results = driver1.find_element_by_xpath('/html/body/div/table/tbody/tr/td/table/tbody/tr/td/p/img')\n"
     ]
    }
   ],
   "source": [
    "results = driver1.find_element_by_xpath('/html/body/div/table/tbody/tr/td/table/tbody/tr/td/p/img')"
   ]
  },
  {
   "cell_type": "code",
   "execution_count": 75,
   "id": "485a0111",
   "metadata": {},
   "outputs": [],
   "source": [
    "results\n",
    "results.click()"
   ]
  },
  {
   "cell_type": "markdown",
   "id": "3e049508",
   "metadata": {},
   "source": [
    "| |Total| Sin alimentos y energía|Alimentos y energía|Tendencial|\n",
    "|---|---|---|---|---|\n",
    "|Dic.19|1.9|2.3|1.4|1.7|\n",
    "|Ene.20|1.9|2.3|1.4|1.8|\n",
    "|Feb.20|1.9|2.3|1.4|1.7|\n",
    "|Mar.20|1.8|1.7|1.9|1.6|\n"
   ]
  },
  {
   "cell_type": "markdown",
   "id": "42144e2d",
   "metadata": {},
   "source": [
    "<!DOCTYPE html>\n",
    "<html>\n",
    "<body>\n",
    "\n",
    "<h1> Lima ubicación</h1>\n",
    "\n",
    "<p>Haz click en una de las opciones dentro de las cuales se encuentra tu vivienda:</p>\n",
    "\n",
    "<form action=\"/action_page.php\">\n",
    "  <input type=\"radio\" id=\"LM\" name=\"Lima Metropolitana\" value=\"Lima Metropolitana\">\n",
    "  <label for=\"LM\">Lima_Metropolitana</label><br>\n",
    "  <input type=\"radio\" id=\"LP\" name=\"Lima Provincia\" value=\"Lima Provincia\">\n",
    "  <label for=\"LP\">Lima_Provincia</label><br>\n",
    "  <input type=\"radio\" id=\"LR\" name=\"Lima Región\" value=\"Lima Región\">\n",
    "  <label for=\"LR\">Lima_Región</label><br><br>\n",
    "\n",
    "  <button onclick=\"showContent()\">Submit</button>\n",
    "    \n",
    "</form>\n",
    "\n",
    "</body>\n",
    "</html>"
   ]
  },
  {
   "cell_type": "markdown",
   "id": "1abdeebf",
   "metadata": {},
   "source": [
    "<!DOCTYPE html>\n",
    "<html>\n",
    "<body>\n",
    "\n",
    "<h1>Datos personales</h1>\n",
    "\n",
    "<form action=\"/action_page.php\">\n",
    "  <label for=\"nombre\">Nombre:</label>\n",
    "  <input type=\"text\" id=\"Nombre\" name=\"Nombre\"><br><br>\n",
    "  <label for=\"apellidos\">Apellidos:</label>\n",
    "  <input type=\"text\" id=\"apellidos\" name=\"apellidos\"><br><br>\n",
    "  <label for=\"DNI\">DNI:</label>\n",
    "  <input type=\"DNI\" id=\"DNI\" name=\"DNI\"><br><br>\n",
    "  <label for=\"Correo electrónico\">Correo electrónico:</label>\n",
    "  <input type=\"text\" id=\"Correo electrónico\" name=\"Correo electrónico\"><br><br>\n",
    "  <button onclick=\"Enviar\">Enviar</button>\n",
    "</form>\n",
    "\n",
    "<p>Click en el botón \"enviar\" para guardar y enviar los datos personales.</p>\n",
    "\n",
    "</body>\n",
    "</html>"
   ]
  },
  {
   "cell_type": "markdown",
   "id": "8d4cde21",
   "metadata": {},
   "source": [
    "### Página ONPE - SCRAPPER"
   ]
  },
  {
   "cell_type": "code",
   "execution_count": 22,
   "id": "0dfc8974",
   "metadata": {},
   "outputs": [],
   "source": [
    "from selenium import webdriver\n",
    "from selenium.webdriver.common.by import By\n",
    "from selenium.webdriver.common.keys import Keys\n",
    "from selenium.common.exceptions import NoSuchElementException\n",
    "from selenium.webdriver import ActionChains\n",
    "import pandas as pd\n",
    "import numpy as np\n",
    "import os\n",
    "import time  \n",
    "import sys\n",
    "import re \n",
    "import unidecode\n",
    "from selenium.webdriver.support.ui import Select\n",
    "from webdriver_manager.chrome import ChromeDriverManager"
   ]
  },
  {
   "cell_type": "code",
   "execution_count": 44,
   "id": "483684ed",
   "metadata": {},
   "outputs": [
    {
     "name": "stdout",
     "output_type": "stream",
     "text": [
      "\n"
     ]
    },
    {
     "name": "stderr",
     "output_type": "stream",
     "text": [
      "[WDM] - ====== WebDriver manager ======\n",
      "[WDM] - Current google-chrome version is 102.0.5005\n",
      "[WDM] - Get LATEST chromedriver version for 102.0.5005 google-chrome\n",
      "[WDM] - Driver [C:\\Users\\PERSONAL\\.wdm\\drivers\\chromedriver\\win32\\102.0.5005.61\\chromedriver.exe] found in cache\n",
      "C:\\Users\\PERSONAL\\AppData\\Local\\Temp/ipykernel_20344/303410565.py:1: DeprecationWarning: executable_path has been deprecated, please pass in a Service object\n",
      "  drivers = webdriver.Chrome(ChromeDriverManager().install() )\n"
     ]
    }
   ],
   "source": [
    "drivers = webdriver.Chrome(ChromeDriverManager().install() )\n",
    "\n",
    "url = 'https://resultadoshistorico.onpe.gob.pe/EG2021/'\n",
    "drivers.get( url )\n",
    "\n",
    "drivers.maximize_window()"
   ]
  },
  {
   "cell_type": "code",
   "execution_count": 45,
   "id": "9ac040f2",
   "metadata": {},
   "outputs": [
    {
     "name": "stderr",
     "output_type": "stream",
     "text": [
      "C:\\Users\\PERSONAL\\AppData\\Local\\Temp/ipykernel_20344/2958395124.py:1: DeprecationWarning: find_element_by_xpath is deprecated. Please use find_element(by=By.XPATH, value=xpath) instead\n",
      "  results = drivers.find_element_by_xpath('/html/body/onpe-root/onpe-home-onpe/div[1]/div/div/div/div[2]/div[1]/div/div/a/div[1]/img')\n"
     ]
    }
   ],
   "source": [
    "results = drivers.find_element_by_xpath('/html/body/onpe-root/onpe-home-onpe/div[1]/div/div/div/div[2]/div[1]/div/div/a/div[1]/img')\n",
    "results.click()"
   ]
  },
  {
   "cell_type": "code",
   "execution_count": 46,
   "id": "aa595ec2",
   "metadata": {
    "scrolled": true
   },
   "outputs": [
    {
     "name": "stderr",
     "output_type": "stream",
     "text": [
      "C:\\Users\\PERSONAL\\AppData\\Local\\Temp/ipykernel_20344/1061800072.py:1: DeprecationWarning: find_elements_by_tag_name is deprecated. Please use find_elements(by=By.TAG_NAME, value=name) instead\n",
      "  searchBox_place = drivers.find_elements_by_tag_name(\"option\")\n"
     ]
    }
   ],
   "source": [
    "searchBox_place = drivers.find_elements_by_tag_name(\"option\")"
   ]
  },
  {
   "cell_type": "code",
   "execution_count": 47,
   "id": "6deb0d22",
   "metadata": {},
   "outputs": [
    {
     "data": {
      "text/plain": [
       "{'TODOS': <selenium.webdriver.remote.webelement.WebElement (session=\"60bd5b46832a4d543801e6bc0141b62b\", element=\"21f51c39-77c4-44ed-bd3a-afe208169b23\")>,\n",
       " 'PERÚ': <selenium.webdriver.remote.webelement.WebElement (session=\"60bd5b46832a4d543801e6bc0141b62b\", element=\"1688d2f9-815e-4ad1-8536-c0964a5a3434\")>,\n",
       " 'EXTRANJERO': <selenium.webdriver.remote.webelement.WebElement (session=\"60bd5b46832a4d543801e6bc0141b62b\", element=\"c77a6c65-1690-4515-bec3-5feacb76c350\")>}"
      ]
     },
     "execution_count": 47,
     "metadata": {},
     "output_type": "execute_result"
    }
   ],
   "source": [
    "dict_searchBox_place = { i.text : i for i in searchBox_place}\n",
    "dict_searchBox_place"
   ]
  },
  {
   "cell_type": "code",
   "execution_count": 48,
   "id": "9ec4ded6",
   "metadata": {},
   "outputs": [
    {
     "data": {
      "text/plain": [
       "dict_keys(['TODOS', 'PERÚ', 'EXTRANJERO'])"
      ]
     },
     "execution_count": 48,
     "metadata": {},
     "output_type": "execute_result"
    }
   ],
   "source": [
    "dict_searchBox_place.keys()"
   ]
  },
  {
   "cell_type": "code",
   "execution_count": 49,
   "id": "9e941602",
   "metadata": {},
   "outputs": [],
   "source": [
    "dict_searchBox_place['PERÚ'].click()"
   ]
  },
  {
   "cell_type": "code",
   "execution_count": 50,
   "id": "9372b981",
   "metadata": {},
   "outputs": [
    {
     "name": "stderr",
     "output_type": "stream",
     "text": [
      "C:\\Users\\PERSONAL\\AppData\\Local\\Temp/ipykernel_20344/1061800072.py:1: DeprecationWarning: find_elements_by_tag_name is deprecated. Please use find_elements(by=By.TAG_NAME, value=name) instead\n",
      "  searchBox_place = drivers.find_elements_by_tag_name(\"option\")\n"
     ]
    }
   ],
   "source": [
    "searchBox_place = drivers.find_elements_by_tag_name(\"option\")"
   ]
  },
  {
   "cell_type": "code",
   "execution_count": 51,
   "id": "8a33b8d7",
   "metadata": {},
   "outputs": [
    {
     "data": {
      "text/plain": [
       "{'TODOS': <selenium.webdriver.remote.webelement.WebElement (session=\"60bd5b46832a4d543801e6bc0141b62b\", element=\"58dfe0e8-8d75-4f6f-bc73-ab6237604496\")>,\n",
       " 'PERÚ': <selenium.webdriver.remote.webelement.WebElement (session=\"60bd5b46832a4d543801e6bc0141b62b\", element=\"10b3a3b5-955d-4871-a412-41c695f7a1b6\")>,\n",
       " 'EXTRANJERO': <selenium.webdriver.remote.webelement.WebElement (session=\"60bd5b46832a4d543801e6bc0141b62b\", element=\"a1f4e4a0-f526-4149-a79c-58f95c814ab7\")>,\n",
       " '--TODOS--': <selenium.webdriver.remote.webelement.WebElement (session=\"60bd5b46832a4d543801e6bc0141b62b\", element=\"90ca60b0-5720-4dbf-8b7f-b73fb9477126\")>,\n",
       " 'AMAZONAS': <selenium.webdriver.remote.webelement.WebElement (session=\"60bd5b46832a4d543801e6bc0141b62b\", element=\"6636d66b-705e-4ab0-99de-46929119907c\")>,\n",
       " 'ANCASH': <selenium.webdriver.remote.webelement.WebElement (session=\"60bd5b46832a4d543801e6bc0141b62b\", element=\"476f778c-60a9-48bc-a9d9-00ece27ba702\")>,\n",
       " 'APURIMAC': <selenium.webdriver.remote.webelement.WebElement (session=\"60bd5b46832a4d543801e6bc0141b62b\", element=\"a8e0c973-6588-4e42-995a-6438bb5e0e19\")>,\n",
       " 'AREQUIPA': <selenium.webdriver.remote.webelement.WebElement (session=\"60bd5b46832a4d543801e6bc0141b62b\", element=\"bfcd0e35-eec7-451f-ac7e-072fee5ae89b\")>,\n",
       " 'AYACUCHO': <selenium.webdriver.remote.webelement.WebElement (session=\"60bd5b46832a4d543801e6bc0141b62b\", element=\"872a96d4-9a1c-462e-a3f2-0fcae57b53b6\")>,\n",
       " 'CAJAMARCA': <selenium.webdriver.remote.webelement.WebElement (session=\"60bd5b46832a4d543801e6bc0141b62b\", element=\"3561bf0d-8160-4667-abf9-94056b7bdc5d\")>,\n",
       " 'CALLAO': <selenium.webdriver.remote.webelement.WebElement (session=\"60bd5b46832a4d543801e6bc0141b62b\", element=\"eca5d96b-2fa2-497d-a0a9-5a0cd51586ac\")>,\n",
       " 'CUSCO': <selenium.webdriver.remote.webelement.WebElement (session=\"60bd5b46832a4d543801e6bc0141b62b\", element=\"9dea7ebc-1a94-4800-a8a3-c2921dce1dc9\")>,\n",
       " 'HUANCAVELICA': <selenium.webdriver.remote.webelement.WebElement (session=\"60bd5b46832a4d543801e6bc0141b62b\", element=\"26ec3744-4fab-4376-82e3-03e4614b7bf9\")>,\n",
       " 'HUANUCO': <selenium.webdriver.remote.webelement.WebElement (session=\"60bd5b46832a4d543801e6bc0141b62b\", element=\"45a7cbfe-973b-476c-9063-eb0118e3503f\")>,\n",
       " 'ICA': <selenium.webdriver.remote.webelement.WebElement (session=\"60bd5b46832a4d543801e6bc0141b62b\", element=\"e9d1704f-fc48-46da-9b9f-60b2d8f247bf\")>,\n",
       " 'JUNIN': <selenium.webdriver.remote.webelement.WebElement (session=\"60bd5b46832a4d543801e6bc0141b62b\", element=\"aa7c3774-a995-4067-a398-fb99be60a27a\")>,\n",
       " 'LA LIBERTAD': <selenium.webdriver.remote.webelement.WebElement (session=\"60bd5b46832a4d543801e6bc0141b62b\", element=\"0564d5ec-1917-4b55-8d7b-24a6927b4aee\")>,\n",
       " 'LAMBAYEQUE': <selenium.webdriver.remote.webelement.WebElement (session=\"60bd5b46832a4d543801e6bc0141b62b\", element=\"03048fd4-ffce-4cbd-9086-97472f77cf9d\")>,\n",
       " 'LIMA': <selenium.webdriver.remote.webelement.WebElement (session=\"60bd5b46832a4d543801e6bc0141b62b\", element=\"8d874405-9371-4f1a-ac29-c8007b9571d3\")>,\n",
       " 'LORETO': <selenium.webdriver.remote.webelement.WebElement (session=\"60bd5b46832a4d543801e6bc0141b62b\", element=\"28471ae1-ddf2-4e0e-a856-309aa1670292\")>,\n",
       " 'MADRE DE DIOS': <selenium.webdriver.remote.webelement.WebElement (session=\"60bd5b46832a4d543801e6bc0141b62b\", element=\"0dc5d051-e7ad-4911-a6ec-f77a43fc3cf7\")>,\n",
       " 'MOQUEGUA': <selenium.webdriver.remote.webelement.WebElement (session=\"60bd5b46832a4d543801e6bc0141b62b\", element=\"19b65ae0-fdf6-4e5d-9155-207bd139afec\")>,\n",
       " 'PASCO': <selenium.webdriver.remote.webelement.WebElement (session=\"60bd5b46832a4d543801e6bc0141b62b\", element=\"101f67b9-74a1-45bd-b174-642284cdb8ad\")>,\n",
       " 'PIURA': <selenium.webdriver.remote.webelement.WebElement (session=\"60bd5b46832a4d543801e6bc0141b62b\", element=\"619dfad2-b432-44eb-8b14-c5a1175dd8c6\")>,\n",
       " 'PUNO': <selenium.webdriver.remote.webelement.WebElement (session=\"60bd5b46832a4d543801e6bc0141b62b\", element=\"8bb0fae8-6700-4f2b-8849-d5529036a668\")>,\n",
       " 'SAN MARTIN': <selenium.webdriver.remote.webelement.WebElement (session=\"60bd5b46832a4d543801e6bc0141b62b\", element=\"ec426563-06ac-49b9-95c2-b898687bb228\")>,\n",
       " 'TACNA': <selenium.webdriver.remote.webelement.WebElement (session=\"60bd5b46832a4d543801e6bc0141b62b\", element=\"6d7b65e4-22bc-4bed-9ea9-86f5c45cc44a\")>,\n",
       " 'TUMBES': <selenium.webdriver.remote.webelement.WebElement (session=\"60bd5b46832a4d543801e6bc0141b62b\", element=\"1c66e914-c30e-49d5-b3cc-26528132a8b5\")>,\n",
       " 'UCAYALI': <selenium.webdriver.remote.webelement.WebElement (session=\"60bd5b46832a4d543801e6bc0141b62b\", element=\"1c1e867a-edbd-462d-b1fa-5330c5c7de39\")>,\n",
       " '-- SELECCIONE --': <selenium.webdriver.remote.webelement.WebElement (session=\"60bd5b46832a4d543801e6bc0141b62b\", element=\"6f8d9809-bb83-4e6c-a6a8-3c9219d47f6a\")>}"
      ]
     },
     "execution_count": 51,
     "metadata": {},
     "output_type": "execute_result"
    }
   ],
   "source": [
    "dict_searchBox_place = { i.text : i for i in searchBox_place}\n",
    "dict_searchBox_place"
   ]
  },
  {
   "cell_type": "code",
   "execution_count": 52,
   "id": "d10add75",
   "metadata": {},
   "outputs": [
    {
     "data": {
      "text/plain": [
       "<selenium.webdriver.remote.webelement.WebElement (session=\"60bd5b46832a4d543801e6bc0141b62b\", element=\"58dfe0e8-8d75-4f6f-bc73-ab6237604496\")>"
      ]
     },
     "execution_count": 52,
     "metadata": {},
     "output_type": "execute_result"
    }
   ],
   "source": [
    "dict_searchBox_place.pop('TODOS')"
   ]
  },
  {
   "cell_type": "code",
   "execution_count": 53,
   "id": "95494398",
   "metadata": {},
   "outputs": [
    {
     "data": {
      "text/plain": [
       "<selenium.webdriver.remote.webelement.WebElement (session=\"60bd5b46832a4d543801e6bc0141b62b\", element=\"10b3a3b5-955d-4871-a412-41c695f7a1b6\")>"
      ]
     },
     "execution_count": 53,
     "metadata": {},
     "output_type": "execute_result"
    }
   ],
   "source": [
    "dict_searchBox_place.pop('PERÚ')"
   ]
  },
  {
   "cell_type": "code",
   "execution_count": 54,
   "id": "437ed1b3",
   "metadata": {},
   "outputs": [
    {
     "data": {
      "text/plain": [
       "<selenium.webdriver.remote.webelement.WebElement (session=\"60bd5b46832a4d543801e6bc0141b62b\", element=\"90ca60b0-5720-4dbf-8b7f-b73fb9477126\")>"
      ]
     },
     "execution_count": 54,
     "metadata": {},
     "output_type": "execute_result"
    }
   ],
   "source": [
    "dict_searchBox_place.pop('--TODOS--')"
   ]
  },
  {
   "cell_type": "code",
   "execution_count": 58,
   "id": "852bc2be",
   "metadata": {},
   "outputs": [
    {
     "data": {
      "text/plain": [
       "<selenium.webdriver.remote.webelement.WebElement (session=\"60bd5b46832a4d543801e6bc0141b62b\", element=\"a1f4e4a0-f526-4149-a79c-58f95c814ab7\")>"
      ]
     },
     "execution_count": 58,
     "metadata": {},
     "output_type": "execute_result"
    }
   ],
   "source": [
    "dict_searchBox_place.pop('EXTRANJERO')"
   ]
  },
  {
   "cell_type": "code",
   "execution_count": 56,
   "id": "e705bb37",
   "metadata": {},
   "outputs": [
    {
     "data": {
      "text/plain": [
       "<selenium.webdriver.remote.webelement.WebElement (session=\"60bd5b46832a4d543801e6bc0141b62b\", element=\"6f8d9809-bb83-4e6c-a6a8-3c9219d47f6a\")>"
      ]
     },
     "execution_count": 56,
     "metadata": {},
     "output_type": "execute_result"
    }
   ],
   "source": [
    "dict_searchBox_place.pop('-- SELECCIONE --')"
   ]
  },
  {
   "cell_type": "code",
   "execution_count": 59,
   "id": "90b12431",
   "metadata": {
    "scrolled": true
   },
   "outputs": [
    {
     "data": {
      "text/plain": [
       "{'AMAZONAS': <selenium.webdriver.remote.webelement.WebElement (session=\"60bd5b46832a4d543801e6bc0141b62b\", element=\"6636d66b-705e-4ab0-99de-46929119907c\")>,\n",
       " 'ANCASH': <selenium.webdriver.remote.webelement.WebElement (session=\"60bd5b46832a4d543801e6bc0141b62b\", element=\"476f778c-60a9-48bc-a9d9-00ece27ba702\")>,\n",
       " 'APURIMAC': <selenium.webdriver.remote.webelement.WebElement (session=\"60bd5b46832a4d543801e6bc0141b62b\", element=\"a8e0c973-6588-4e42-995a-6438bb5e0e19\")>,\n",
       " 'AREQUIPA': <selenium.webdriver.remote.webelement.WebElement (session=\"60bd5b46832a4d543801e6bc0141b62b\", element=\"bfcd0e35-eec7-451f-ac7e-072fee5ae89b\")>,\n",
       " 'AYACUCHO': <selenium.webdriver.remote.webelement.WebElement (session=\"60bd5b46832a4d543801e6bc0141b62b\", element=\"872a96d4-9a1c-462e-a3f2-0fcae57b53b6\")>,\n",
       " 'CAJAMARCA': <selenium.webdriver.remote.webelement.WebElement (session=\"60bd5b46832a4d543801e6bc0141b62b\", element=\"3561bf0d-8160-4667-abf9-94056b7bdc5d\")>,\n",
       " 'CALLAO': <selenium.webdriver.remote.webelement.WebElement (session=\"60bd5b46832a4d543801e6bc0141b62b\", element=\"eca5d96b-2fa2-497d-a0a9-5a0cd51586ac\")>,\n",
       " 'CUSCO': <selenium.webdriver.remote.webelement.WebElement (session=\"60bd5b46832a4d543801e6bc0141b62b\", element=\"9dea7ebc-1a94-4800-a8a3-c2921dce1dc9\")>,\n",
       " 'HUANCAVELICA': <selenium.webdriver.remote.webelement.WebElement (session=\"60bd5b46832a4d543801e6bc0141b62b\", element=\"26ec3744-4fab-4376-82e3-03e4614b7bf9\")>,\n",
       " 'HUANUCO': <selenium.webdriver.remote.webelement.WebElement (session=\"60bd5b46832a4d543801e6bc0141b62b\", element=\"45a7cbfe-973b-476c-9063-eb0118e3503f\")>,\n",
       " 'ICA': <selenium.webdriver.remote.webelement.WebElement (session=\"60bd5b46832a4d543801e6bc0141b62b\", element=\"e9d1704f-fc48-46da-9b9f-60b2d8f247bf\")>,\n",
       " 'JUNIN': <selenium.webdriver.remote.webelement.WebElement (session=\"60bd5b46832a4d543801e6bc0141b62b\", element=\"aa7c3774-a995-4067-a398-fb99be60a27a\")>,\n",
       " 'LA LIBERTAD': <selenium.webdriver.remote.webelement.WebElement (session=\"60bd5b46832a4d543801e6bc0141b62b\", element=\"0564d5ec-1917-4b55-8d7b-24a6927b4aee\")>,\n",
       " 'LAMBAYEQUE': <selenium.webdriver.remote.webelement.WebElement (session=\"60bd5b46832a4d543801e6bc0141b62b\", element=\"03048fd4-ffce-4cbd-9086-97472f77cf9d\")>,\n",
       " 'LIMA': <selenium.webdriver.remote.webelement.WebElement (session=\"60bd5b46832a4d543801e6bc0141b62b\", element=\"8d874405-9371-4f1a-ac29-c8007b9571d3\")>,\n",
       " 'LORETO': <selenium.webdriver.remote.webelement.WebElement (session=\"60bd5b46832a4d543801e6bc0141b62b\", element=\"28471ae1-ddf2-4e0e-a856-309aa1670292\")>,\n",
       " 'MADRE DE DIOS': <selenium.webdriver.remote.webelement.WebElement (session=\"60bd5b46832a4d543801e6bc0141b62b\", element=\"0dc5d051-e7ad-4911-a6ec-f77a43fc3cf7\")>,\n",
       " 'MOQUEGUA': <selenium.webdriver.remote.webelement.WebElement (session=\"60bd5b46832a4d543801e6bc0141b62b\", element=\"19b65ae0-fdf6-4e5d-9155-207bd139afec\")>,\n",
       " 'PASCO': <selenium.webdriver.remote.webelement.WebElement (session=\"60bd5b46832a4d543801e6bc0141b62b\", element=\"101f67b9-74a1-45bd-b174-642284cdb8ad\")>,\n",
       " 'PIURA': <selenium.webdriver.remote.webelement.WebElement (session=\"60bd5b46832a4d543801e6bc0141b62b\", element=\"619dfad2-b432-44eb-8b14-c5a1175dd8c6\")>,\n",
       " 'PUNO': <selenium.webdriver.remote.webelement.WebElement (session=\"60bd5b46832a4d543801e6bc0141b62b\", element=\"8bb0fae8-6700-4f2b-8849-d5529036a668\")>,\n",
       " 'SAN MARTIN': <selenium.webdriver.remote.webelement.WebElement (session=\"60bd5b46832a4d543801e6bc0141b62b\", element=\"ec426563-06ac-49b9-95c2-b898687bb228\")>,\n",
       " 'TACNA': <selenium.webdriver.remote.webelement.WebElement (session=\"60bd5b46832a4d543801e6bc0141b62b\", element=\"6d7b65e4-22bc-4bed-9ea9-86f5c45cc44a\")>,\n",
       " 'TUMBES': <selenium.webdriver.remote.webelement.WebElement (session=\"60bd5b46832a4d543801e6bc0141b62b\", element=\"1c66e914-c30e-49d5-b3cc-26528132a8b5\")>,\n",
       " 'UCAYALI': <selenium.webdriver.remote.webelement.WebElement (session=\"60bd5b46832a4d543801e6bc0141b62b\", element=\"1c1e867a-edbd-462d-b1fa-5330c5c7de39\")>}"
      ]
     },
     "execution_count": 59,
     "metadata": {},
     "output_type": "execute_result"
    }
   ],
   "source": [
    "dict_searchBox_place"
   ]
  },
  {
   "cell_type": "code",
   "execution_count": 66,
   "id": "63ed1253",
   "metadata": {
    "scrolled": true
   },
   "outputs": [
    {
     "name": "stderr",
     "output_type": "stream",
     "text": [
      "C:\\Users\\PERSONAL\\AppData\\Local\\Temp/ipykernel_20344/2663722741.py:5: DeprecationWarning: find_element_by_* commands are deprecated. Please use find_element() instead\n",
      "  dpt = Select( drivers.find_element_by_id( \"select_departamento\" ) )\n",
      "C:\\Users\\PERSONAL\\AppData\\Local\\Temp/ipykernel_20344/2663722741.py:21: DeprecationWarning: find_element_by_* commands are deprecated. Please use find_element() instead\n",
      "  table_path = drivers.find_element_by_id('table1')\n"
     ]
    },
    {
     "name": "stdout",
     "output_type": "stream",
     "text": [
      "--TODOS--\n"
     ]
    },
    {
     "ename": "NoSuchElementException",
     "evalue": "Message: no such element: Unable to locate element: {\"method\":\"css selector\",\"selector\":\"[id=\"table1\"]\"}\n  (Session info: chrome=102.0.5005.115)\nStacktrace:\nBacktrace:\n\tOrdinal0 [0x0117D953+2414931]\n\tOrdinal0 [0x0110F5E1+1963489]\n\tOrdinal0 [0x00FFC6B8+837304]\n\tOrdinal0 [0x01029500+1021184]\n\tOrdinal0 [0x0102979B+1021851]\n\tOrdinal0 [0x01056502+1205506]\n\tOrdinal0 [0x010444E4+1131748]\n\tOrdinal0 [0x01054812+1198098]\n\tOrdinal0 [0x010442B6+1131190]\n\tOrdinal0 [0x0101E860+976992]\n\tOrdinal0 [0x0101F756+980822]\n\tGetHandleVerifier [0x013ECC62+2510274]\n\tGetHandleVerifier [0x013DF760+2455744]\n\tGetHandleVerifier [0x0120EABA+551962]\n\tGetHandleVerifier [0x0120D916+547446]\n\tOrdinal0 [0x01115F3B+1990459]\n\tOrdinal0 [0x0111A898+2009240]\n\tOrdinal0 [0x0111A985+2009477]\n\tOrdinal0 [0x01123AD1+2046673]\n\tBaseThreadInitThunk [0x76A8FA29+25]\n\tRtlGetAppContainerNamedObjectPath [0x77AA7A7E+286]\n\tRtlGetAppContainerNamedObjectPath [0x77AA7A4E+238]\n",
     "output_type": "error",
     "traceback": [
      "\u001b[1;31m---------------------------------------------------------------------------\u001b[0m",
      "\u001b[1;31mNoSuchElementException\u001b[0m                    Traceback (most recent call last)",
      "\u001b[1;32m~\\AppData\\Local\\Temp/ipykernel_20344/2663722741.py\u001b[0m in \u001b[0;36m<module>\u001b[1;34m\u001b[0m\n\u001b[0;32m     19\u001b[0m     \u001b[1;31m## Get table of congress votes\u001b[0m\u001b[1;33m\u001b[0m\u001b[1;33m\u001b[0m\u001b[0m\n\u001b[0;32m     20\u001b[0m     \u001b[1;31m# Get html at this point\u001b[0m\u001b[1;33m\u001b[0m\u001b[1;33m\u001b[0m\u001b[0m\n\u001b[1;32m---> 21\u001b[1;33m     \u001b[0mtable_path\u001b[0m \u001b[1;33m=\u001b[0m \u001b[0mdrivers\u001b[0m\u001b[1;33m.\u001b[0m\u001b[0mfind_element_by_id\u001b[0m\u001b[1;33m(\u001b[0m\u001b[1;34m'table1'\u001b[0m\u001b[1;33m)\u001b[0m\u001b[1;33m\u001b[0m\u001b[1;33m\u001b[0m\u001b[0m\n\u001b[0m\u001b[0;32m     22\u001b[0m     \u001b[0mtable_html\u001b[0m \u001b[1;33m=\u001b[0m \u001b[0mtable_path\u001b[0m\u001b[1;33m.\u001b[0m\u001b[0mget_attribute\u001b[0m\u001b[1;33m(\u001b[0m \u001b[1;34m'outerHTML'\u001b[0m \u001b[1;33m)\u001b[0m\u001b[1;33m\u001b[0m\u001b[1;33m\u001b[0m\u001b[0m\n\u001b[0;32m     23\u001b[0m \u001b[1;33m\u001b[0m\u001b[0m\n",
      "\u001b[1;32m~\\anaconda3\\lib\\site-packages\\selenium\\webdriver\\remote\\webdriver.py\u001b[0m in \u001b[0;36mfind_element_by_id\u001b[1;34m(self, id_)\u001b[0m\n\u001b[0;32m    476\u001b[0m             \u001b[0mstacklevel\u001b[0m\u001b[1;33m=\u001b[0m\u001b[1;36m2\u001b[0m\u001b[1;33m,\u001b[0m\u001b[1;33m\u001b[0m\u001b[1;33m\u001b[0m\u001b[0m\n\u001b[0;32m    477\u001b[0m         )\n\u001b[1;32m--> 478\u001b[1;33m         \u001b[1;32mreturn\u001b[0m \u001b[0mself\u001b[0m\u001b[1;33m.\u001b[0m\u001b[0mfind_element\u001b[0m\u001b[1;33m(\u001b[0m\u001b[0mby\u001b[0m\u001b[1;33m=\u001b[0m\u001b[0mBy\u001b[0m\u001b[1;33m.\u001b[0m\u001b[0mID\u001b[0m\u001b[1;33m,\u001b[0m \u001b[0mvalue\u001b[0m\u001b[1;33m=\u001b[0m\u001b[0mid_\u001b[0m\u001b[1;33m)\u001b[0m\u001b[1;33m\u001b[0m\u001b[1;33m\u001b[0m\u001b[0m\n\u001b[0m\u001b[0;32m    479\u001b[0m \u001b[1;33m\u001b[0m\u001b[0m\n\u001b[0;32m    480\u001b[0m     \u001b[1;32mdef\u001b[0m \u001b[0mfind_elements_by_id\u001b[0m\u001b[1;33m(\u001b[0m\u001b[0mself\u001b[0m\u001b[1;33m,\u001b[0m \u001b[0mid_\u001b[0m\u001b[1;33m)\u001b[0m \u001b[1;33m->\u001b[0m \u001b[0mList\u001b[0m\u001b[1;33m[\u001b[0m\u001b[0mWebElement\u001b[0m\u001b[1;33m]\u001b[0m\u001b[1;33m:\u001b[0m\u001b[1;33m\u001b[0m\u001b[1;33m\u001b[0m\u001b[0m\n",
      "\u001b[1;32m~\\anaconda3\\lib\\site-packages\\selenium\\webdriver\\remote\\webdriver.py\u001b[0m in \u001b[0;36mfind_element\u001b[1;34m(self, by, value)\u001b[0m\n\u001b[0;32m   1249\u001b[0m             \u001b[0mvalue\u001b[0m \u001b[1;33m=\u001b[0m \u001b[1;34m'[name=\"%s\"]'\u001b[0m \u001b[1;33m%\u001b[0m \u001b[0mvalue\u001b[0m\u001b[1;33m\u001b[0m\u001b[1;33m\u001b[0m\u001b[0m\n\u001b[0;32m   1250\u001b[0m \u001b[1;33m\u001b[0m\u001b[0m\n\u001b[1;32m-> 1251\u001b[1;33m         return self.execute(Command.FIND_ELEMENT, {\n\u001b[0m\u001b[0;32m   1252\u001b[0m             \u001b[1;34m'using'\u001b[0m\u001b[1;33m:\u001b[0m \u001b[0mby\u001b[0m\u001b[1;33m,\u001b[0m\u001b[1;33m\u001b[0m\u001b[1;33m\u001b[0m\u001b[0m\n\u001b[0;32m   1253\u001b[0m             'value': value})['value']\n",
      "\u001b[1;32m~\\anaconda3\\lib\\site-packages\\selenium\\webdriver\\remote\\webdriver.py\u001b[0m in \u001b[0;36mexecute\u001b[1;34m(self, driver_command, params)\u001b[0m\n\u001b[0;32m    428\u001b[0m         \u001b[0mresponse\u001b[0m \u001b[1;33m=\u001b[0m \u001b[0mself\u001b[0m\u001b[1;33m.\u001b[0m\u001b[0mcommand_executor\u001b[0m\u001b[1;33m.\u001b[0m\u001b[0mexecute\u001b[0m\u001b[1;33m(\u001b[0m\u001b[0mdriver_command\u001b[0m\u001b[1;33m,\u001b[0m \u001b[0mparams\u001b[0m\u001b[1;33m)\u001b[0m\u001b[1;33m\u001b[0m\u001b[1;33m\u001b[0m\u001b[0m\n\u001b[0;32m    429\u001b[0m         \u001b[1;32mif\u001b[0m \u001b[0mresponse\u001b[0m\u001b[1;33m:\u001b[0m\u001b[1;33m\u001b[0m\u001b[1;33m\u001b[0m\u001b[0m\n\u001b[1;32m--> 430\u001b[1;33m             \u001b[0mself\u001b[0m\u001b[1;33m.\u001b[0m\u001b[0merror_handler\u001b[0m\u001b[1;33m.\u001b[0m\u001b[0mcheck_response\u001b[0m\u001b[1;33m(\u001b[0m\u001b[0mresponse\u001b[0m\u001b[1;33m)\u001b[0m\u001b[1;33m\u001b[0m\u001b[1;33m\u001b[0m\u001b[0m\n\u001b[0m\u001b[0;32m    431\u001b[0m             response['value'] = self._unwrap_value(\n\u001b[0;32m    432\u001b[0m                 response.get('value', None))\n",
      "\u001b[1;32m~\\anaconda3\\lib\\site-packages\\selenium\\webdriver\\remote\\errorhandler.py\u001b[0m in \u001b[0;36mcheck_response\u001b[1;34m(self, response)\u001b[0m\n\u001b[0;32m    245\u001b[0m                 \u001b[0malert_text\u001b[0m \u001b[1;33m=\u001b[0m \u001b[0mvalue\u001b[0m\u001b[1;33m[\u001b[0m\u001b[1;34m'alert'\u001b[0m\u001b[1;33m]\u001b[0m\u001b[1;33m.\u001b[0m\u001b[0mget\u001b[0m\u001b[1;33m(\u001b[0m\u001b[1;34m'text'\u001b[0m\u001b[1;33m)\u001b[0m\u001b[1;33m\u001b[0m\u001b[1;33m\u001b[0m\u001b[0m\n\u001b[0;32m    246\u001b[0m             \u001b[1;32mraise\u001b[0m \u001b[0mexception_class\u001b[0m\u001b[1;33m(\u001b[0m\u001b[0mmessage\u001b[0m\u001b[1;33m,\u001b[0m \u001b[0mscreen\u001b[0m\u001b[1;33m,\u001b[0m \u001b[0mstacktrace\u001b[0m\u001b[1;33m,\u001b[0m \u001b[0malert_text\u001b[0m\u001b[1;33m)\u001b[0m  \u001b[1;31m# type: ignore[call-arg]  # mypy is not smart enough here\u001b[0m\u001b[1;33m\u001b[0m\u001b[1;33m\u001b[0m\u001b[0m\n\u001b[1;32m--> 247\u001b[1;33m         \u001b[1;32mraise\u001b[0m \u001b[0mexception_class\u001b[0m\u001b[1;33m(\u001b[0m\u001b[0mmessage\u001b[0m\u001b[1;33m,\u001b[0m \u001b[0mscreen\u001b[0m\u001b[1;33m,\u001b[0m \u001b[0mstacktrace\u001b[0m\u001b[1;33m)\u001b[0m\u001b[1;33m\u001b[0m\u001b[1;33m\u001b[0m\u001b[0m\n\u001b[0m\u001b[0;32m    248\u001b[0m \u001b[1;33m\u001b[0m\u001b[0m\n\u001b[0;32m    249\u001b[0m     \u001b[1;32mdef\u001b[0m \u001b[0m_value_or_default\u001b[0m\u001b[1;33m(\u001b[0m\u001b[0mself\u001b[0m\u001b[1;33m,\u001b[0m \u001b[0mobj\u001b[0m\u001b[1;33m:\u001b[0m \u001b[0mMapping\u001b[0m\u001b[1;33m[\u001b[0m\u001b[0m_KT\u001b[0m\u001b[1;33m,\u001b[0m \u001b[0m_VT\u001b[0m\u001b[1;33m]\u001b[0m\u001b[1;33m,\u001b[0m \u001b[0mkey\u001b[0m\u001b[1;33m:\u001b[0m \u001b[0m_KT\u001b[0m\u001b[1;33m,\u001b[0m \u001b[0mdefault\u001b[0m\u001b[1;33m:\u001b[0m \u001b[0m_VT\u001b[0m\u001b[1;33m)\u001b[0m \u001b[1;33m->\u001b[0m \u001b[0m_VT\u001b[0m\u001b[1;33m:\u001b[0m\u001b[1;33m\u001b[0m\u001b[1;33m\u001b[0m\u001b[0m\n",
      "\u001b[1;31mNoSuchElementException\u001b[0m: Message: no such element: Unable to locate element: {\"method\":\"css selector\",\"selector\":\"[id=\"table1\"]\"}\n  (Session info: chrome=102.0.5005.115)\nStacktrace:\nBacktrace:\n\tOrdinal0 [0x0117D953+2414931]\n\tOrdinal0 [0x0110F5E1+1963489]\n\tOrdinal0 [0x00FFC6B8+837304]\n\tOrdinal0 [0x01029500+1021184]\n\tOrdinal0 [0x0102979B+1021851]\n\tOrdinal0 [0x01056502+1205506]\n\tOrdinal0 [0x010444E4+1131748]\n\tOrdinal0 [0x01054812+1198098]\n\tOrdinal0 [0x010442B6+1131190]\n\tOrdinal0 [0x0101E860+976992]\n\tOrdinal0 [0x0101F756+980822]\n\tGetHandleVerifier [0x013ECC62+2510274]\n\tGetHandleVerifier [0x013DF760+2455744]\n\tGetHandleVerifier [0x0120EABA+551962]\n\tGetHandleVerifier [0x0120D916+547446]\n\tOrdinal0 [0x01115F3B+1990459]\n\tOrdinal0 [0x0111A898+2009240]\n\tOrdinal0 [0x0111A985+2009477]\n\tOrdinal0 [0x01123AD1+2046673]\n\tBaseThreadInitThunk [0x76A8FA29+25]\n\tRtlGetAppContainerNamedObjectPath [0x77AA7A7E+286]\n\tRtlGetAppContainerNamedObjectPath [0x77AA7A4E+238]\n"
     ]
    }
   ],
   "source": [
    "all_tables = {}\n",
    "\n",
    "for  index, (name,element) in enumerate(list(dict_searchBox_place.items())):\n",
    "           \n",
    "    dpt = Select( drivers.find_element_by_id( \"select_departamento\" ) )\n",
    "    department = dpt.options[index]\n",
    "    \n",
    "    # Get departmant name\n",
    "    dpt_name = department.text\n",
    "    \n",
    "    print(department.text)\n",
    "    \n",
    "    # click on department\n",
    "    department.click()   \n",
    "    \n",
    "    # Get UBIGEO\n",
    "    ubigeo = drivers.current_url.split(\"/\")[ -1 ]\n",
    "    \n",
    "    ## Get table of congress votes\n",
    "    # Get html at this point\n",
    "    table_path = drivers.find_element_by_id('table1')\n",
    "    table_html = table_path.get_attribute( 'outerHTML' )\n",
    "    \n",
    "    # Read the table    \n",
    "    data = table_path.text.split(\"\\n\")\n",
    "    \n",
    "    partidos_politicos = []\n",
    "    for j in range(len(data[2:])):\n",
    "        var1 = re.sub('[\\d\\.%,]', ' ', data[2:][j])\n",
    "        partidos_politicos.append(var1)\n",
    "    \n",
    "    total_votos = []\n",
    "    for j in range(len(data[2:])):\n",
    "        var2 = re.sub('[^\\d+\\s,.%]', ' ', data[2:][j])\\\n",
    "        .split(\" \")[-3]\n",
    "        total_votos.append(var2)\n",
    "        \n",
    "    validos = []\n",
    "    for j in range(len(data[2:])):\n",
    "        var3 = re.sub('[^\\d+\\s,.%]', ' ', data[2:][j])\\\n",
    "        .split(\" \")[-2]\n",
    "        validos.append(var3)\n",
    "                        \n",
    "    emitidos = []\n",
    "    for j in range(len(data[2:])):\n",
    "        var4 = re.sub('[^\\d+\\s,.%]', ' ', data[2:][j])\\\n",
    "        .split(\" \")[-1]\n",
    "        emitidos.append(var4)\n",
    "        \n",
    "    data = {'Partido_politico': partidos_politicos,\n",
    "            'Total_votos': total_votos,\n",
    "            '%_validos': validos,\n",
    "            '%_emitidos': emitidos\n",
    "            }\n",
    "    \n",
    "   # Create DataFrame\n",
    "    table_clean = pd.DataFrame(data)\n",
    "                        \n",
    "   # New values to columns \n",
    "    table_clean[ 'department' ] = dpt_name\n",
    "    table_clean[ 'ubigeo' ] = ubigeo \n",
    "   \n",
    "   # store tables\n",
    "    all_tables[ ubigeo ] = table_clean"
   ]
  },
  {
   "cell_type": "code",
   "execution_count": null,
   "id": "4e1bdbbf",
   "metadata": {},
   "outputs": [],
   "source": []
  },
  {
   "cell_type": "code",
   "execution_count": null,
   "id": "8f32eace",
   "metadata": {},
   "outputs": [],
   "source": []
  }
 ],
 "metadata": {
  "kernelspec": {
   "display_name": "Python 3 (ipykernel)",
   "language": "python",
   "name": "python3"
  },
  "language_info": {
   "codemirror_mode": {
    "name": "ipython",
    "version": 3
   },
   "file_extension": ".py",
   "mimetype": "text/x-python",
   "name": "python",
   "nbconvert_exporter": "python",
   "pygments_lexer": "ipython3",
   "version": "3.9.7"
  }
 },
 "nbformat": 4,
 "nbformat_minor": 5
}
