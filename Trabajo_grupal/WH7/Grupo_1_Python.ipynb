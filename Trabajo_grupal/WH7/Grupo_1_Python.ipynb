{
 "cells": [
  {
   "cell_type": "markdown",
   "id": "b9a3dafd",
   "metadata": {},
   "source": [
    "## Trabajo Grupal 7"
   ]
  },
  {
   "cell_type": "markdown",
   "id": "3c435521",
   "metadata": {},
   "source": [
    "### Grupo 1"
   ]
  },
  {
   "cell_type": "code",
   "execution_count": 3,
   "id": "55d78856",
   "metadata": {},
   "outputs": [],
   "source": [
    "#!pip install selenium\n",
    "#!pip install webdriver-manager"
   ]
  },
  {
   "cell_type": "code",
   "execution_count": 1,
   "id": "99bd58c1",
   "metadata": {},
   "outputs": [],
   "source": [
    "# this library is to manipulate browser\n",
    "from selenium import webdriver\n",
    "\n",
    "# it allows you to work with differen versions of drivers\n",
    "# We call ChromeDriver\n",
    "from webdriver_manager.chrome import ChromeDriverManager\n",
    "import re\n",
    "import time "
   ]
  },
  {
   "cell_type": "code",
   "execution_count": 2,
   "id": "fea04b96",
   "metadata": {},
   "outputs": [],
   "source": [
    "import os\n",
    "import sys"
   ]
  },
  {
   "cell_type": "code",
   "execution_count": 7,
   "id": "e491bf4e",
   "metadata": {},
   "outputs": [
    {
     "name": "stdout",
     "output_type": "stream",
     "text": [
      "\n"
     ]
    },
    {
     "name": "stderr",
     "output_type": "stream",
     "text": [
      "[WDM] - ====== WebDriver manager ======\n",
      "[WDM] - Current google-chrome version is 102.0.5005\n",
      "[WDM] - Get LATEST chromedriver version for 102.0.5005 google-chrome\n",
      "[WDM] - Driver [C:\\Users\\PERSONAL\\.wdm\\drivers\\chromedriver\\win32\\102.0.5005.61\\chromedriver.exe] found in cache\n",
      "C:\\Users\\PERSONAL\\AppData\\Local\\Temp/ipykernel_20344/1967860126.py:1: DeprecationWarning: executable_path has been deprecated, please pass in a Service object\n",
      "  driver = webdriver.Chrome(ChromeDriverManager().install() )\n"
     ]
    }
   ],
   "source": [
    "driver = webdriver.Chrome(ChromeDriverManager().install() )\n",
    "\n",
    "url = 'https://github.com/Robertopucp/1ECO35_R_PYTHON'\n",
    "driver.get( url )\n",
    "\n",
    "driver.maximize_window()"
   ]
  },
  {
   "cell_type": "code",
   "execution_count": null,
   "id": "5999b554",
   "metadata": {},
   "outputs": [],
   "source": []
  },
  {
   "cell_type": "code",
   "execution_count": null,
   "id": "f75323c4",
   "metadata": {},
   "outputs": [],
   "source": []
  },
  {
   "cell_type": "code",
   "execution_count": null,
   "id": "7e6d75b0",
   "metadata": {},
   "outputs": [],
   "source": []
  },
  {
   "cell_type": "markdown",
   "id": "309e9c4d",
   "metadata": {},
   "source": [
    "### Página ONPE - SCRAPPER"
   ]
  },
  {
   "cell_type": "code",
   "execution_count": 22,
   "id": "cd5e894f",
   "metadata": {},
   "outputs": [],
   "source": [
    "from selenium import webdriver\n",
    "from selenium.webdriver.common.by import By\n",
    "from selenium.webdriver.common.keys import Keys\n",
    "from selenium.common.exceptions import NoSuchElementException\n",
    "from selenium.webdriver import ActionChains\n",
    "import pandas as pd\n",
    "import numpy as np\n",
    "import os\n",
    "import time  \n",
    "import sys\n",
    "import re \n",
    "import unidecode\n",
    "from selenium.webdriver.support.ui import Select\n",
    "from webdriver_manager.chrome import ChromeDriverManager"
   ]
  },
  {
   "cell_type": "code",
   "execution_count": 32,
   "id": "54c47681",
   "metadata": {},
   "outputs": [
    {
     "name": "stdout",
     "output_type": "stream",
     "text": [
      "\n"
     ]
    },
    {
     "name": "stderr",
     "output_type": "stream",
     "text": [
      "[WDM] - ====== WebDriver manager ======\n",
      "[WDM] - Current google-chrome version is 102.0.5005\n",
      "[WDM] - Get LATEST chromedriver version for 102.0.5005 google-chrome\n",
      "[WDM] - Driver [C:\\Users\\PERSONAL\\.wdm\\drivers\\chromedriver\\win32\\102.0.5005.61\\chromedriver.exe] found in cache\n",
      "C:\\Users\\PERSONAL\\AppData\\Local\\Temp/ipykernel_20344/303410565.py:1: DeprecationWarning: executable_path has been deprecated, please pass in a Service object\n",
      "  drivers = webdriver.Chrome(ChromeDriverManager().install() )\n"
     ]
    }
   ],
   "source": [
    "drivers = webdriver.Chrome(ChromeDriverManager().install() )\n",
    "\n",
    "url = 'https://resultadoshistorico.onpe.gob.pe/EG2021/'\n",
    "drivers.get( url )\n",
    "\n",
    "drivers.maximize_window()"
   ]
  },
  {
   "cell_type": "code",
   "execution_count": 33,
   "id": "fb9b77ac",
   "metadata": {},
   "outputs": [
    {
     "name": "stderr",
     "output_type": "stream",
     "text": [
      "C:\\Users\\PERSONAL\\AppData\\Local\\Temp/ipykernel_20344/2958395124.py:1: DeprecationWarning: find_element_by_xpath is deprecated. Please use find_element(by=By.XPATH, value=xpath) instead\n",
      "  results = drivers.find_element_by_xpath('/html/body/onpe-root/onpe-home-onpe/div[1]/div/div/div/div[2]/div[1]/div/div/a/div[1]/img')\n"
     ]
    }
   ],
   "source": [
    "results = drivers.find_element_by_xpath('/html/body/onpe-root/onpe-home-onpe/div[1]/div/div/div/div[2]/div[1]/div/div/a/div[1]/img')\n",
    "results.click()"
   ]
  },
  {
   "cell_type": "code",
   "execution_count": 36,
   "id": "612313d0",
   "metadata": {
    "scrolled": true
   },
   "outputs": [
    {
     "name": "stderr",
     "output_type": "stream",
     "text": [
      "C:\\Users\\PERSONAL\\AppData\\Local\\Temp/ipykernel_20344/1061800072.py:1: DeprecationWarning: find_elements_by_tag_name is deprecated. Please use find_elements(by=By.TAG_NAME, value=name) instead\n",
      "  searchBox_place = drivers.find_elements_by_tag_name(\"option\")\n"
     ]
    }
   ],
   "source": [
    "searchBox_place = drivers.find_elements_by_tag_name(\"option\")"
   ]
  },
  {
   "cell_type": "code",
   "execution_count": 37,
   "id": "120b9cf2",
   "metadata": {},
   "outputs": [
    {
     "data": {
      "text/plain": [
       "{'TODOS': <selenium.webdriver.remote.webelement.WebElement (session=\"a15bcef7835bc6a0409fb5d8d5f2f52e\", element=\"33b92d39-4ed4-4965-9040-08a16a3a1856\")>,\n",
       " 'PERÚ': <selenium.webdriver.remote.webelement.WebElement (session=\"a15bcef7835bc6a0409fb5d8d5f2f52e\", element=\"8e05cf93-637a-4604-a1f7-cfa6f5a95734\")>,\n",
       " 'EXTRANJERO': <selenium.webdriver.remote.webelement.WebElement (session=\"a15bcef7835bc6a0409fb5d8d5f2f52e\", element=\"f6ee2cba-6f44-4f19-a979-939ac975b6e3\")>}"
      ]
     },
     "execution_count": 37,
     "metadata": {},
     "output_type": "execute_result"
    }
   ],
   "source": [
    "dict_searchBox_place = { i.text : i for i in searchBox_place}\n",
    "dict_searchBox_place"
   ]
  },
  {
   "cell_type": "code",
   "execution_count": 38,
   "id": "533b4983",
   "metadata": {},
   "outputs": [
    {
     "data": {
      "text/plain": [
       "dict_keys(['TODOS', 'PERÚ', 'EXTRANJERO'])"
      ]
     },
     "execution_count": 38,
     "metadata": {},
     "output_type": "execute_result"
    }
   ],
   "source": [
    "dict_searchBox_place.keys()"
   ]
  },
  {
   "cell_type": "code",
   "execution_count": 41,
   "id": "bd5edd5c",
   "metadata": {},
   "outputs": [],
   "source": [
    "dict_searchBox_place['PERÚ'].click()"
   ]
  },
  {
   "cell_type": "code",
   "execution_count": null,
   "id": "8df7951b",
   "metadata": {},
   "outputs": [],
   "source": []
  },
  {
   "cell_type": "code",
   "execution_count": null,
   "id": "a0c8cf66",
   "metadata": {},
   "outputs": [],
   "source": []
  },
  {
   "cell_type": "code",
   "execution_count": null,
   "id": "3e2642bf",
   "metadata": {},
   "outputs": [],
   "source": []
  },
  {
   "cell_type": "code",
   "execution_count": null,
   "id": "e6ae7e27",
   "metadata": {},
   "outputs": [],
   "source": []
  },
  {
   "cell_type": "code",
   "execution_count": null,
   "id": "2b1243d8",
   "metadata": {},
   "outputs": [],
   "source": []
  }
 ],
 "metadata": {
  "kernelspec": {
   "display_name": "Python 3 (ipykernel)",
   "language": "python",
   "name": "python3"
  },
  "language_info": {
   "codemirror_mode": {
    "name": "ipython",
    "version": 3
   },
   "file_extension": ".py",
   "mimetype": "text/x-python",
   "name": "python",
   "nbconvert_exporter": "python",
   "pygments_lexer": "ipython3",
   "version": "3.9.7"
  }
 },
 "nbformat": 4,
 "nbformat_minor": 5
}
