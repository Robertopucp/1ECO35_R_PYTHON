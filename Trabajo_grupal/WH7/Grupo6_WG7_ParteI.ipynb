{
 "cells": [
  {
   "cell_type": "markdown",
   "metadata": {},
   "source": [
    "#### WorkGroup 7 - HTML\n",
    "Tarea de Daniel Quispe y Ariana Figueroa :)"
   ]
  },
  {
   "cell_type": "markdown",
   "metadata": {},
   "source": [
    "#### Link del repositorio"
   ]
  },
  {
   "cell_type": "markdown",
   "metadata": {},
   "source": [
    "<a href=\"https://github.com/Robertopucp/1ECO35_R_PYTHON\">Este es el link del repositorio</a> "
   ]
  },
  {
   "cell_type": "markdown",
   "metadata": {},
   "source": [
    "\n",
    "<h1>Tabla de Inflación Anual de Marzo en el Rango Meta</h1>"
   ]
  },
  {
   "cell_type": "markdown",
   "metadata": {},
   "source": [
    "<table>\n",
    "  <tr>\n",
    "    <th> </th>\n",
    "    <th>Total</th>\n",
    "    <th>Sin alimentos y energía</th>\n",
    "    <th>Alimentos y energía</th>  \n",
    "    <th>Tendencial</th> \n",
    "  </tr>\n",
    "    \n",
    "  <tr>\n",
    "    <td>Dic 19</td>\n",
    "    <td>1,9</td>\n",
    "    <td>2,3</td>\n",
    "    <td>1,4</td>\n",
    "    <td>1,7</td>\n",
    "  </tr>\n",
    "    \n",
    "  <tr>\n",
    "    <td>Ene 20</td>\n",
    "    <td>1,9</td>\n",
    "    <td>2,3</td>\n",
    "    <td>1,4</td>\n",
    "    <td>1,8</td>\n",
    "  </tr>\n",
    "    \n",
    "  <tr>\n",
    "    <td>Feb 20</td>\n",
    "    <td>1,9</td>\n",
    "    <td>2,3</td>\n",
    "    <td>1,4</td>\n",
    "    <td>1,7</td>\n",
    "  </tr>\n",
    "        \n",
    "  <tr>\n",
    "    <td>Mar 20</td>\n",
    "    <td>1,8</td>\n",
    "    <td>2,7</td>\n",
    "    <td>1,9</td>\n",
    "    <td>1,6</td>\n",
    "  </tr>\n",
    "</table>"
   ]
  },
  {
   "cell_type": "markdown",
   "metadata": {},
   "source": [
    "<!DOCTYPE html>\n",
    "<html>\n",
    "<body>\n",
    "\n",
    "<h1>Formulario</h1>\n",
    "\n",
    "<form action=\"/action_page.php\">\n",
    "  <label for=\"fname\">First name:</label>\n",
    "  <input type=\"text\" id=\"fname\" name=\"fname\"><br><br>\n",
    "  <label for=\"lname\">Last name:</label>\n",
    "  <input type=\"text\" id=\"lname\" name=\"lname\"><br><br>\n",
    "  <label for=\"Correo\">Correo:</label>\n",
    "  <input type=\"text\" id=\"Correo\" name=\"Correo\"><br><br>\n",
    "  <label for=\"DNI\">DNI:</label>\n",
    "  <input type=\"text\" id=\"DNI\" name=\"DNI\"><br><br>  \n",
    "  <button onclick=\"showContent()\">Submit</button>\n",
    "</form>\n",
    "\n",
    "<p>Click the \"Submit\" button and the form-data will be sent to a page on the \n",
    "server called \"action_page.php\".</p>\n",
    "\n",
    "</body>\n",
    "</html>\n"
   ]
  },
  {
   "cell_type": "markdown",
   "metadata": {},
   "source": [
    "<!DOCTYPE html>\n",
    "<html>\n",
    "<body>\n",
    "\n",
    "<h1>Seleccionar lugar</h1>\n",
    "\n",
    "<p>Selecciona tu opción:</p>\n",
    "\n",
    "<form action=\"/action_page.php\">\n",
    "  <input type=\"radio\" id=\"Lima Metropolitana\" name=\"lugar\" value=\"Lima Metropolitana\">\n",
    "  <label for=\"Lima Metropolitana\">Lima Metroplitana</label><br>\n",
    "  <input type=\"radio\" id=\"Lima  Provincias\" name=\"lugar\" value=\"Lima Provincias\">\n",
    "  <label for=\"Lima Provincias\">Lima Provincias</label><br>\n",
    "  <input type=\"radio\" id=\"Lima Region\" name=\"lugar\" value=\"Lima REgion\">\n",
    "  <label for=\"Lima\">Lima Region</label><br><br>\n",
    "\n",
    "  <button onclick=\"showContent()\">Submit</button>\n",
    "    \n",
    "</form>\n",
    "\n",
    "</body>\n",
    "</html>\n"
   ]
  },
  {
   "cell_type": "markdown",
   "metadata": {},
   "source": [
    "<!DOCTYPE html>\n",
    "<html>\n",
    "<body>\n",
    "\n",
    "<h1>Seleccionar distrito</h1>\n",
    "\n",
    "<p>Selecciona un distrito de Lima.</p>\n",
    "\n",
    "<form action=\"/action_page.php\">\n",
    "  <label for=\"distritos\">Selecciona:</label>\n",
    "  <select name=\"distritos\" id=\"distritos\">\n",
    "    <option value=\"Breña\">Breña</option>\n",
    "    <option value=\"La Victoria\">La Victoria</option>\n",
    "    <option value=\"Miraflores\">Miraflores</option>\n",
    "    <option value=\"Barranco\">Barranco</option>\n",
    "    <option value=\"San Miguel\">San Miguel</option>\n",
    "  </select>\n",
    "  <br><br>\n",
    "</form>\n",
    "\n",
    "<button onclick=\"showContent()\">Show hidden content</button>\n",
    "    \n",
    "<p>Click the \"Submit\" button and the form-data will be sent to a page on the \n",
    "server called \"action_page.php\".</p>\n",
    "\n",
    "</body>\n",
    "</html>"
   ]
  }
 ],
 "metadata": {
  "hide_input": false,
  "kernelspec": {
   "display_name": "Python 3",
   "language": "python",
   "name": "python3"
  },
  "language_info": {
   "codemirror_mode": {
    "name": "ipython",
    "version": 3
   },
   "file_extension": ".py",
   "mimetype": "text/x-python",
   "name": "python",
   "nbconvert_exporter": "python",
   "pygments_lexer": "ipython3",
   "version": "3.8.8"
  }
 },
 "nbformat": 4,
 "nbformat_minor": 4
}
