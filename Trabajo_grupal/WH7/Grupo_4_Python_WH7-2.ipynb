{
 "cells": [
  {
   "cell_type": "markdown",
   "id": "53a72123",
   "metadata": {},
   "source": [
    "<h1>Grupo_4_Python_WH7-2</h1>"
   ]
  },
  {
   "cell_type": "code",
   "execution_count": 1,
   "id": "f127d16e",
   "metadata": {},
   "outputs": [
    {
     "data": {
      "text/html": [
       "\n",
       "<style>\n",
       "    div#notebook-container    { width: 95%; }\n",
       "    div#menubar-container     { width: 65%; }\n",
       "    div#maintoolbar-container { width: 99%; }a\n",
       "</style>\n"
      ],
      "text/plain": [
       "<IPython.core.display.HTML object>"
      ]
     },
     "metadata": {},
     "output_type": "display_data"
    }
   ],
   "source": [
    "from IPython.display import display, HTML\n",
    "\n",
    "display(HTML(data=\"\"\"\n",
    "<style>\n",
    "    div#notebook-container    { width: 95%; }\n",
    "    div#menubar-container     { width: 65%; }\n",
    "    div#maintoolbar-container { width: 99%; }a\n",
    "</style>\n",
    "\"\"\"))"
   ]
  },
  {
   "cell_type": "code",
   "execution_count": 2,
   "id": "e818461f",
   "metadata": {
    "collapsed": true
   },
   "outputs": [
    {
     "name": "stdout",
     "output_type": "stream",
     "text": [
      "Requirement already satisfied: selenium in c:\\users\\rodolfo\\anaconda3\\lib\\site-packages (4.2.0)\n",
      "Requirement already satisfied: trio~=0.17 in c:\\users\\rodolfo\\anaconda3\\lib\\site-packages (from selenium) (0.21.0)\n",
      "Requirement already satisfied: trio-websocket~=0.9 in c:\\users\\rodolfo\\anaconda3\\lib\\site-packages (from selenium) (0.9.2)\n",
      "Requirement already satisfied: urllib3[secure,socks]~=1.26 in c:\\users\\rodolfo\\anaconda3\\lib\\site-packages (from selenium) (1.26.7)\n",
      "Requirement already satisfied: cffi>=1.14 in c:\\users\\rodolfo\\anaconda3\\lib\\site-packages (from trio~=0.17->selenium) (1.14.6)\n",
      "Requirement already satisfied: attrs>=19.2.0 in c:\\users\\rodolfo\\anaconda3\\lib\\site-packages (from trio~=0.17->selenium) (21.2.0)\n",
      "Requirement already satisfied: sortedcontainers in c:\\users\\rodolfo\\anaconda3\\lib\\site-packages (from trio~=0.17->selenium) (2.4.0)\n",
      "Requirement already satisfied: sniffio in c:\\users\\rodolfo\\anaconda3\\lib\\site-packages (from trio~=0.17->selenium) (1.2.0)\n",
      "Requirement already satisfied: idna in c:\\users\\rodolfo\\anaconda3\\lib\\site-packages (from trio~=0.17->selenium) (3.2)\n",
      "Requirement already satisfied: outcome in c:\\users\\rodolfo\\anaconda3\\lib\\site-packages (from trio~=0.17->selenium) (1.2.0)\n",
      "Requirement already satisfied: async-generator>=1.9 in c:\\users\\rodolfo\\anaconda3\\lib\\site-packages (from trio~=0.17->selenium) (1.10)\n",
      "Requirement already satisfied: pycparser in c:\\users\\rodolfo\\anaconda3\\lib\\site-packages (from cffi>=1.14->trio~=0.17->selenium) (2.20)\n",
      "Requirement already satisfied: wsproto>=0.14 in c:\\users\\rodolfo\\anaconda3\\lib\\site-packages (from trio-websocket~=0.9->selenium) (1.1.0)\n",
      "Requirement already satisfied: pyOpenSSL>=0.14 in c:\\users\\rodolfo\\anaconda3\\lib\\site-packages (from urllib3[secure,socks]~=1.26->selenium) (21.0.0)\n",
      "Requirement already satisfied: cryptography>=1.3.4 in c:\\users\\rodolfo\\anaconda3\\lib\\site-packages (from urllib3[secure,socks]~=1.26->selenium) (3.4.8)\n",
      "Requirement already satisfied: certifi in c:\\users\\rodolfo\\anaconda3\\lib\\site-packages (from urllib3[secure,socks]~=1.26->selenium) (2021.10.8)\n",
      "Requirement already satisfied: PySocks!=1.5.7,<2.0,>=1.5.6 in c:\\users\\rodolfo\\anaconda3\\lib\\site-packages (from urllib3[secure,socks]~=1.26->selenium) (1.7.1)\n",
      "Requirement already satisfied: six>=1.5.2 in c:\\users\\rodolfo\\anaconda3\\lib\\site-packages (from pyOpenSSL>=0.14->urllib3[secure,socks]~=1.26->selenium) (1.16.0)\n",
      "Requirement already satisfied: h11<1,>=0.9.0 in c:\\users\\rodolfo\\anaconda3\\lib\\site-packages (from wsproto>=0.14->trio-websocket~=0.9->selenium) (0.13.0)\n",
      "Requirement already satisfied: webdriver-manager in c:\\users\\rodolfo\\anaconda3\\lib\\site-packages (3.7.0)\n",
      "Requirement already satisfied: python-dotenv in c:\\users\\rodolfo\\anaconda3\\lib\\site-packages (from webdriver-manager) (0.20.0)\n",
      "Requirement already satisfied: requests in c:\\users\\rodolfo\\anaconda3\\lib\\site-packages (from webdriver-manager) (2.26.0)\n",
      "Requirement already satisfied: urllib3<1.27,>=1.21.1 in c:\\users\\rodolfo\\anaconda3\\lib\\site-packages (from requests->webdriver-manager) (1.26.7)\n",
      "Requirement already satisfied: certifi>=2017.4.17 in c:\\users\\rodolfo\\anaconda3\\lib\\site-packages (from requests->webdriver-manager) (2021.10.8)\n",
      "Requirement already satisfied: charset-normalizer~=2.0.0 in c:\\users\\rodolfo\\anaconda3\\lib\\site-packages (from requests->webdriver-manager) (2.0.4)\n",
      "Requirement already satisfied: idna<4,>=2.5 in c:\\users\\rodolfo\\anaconda3\\lib\\site-packages (from requests->webdriver-manager) (3.2)\n"
     ]
    }
   ],
   "source": [
    "!pip install selenium\n",
    "!pip install webdriver-manager"
   ]
  },
  {
   "cell_type": "code",
   "execution_count": 139,
   "id": "e0efcdd0",
   "metadata": {},
   "outputs": [
    {
     "name": "stdout",
     "output_type": "stream",
     "text": [
      "Requirement already satisfied: lxml in c:\\users\\rodolfo\\anaconda3\\lib\\site-packages (4.6.3)\n"
     ]
    },
    {
     "name": "stderr",
     "output_type": "stream",
     "text": [
      "ERROR: Could not find a version that satisfies the requirement lxmunidecodel (from versions: none)\n",
      "ERROR: No matching distribution found for lxmunidecodel\n"
     ]
    }
   ],
   "source": [
    "!pip install lxml\n",
    "!pip install lxmunidecodel"
   ]
  },
  {
   "cell_type": "code",
   "execution_count": 140,
   "id": "9e80c656",
   "metadata": {},
   "outputs": [],
   "source": [
    "from selenium import webdriver\n",
    "from selenium.webdriver.common.keys import Keys\n",
    "from selenium.common.exceptions import NoSuchElementException #sirve cuando haya excepciones: el loop deberia seguir corriendo asi hayan excepciones\n",
    "\n",
    "# ActionChains es una forma de automatizar interacciones de bajo nivel,\n",
    "#como movimientos del mouse, acciones de botones del mouse \n",
    "# o realizar acciones más complejas como pasar el cursor por encima y arrastrar y soltar.\n",
    "\n",
    "from selenium.webdriver import ActionChains\n",
    "import pandas as pd\n",
    "import numpy as np\n",
    "import os\n",
    "import sys\n",
    "import time  \n",
    "import re # Regular expression \n",
    "import unidecode  # read Not ASCII text: traducir codigo a texto\n",
    "from selenium.webdriver.support.ui import Select\n",
    "from webdriver_manager.chrome import ChromeDriverManager"
   ]
  },
  {
   "cell_type": "code",
   "execution_count": 141,
   "id": "270cfee4",
   "metadata": {},
   "outputs": [
    {
     "name": "stdout",
     "output_type": "stream",
     "text": [
      "\n"
     ]
    },
    {
     "name": "stderr",
     "output_type": "stream",
     "text": [
      "[WDM] - ====== WebDriver manager ======\n",
      "[WDM] - Current google-chrome version is 102.0.5005\n",
      "[WDM] - Get LATEST chromedriver version for 102.0.5005 google-chrome\n",
      "[WDM] - Driver [C:\\Users\\Rodolfo\\.wdm\\drivers\\chromedriver\\win32\\102.0.5005.61\\chromedriver.exe] found in cache\n",
      "C:\\Users\\Rodolfo\\AppData\\Local\\Temp/ipykernel_16564/1283576619.py:1: DeprecationWarning: executable_path has been deprecated, please pass in a Service object\n",
      "  driver2 = webdriver.Chrome( ChromeDriverManager().install() )\n",
      "C:\\Users\\Rodolfo\\AppData\\Local\\Temp/ipykernel_16564/1283576619.py:9: DeprecationWarning: find_element_by_xpath is deprecated. Please use find_element(by=By.XPATH, value=xpath) instead\n",
      "  results = driver2.find_element_by_xpath(\"//div[@class='pic']\")\n"
     ]
    }
   ],
   "source": [
    "driver2 = webdriver.Chrome( ChromeDriverManager().install() )\n",
    "# Maximize window\n",
    "\n",
    "url = 'https://resultadoshistorico.onpe.gob.pe/EG2021/'\n",
    "driver2.get( url )\n",
    "\n",
    "driver2.maximize_window()\n",
    "\n",
    "results = driver2.find_element_by_xpath(\"//div[@class='pic']\")\n",
    "\n",
    "time.sleep(3)\n",
    "\n",
    "results.click()"
   ]
  },
  {
   "cell_type": "markdown",
   "id": "52c0e0a9",
   "metadata": {},
   "source": [
    "<h1>Página Onpe - Scrapper</h1>"
   ]
  },
  {
   "cell_type": "markdown",
   "id": "073f8302",
   "metadata": {},
   "source": [
    "<h3>Extraer información de votos congresales de las ultimas elecciones general <a href=\"https://resultadoshistorico.onpe.gob.pe/EG2021/\">link</a> </h3>"
   ]
  },
  {
   "cell_type": "code",
   "execution_count": 142,
   "id": "98578402",
   "metadata": {
    "scrolled": true
   },
   "outputs": [
    {
     "name": "stderr",
     "output_type": "stream",
     "text": [
      "C:\\Users\\Rodolfo\\AppData\\Local\\Temp/ipykernel_16564/3888140699.py:1: DeprecationWarning: find_element_by_xpath is deprecated. Please use find_element(by=By.XPATH, value=xpath) instead\n",
      "  congreso = driver2.find_element_by_xpath(\"//*[@id='navbarToggleExternalContent']/div/div[3]/a\")\n"
     ]
    }
   ],
   "source": [
    "congreso = driver2.find_element_by_xpath(\"//*[@id='navbarToggleExternalContent']/div/div[3]/a\")"
   ]
  },
  {
   "cell_type": "code",
   "execution_count": 143,
   "id": "7ffec56f",
   "metadata": {},
   "outputs": [],
   "source": [
    "congreso.click()"
   ]
  },
  {
   "cell_type": "code",
   "execution_count": 144,
   "id": "b85231fa",
   "metadata": {},
   "outputs": [
    {
     "name": "stderr",
     "output_type": "stream",
     "text": [
      "C:\\Users\\Rodolfo\\AppData\\Local\\Temp/ipykernel_16564/105817864.py:1: DeprecationWarning: find_element_by_* commands are deprecated. Please use find_element() instead\n",
      "  scope= driver2.find_element_by_id('select_departamento')\n"
     ]
    }
   ],
   "source": [
    "scope= driver2.find_element_by_id('select_departamento')"
   ]
  },
  {
   "cell_type": "code",
   "execution_count": 145,
   "id": "217744df",
   "metadata": {},
   "outputs": [
    {
     "name": "stderr",
     "output_type": "stream",
     "text": [
      "C:\\Users\\Rodolfo\\AppData\\Local\\Temp/ipykernel_16564/2334473169.py:1: DeprecationWarning: find_elements_by_tag_name is deprecated. Please use find_elements(by=By.TAG_NAME, value=name) instead\n",
      "  scope_options = scope.find_elements_by_tag_name(\"option\")\n"
     ]
    }
   ],
   "source": [
    "scope_options = scope.find_elements_by_tag_name(\"option\")"
   ]
  },
  {
   "cell_type": "code",
   "execution_count": 146,
   "id": "7a3c1022",
   "metadata": {
    "scrolled": true
   },
   "outputs": [
    {
     "data": {
      "text/plain": [
       "[<selenium.webdriver.remote.webelement.WebElement (session=\"f3dc0f7d8f5d746ae2dc808b900bf8bb\", element=\"1c97ab2c-35e4-4446-a984-48b0b6e63594\")>,\n",
       " <selenium.webdriver.remote.webelement.WebElement (session=\"f3dc0f7d8f5d746ae2dc808b900bf8bb\", element=\"4c4f8d04-9b49-409c-9cbd-65d4f7c802e1\")>,\n",
       " <selenium.webdriver.remote.webelement.WebElement (session=\"f3dc0f7d8f5d746ae2dc808b900bf8bb\", element=\"ba885d16-a94d-4357-8ec9-54715f92aec5\")>,\n",
       " <selenium.webdriver.remote.webelement.WebElement (session=\"f3dc0f7d8f5d746ae2dc808b900bf8bb\", element=\"f2469fc4-da74-46b1-b2c5-e4f57b4bf24e\")>,\n",
       " <selenium.webdriver.remote.webelement.WebElement (session=\"f3dc0f7d8f5d746ae2dc808b900bf8bb\", element=\"fa663676-94ef-49f3-ab8c-be579bf6cbd3\")>,\n",
       " <selenium.webdriver.remote.webelement.WebElement (session=\"f3dc0f7d8f5d746ae2dc808b900bf8bb\", element=\"7c1634bc-b5c0-43f7-9a59-e9e3d1c6f355\")>,\n",
       " <selenium.webdriver.remote.webelement.WebElement (session=\"f3dc0f7d8f5d746ae2dc808b900bf8bb\", element=\"99cac121-8254-415c-8d3f-a2f6d0fe9a28\")>,\n",
       " <selenium.webdriver.remote.webelement.WebElement (session=\"f3dc0f7d8f5d746ae2dc808b900bf8bb\", element=\"d2783b1e-33b1-4e92-a859-a2a497ce9f03\")>,\n",
       " <selenium.webdriver.remote.webelement.WebElement (session=\"f3dc0f7d8f5d746ae2dc808b900bf8bb\", element=\"3eecd4ef-7c06-45a3-ba83-8947618a9947\")>,\n",
       " <selenium.webdriver.remote.webelement.WebElement (session=\"f3dc0f7d8f5d746ae2dc808b900bf8bb\", element=\"68ca5b1e-70e6-49c0-a5c3-2903b3218791\")>,\n",
       " <selenium.webdriver.remote.webelement.WebElement (session=\"f3dc0f7d8f5d746ae2dc808b900bf8bb\", element=\"b63a2fd0-3508-4ee7-bb2f-4a9364c850a0\")>,\n",
       " <selenium.webdriver.remote.webelement.WebElement (session=\"f3dc0f7d8f5d746ae2dc808b900bf8bb\", element=\"f75fe3ae-2fcf-49b0-bfab-52a4c0a6f8a1\")>,\n",
       " <selenium.webdriver.remote.webelement.WebElement (session=\"f3dc0f7d8f5d746ae2dc808b900bf8bb\", element=\"f1a20b1b-3513-472a-adb5-d6e85e9cfb29\")>,\n",
       " <selenium.webdriver.remote.webelement.WebElement (session=\"f3dc0f7d8f5d746ae2dc808b900bf8bb\", element=\"b2eca684-4193-4b23-84d5-69d6336964f3\")>,\n",
       " <selenium.webdriver.remote.webelement.WebElement (session=\"f3dc0f7d8f5d746ae2dc808b900bf8bb\", element=\"489c949f-2289-4fae-a35e-d76811530314\")>,\n",
       " <selenium.webdriver.remote.webelement.WebElement (session=\"f3dc0f7d8f5d746ae2dc808b900bf8bb\", element=\"3d303d8b-735a-4624-88e0-3301d6b00495\")>,\n",
       " <selenium.webdriver.remote.webelement.WebElement (session=\"f3dc0f7d8f5d746ae2dc808b900bf8bb\", element=\"7082d8ec-7657-421b-b1e4-796b830bebbe\")>,\n",
       " <selenium.webdriver.remote.webelement.WebElement (session=\"f3dc0f7d8f5d746ae2dc808b900bf8bb\", element=\"b54c7184-ce78-4f81-95de-791d7cc8a24b\")>,\n",
       " <selenium.webdriver.remote.webelement.WebElement (session=\"f3dc0f7d8f5d746ae2dc808b900bf8bb\", element=\"1ca58621-8db7-48f2-a898-d97acebf2539\")>,\n",
       " <selenium.webdriver.remote.webelement.WebElement (session=\"f3dc0f7d8f5d746ae2dc808b900bf8bb\", element=\"e435773b-f416-4a7f-a0be-5965cecd04b7\")>,\n",
       " <selenium.webdriver.remote.webelement.WebElement (session=\"f3dc0f7d8f5d746ae2dc808b900bf8bb\", element=\"70848f27-4360-45f9-a767-9c1334dd79ee\")>,\n",
       " <selenium.webdriver.remote.webelement.WebElement (session=\"f3dc0f7d8f5d746ae2dc808b900bf8bb\", element=\"87693c22-fa68-4b97-a1ae-4652db7bcac9\")>,\n",
       " <selenium.webdriver.remote.webelement.WebElement (session=\"f3dc0f7d8f5d746ae2dc808b900bf8bb\", element=\"047ca145-992e-43b4-a07b-c2dd79d961e1\")>,\n",
       " <selenium.webdriver.remote.webelement.WebElement (session=\"f3dc0f7d8f5d746ae2dc808b900bf8bb\", element=\"047642d5-4d36-49fd-a8ae-eec0728cb502\")>,\n",
       " <selenium.webdriver.remote.webelement.WebElement (session=\"f3dc0f7d8f5d746ae2dc808b900bf8bb\", element=\"6922f0f1-c78d-4d80-99c3-aab26a2c9a64\")>,\n",
       " <selenium.webdriver.remote.webelement.WebElement (session=\"f3dc0f7d8f5d746ae2dc808b900bf8bb\", element=\"8cebc772-3e1d-4c0e-8cfa-e9cedd61bc31\")>,\n",
       " <selenium.webdriver.remote.webelement.WebElement (session=\"f3dc0f7d8f5d746ae2dc808b900bf8bb\", element=\"da737c4c-ae08-4e24-9dbe-b95459a8f1f8\")>]"
      ]
     },
     "execution_count": 146,
     "metadata": {},
     "output_type": "execute_result"
    }
   ],
   "source": [
    "scope_options\n",
    "#es una lista: cada elemento de esa lista es una opción"
   ]
  },
  {
   "cell_type": "code",
   "execution_count": 147,
   "id": "854e6204",
   "metadata": {},
   "outputs": [
    {
     "data": {
      "text/plain": [
       "'AMAZONAS'"
      ]
     },
     "execution_count": 147,
     "metadata": {},
     "output_type": "execute_result"
    }
   ],
   "source": [
    "scope_options[0].text"
   ]
  },
  {
   "cell_type": "code",
   "execution_count": 148,
   "id": "7f9b7fb5",
   "metadata": {
    "scrolled": true
   },
   "outputs": [
    {
     "data": {
      "text/plain": [
       "{'AMAZONAS': <selenium.webdriver.remote.webelement.WebElement (session=\"f3dc0f7d8f5d746ae2dc808b900bf8bb\", element=\"1c97ab2c-35e4-4446-a984-48b0b6e63594\")>,\n",
       " 'ANCASH': <selenium.webdriver.remote.webelement.WebElement (session=\"f3dc0f7d8f5d746ae2dc808b900bf8bb\", element=\"4c4f8d04-9b49-409c-9cbd-65d4f7c802e1\")>,\n",
       " 'APURIMAC': <selenium.webdriver.remote.webelement.WebElement (session=\"f3dc0f7d8f5d746ae2dc808b900bf8bb\", element=\"ba885d16-a94d-4357-8ec9-54715f92aec5\")>,\n",
       " 'AREQUIPA': <selenium.webdriver.remote.webelement.WebElement (session=\"f3dc0f7d8f5d746ae2dc808b900bf8bb\", element=\"f2469fc4-da74-46b1-b2c5-e4f57b4bf24e\")>,\n",
       " 'AYACUCHO': <selenium.webdriver.remote.webelement.WebElement (session=\"f3dc0f7d8f5d746ae2dc808b900bf8bb\", element=\"fa663676-94ef-49f3-ab8c-be579bf6cbd3\")>,\n",
       " 'CAJAMARCA': <selenium.webdriver.remote.webelement.WebElement (session=\"f3dc0f7d8f5d746ae2dc808b900bf8bb\", element=\"7c1634bc-b5c0-43f7-9a59-e9e3d1c6f355\")>,\n",
       " 'CALLAO': <selenium.webdriver.remote.webelement.WebElement (session=\"f3dc0f7d8f5d746ae2dc808b900bf8bb\", element=\"99cac121-8254-415c-8d3f-a2f6d0fe9a28\")>,\n",
       " 'CUSCO': <selenium.webdriver.remote.webelement.WebElement (session=\"f3dc0f7d8f5d746ae2dc808b900bf8bb\", element=\"d2783b1e-33b1-4e92-a859-a2a497ce9f03\")>,\n",
       " 'HUANCAVELICA': <selenium.webdriver.remote.webelement.WebElement (session=\"f3dc0f7d8f5d746ae2dc808b900bf8bb\", element=\"3eecd4ef-7c06-45a3-ba83-8947618a9947\")>,\n",
       " 'HUANUCO': <selenium.webdriver.remote.webelement.WebElement (session=\"f3dc0f7d8f5d746ae2dc808b900bf8bb\", element=\"68ca5b1e-70e6-49c0-a5c3-2903b3218791\")>,\n",
       " 'ICA': <selenium.webdriver.remote.webelement.WebElement (session=\"f3dc0f7d8f5d746ae2dc808b900bf8bb\", element=\"b63a2fd0-3508-4ee7-bb2f-4a9364c850a0\")>,\n",
       " 'JUNIN': <selenium.webdriver.remote.webelement.WebElement (session=\"f3dc0f7d8f5d746ae2dc808b900bf8bb\", element=\"f75fe3ae-2fcf-49b0-bfab-52a4c0a6f8a1\")>,\n",
       " 'LA LIBERTAD': <selenium.webdriver.remote.webelement.WebElement (session=\"f3dc0f7d8f5d746ae2dc808b900bf8bb\", element=\"f1a20b1b-3513-472a-adb5-d6e85e9cfb29\")>,\n",
       " 'LAMBAYEQUE': <selenium.webdriver.remote.webelement.WebElement (session=\"f3dc0f7d8f5d746ae2dc808b900bf8bb\", element=\"b2eca684-4193-4b23-84d5-69d6336964f3\")>,\n",
       " 'LIMA': <selenium.webdriver.remote.webelement.WebElement (session=\"f3dc0f7d8f5d746ae2dc808b900bf8bb\", element=\"489c949f-2289-4fae-a35e-d76811530314\")>,\n",
       " 'LIMA PROVINCIAS': <selenium.webdriver.remote.webelement.WebElement (session=\"f3dc0f7d8f5d746ae2dc808b900bf8bb\", element=\"3d303d8b-735a-4624-88e0-3301d6b00495\")>,\n",
       " 'LORETO': <selenium.webdriver.remote.webelement.WebElement (session=\"f3dc0f7d8f5d746ae2dc808b900bf8bb\", element=\"7082d8ec-7657-421b-b1e4-796b830bebbe\")>,\n",
       " 'MADRE DE DIOS': <selenium.webdriver.remote.webelement.WebElement (session=\"f3dc0f7d8f5d746ae2dc808b900bf8bb\", element=\"b54c7184-ce78-4f81-95de-791d7cc8a24b\")>,\n",
       " 'MOQUEGUA': <selenium.webdriver.remote.webelement.WebElement (session=\"f3dc0f7d8f5d746ae2dc808b900bf8bb\", element=\"1ca58621-8db7-48f2-a898-d97acebf2539\")>,\n",
       " 'PASCO': <selenium.webdriver.remote.webelement.WebElement (session=\"f3dc0f7d8f5d746ae2dc808b900bf8bb\", element=\"e435773b-f416-4a7f-a0be-5965cecd04b7\")>,\n",
       " 'PIURA': <selenium.webdriver.remote.webelement.WebElement (session=\"f3dc0f7d8f5d746ae2dc808b900bf8bb\", element=\"70848f27-4360-45f9-a767-9c1334dd79ee\")>,\n",
       " 'PUNO': <selenium.webdriver.remote.webelement.WebElement (session=\"f3dc0f7d8f5d746ae2dc808b900bf8bb\", element=\"87693c22-fa68-4b97-a1ae-4652db7bcac9\")>,\n",
       " 'SAN MARTIN': <selenium.webdriver.remote.webelement.WebElement (session=\"f3dc0f7d8f5d746ae2dc808b900bf8bb\", element=\"047ca145-992e-43b4-a07b-c2dd79d961e1\")>,\n",
       " 'TACNA': <selenium.webdriver.remote.webelement.WebElement (session=\"f3dc0f7d8f5d746ae2dc808b900bf8bb\", element=\"047642d5-4d36-49fd-a8ae-eec0728cb502\")>,\n",
       " 'TUMBES': <selenium.webdriver.remote.webelement.WebElement (session=\"f3dc0f7d8f5d746ae2dc808b900bf8bb\", element=\"6922f0f1-c78d-4d80-99c3-aab26a2c9a64\")>,\n",
       " 'UCAYALI': <selenium.webdriver.remote.webelement.WebElement (session=\"f3dc0f7d8f5d746ae2dc808b900bf8bb\", element=\"8cebc772-3e1d-4c0e-8cfa-e9cedd61bc31\")>,\n",
       " 'RESIDENTES EN EL EXTRANJERO': <selenium.webdriver.remote.webelement.WebElement (session=\"f3dc0f7d8f5d746ae2dc808b900bf8bb\", element=\"da737c4c-ae08-4e24-9dbe-b95459a8f1f8\")>}"
      ]
     },
     "execution_count": 148,
     "metadata": {},
     "output_type": "execute_result"
    }
   ],
   "source": [
    "dict_scope_options = { i.text : i for i in scope_options }\n",
    "dict_scope_options"
   ]
  },
  {
   "cell_type": "code",
   "execution_count": 149,
   "id": "04d55e45",
   "metadata": {},
   "outputs": [
    {
     "data": {
      "text/plain": [
       "dict_keys(['AMAZONAS', 'ANCASH', 'APURIMAC', 'AREQUIPA', 'AYACUCHO', 'CAJAMARCA', 'CALLAO', 'CUSCO', 'HUANCAVELICA', 'HUANUCO', 'ICA', 'JUNIN', 'LA LIBERTAD', 'LAMBAYEQUE', 'LIMA', 'LIMA PROVINCIAS', 'LORETO', 'MADRE DE DIOS', 'MOQUEGUA', 'PASCO', 'PIURA', 'PUNO', 'SAN MARTIN', 'TACNA', 'TUMBES', 'UCAYALI', 'RESIDENTES EN EL EXTRANJERO'])"
      ]
     },
     "execution_count": 149,
     "metadata": {},
     "output_type": "execute_result"
    }
   ],
   "source": [
    "dict_scope_options.keys()"
   ]
  },
  {
   "cell_type": "code",
   "execution_count": 150,
   "id": "b74b3771",
   "metadata": {},
   "outputs": [
    {
     "name": "stderr",
     "output_type": "stream",
     "text": [
      "C:\\Users\\Rodolfo\\AppData\\Local\\Temp/ipykernel_16564/251120720.py:3: DeprecationWarning: find_element_by_name is deprecated. Please use find_element(by=By.NAME, value=name) instead\n",
      "  dept_0 = driver2.find_element_by_name( \"cod_depa\" )\n"
     ]
    },
    {
     "data": {
      "text/plain": [
       "<selenium.webdriver.remote.webelement.WebElement (session=\"f3dc0f7d8f5d746ae2dc808b900bf8bb\", element=\"a11a525b-5273-4c5c-908e-9665a2f5d8c8\")>"
      ]
     },
     "execution_count": 150,
     "metadata": {},
     "output_type": "execute_result"
    }
   ],
   "source": [
    "all_tables = {}\n",
    "\n",
    "dept_0 = driver2.find_element_by_name( \"cod_depa\" )\n",
    "dept_0"
   ]
  },
  {
   "cell_type": "code",
   "execution_count": 151,
   "id": "d938f656",
   "metadata": {},
   "outputs": [],
   "source": [
    "dpt = Select( dept_0 )"
   ]
  },
  {
   "cell_type": "code",
   "execution_count": 152,
   "id": "c657f009",
   "metadata": {},
   "outputs": [
    {
     "data": {
      "text/plain": [
       "'LIMA PROVINCIAS'"
      ]
     },
     "execution_count": 152,
     "metadata": {},
     "output_type": "execute_result"
    }
   ],
   "source": [
    "dpt.options[15].text"
   ]
  },
  {
   "cell_type": "code",
   "execution_count": 153,
   "id": "4519216d",
   "metadata": {},
   "outputs": [
    {
     "data": {
      "text/plain": [
       "27"
      ]
     },
     "execution_count": 153,
     "metadata": {},
     "output_type": "execute_result"
    }
   ],
   "source": [
    "# Get number of total options\n",
    "num_prov_options = len( dpt.options )\n",
    "num_prov_options"
   ]
  },
  {
   "cell_type": "code",
   "execution_count": 154,
   "id": "e8a11205",
   "metadata": {},
   "outputs": [
    {
     "data": {
      "text/plain": [
       "range(0, 27)"
      ]
     },
     "execution_count": 154,
     "metadata": {},
     "output_type": "execute_result"
    }
   ],
   "source": [
    "range( num_prov_options )"
   ]
  },
  {
   "cell_type": "code",
   "execution_count": 155,
   "id": "0da04919",
   "metadata": {
    "scrolled": true
   },
   "outputs": [
    {
     "name": "stderr",
     "output_type": "stream",
     "text": [
      "C:\\Users\\Rodolfo\\AppData\\Local\\Temp/ipykernel_16564/3519996072.py:7: DeprecationWarning: find_element_by_* commands are deprecated. Please use find_element() instead\n",
      "  dpt = Select( driver2.find_element_by_id( \"select_departamento\" ) )\n"
     ]
    },
    {
     "name": "stdout",
     "output_type": "stream",
     "text": [
      "AMAZONAS\n",
      "ANCASH\n",
      "APURIMAC\n",
      "AREQUIPA\n",
      "AYACUCHO\n",
      "CAJAMARCA\n",
      "CALLAO\n",
      "CUSCO\n",
      "HUANCAVELICA\n",
      "HUANUCO\n",
      "ICA\n",
      "JUNIN\n",
      "LA LIBERTAD\n",
      "LAMBAYEQUE\n",
      "LIMA\n",
      "LIMA PROVINCIAS\n",
      "LORETO\n",
      "MADRE DE DIOS\n",
      "MOQUEGUA\n",
      "PASCO\n",
      "PIURA\n",
      "PUNO\n",
      "SAN MARTIN\n",
      "TACNA\n",
      "TUMBES\n",
      "UCAYALI\n",
      "RESIDENTES EN EL EXTRANJERO\n"
     ]
    }
   ],
   "source": [
    "for dpt_idx in range( num_prov_options ):\n",
    "    \n",
    "    # Get again all departments since HTML is refreshing\n",
    "    # all elements\n",
    "    # Click on one specific department\n",
    "    \n",
    "    dpt = Select( driver2.find_element_by_id( \"select_departamento\" ) )\n",
    "    department = dpt.options[ dpt_idx ]\n",
    "    \n",
    "    # Get departmant name\n",
    "    dpt_name = department.text\n",
    "    \n",
    "    print(dpt_name)"
   ]
  },
  {
   "cell_type": "markdown",
   "id": "203a7277",
   "metadata": {},
   "source": [
    "<h3>Extraer la siguiente tabla por cada departamento (nombre de organización política, total, % votos validos, % votos emitidos). </h3>\n",
    "<h3>No considerar residentes en el extranjero. Debe concatenar las tablas en DataFrame y exportarlo en Excel con el siguiente nombre onpe_congreso_grupo_(numero de grupo).xls<h3>"
   ]
  },
  {
   "cell_type": "code",
   "execution_count": 189,
   "id": "6473237a",
   "metadata": {
    "scrolled": true
   },
   "outputs": [
    {
     "name": "stderr",
     "output_type": "stream",
     "text": [
      "C:\\Users\\Rodolfo\\AppData\\Local\\Temp/ipykernel_16564/320096702.py:6: DeprecationWarning: find_element_by_* commands are deprecated. Please use find_element() instead\n",
      "  dpt = Select( driver2.find_element_by_id( \"select_departamento\" ) )\n"
     ]
    },
    {
     "name": "stdout",
     "output_type": "stream",
     "text": [
      "AMAZONAS\n"
     ]
    },
    {
     "name": "stderr",
     "output_type": "stream",
     "text": [
      "C:\\Users\\Rodolfo\\AppData\\Local\\Temp/ipykernel_16564/320096702.py:21: DeprecationWarning: find_element_by_xpath is deprecated. Please use find_element(by=By.XPATH, value=xpath) instead\n",
      "  table_path = driver2.find_element_by_xpath( \"/html/body/onpe-root/onpe-layout-container/onpe-onpe-econ-reco/div[1]/div[4]/div[1]/div[3]/div\" )\n"
     ]
    },
    {
     "name": "stdout",
     "output_type": "stream",
     "text": [
      "ANCASH\n",
      "APURIMAC\n",
      "AREQUIPA\n",
      "AYACUCHO\n",
      "CAJAMARCA\n",
      "CALLAO\n",
      "CUSCO\n",
      "HUANCAVELICA\n",
      "HUANUCO\n",
      "ICA\n",
      "JUNIN\n",
      "LA LIBERTAD\n",
      "LAMBAYEQUE\n",
      "LIMA\n",
      "LIMA PROVINCIAS\n",
      "LORETO\n",
      "MADRE DE DIOS\n",
      "MOQUEGUA\n",
      "PASCO\n",
      "PIURA\n",
      "PUNO\n",
      "SAN MARTIN\n",
      "TACNA\n",
      "TUMBES\n",
      "UCAYALI\n",
      "RESIDENTES EN EL EXTRANJERO\n"
     ]
    }
   ],
   "source": [
    "for dpt_idx in range( 27 ):\n",
    "    \n",
    "    # Get again all departments since HTML is refreshing\n",
    "    # all elements\n",
    "    # Click on one specific department\n",
    "    dpt = Select( driver2.find_element_by_id( \"select_departamento\" ) )\n",
    "    department = dpt.options[ dpt_idx ]\n",
    "    \n",
    "    # Get departmant name\n",
    "    dpt_name = department.text\n",
    "    \n",
    "    print(dpt_name)\n",
    "    if dpt_name != \"RESIDENTES EN EL EXTRANJERO\" :\n",
    "        \n",
    "        # click on department\n",
    "        department.click()\n",
    "        # Get UBIGEO\n",
    "        ubigeo = driver2.current_url.split(\"/\")[ -1 ]#split: quiero que me separes los eleemntos dentro de los slashs [sacar el último elemento]\n",
    "        ## Get table of presidential votes\n",
    "        # Get html at this point\n",
    "        table_path = driver2.find_element_by_xpath( \"/html/body/onpe-root/onpe-layout-container/onpe-onpe-econ-reco/div[1]/div[4]/div[1]/div[3]/div\" )\n",
    "        table_html = table_path.get_attribute( 'innerHTML' )\n",
    "        # Read the table using pandas\n",
    "        table = pd.read_html( table_html )\n",
    "        \n",
    "        # Cleaning tables\n",
    "        row_new_columns = table[ 0 ].iloc[ 0 , 1: 5]\n",
    "        clean_columns = row_new_columns\\\n",
    "            .str.replace( \" \", \"_\")\\\n",
    "            .str.lower().str.replace( \"%\", \"share_\")\\\n",
    "            .apply( lambda x : unidecode.unidecode( x ) ).tolist()\n",
    "        # Selecting specific columns\n",
    "        table_clean = table[0].iloc[1: , 1: 5].copy()  \n",
    "        # rename columns\n",
    "        table_clean.columns = clean_columns\n",
    "        # New values to columns \n",
    "        table_clean[ 'department' ] = dpt_name\n",
    "        table_clean[ 'ubigeo' ]     = ubigeo\n",
    "                        \n",
    "        # store tables\n",
    "        all_tables[ ubigeo ] = table_clean\n"
   ]
  },
  {
   "cell_type": "code",
   "execution_count": 190,
   "id": "2b8f6cfe",
   "metadata": {},
   "outputs": [
    {
     "data": {
      "text/html": [
       "<div>\n",
       "<style scoped>\n",
       "    .dataframe tbody tr th:only-of-type {\n",
       "        vertical-align: middle;\n",
       "    }\n",
       "\n",
       "    .dataframe tbody tr th {\n",
       "        vertical-align: top;\n",
       "    }\n",
       "\n",
       "    .dataframe thead th {\n",
       "        text-align: right;\n",
       "    }\n",
       "</style>\n",
       "<table border=\"1\" class=\"dataframe\">\n",
       "  <thead>\n",
       "    <tr style=\"text-align: right;\">\n",
       "      <th></th>\n",
       "      <th>organizaciones_politicas</th>\n",
       "      <th>total</th>\n",
       "      <th>share_validos</th>\n",
       "      <th>share_emitidos</th>\n",
       "      <th>department</th>\n",
       "      <th>ubigeo</th>\n",
       "    </tr>\n",
       "  </thead>\n",
       "  <tbody>\n",
       "    <tr>\n",
       "      <th>0</th>\n",
       "      <td>FRENTE POPULAR AGRICOLA FIA DEL PERU - FREPAP</td>\n",
       "      <td>2000</td>\n",
       "      <td>1.678%</td>\n",
       "      <td>1.086%</td>\n",
       "      <td>AMAZONAS</td>\n",
       "      <td>D44001</td>\n",
       "    </tr>\n",
       "    <tr>\n",
       "      <th>1</th>\n",
       "      <td>PARTIDO NACIONALISTA PERUANO</td>\n",
       "      <td>11651</td>\n",
       "      <td>9.772%</td>\n",
       "      <td>6.328%</td>\n",
       "      <td>AMAZONAS</td>\n",
       "      <td>D44001</td>\n",
       "    </tr>\n",
       "    <tr>\n",
       "      <th>2</th>\n",
       "      <td>EL FRENTE AMPLIO POR JUSTICIA, VIDA Y LIBERTAD</td>\n",
       "      <td>2923</td>\n",
       "      <td>2.452%</td>\n",
       "      <td>1.588%</td>\n",
       "      <td>AMAZONAS</td>\n",
       "      <td>D44001</td>\n",
       "    </tr>\n",
       "    <tr>\n",
       "      <th>3</th>\n",
       "      <td>PARTIDO MORADO</td>\n",
       "      <td>3641</td>\n",
       "      <td>3.054%</td>\n",
       "      <td>1.978%</td>\n",
       "      <td>AMAZONAS</td>\n",
       "      <td>D44001</td>\n",
       "    </tr>\n",
       "    <tr>\n",
       "      <th>4</th>\n",
       "      <td>VICTORIA NACIONAL</td>\n",
       "      <td>6109</td>\n",
       "      <td>5.124%</td>\n",
       "      <td>3.318%</td>\n",
       "      <td>AMAZONAS</td>\n",
       "      <td>D44001</td>\n",
       "    </tr>\n",
       "    <tr>\n",
       "      <th>...</th>\n",
       "      <td>...</td>\n",
       "      <td>...</td>\n",
       "      <td>...</td>\n",
       "      <td>...</td>\n",
       "      <td>...</td>\n",
       "      <td>...</td>\n",
       "    </tr>\n",
       "    <tr>\n",
       "      <th>558</th>\n",
       "      <td>ALIANZA PARA EL PROGRESO</td>\n",
       "      <td>17190</td>\n",
       "      <td>10.007%</td>\n",
       "      <td>6.653%</td>\n",
       "      <td>UCAYALI</td>\n",
       "      <td>D44026</td>\n",
       "    </tr>\n",
       "    <tr>\n",
       "      <th>559</th>\n",
       "      <td>TOTAL DE VOTOS VÁLIDOS</td>\n",
       "      <td>171774</td>\n",
       "      <td>100.000%</td>\n",
       "      <td>66.478%</td>\n",
       "      <td>UCAYALI</td>\n",
       "      <td>D44026</td>\n",
       "    </tr>\n",
       "    <tr>\n",
       "      <th>560</th>\n",
       "      <td>VOTOS BLANCOS</td>\n",
       "      <td>37820</td>\n",
       "      <td>NaN</td>\n",
       "      <td>14.637%</td>\n",
       "      <td>UCAYALI</td>\n",
       "      <td>D44026</td>\n",
       "    </tr>\n",
       "    <tr>\n",
       "      <th>561</th>\n",
       "      <td>VOTOS NULOS</td>\n",
       "      <td>48800</td>\n",
       "      <td>NaN</td>\n",
       "      <td>18.886%</td>\n",
       "      <td>UCAYALI</td>\n",
       "      <td>D44026</td>\n",
       "    </tr>\n",
       "    <tr>\n",
       "      <th>562</th>\n",
       "      <td>TOTAL DE VOTOS EMITIDOS</td>\n",
       "      <td>258394</td>\n",
       "      <td>NaN</td>\n",
       "      <td>100.000%</td>\n",
       "      <td>UCAYALI</td>\n",
       "      <td>D44026</td>\n",
       "    </tr>\n",
       "  </tbody>\n",
       "</table>\n",
       "<p>563 rows × 6 columns</p>\n",
       "</div>"
      ],
      "text/plain": [
       "                           organizaciones_politicas   total share_validos  \\\n",
       "0     FRENTE POPULAR AGRICOLA FIA DEL PERU - FREPAP    2000        1.678%   \n",
       "1                      PARTIDO NACIONALISTA PERUANO   11651        9.772%   \n",
       "2    EL FRENTE AMPLIO POR JUSTICIA, VIDA Y LIBERTAD    2923        2.452%   \n",
       "3                                    PARTIDO MORADO    3641        3.054%   \n",
       "4                                 VICTORIA NACIONAL    6109        5.124%   \n",
       "..                                              ...     ...           ...   \n",
       "558                        ALIANZA PARA EL PROGRESO   17190       10.007%   \n",
       "559                          TOTAL DE VOTOS VÁLIDOS  171774      100.000%   \n",
       "560                                   VOTOS BLANCOS   37820           NaN   \n",
       "561                                     VOTOS NULOS   48800           NaN   \n",
       "562                         TOTAL DE VOTOS EMITIDOS  258394           NaN   \n",
       "\n",
       "    share_emitidos department  ubigeo  \n",
       "0           1.086%   AMAZONAS  D44001  \n",
       "1           6.328%   AMAZONAS  D44001  \n",
       "2           1.588%   AMAZONAS  D44001  \n",
       "3           1.978%   AMAZONAS  D44001  \n",
       "4           3.318%   AMAZONAS  D44001  \n",
       "..             ...        ...     ...  \n",
       "558         6.653%    UCAYALI  D44026  \n",
       "559        66.478%    UCAYALI  D44026  \n",
       "560        14.637%    UCAYALI  D44026  \n",
       "561        18.886%    UCAYALI  D44026  \n",
       "562       100.000%    UCAYALI  D44026  \n",
       "\n",
       "[563 rows x 6 columns]"
      ]
     },
     "execution_count": 190,
     "metadata": {},
     "output_type": "execute_result"
    }
   ],
   "source": [
    "final_data = pd.concat( all_tables.values() ).reset_index( drop = True )\n",
    "final_data"
   ]
  },
  {
   "cell_type": "code",
   "execution_count": 199,
   "id": "b68384b6",
   "metadata": {},
   "outputs": [],
   "source": [
    "final_data1 = final_data.drop(columns = \"ubigeo\")\n"
   ]
  },
  {
   "cell_type": "code",
   "execution_count": 200,
   "id": "8bb5ddb4",
   "metadata": {},
   "outputs": [
    {
     "data": {
      "text/html": [
       "<div>\n",
       "<style scoped>\n",
       "    .dataframe tbody tr th:only-of-type {\n",
       "        vertical-align: middle;\n",
       "    }\n",
       "\n",
       "    .dataframe tbody tr th {\n",
       "        vertical-align: top;\n",
       "    }\n",
       "\n",
       "    .dataframe thead th {\n",
       "        text-align: right;\n",
       "    }\n",
       "</style>\n",
       "<table border=\"1\" class=\"dataframe\">\n",
       "  <thead>\n",
       "    <tr style=\"text-align: right;\">\n",
       "      <th></th>\n",
       "      <th>organizaciones_politicas</th>\n",
       "      <th>total</th>\n",
       "      <th>share_validos</th>\n",
       "      <th>share_emitidos</th>\n",
       "      <th>department</th>\n",
       "    </tr>\n",
       "  </thead>\n",
       "  <tbody>\n",
       "    <tr>\n",
       "      <th>0</th>\n",
       "      <td>FRENTE POPULAR AGRICOLA FIA DEL PERU - FREPAP</td>\n",
       "      <td>2000</td>\n",
       "      <td>1.678%</td>\n",
       "      <td>1.086%</td>\n",
       "      <td>AMAZONAS</td>\n",
       "    </tr>\n",
       "    <tr>\n",
       "      <th>1</th>\n",
       "      <td>PARTIDO NACIONALISTA PERUANO</td>\n",
       "      <td>11651</td>\n",
       "      <td>9.772%</td>\n",
       "      <td>6.328%</td>\n",
       "      <td>AMAZONAS</td>\n",
       "    </tr>\n",
       "    <tr>\n",
       "      <th>2</th>\n",
       "      <td>EL FRENTE AMPLIO POR JUSTICIA, VIDA Y LIBERTAD</td>\n",
       "      <td>2923</td>\n",
       "      <td>2.452%</td>\n",
       "      <td>1.588%</td>\n",
       "      <td>AMAZONAS</td>\n",
       "    </tr>\n",
       "    <tr>\n",
       "      <th>3</th>\n",
       "      <td>PARTIDO MORADO</td>\n",
       "      <td>3641</td>\n",
       "      <td>3.054%</td>\n",
       "      <td>1.978%</td>\n",
       "      <td>AMAZONAS</td>\n",
       "    </tr>\n",
       "    <tr>\n",
       "      <th>4</th>\n",
       "      <td>VICTORIA NACIONAL</td>\n",
       "      <td>6109</td>\n",
       "      <td>5.124%</td>\n",
       "      <td>3.318%</td>\n",
       "      <td>AMAZONAS</td>\n",
       "    </tr>\n",
       "    <tr>\n",
       "      <th>...</th>\n",
       "      <td>...</td>\n",
       "      <td>...</td>\n",
       "      <td>...</td>\n",
       "      <td>...</td>\n",
       "      <td>...</td>\n",
       "    </tr>\n",
       "    <tr>\n",
       "      <th>558</th>\n",
       "      <td>ALIANZA PARA EL PROGRESO</td>\n",
       "      <td>17190</td>\n",
       "      <td>10.007%</td>\n",
       "      <td>6.653%</td>\n",
       "      <td>UCAYALI</td>\n",
       "    </tr>\n",
       "    <tr>\n",
       "      <th>559</th>\n",
       "      <td>TOTAL DE VOTOS VÁLIDOS</td>\n",
       "      <td>171774</td>\n",
       "      <td>100.000%</td>\n",
       "      <td>66.478%</td>\n",
       "      <td>UCAYALI</td>\n",
       "    </tr>\n",
       "    <tr>\n",
       "      <th>560</th>\n",
       "      <td>VOTOS BLANCOS</td>\n",
       "      <td>37820</td>\n",
       "      <td>NaN</td>\n",
       "      <td>14.637%</td>\n",
       "      <td>UCAYALI</td>\n",
       "    </tr>\n",
       "    <tr>\n",
       "      <th>561</th>\n",
       "      <td>VOTOS NULOS</td>\n",
       "      <td>48800</td>\n",
       "      <td>NaN</td>\n",
       "      <td>18.886%</td>\n",
       "      <td>UCAYALI</td>\n",
       "    </tr>\n",
       "    <tr>\n",
       "      <th>562</th>\n",
       "      <td>TOTAL DE VOTOS EMITIDOS</td>\n",
       "      <td>258394</td>\n",
       "      <td>NaN</td>\n",
       "      <td>100.000%</td>\n",
       "      <td>UCAYALI</td>\n",
       "    </tr>\n",
       "  </tbody>\n",
       "</table>\n",
       "<p>563 rows × 5 columns</p>\n",
       "</div>"
      ],
      "text/plain": [
       "                           organizaciones_politicas   total share_validos  \\\n",
       "0     FRENTE POPULAR AGRICOLA FIA DEL PERU - FREPAP    2000        1.678%   \n",
       "1                      PARTIDO NACIONALISTA PERUANO   11651        9.772%   \n",
       "2    EL FRENTE AMPLIO POR JUSTICIA, VIDA Y LIBERTAD    2923        2.452%   \n",
       "3                                    PARTIDO MORADO    3641        3.054%   \n",
       "4                                 VICTORIA NACIONAL    6109        5.124%   \n",
       "..                                              ...     ...           ...   \n",
       "558                        ALIANZA PARA EL PROGRESO   17190       10.007%   \n",
       "559                          TOTAL DE VOTOS VÁLIDOS  171774      100.000%   \n",
       "560                                   VOTOS BLANCOS   37820           NaN   \n",
       "561                                     VOTOS NULOS   48800           NaN   \n",
       "562                         TOTAL DE VOTOS EMITIDOS  258394           NaN   \n",
       "\n",
       "    share_emitidos department  \n",
       "0           1.086%   AMAZONAS  \n",
       "1           6.328%   AMAZONAS  \n",
       "2           1.588%   AMAZONAS  \n",
       "3           1.978%   AMAZONAS  \n",
       "4           3.318%   AMAZONAS  \n",
       "..             ...        ...  \n",
       "558         6.653%    UCAYALI  \n",
       "559        66.478%    UCAYALI  \n",
       "560        14.637%    UCAYALI  \n",
       "561        18.886%    UCAYALI  \n",
       "562       100.000%    UCAYALI  \n",
       "\n",
       "[563 rows x 5 columns]"
      ]
     },
     "execution_count": 200,
     "metadata": {},
     "output_type": "execute_result"
    }
   ],
   "source": [
    "final_data1 "
   ]
  },
  {
   "cell_type": "code",
   "execution_count": 207,
   "id": "7f46b2e0",
   "metadata": {},
   "outputs": [
    {
     "data": {
      "text/html": [
       "<div>\n",
       "<style scoped>\n",
       "    .dataframe tbody tr th:only-of-type {\n",
       "        vertical-align: middle;\n",
       "    }\n",
       "\n",
       "    .dataframe tbody tr th {\n",
       "        vertical-align: top;\n",
       "    }\n",
       "\n",
       "    .dataframe thead th {\n",
       "        text-align: right;\n",
       "    }\n",
       "</style>\n",
       "<table border=\"1\" class=\"dataframe\">\n",
       "  <thead>\n",
       "    <tr style=\"text-align: right;\">\n",
       "      <th></th>\n",
       "      <th>nombre de organización política</th>\n",
       "      <th>total</th>\n",
       "      <th>%votos válidos</th>\n",
       "      <th>%votos emitidos</th>\n",
       "      <th>departamento</th>\n",
       "    </tr>\n",
       "  </thead>\n",
       "  <tbody>\n",
       "    <tr>\n",
       "      <th>0</th>\n",
       "      <td>FRENTE POPULAR AGRICOLA FIA DEL PERU - FREPAP</td>\n",
       "      <td>2000</td>\n",
       "      <td>1.678%</td>\n",
       "      <td>1.086%</td>\n",
       "      <td>AMAZONAS</td>\n",
       "    </tr>\n",
       "    <tr>\n",
       "      <th>1</th>\n",
       "      <td>PARTIDO NACIONALISTA PERUANO</td>\n",
       "      <td>11651</td>\n",
       "      <td>9.772%</td>\n",
       "      <td>6.328%</td>\n",
       "      <td>AMAZONAS</td>\n",
       "    </tr>\n",
       "    <tr>\n",
       "      <th>2</th>\n",
       "      <td>EL FRENTE AMPLIO POR JUSTICIA, VIDA Y LIBERTAD</td>\n",
       "      <td>2923</td>\n",
       "      <td>2.452%</td>\n",
       "      <td>1.588%</td>\n",
       "      <td>AMAZONAS</td>\n",
       "    </tr>\n",
       "    <tr>\n",
       "      <th>3</th>\n",
       "      <td>PARTIDO MORADO</td>\n",
       "      <td>3641</td>\n",
       "      <td>3.054%</td>\n",
       "      <td>1.978%</td>\n",
       "      <td>AMAZONAS</td>\n",
       "    </tr>\n",
       "    <tr>\n",
       "      <th>4</th>\n",
       "      <td>VICTORIA NACIONAL</td>\n",
       "      <td>6109</td>\n",
       "      <td>5.124%</td>\n",
       "      <td>3.318%</td>\n",
       "      <td>AMAZONAS</td>\n",
       "    </tr>\n",
       "    <tr>\n",
       "      <th>...</th>\n",
       "      <td>...</td>\n",
       "      <td>...</td>\n",
       "      <td>...</td>\n",
       "      <td>...</td>\n",
       "      <td>...</td>\n",
       "    </tr>\n",
       "    <tr>\n",
       "      <th>558</th>\n",
       "      <td>ALIANZA PARA EL PROGRESO</td>\n",
       "      <td>17190</td>\n",
       "      <td>10.007%</td>\n",
       "      <td>6.653%</td>\n",
       "      <td>UCAYALI</td>\n",
       "    </tr>\n",
       "    <tr>\n",
       "      <th>559</th>\n",
       "      <td>TOTAL DE VOTOS VÁLIDOS</td>\n",
       "      <td>171774</td>\n",
       "      <td>100.000%</td>\n",
       "      <td>66.478%</td>\n",
       "      <td>UCAYALI</td>\n",
       "    </tr>\n",
       "    <tr>\n",
       "      <th>560</th>\n",
       "      <td>VOTOS BLANCOS</td>\n",
       "      <td>37820</td>\n",
       "      <td>NaN</td>\n",
       "      <td>14.637%</td>\n",
       "      <td>UCAYALI</td>\n",
       "    </tr>\n",
       "    <tr>\n",
       "      <th>561</th>\n",
       "      <td>VOTOS NULOS</td>\n",
       "      <td>48800</td>\n",
       "      <td>NaN</td>\n",
       "      <td>18.886%</td>\n",
       "      <td>UCAYALI</td>\n",
       "    </tr>\n",
       "    <tr>\n",
       "      <th>562</th>\n",
       "      <td>TOTAL DE VOTOS EMITIDOS</td>\n",
       "      <td>258394</td>\n",
       "      <td>NaN</td>\n",
       "      <td>100.000%</td>\n",
       "      <td>UCAYALI</td>\n",
       "    </tr>\n",
       "  </tbody>\n",
       "</table>\n",
       "<p>563 rows × 5 columns</p>\n",
       "</div>"
      ],
      "text/plain": [
       "                    nombre de organización política   total %votos válidos  \\\n",
       "0     FRENTE POPULAR AGRICOLA FIA DEL PERU - FREPAP    2000         1.678%   \n",
       "1                      PARTIDO NACIONALISTA PERUANO   11651         9.772%   \n",
       "2    EL FRENTE AMPLIO POR JUSTICIA, VIDA Y LIBERTAD    2923         2.452%   \n",
       "3                                    PARTIDO MORADO    3641         3.054%   \n",
       "4                                 VICTORIA NACIONAL    6109         5.124%   \n",
       "..                                              ...     ...            ...   \n",
       "558                        ALIANZA PARA EL PROGRESO   17190        10.007%   \n",
       "559                          TOTAL DE VOTOS VÁLIDOS  171774       100.000%   \n",
       "560                                   VOTOS BLANCOS   37820            NaN   \n",
       "561                                     VOTOS NULOS   48800            NaN   \n",
       "562                         TOTAL DE VOTOS EMITIDOS  258394            NaN   \n",
       "\n",
       "    %votos emitidos departamento  \n",
       "0            1.086%     AMAZONAS  \n",
       "1            6.328%     AMAZONAS  \n",
       "2            1.588%     AMAZONAS  \n",
       "3            1.978%     AMAZONAS  \n",
       "4            3.318%     AMAZONAS  \n",
       "..              ...          ...  \n",
       "558          6.653%      UCAYALI  \n",
       "559         66.478%      UCAYALI  \n",
       "560         14.637%      UCAYALI  \n",
       "561         18.886%      UCAYALI  \n",
       "562        100.000%      UCAYALI  \n",
       "\n",
       "[563 rows x 5 columns]"
      ]
     },
     "execution_count": 207,
     "metadata": {},
     "output_type": "execute_result"
    }
   ],
   "source": [
    "final_data1.rename(columns={\"organizaciones_politicas\":\"nombre de organización política\", \"share_validos\":\"%votos válidos\", \"share_emitidos\":\"%votos emitidos\", \"department\":\"departamento\"}, inplace=True)\n",
    "final_data1"
   ]
  },
  {
   "cell_type": "code",
   "execution_count": 208,
   "id": "5016c6d3",
   "metadata": {},
   "outputs": [
    {
     "name": "stderr",
     "output_type": "stream",
     "text": [
      "C:\\Users\\Rodolfo\\AppData\\Local\\Temp/ipykernel_16564/155138826.py:1: FutureWarning: As the xlwt package is no longer maintained, the xlwt engine will be removed in a future version of pandas. This is the only engine in pandas that supports writing in the xls format. Install openpyxl and write to an xlsx file instead. You can set the option io.excel.xls.writer to 'xlwt' to silence this warning. While this option is deprecated and will also raise a warning, it can be globally set and the warning suppressed.\n",
      "  final_data1.to_excel( r'onpe_congreso_grupo_4.xls' , index = False )\n"
     ]
    }
   ],
   "source": [
    "final_data1.to_excel( r'onpe_congreso_grupo_4.xls' , index = False )"
   ]
  }
 ],
 "metadata": {
  "kernelspec": {
   "display_name": "Python 3 (ipykernel)",
   "language": "python",
   "name": "python3"
  },
  "language_info": {
   "codemirror_mode": {
    "name": "ipython",
    "version": 3
   },
   "file_extension": ".py",
   "mimetype": "text/x-python",
   "name": "python",
   "nbconvert_exporter": "python",
   "pygments_lexer": "ipython3",
   "version": "3.9.7"
  }
 },
 "nbformat": 4,
 "nbformat_minor": 5
}
