{
 "cells": [
  {
   "cell_type": "markdown",
   "id": "31949d70",
   "metadata": {},
   "source": [
    "# HTML y Web Scrapping (solo script en Python)"
   ]
  },
  {
   "cell_type": "markdown",
   "id": "7c61de68",
   "metadata": {},
   "source": [
    "1- Insertar el link del repositorio del curso.\n"
   ]
  },
  {
   "cell_type": "markdown",
   "id": "3e48d8f8",
   "metadata": {},
   "source": [
    "<h2>\n",
    "    Welcome to 1ECO35, a R and Python Programming course.\n",
    "    <a href=\"https://github.com/Robertopucp/1ECO35_R_PYTHON/\">\n",
    "     Enter here\n",
    "    </a>\n",
    "</h2>"
   ]
  },
  {
   "cell_type": "markdown",
   "id": "f0cad03c",
   "metadata": {},
   "source": [
    "2 - Replicar la tabla de inflación anual de marzo en el rango meta. La tabla se ubica en el siguiente url"
   ]
  },
  {
   "cell_type": "markdown",
   "id": "e712b7d3",
   "metadata": {},
   "source": [
    "| |Total| Sin alimentos y energía|Alimentos y energía|Tendencial|\n",
    "|---|---|---|---|---|\n",
    "|Dic.19|1.9|2.3|1.4|1.7|\n",
    "|Ene.20|1.9|2.3|1.4|1.8|\n",
    "|Feb.20|1.9|2.3|1.4|1.7|\n",
    "|Mar.20|1.8|1.7|1.9|1.6|"
   ]
  },
  {
   "cell_type": "markdown",
   "id": "a749a4a0",
   "metadata": {},
   "source": [
    "3- Crear las siguientes opciones para marcar (Lima Metropolitana, Lima provincia y Lima región ). Crear una lista despegable con las opciones de 5 distritos de Lima."
   ]
  },
  {
   "cell_type": "markdown",
   "id": "06b214cc",
   "metadata": {},
   "source": [
    "<!DOCTYPE html>\n",
    "<html>\n",
    "<body>\n",
    "\n",
    "<h1> Lima ubicación</h1>\n",
    "\n",
    "<p>Haz click en una de las opciones dentro de las cuales se encuentra tu vivienda:</p>\n",
    "\n",
    "<form action=\"/action_page.php\">\n",
    "  <input type=\"radio\" id=\"LM\" name=\"Lima Metropolitana\" value=\"Lima Metropolitana\">\n",
    "  <label for=\"LM\">Lima_Metropolitana</label><br>\n",
    "  <input type=\"radio\" id=\"LP\" name=\"Lima Provincia\" value=\"Lima Provincia\">\n",
    "  <label for=\"LP\">Lima_Provincia</label><br>\n",
    "  <input type=\"radio\" id=\"LR\" name=\"Lima Región\" value=\"Lima Región\">\n",
    "  <label for=\"LR\">Lima_Región</label><br><br>\n",
    "\n",
    "  <button onclick=\"showContent()\">Submit</button>\n",
    "    \n",
    "</form>\n",
    "\n",
    "</body>\n",
    "</html>"
   ]
  },
  {
   "cell_type": "markdown",
   "id": "903d99c3",
   "metadata": {},
   "source": [
    "Crear una lista despegable con las opciones de 5 distritos de Lima"
   ]
  },
  {
   "cell_type": "markdown",
   "id": "f6fe8dbe",
   "metadata": {},
   "source": [
    "<!DOCTYPE html>\n",
    "<html>\n",
    "<body>\n",
    "\n",
    "<h1>Distrito en el que vives</h1>\n",
    "\n",
    "<p>Selecciona el distrito en el que se encuentra en tu vivienda</p>\n",
    "\n",
    "<form action=\"/action_page.php\">\n",
    "  <label for=\"distrito\">Elige un distrito:</label>\n",
    "  <select name=\"distrito\" id=\"distrito\">\n",
    "    <option value=\"Jesús María\">Jesús María</option>\n",
    "    <option value=\"San Borja\">San Borja</option>\n",
    "    <option value=\"San Miguel\">San Miguel</option>\n",
    "    <option value=\"Los Olivos\">Los Olivos</option>\n",
    "    <option value=\"San Isidro\">San Isidro</option>\n",
    "  </select>\n",
    "  <br><br>\n",
    "</form>\n",
    "\n",
    "<button onclick=\"siguiente\">Siguiente</button>\n",
    "    \n",
    "<p>Haz click en siguiente para seguir completando el formulario</p>\n",
    "\n",
    "</body>\n",
    "</html>"
   ]
  },
  {
   "cell_type": "markdown",
   "id": "d705704d",
   "metadata": {},
   "source": [
    "4 - Crear un formulario para ingresar el nombre, apellidos, DNI y correo electrónico. Asimismo, debe añadirse un botón para enviar los resultados."
   ]
  },
  {
   "cell_type": "markdown",
   "id": "44a2c692",
   "metadata": {},
   "source": [
    "<!DOCTYPE html>\n",
    "<html>\n",
    "<body>\n",
    "\n",
    "<h1>Datos personales</h1>\n",
    "\n",
    "<form action=\"/action_page.php\">\n",
    "  <label for=\"nombre\">Nombre:</label>\n",
    "  <input type=\"text\" id=\"Nombre\" name=\"Nombre\"><br><br>\n",
    "  <label for=\"apellidos\">Apellidos:</label>\n",
    "  <input type=\"text\" id=\"apellidos\" name=\"apellidos\"><br><br>\n",
    "  <label for=\"DNI\">DNI:</label>\n",
    "  <input type=\"DNI\" id=\"DNI\" name=\"DNI\"><br><br>\n",
    "  <label for=\"Correo electrónico\">Correo electrónico:</label>\n",
    "  <input type=\"text\" id=\"Correo electrónico\" name=\"Correo electrónico\"><br><br>\n",
    "  <button onclick=\"Enviar\">Enviar</button>\n",
    "</form>\n",
    "\n",
    "<p>Click en el botón \"enviar\" para guardar y enviar los datos personales.</p>\n",
    "\n",
    "</body>\n",
    "</html>"
   ]
  },
  {
   "cell_type": "markdown",
   "id": "6121854b",
   "metadata": {},
   "source": [
    "# Página Onpe - Scrapper"
   ]
  },
  {
   "cell_type": "markdown",
   "id": "8b9f1f76",
   "metadata": {},
   "source": [
    "Extraer información de votos congresales de las ultimas elecciones general link.\n",
    "\n",
    "Extraer la siguiente tabla por cada departamento (nombre de organización política, total, % votos validos, % votos emitidos. No considerar residentes en el extranjero. Debe concatenar las tablas en DataFrame y exportarlo en Excel con el siguiente nombre onpe_congreso_grupo_(numero de grupo).xls"
   ]
  },
  {
   "cell_type": "code",
   "execution_count": 2,
   "id": "6f25a037",
   "metadata": {},
   "outputs": [],
   "source": [
    "from selenium import webdriver\n",
    "from selenium.webdriver.common.by import By\n",
    "from selenium.webdriver.common.keys import Keys\n",
    "from selenium.common.exceptions import NoSuchElementException\n",
    "from selenium.webdriver import ActionChains\n",
    "import pandas as pd\n",
    "import numpy as np\n",
    "import os\n",
    "import sys\n",
    "import time\n",
    "import re\n",
    "import unidecode \n",
    "from selenium.webdriver.support.ui import Select\n",
    "from webdriver_manager.chrome import ChromeDriverManager"
   ]
  },
  {
   "cell_type": "code",
   "execution_count": 3,
   "id": "f2da726a",
   "metadata": {},
   "outputs": [
    {
     "name": "stdout",
     "output_type": "stream",
     "text": [
      "\n"
     ]
    },
    {
     "name": "stderr",
     "output_type": "stream",
     "text": [
      "[WDM] - ====== WebDriver manager ======\n",
      "[WDM] - Current google-chrome version is 102.0.5005\n",
      "[WDM] - Get LATEST chromedriver version for 102.0.5005 google-chrome\n",
      "[WDM] - Driver [C:\\Users\\maria\\.wdm\\drivers\\chromedriver\\win32\\102.0.5005.61\\chromedriver.exe] found in cache\n",
      "C:\\Users\\Public\\Documents\\Wondershare\\CreatorTemp/ipykernel_22156/3735745074.py:1: DeprecationWarning: executable_path has been deprecated, please pass in a Service object\n",
      "  driver1 = webdriver.Chrome( ChromeDriverManager().install() )\n"
     ]
    }
   ],
   "source": [
    "driver1 = webdriver.Chrome( ChromeDriverManager().install() )\n",
    "\n",
    "url = 'https://resultadoshistorico.onpe.gob.pe/EG2021/'\n",
    "driver1.get( url )\n",
    "driver1.maximize_window()"
   ]
  },
  {
   "cell_type": "code",
   "execution_count": 4,
   "id": "5748a452",
   "metadata": {},
   "outputs": [
    {
     "name": "stderr",
     "output_type": "stream",
     "text": [
      "C:\\Users\\Public\\Documents\\Wondershare\\CreatorTemp/ipykernel_22156/3246400857.py:1: DeprecationWarning: find_element_by_xpath is deprecated. Please use find_element(by=By.XPATH, value=xpath) instead\n",
      "  results1 = driver1.find_element_by_xpath('/html/body/onpe-root/onpe-home-onpe/div[1]/div/div/div/div[2]/div[3]/div/div/a/div[1]/img')\n"
     ]
    }
   ],
   "source": [
    "results1 = driver1.find_element_by_xpath('/html/body/onpe-root/onpe-home-onpe/div[1]/div/div/div/div[2]/div[3]/div/div/a/div[1]/img')\n",
    "\n",
    "results1.click()"
   ]
  },
  {
   "cell_type": "code",
   "execution_count": 5,
   "id": "38d3ba70",
   "metadata": {},
   "outputs": [
    {
     "name": "stderr",
     "output_type": "stream",
     "text": [
      "C:\\Users\\Public\\Documents\\Wondershare\\CreatorTemp/ipykernel_22156/1554326593.py:1: DeprecationWarning: find_element_by_xpath is deprecated. Please use find_element(by=By.XPATH, value=xpath) instead\n",
      "  searchBox = driver1.find_element_by_xpath('/html/body/onpe-root/onpe-layout-container/onpe-onpe-econ-reco/div[1]/div[3]/div/div/div/div/div/select')\n"
     ]
    }
   ],
   "source": [
    "searchBox = driver1.find_element_by_xpath('/html/body/onpe-root/onpe-layout-container/onpe-onpe-econ-reco/div[1]/div[3]/div/div/div/div/div/select')"
   ]
  },
  {
   "cell_type": "code",
   "execution_count": 6,
   "id": "51dda874",
   "metadata": {},
   "outputs": [
    {
     "name": "stderr",
     "output_type": "stream",
     "text": [
      "C:\\Users\\Public\\Documents\\Wondershare\\CreatorTemp/ipykernel_22156/2578591670.py:1: DeprecationWarning: find_elements_by_tag_name is deprecated. Please use find_elements(by=By.TAG_NAME, value=name) instead\n",
      "  searchBox_dept = driver1.find_elements_by_tag_name(\"option\")\n"
     ]
    }
   ],
   "source": [
    "searchBox_dept = driver1.find_elements_by_tag_name(\"option\")"
   ]
  },
  {
   "cell_type": "code",
   "execution_count": 7,
   "id": "a332a104",
   "metadata": {},
   "outputs": [
    {
     "data": {
      "text/plain": [
       "{'AMAZONAS': <selenium.webdriver.remote.webelement.WebElement (session=\"eeda7de420202098fd0d21fa0cebbb27\", element=\"124319b1-a15b-4a6f-81d3-bc44970ff9df\")>,\n",
       " 'ANCASH': <selenium.webdriver.remote.webelement.WebElement (session=\"eeda7de420202098fd0d21fa0cebbb27\", element=\"76d1dccb-71f9-4ce4-9b67-9ae35b6bc484\")>,\n",
       " 'APURIMAC': <selenium.webdriver.remote.webelement.WebElement (session=\"eeda7de420202098fd0d21fa0cebbb27\", element=\"b21d2850-78f5-40aa-812b-95d9cf7ce766\")>,\n",
       " 'AREQUIPA': <selenium.webdriver.remote.webelement.WebElement (session=\"eeda7de420202098fd0d21fa0cebbb27\", element=\"887e58a3-a806-48f7-ac66-2341c8d1c54b\")>,\n",
       " 'AYACUCHO': <selenium.webdriver.remote.webelement.WebElement (session=\"eeda7de420202098fd0d21fa0cebbb27\", element=\"6b3e26ec-3c54-4319-a1cc-bd9de3b49d25\")>,\n",
       " 'CAJAMARCA': <selenium.webdriver.remote.webelement.WebElement (session=\"eeda7de420202098fd0d21fa0cebbb27\", element=\"56736190-3ed2-43d1-8d88-c2c62f8a918a\")>,\n",
       " 'CALLAO': <selenium.webdriver.remote.webelement.WebElement (session=\"eeda7de420202098fd0d21fa0cebbb27\", element=\"4ea3d68f-4416-48aa-bcb7-a70635c82a66\")>,\n",
       " 'CUSCO': <selenium.webdriver.remote.webelement.WebElement (session=\"eeda7de420202098fd0d21fa0cebbb27\", element=\"78d06781-7773-4a0f-b883-769b3c88f21a\")>,\n",
       " 'HUANCAVELICA': <selenium.webdriver.remote.webelement.WebElement (session=\"eeda7de420202098fd0d21fa0cebbb27\", element=\"83d3a430-4cb9-47fc-9a93-51e7907d71a7\")>,\n",
       " 'HUANUCO': <selenium.webdriver.remote.webelement.WebElement (session=\"eeda7de420202098fd0d21fa0cebbb27\", element=\"0bfe9d62-1e64-49c6-9218-928cce61b324\")>,\n",
       " 'ICA': <selenium.webdriver.remote.webelement.WebElement (session=\"eeda7de420202098fd0d21fa0cebbb27\", element=\"ff9a6983-e714-401e-88f7-1bfae1b97d0e\")>,\n",
       " 'JUNIN': <selenium.webdriver.remote.webelement.WebElement (session=\"eeda7de420202098fd0d21fa0cebbb27\", element=\"a15fcbca-4d7e-49db-8823-cff76980215f\")>,\n",
       " 'LA LIBERTAD': <selenium.webdriver.remote.webelement.WebElement (session=\"eeda7de420202098fd0d21fa0cebbb27\", element=\"c132f3b3-c52b-4d23-ae77-a8f45d454d44\")>,\n",
       " 'LAMBAYEQUE': <selenium.webdriver.remote.webelement.WebElement (session=\"eeda7de420202098fd0d21fa0cebbb27\", element=\"39fe18b4-90eb-4f08-9dd0-ece944e4c4c4\")>,\n",
       " 'LIMA': <selenium.webdriver.remote.webelement.WebElement (session=\"eeda7de420202098fd0d21fa0cebbb27\", element=\"800f7252-a676-45b5-aa70-c80221bf8ca5\")>,\n",
       " 'LIMA PROVINCIAS': <selenium.webdriver.remote.webelement.WebElement (session=\"eeda7de420202098fd0d21fa0cebbb27\", element=\"04cc3623-2e9d-44bf-9313-2bc05966e440\")>,\n",
       " 'LORETO': <selenium.webdriver.remote.webelement.WebElement (session=\"eeda7de420202098fd0d21fa0cebbb27\", element=\"92970be7-f70e-4fe3-838c-cdd5a72f37cc\")>,\n",
       " 'MADRE DE DIOS': <selenium.webdriver.remote.webelement.WebElement (session=\"eeda7de420202098fd0d21fa0cebbb27\", element=\"34b98437-8cb3-4254-8748-07cb13516a35\")>,\n",
       " 'MOQUEGUA': <selenium.webdriver.remote.webelement.WebElement (session=\"eeda7de420202098fd0d21fa0cebbb27\", element=\"a2f417a0-9851-47bc-8a12-e2c74e8c6dad\")>,\n",
       " 'PASCO': <selenium.webdriver.remote.webelement.WebElement (session=\"eeda7de420202098fd0d21fa0cebbb27\", element=\"88290188-9839-4f22-b4d1-154c6e40b270\")>,\n",
       " 'PIURA': <selenium.webdriver.remote.webelement.WebElement (session=\"eeda7de420202098fd0d21fa0cebbb27\", element=\"4c07018a-b1ee-4586-9514-4f03d817327d\")>,\n",
       " 'PUNO': <selenium.webdriver.remote.webelement.WebElement (session=\"eeda7de420202098fd0d21fa0cebbb27\", element=\"ce59da84-7d9d-48fb-8800-83ce20068c4b\")>,\n",
       " 'SAN MARTIN': <selenium.webdriver.remote.webelement.WebElement (session=\"eeda7de420202098fd0d21fa0cebbb27\", element=\"153fa96c-1680-4394-80fc-0f8411e6b023\")>,\n",
       " 'TACNA': <selenium.webdriver.remote.webelement.WebElement (session=\"eeda7de420202098fd0d21fa0cebbb27\", element=\"20acbc96-1781-448b-bad9-68fa353f9ca1\")>,\n",
       " 'TUMBES': <selenium.webdriver.remote.webelement.WebElement (session=\"eeda7de420202098fd0d21fa0cebbb27\", element=\"c320affe-cf1f-4e21-bac4-4ff88283d9eb\")>,\n",
       " 'UCAYALI': <selenium.webdriver.remote.webelement.WebElement (session=\"eeda7de420202098fd0d21fa0cebbb27\", element=\"eaea079d-8a94-41a9-8359-7b22577890b4\")>,\n",
       " 'RESIDENTES EN EL EXTRANJERO': <selenium.webdriver.remote.webelement.WebElement (session=\"eeda7de420202098fd0d21fa0cebbb27\", element=\"66937a7b-ec38-4b78-af18-d3ff0715c8fb\")>}"
      ]
     },
     "execution_count": 7,
     "metadata": {},
     "output_type": "execute_result"
    }
   ],
   "source": [
    "dict_searchBox_dept = { i.text : i for i in searchBox_dept}\n",
    "dict_searchBox_dept"
   ]
  },
  {
   "cell_type": "code",
   "execution_count": 8,
   "id": "5d99a988",
   "metadata": {},
   "outputs": [
    {
     "data": {
      "text/plain": [
       "<selenium.webdriver.remote.webelement.WebElement (session=\"eeda7de420202098fd0d21fa0cebbb27\", element=\"66937a7b-ec38-4b78-af18-d3ff0715c8fb\")>"
      ]
     },
     "execution_count": 8,
     "metadata": {},
     "output_type": "execute_result"
    }
   ],
   "source": [
    "dict_searchBox_dept.pop('RESIDENTES EN EL EXTRANJERO')"
   ]
  },
  {
   "cell_type": "code",
   "execution_count": 9,
   "id": "53ad9034",
   "metadata": {},
   "outputs": [
    {
     "data": {
      "text/plain": [
       "{'AMAZONAS': <selenium.webdriver.remote.webelement.WebElement (session=\"eeda7de420202098fd0d21fa0cebbb27\", element=\"124319b1-a15b-4a6f-81d3-bc44970ff9df\")>,\n",
       " 'ANCASH': <selenium.webdriver.remote.webelement.WebElement (session=\"eeda7de420202098fd0d21fa0cebbb27\", element=\"76d1dccb-71f9-4ce4-9b67-9ae35b6bc484\")>,\n",
       " 'APURIMAC': <selenium.webdriver.remote.webelement.WebElement (session=\"eeda7de420202098fd0d21fa0cebbb27\", element=\"b21d2850-78f5-40aa-812b-95d9cf7ce766\")>,\n",
       " 'AREQUIPA': <selenium.webdriver.remote.webelement.WebElement (session=\"eeda7de420202098fd0d21fa0cebbb27\", element=\"887e58a3-a806-48f7-ac66-2341c8d1c54b\")>,\n",
       " 'AYACUCHO': <selenium.webdriver.remote.webelement.WebElement (session=\"eeda7de420202098fd0d21fa0cebbb27\", element=\"6b3e26ec-3c54-4319-a1cc-bd9de3b49d25\")>,\n",
       " 'CAJAMARCA': <selenium.webdriver.remote.webelement.WebElement (session=\"eeda7de420202098fd0d21fa0cebbb27\", element=\"56736190-3ed2-43d1-8d88-c2c62f8a918a\")>,\n",
       " 'CALLAO': <selenium.webdriver.remote.webelement.WebElement (session=\"eeda7de420202098fd0d21fa0cebbb27\", element=\"4ea3d68f-4416-48aa-bcb7-a70635c82a66\")>,\n",
       " 'CUSCO': <selenium.webdriver.remote.webelement.WebElement (session=\"eeda7de420202098fd0d21fa0cebbb27\", element=\"78d06781-7773-4a0f-b883-769b3c88f21a\")>,\n",
       " 'HUANCAVELICA': <selenium.webdriver.remote.webelement.WebElement (session=\"eeda7de420202098fd0d21fa0cebbb27\", element=\"83d3a430-4cb9-47fc-9a93-51e7907d71a7\")>,\n",
       " 'HUANUCO': <selenium.webdriver.remote.webelement.WebElement (session=\"eeda7de420202098fd0d21fa0cebbb27\", element=\"0bfe9d62-1e64-49c6-9218-928cce61b324\")>,\n",
       " 'ICA': <selenium.webdriver.remote.webelement.WebElement (session=\"eeda7de420202098fd0d21fa0cebbb27\", element=\"ff9a6983-e714-401e-88f7-1bfae1b97d0e\")>,\n",
       " 'JUNIN': <selenium.webdriver.remote.webelement.WebElement (session=\"eeda7de420202098fd0d21fa0cebbb27\", element=\"a15fcbca-4d7e-49db-8823-cff76980215f\")>,\n",
       " 'LA LIBERTAD': <selenium.webdriver.remote.webelement.WebElement (session=\"eeda7de420202098fd0d21fa0cebbb27\", element=\"c132f3b3-c52b-4d23-ae77-a8f45d454d44\")>,\n",
       " 'LAMBAYEQUE': <selenium.webdriver.remote.webelement.WebElement (session=\"eeda7de420202098fd0d21fa0cebbb27\", element=\"39fe18b4-90eb-4f08-9dd0-ece944e4c4c4\")>,\n",
       " 'LIMA': <selenium.webdriver.remote.webelement.WebElement (session=\"eeda7de420202098fd0d21fa0cebbb27\", element=\"800f7252-a676-45b5-aa70-c80221bf8ca5\")>,\n",
       " 'LIMA PROVINCIAS': <selenium.webdriver.remote.webelement.WebElement (session=\"eeda7de420202098fd0d21fa0cebbb27\", element=\"04cc3623-2e9d-44bf-9313-2bc05966e440\")>,\n",
       " 'LORETO': <selenium.webdriver.remote.webelement.WebElement (session=\"eeda7de420202098fd0d21fa0cebbb27\", element=\"92970be7-f70e-4fe3-838c-cdd5a72f37cc\")>,\n",
       " 'MADRE DE DIOS': <selenium.webdriver.remote.webelement.WebElement (session=\"eeda7de420202098fd0d21fa0cebbb27\", element=\"34b98437-8cb3-4254-8748-07cb13516a35\")>,\n",
       " 'MOQUEGUA': <selenium.webdriver.remote.webelement.WebElement (session=\"eeda7de420202098fd0d21fa0cebbb27\", element=\"a2f417a0-9851-47bc-8a12-e2c74e8c6dad\")>,\n",
       " 'PASCO': <selenium.webdriver.remote.webelement.WebElement (session=\"eeda7de420202098fd0d21fa0cebbb27\", element=\"88290188-9839-4f22-b4d1-154c6e40b270\")>,\n",
       " 'PIURA': <selenium.webdriver.remote.webelement.WebElement (session=\"eeda7de420202098fd0d21fa0cebbb27\", element=\"4c07018a-b1ee-4586-9514-4f03d817327d\")>,\n",
       " 'PUNO': <selenium.webdriver.remote.webelement.WebElement (session=\"eeda7de420202098fd0d21fa0cebbb27\", element=\"ce59da84-7d9d-48fb-8800-83ce20068c4b\")>,\n",
       " 'SAN MARTIN': <selenium.webdriver.remote.webelement.WebElement (session=\"eeda7de420202098fd0d21fa0cebbb27\", element=\"153fa96c-1680-4394-80fc-0f8411e6b023\")>,\n",
       " 'TACNA': <selenium.webdriver.remote.webelement.WebElement (session=\"eeda7de420202098fd0d21fa0cebbb27\", element=\"20acbc96-1781-448b-bad9-68fa353f9ca1\")>,\n",
       " 'TUMBES': <selenium.webdriver.remote.webelement.WebElement (session=\"eeda7de420202098fd0d21fa0cebbb27\", element=\"c320affe-cf1f-4e21-bac4-4ff88283d9eb\")>,\n",
       " 'UCAYALI': <selenium.webdriver.remote.webelement.WebElement (session=\"eeda7de420202098fd0d21fa0cebbb27\", element=\"eaea079d-8a94-41a9-8359-7b22577890b4\")>}"
      ]
     },
     "execution_count": 9,
     "metadata": {},
     "output_type": "execute_result"
    }
   ],
   "source": [
    "dict_searchBox_dept"
   ]
  },
  {
   "cell_type": "code",
   "execution_count": 10,
   "id": "0d8082c3",
   "metadata": {},
   "outputs": [
    {
     "name": "stderr",
     "output_type": "stream",
     "text": [
      "C:\\Users\\Public\\Documents\\Wondershare\\CreatorTemp/ipykernel_22156/1743291360.py:5: DeprecationWarning: find_element_by_* commands are deprecated. Please use find_element() instead\n",
      "  dpt = Select( driver1.find_element_by_id( \"select_departamento\" ) )\n",
      "C:\\Users\\Public\\Documents\\Wondershare\\CreatorTemp/ipykernel_22156/1743291360.py:21: DeprecationWarning: find_element_by_* commands are deprecated. Please use find_element() instead\n",
      "  table_path = driver1.find_element_by_id('table1')\n"
     ]
    },
    {
     "name": "stdout",
     "output_type": "stream",
     "text": [
      "AMAZONAS\n",
      "ANCASH\n",
      "APURIMAC\n",
      "AREQUIPA\n",
      "AYACUCHO\n",
      "CAJAMARCA\n",
      "CALLAO\n",
      "CUSCO\n",
      "HUANCAVELICA\n",
      "HUANUCO\n",
      "ICA\n",
      "JUNIN\n",
      "LA LIBERTAD\n",
      "LAMBAYEQUE\n",
      "LIMA\n",
      "LIMA PROVINCIAS\n",
      "LORETO\n",
      "MADRE DE DIOS\n",
      "MOQUEGUA\n",
      "PASCO\n",
      "PIURA\n",
      "PUNO\n",
      "SAN MARTIN\n",
      "TACNA\n",
      "TUMBES\n",
      "UCAYALI\n"
     ]
    }
   ],
   "source": [
    "all_tables = {}\n",
    "\n",
    "for  index, (name,element) in enumerate(list(dict_searchBox_dept.items())):\n",
    "           \n",
    "    dpt = Select( driver1.find_element_by_id( \"select_departamento\" ) )\n",
    "    department = dpt.options[index]\n",
    "    \n",
    "    # Get departmant name\n",
    "    dpt_name = department.text\n",
    "    \n",
    "    print(department.text)\n",
    "    \n",
    "    # click on department\n",
    "    department.click()   \n",
    "    \n",
    "    # Get UBIGEO\n",
    "    ubigeo = driver1.current_url.split(\"/\")[ -1 ]\n",
    "    \n",
    "    ## Get table of congress votes\n",
    "    # Get html at this point\n",
    "    table_path = driver1.find_element_by_id('table1')\n",
    "    table_html = table_path.get_attribute( 'outerHTML' )\n",
    "    \n",
    "    # Read the table    \n",
    "    data = table_path.text.split(\"\\n\")\n",
    "    \n",
    "    partidos_politicos = []\n",
    "    for j in range(len(data[2:])):\n",
    "        var1 = re.sub('[\\d\\.%,]', ' ', data[2:][j])\n",
    "        partidos_politicos.append(var1)\n",
    "    \n",
    "    total_votos = []\n",
    "    for j in range(len(data[2:])):\n",
    "        var2 = re.sub('[^\\d+\\s,.%]', ' ', data[2:][j])\\\n",
    "        .split(\" \")[-3]\n",
    "        total_votos.append(var2)\n",
    "        \n",
    "    validos = []\n",
    "    for j in range(len(data[2:])):\n",
    "        var3 = re.sub('[^\\d+\\s,.%]', ' ', data[2:][j])\\\n",
    "        .split(\" \")[-2]\n",
    "        validos.append(var3)\n",
    "                        \n",
    "    emitidos = []\n",
    "    for j in range(len(data[2:])):\n",
    "        var4 = re.sub('[^\\d+\\s,.%]', ' ', data[2:][j])\\\n",
    "        .split(\" \")[-1]\n",
    "        emitidos.append(var4)\n",
    "        \n",
    "    data = {'Partido_politico': partidos_politicos,\n",
    "            'Total_votos': total_votos,\n",
    "            '%_validos': validos,\n",
    "            '%_emitidos': emitidos\n",
    "            }\n",
    "    \n",
    "   # Create DataFrame\n",
    "    table_clean = pd.DataFrame(data)\n",
    "                        \n",
    "   # New values to columns \n",
    "    table_clean[ 'department' ] = dpt_name\n",
    "    table_clean[ 'ubigeo' ] = ubigeo \n",
    "   \n",
    "   # store tables\n",
    "    all_tables[ ubigeo ] = table_clean"
   ]
  },
  {
   "cell_type": "code",
   "execution_count": 11,
   "id": "556da10f",
   "metadata": {},
   "outputs": [
    {
     "data": {
      "text/html": [
       "<div>\n",
       "<style scoped>\n",
       "    .dataframe tbody tr th:only-of-type {\n",
       "        vertical-align: middle;\n",
       "    }\n",
       "\n",
       "    .dataframe tbody tr th {\n",
       "        vertical-align: top;\n",
       "    }\n",
       "\n",
       "    .dataframe thead th {\n",
       "        text-align: right;\n",
       "    }\n",
       "</style>\n",
       "<table border=\"1\" class=\"dataframe\">\n",
       "  <thead>\n",
       "    <tr style=\"text-align: right;\">\n",
       "      <th></th>\n",
       "      <th>Partido_politico</th>\n",
       "      <th>Total_votos</th>\n",
       "      <th>%_validos</th>\n",
       "      <th>%_emitidos</th>\n",
       "      <th>department</th>\n",
       "      <th>ubigeo</th>\n",
       "    </tr>\n",
       "  </thead>\n",
       "  <tbody>\n",
       "    <tr>\n",
       "      <th>0</th>\n",
       "      <td>FRENTE POPULAR AGRICOLA FIA DEL PERU - FREPAP ...</td>\n",
       "      <td>119</td>\n",
       "      <td>704</td>\n",
       "      <td>12</td>\n",
       "      <td>AMAZONAS</td>\n",
       "      <td>D44001</td>\n",
       "    </tr>\n",
       "    <tr>\n",
       "      <th>1</th>\n",
       "      <td>PARTIDO NACIONALISTA PERUANO                  ...</td>\n",
       "      <td>801</td>\n",
       "      <td>1,377</td>\n",
       "      <td>36</td>\n",
       "      <td>AMAZONAS</td>\n",
       "      <td>D44001</td>\n",
       "    </tr>\n",
       "    <tr>\n",
       "      <th>2</th>\n",
       "      <td>EL FRENTE AMPLIO POR JUSTICIA  VIDA Y LIBERTAD...</td>\n",
       "      <td>621</td>\n",
       "      <td>403</td>\n",
       "      <td>24</td>\n",
       "      <td>AMAZONAS</td>\n",
       "      <td>D44001</td>\n",
       "    </tr>\n",
       "    <tr>\n",
       "      <th>3</th>\n",
       "      <td>PARTIDO MORADO                                ...</td>\n",
       "      <td>453</td>\n",
       "      <td>113</td>\n",
       "      <td>26</td>\n",
       "      <td>AMAZONAS</td>\n",
       "      <td>D44001</td>\n",
       "    </tr>\n",
       "    <tr>\n",
       "      <th>4</th>\n",
       "      <td>VICTORIA NACIONAL                             ...</td>\n",
       "      <td>1,052</td>\n",
       "      <td>74</td>\n",
       "      <td>26</td>\n",
       "      <td>AMAZONAS</td>\n",
       "      <td>D44001</td>\n",
       "    </tr>\n",
       "    <tr>\n",
       "      <th>...</th>\n",
       "      <td>...</td>\n",
       "      <td>...</td>\n",
       "      <td>...</td>\n",
       "      <td>...</td>\n",
       "      <td>...</td>\n",
       "      <td>...</td>\n",
       "    </tr>\n",
       "    <tr>\n",
       "      <th>554</th>\n",
       "      <td>ALIANZA PARA EL PROGRESO                      ...</td>\n",
       "      <td>2,121</td>\n",
       "      <td>2,957</td>\n",
       "      <td>881</td>\n",
       "      <td>UCAYALI</td>\n",
       "      <td>D44026</td>\n",
       "    </tr>\n",
       "    <tr>\n",
       "      <th>555</th>\n",
       "      <td>TOTAL DE VOTOS VÁLIDOS</td>\n",
       "      <td>171,774</td>\n",
       "      <td>100.000%</td>\n",
       "      <td>66.478%</td>\n",
       "      <td>UCAYALI</td>\n",
       "      <td>D44026</td>\n",
       "    </tr>\n",
       "    <tr>\n",
       "      <th>556</th>\n",
       "      <td>VOTOS BLANCOS</td>\n",
       "      <td></td>\n",
       "      <td>37,820</td>\n",
       "      <td>14.637%</td>\n",
       "      <td>UCAYALI</td>\n",
       "      <td>D44026</td>\n",
       "    </tr>\n",
       "    <tr>\n",
       "      <th>557</th>\n",
       "      <td>VOTOS NULOS</td>\n",
       "      <td></td>\n",
       "      <td>48,800</td>\n",
       "      <td>18.886%</td>\n",
       "      <td>UCAYALI</td>\n",
       "      <td>D44026</td>\n",
       "    </tr>\n",
       "    <tr>\n",
       "      <th>558</th>\n",
       "      <td>TOTAL DE VOTOS EMITIDOS</td>\n",
       "      <td></td>\n",
       "      <td>258,394</td>\n",
       "      <td>100.000%</td>\n",
       "      <td>UCAYALI</td>\n",
       "      <td>D44026</td>\n",
       "    </tr>\n",
       "  </tbody>\n",
       "</table>\n",
       "<p>559 rows × 6 columns</p>\n",
       "</div>"
      ],
      "text/plain": [
       "                                      Partido_politico Total_votos %_validos  \\\n",
       "0    FRENTE POPULAR AGRICOLA FIA DEL PERU - FREPAP ...         119       704   \n",
       "1    PARTIDO NACIONALISTA PERUANO                  ...         801     1,377   \n",
       "2    EL FRENTE AMPLIO POR JUSTICIA  VIDA Y LIBERTAD...         621       403   \n",
       "3    PARTIDO MORADO                                ...         453       113   \n",
       "4    VICTORIA NACIONAL                             ...       1,052        74   \n",
       "..                                                 ...         ...       ...   \n",
       "554  ALIANZA PARA EL PROGRESO                      ...       2,121     2,957   \n",
       "555    TOTAL DE VOTOS VÁLIDOS                              171,774  100.000%   \n",
       "556                       VOTOS BLANCOS                               37,820   \n",
       "557                         VOTOS NULOS                               48,800   \n",
       "558           TOTAL DE VOTOS EMITIDOS                                258,394   \n",
       "\n",
       "    %_emitidos department  ubigeo  \n",
       "0           12   AMAZONAS  D44001  \n",
       "1           36   AMAZONAS  D44001  \n",
       "2           24   AMAZONAS  D44001  \n",
       "3           26   AMAZONAS  D44001  \n",
       "4           26   AMAZONAS  D44001  \n",
       "..         ...        ...     ...  \n",
       "554        881    UCAYALI  D44026  \n",
       "555    66.478%    UCAYALI  D44026  \n",
       "556    14.637%    UCAYALI  D44026  \n",
       "557    18.886%    UCAYALI  D44026  \n",
       "558   100.000%    UCAYALI  D44026  \n",
       "\n",
       "[559 rows x 6 columns]"
      ]
     },
     "execution_count": 11,
     "metadata": {},
     "output_type": "execute_result"
    }
   ],
   "source": [
    "final_data = pd.concat( all_tables.values() ).reset_index( drop = True )\n",
    "final_data"
   ]
  },
  {
   "cell_type": "code",
   "execution_count": 12,
   "id": "c5cbece7",
   "metadata": {},
   "outputs": [],
   "source": [
    "final_data.to_excel( r'onpe_congreso_grupo_3.xlsx' , index = False )"
   ]
  }
 ],
 "metadata": {
  "kernelspec": {
   "display_name": "Python 3 (ipykernel)",
   "language": "python",
   "name": "python3"
  },
  "language_info": {
   "codemirror_mode": {
    "name": "ipython",
    "version": 3
   },
   "file_extension": ".py",
   "mimetype": "text/x-python",
   "name": "python",
   "nbconvert_exporter": "python",
   "pygments_lexer": "ipython3",
   "version": "3.9.11"
  }
 },
 "nbformat": 4,
 "nbformat_minor": 5
}
