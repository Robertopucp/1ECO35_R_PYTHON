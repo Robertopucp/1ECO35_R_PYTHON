{
 "cells": [
  {
   "cell_type": "code",
   "execution_count": 3,
   "id": "ce6007a3",
   "metadata": {},
   "outputs": [
    {
     "name": "stdout",
     "output_type": "stream",
     "text": [
      "Collecting selenium\n",
      "  Downloading selenium-4.2.0-py3-none-any.whl (983 kB)\n",
      "Collecting trio-websocket~=0.9\n",
      "  Downloading trio_websocket-0.9.2-py3-none-any.whl (16 kB)\n",
      "Collecting trio~=0.17\n",
      "  Downloading trio-0.21.0-py3-none-any.whl (358 kB)\n",
      "Requirement already satisfied: urllib3[secure,socks]~=1.26 in c:\\users\\user\\anaconda3\\lib\\site-packages (from selenium) (1.26.7)\n",
      "Requirement already satisfied: sortedcontainers in c:\\users\\user\\anaconda3\\lib\\site-packages (from trio~=0.17->selenium) (2.4.0)\n",
      "Requirement already satisfied: attrs>=19.2.0 in c:\\users\\user\\anaconda3\\lib\\site-packages (from trio~=0.17->selenium) (21.2.0)\n",
      "Requirement already satisfied: idna in c:\\users\\user\\anaconda3\\lib\\site-packages (from trio~=0.17->selenium) (3.2)\n",
      "Collecting outcome\n",
      "  Downloading outcome-1.2.0-py2.py3-none-any.whl (9.7 kB)\n",
      "Requirement already satisfied: sniffio in c:\\users\\user\\anaconda3\\lib\\site-packages (from trio~=0.17->selenium) (1.2.0)\n",
      "Requirement already satisfied: async-generator>=1.9 in c:\\users\\user\\anaconda3\\lib\\site-packages (from trio~=0.17->selenium) (1.10)\n",
      "Requirement already satisfied: cffi>=1.14 in c:\\users\\user\\anaconda3\\lib\\site-packages (from trio~=0.17->selenium) (1.14.6)\n",
      "Requirement already satisfied: pycparser in c:\\users\\user\\anaconda3\\lib\\site-packages (from cffi>=1.14->trio~=0.17->selenium) (2.20)\n",
      "Collecting wsproto>=0.14\n",
      "  Downloading wsproto-1.1.0-py3-none-any.whl (24 kB)\n",
      "Requirement already satisfied: PySocks!=1.5.7,<2.0,>=1.5.6 in c:\\users\\user\\anaconda3\\lib\\site-packages (from urllib3[secure,socks]~=1.26->selenium) (1.7.1)\n",
      "Requirement already satisfied: pyOpenSSL>=0.14 in c:\\users\\user\\anaconda3\\lib\\site-packages (from urllib3[secure,socks]~=1.26->selenium) (21.0.0)\n",
      "Requirement already satisfied: cryptography>=1.3.4 in c:\\users\\user\\anaconda3\\lib\\site-packages (from urllib3[secure,socks]~=1.26->selenium) (3.4.8)\n",
      "Requirement already satisfied: certifi in c:\\users\\user\\anaconda3\\lib\\site-packages (from urllib3[secure,socks]~=1.26->selenium) (2021.10.8)\n",
      "Requirement already satisfied: six>=1.5.2 in c:\\users\\user\\anaconda3\\lib\\site-packages (from pyOpenSSL>=0.14->urllib3[secure,socks]~=1.26->selenium) (1.16.0)\n",
      "Collecting h11<1,>=0.9.0\n",
      "  Downloading h11-0.13.0-py3-none-any.whl (58 kB)\n",
      "Installing collected packages: outcome, h11, wsproto, trio, trio-websocket, selenium\n",
      "Successfully installed h11-0.13.0 outcome-1.2.0 selenium-4.2.0 trio-0.21.0 trio-websocket-0.9.2 wsproto-1.1.0\n",
      "Note: you may need to restart the kernel to use updated packages.\n"
     ]
    }
   ],
   "source": [
    "pip install -U selenium"
   ]
  },
  {
   "cell_type": "code",
   "execution_count": 4,
   "id": "e7646421",
   "metadata": {},
   "outputs": [
    {
     "name": "stdout",
     "output_type": "stream",
     "text": [
      "Collecting webdriver-manager\n",
      "  Downloading webdriver_manager-3.7.0-py2.py3-none-any.whl (25 kB)\n",
      "Collecting python-dotenv\n",
      "  Downloading python_dotenv-0.20.0-py3-none-any.whl (17 kB)\n",
      "Requirement already satisfied: requests in c:\\users\\user\\anaconda3\\lib\\site-packages (from webdriver-manager) (2.26.0)\n",
      "Requirement already satisfied: charset-normalizer~=2.0.0 in c:\\users\\user\\anaconda3\\lib\\site-packages (from requests->webdriver-manager) (2.0.4)\n",
      "Requirement already satisfied: urllib3<1.27,>=1.21.1 in c:\\users\\user\\anaconda3\\lib\\site-packages (from requests->webdriver-manager) (1.26.7)\n",
      "Requirement already satisfied: idna<4,>=2.5 in c:\\users\\user\\anaconda3\\lib\\site-packages (from requests->webdriver-manager) (3.2)\n",
      "Requirement already satisfied: certifi>=2017.4.17 in c:\\users\\user\\anaconda3\\lib\\site-packages (from requests->webdriver-manager) (2021.10.8)\n",
      "Installing collected packages: python-dotenv, webdriver-manager\n",
      "Successfully installed python-dotenv-0.20.0 webdriver-manager-3.7.0\n",
      "Note: you may need to restart the kernel to use updated packages.\n"
     ]
    }
   ],
   "source": [
    "pip install webdriver-manager"
   ]
  },
  {
   "cell_type": "code",
   "execution_count": 2,
   "id": "e2995fd9",
   "metadata": {},
   "outputs": [],
   "source": [
    "from selenium import webdriver\n",
    "from selenium.webdriver.common.by import By\n",
    "from selenium.webdriver.common.keys import Keys\n",
    "from selenium.common.exceptions import NoSuchElementException\n",
    "from selenium.webdriver import ActionChains\n",
    "import pandas as pd\n",
    "import numpy as np\n",
    "import os\n",
    "import sys\n",
    "import time\n",
    "import re\n",
    "import unidecode \n",
    "from selenium.webdriver.support.ui import Select\n",
    "from webdriver_manager.chrome import ChromeDriverManager"
   ]
  },
  {
   "cell_type": "code",
   "execution_count": 3,
   "id": "830638db",
   "metadata": {},
   "outputs": [
    {
     "name": "stdout",
     "output_type": "stream",
     "text": [
      "\n"
     ]
    },
    {
     "name": "stderr",
     "output_type": "stream",
     "text": [
      "[WDM] - ====== WebDriver manager ======\n",
      "[WDM] - Current google-chrome version is 102.0.5005\n",
      "[WDM] - Get LATEST chromedriver version for 102.0.5005 google-chrome\n",
      "[WDM] - Driver [C:\\Users\\user\\.wdm\\drivers\\chromedriver\\win32\\102.0.5005.61\\chromedriver.exe] found in cache\n",
      "C:\\Users\\user\\AppData\\Local\\Temp/ipykernel_9088/2324110882.py:1: DeprecationWarning: executable_path has been deprecated, please pass in a Service object\n",
      "  driver = webdriver.Chrome( ChromeDriverManager().install() )\n"
     ]
    }
   ],
   "source": [
    "driver = webdriver.Chrome( ChromeDriverManager().install() )\n",
    "# Abrira ventana de la ONPE\n",
    "\n",
    "url = 'https://resultadoshistorico.onpe.gob.pe/EG2021/'\n",
    "driver.get( url )"
   ]
  },
  {
   "cell_type": "code",
   "execution_count": 4,
   "id": "6c715ef1",
   "metadata": {},
   "outputs": [
    {
     "name": "stderr",
     "output_type": "stream",
     "text": [
      "C:\\Users\\user\\AppData\\Local\\Temp/ipykernel_9088/860758671.py:2: DeprecationWarning: find_element_by_xpath is deprecated. Please use find_element(by=By.XPATH, value=xpath) instead\n",
      "  results = driver.find_element_by_xpath(\"/html/body/onpe-root/onpe-home-onpe/div[1]/div/div/div/div[2]/div[3]/div/div/a/div[2]\")\n"
     ]
    },
    {
     "ename": "NoSuchElementException",
     "evalue": "Message: no such element: Unable to locate element: {\"method\":\"xpath\",\"selector\":\"/html/body/onpe-root/onpe-home-onpe/div[1]/div/div/div/div[2]/div[3]/div/div/a/div[2]\"}\n  (Session info: chrome=102.0.5005.115)\nStacktrace:\nBacktrace:\n\tOrdinal0 [0x00E6D953+2414931]\n\tOrdinal0 [0x00DFF5E1+1963489]\n\tOrdinal0 [0x00CEC6B8+837304]\n\tOrdinal0 [0x00D19500+1021184]\n\tOrdinal0 [0x00D1979B+1021851]\n\tOrdinal0 [0x00D46502+1205506]\n\tOrdinal0 [0x00D344E4+1131748]\n\tOrdinal0 [0x00D44812+1198098]\n\tOrdinal0 [0x00D342B6+1131190]\n\tOrdinal0 [0x00D0E860+976992]\n\tOrdinal0 [0x00D0F756+980822]\n\tGetHandleVerifier [0x010DCC62+2510274]\n\tGetHandleVerifier [0x010CF760+2455744]\n\tGetHandleVerifier [0x00EFEABA+551962]\n\tGetHandleVerifier [0x00EFD916+547446]\n\tOrdinal0 [0x00E05F3B+1990459]\n\tOrdinal0 [0x00E0A898+2009240]\n\tOrdinal0 [0x00E0A985+2009477]\n\tOrdinal0 [0x00E13AD1+2046673]\n\tBaseThreadInitThunk [0x7624FA29+25]\n\tRtlGetAppContainerNamedObjectPath [0x773C7A9E+286]\n\tRtlGetAppContainerNamedObjectPath [0x773C7A6E+238]\n",
     "output_type": "error",
     "traceback": [
      "\u001b[1;31m---------------------------------------------------------------------------\u001b[0m",
      "\u001b[1;31mNoSuchElementException\u001b[0m                    Traceback (most recent call last)",
      "\u001b[1;32m~\\AppData\\Local\\Temp/ipykernel_9088/860758671.py\u001b[0m in \u001b[0;36m<module>\u001b[1;34m\u001b[0m\n\u001b[0;32m      1\u001b[0m \u001b[1;31m#Dar click a congreso\u001b[0m\u001b[1;33m\u001b[0m\u001b[1;33m\u001b[0m\u001b[0m\n\u001b[1;32m----> 2\u001b[1;33m \u001b[0mresults\u001b[0m \u001b[1;33m=\u001b[0m \u001b[0mdriver\u001b[0m\u001b[1;33m.\u001b[0m\u001b[0mfind_element_by_xpath\u001b[0m\u001b[1;33m(\u001b[0m\u001b[1;34m\"/html/body/onpe-root/onpe-home-onpe/div[1]/div/div/div/div[2]/div[3]/div/div/a/div[2]\"\u001b[0m\u001b[1;33m)\u001b[0m\u001b[1;33m\u001b[0m\u001b[1;33m\u001b[0m\u001b[0m\n\u001b[0m\u001b[0;32m      3\u001b[0m \u001b[1;33m\u001b[0m\u001b[0m\n\u001b[0;32m      4\u001b[0m \u001b[0mresults\u001b[0m\u001b[1;33m.\u001b[0m\u001b[0mclick\u001b[0m\u001b[1;33m(\u001b[0m\u001b[1;33m)\u001b[0m\u001b[1;33m\u001b[0m\u001b[1;33m\u001b[0m\u001b[0m\n",
      "\u001b[1;32m~\\anaconda3\\lib\\site-packages\\selenium\\webdriver\\remote\\webdriver.py\u001b[0m in \u001b[0;36mfind_element_by_xpath\u001b[1;34m(self, xpath)\u001b[0m\n\u001b[0;32m    524\u001b[0m             \u001b[0mstacklevel\u001b[0m\u001b[1;33m=\u001b[0m\u001b[1;36m2\u001b[0m\u001b[1;33m,\u001b[0m\u001b[1;33m\u001b[0m\u001b[1;33m\u001b[0m\u001b[0m\n\u001b[0;32m    525\u001b[0m         )\n\u001b[1;32m--> 526\u001b[1;33m         \u001b[1;32mreturn\u001b[0m \u001b[0mself\u001b[0m\u001b[1;33m.\u001b[0m\u001b[0mfind_element\u001b[0m\u001b[1;33m(\u001b[0m\u001b[0mby\u001b[0m\u001b[1;33m=\u001b[0m\u001b[0mBy\u001b[0m\u001b[1;33m.\u001b[0m\u001b[0mXPATH\u001b[0m\u001b[1;33m,\u001b[0m \u001b[0mvalue\u001b[0m\u001b[1;33m=\u001b[0m\u001b[0mxpath\u001b[0m\u001b[1;33m)\u001b[0m\u001b[1;33m\u001b[0m\u001b[1;33m\u001b[0m\u001b[0m\n\u001b[0m\u001b[0;32m    527\u001b[0m \u001b[1;33m\u001b[0m\u001b[0m\n\u001b[0;32m    528\u001b[0m     \u001b[1;32mdef\u001b[0m \u001b[0mfind_elements_by_xpath\u001b[0m\u001b[1;33m(\u001b[0m\u001b[0mself\u001b[0m\u001b[1;33m,\u001b[0m \u001b[0mxpath\u001b[0m\u001b[1;33m)\u001b[0m \u001b[1;33m->\u001b[0m \u001b[0mList\u001b[0m\u001b[1;33m[\u001b[0m\u001b[0mWebElement\u001b[0m\u001b[1;33m]\u001b[0m\u001b[1;33m:\u001b[0m\u001b[1;33m\u001b[0m\u001b[1;33m\u001b[0m\u001b[0m\n",
      "\u001b[1;32m~\\anaconda3\\lib\\site-packages\\selenium\\webdriver\\remote\\webdriver.py\u001b[0m in \u001b[0;36mfind_element\u001b[1;34m(self, by, value)\u001b[0m\n\u001b[0;32m   1249\u001b[0m             \u001b[0mvalue\u001b[0m \u001b[1;33m=\u001b[0m \u001b[1;34m'[name=\"%s\"]'\u001b[0m \u001b[1;33m%\u001b[0m \u001b[0mvalue\u001b[0m\u001b[1;33m\u001b[0m\u001b[1;33m\u001b[0m\u001b[0m\n\u001b[0;32m   1250\u001b[0m \u001b[1;33m\u001b[0m\u001b[0m\n\u001b[1;32m-> 1251\u001b[1;33m         return self.execute(Command.FIND_ELEMENT, {\n\u001b[0m\u001b[0;32m   1252\u001b[0m             \u001b[1;34m'using'\u001b[0m\u001b[1;33m:\u001b[0m \u001b[0mby\u001b[0m\u001b[1;33m,\u001b[0m\u001b[1;33m\u001b[0m\u001b[1;33m\u001b[0m\u001b[0m\n\u001b[0;32m   1253\u001b[0m             'value': value})['value']\n",
      "\u001b[1;32m~\\anaconda3\\lib\\site-packages\\selenium\\webdriver\\remote\\webdriver.py\u001b[0m in \u001b[0;36mexecute\u001b[1;34m(self, driver_command, params)\u001b[0m\n\u001b[0;32m    428\u001b[0m         \u001b[0mresponse\u001b[0m \u001b[1;33m=\u001b[0m \u001b[0mself\u001b[0m\u001b[1;33m.\u001b[0m\u001b[0mcommand_executor\u001b[0m\u001b[1;33m.\u001b[0m\u001b[0mexecute\u001b[0m\u001b[1;33m(\u001b[0m\u001b[0mdriver_command\u001b[0m\u001b[1;33m,\u001b[0m \u001b[0mparams\u001b[0m\u001b[1;33m)\u001b[0m\u001b[1;33m\u001b[0m\u001b[1;33m\u001b[0m\u001b[0m\n\u001b[0;32m    429\u001b[0m         \u001b[1;32mif\u001b[0m \u001b[0mresponse\u001b[0m\u001b[1;33m:\u001b[0m\u001b[1;33m\u001b[0m\u001b[1;33m\u001b[0m\u001b[0m\n\u001b[1;32m--> 430\u001b[1;33m             \u001b[0mself\u001b[0m\u001b[1;33m.\u001b[0m\u001b[0merror_handler\u001b[0m\u001b[1;33m.\u001b[0m\u001b[0mcheck_response\u001b[0m\u001b[1;33m(\u001b[0m\u001b[0mresponse\u001b[0m\u001b[1;33m)\u001b[0m\u001b[1;33m\u001b[0m\u001b[1;33m\u001b[0m\u001b[0m\n\u001b[0m\u001b[0;32m    431\u001b[0m             response['value'] = self._unwrap_value(\n\u001b[0;32m    432\u001b[0m                 response.get('value', None))\n",
      "\u001b[1;32m~\\anaconda3\\lib\\site-packages\\selenium\\webdriver\\remote\\errorhandler.py\u001b[0m in \u001b[0;36mcheck_response\u001b[1;34m(self, response)\u001b[0m\n\u001b[0;32m    245\u001b[0m                 \u001b[0malert_text\u001b[0m \u001b[1;33m=\u001b[0m \u001b[0mvalue\u001b[0m\u001b[1;33m[\u001b[0m\u001b[1;34m'alert'\u001b[0m\u001b[1;33m]\u001b[0m\u001b[1;33m.\u001b[0m\u001b[0mget\u001b[0m\u001b[1;33m(\u001b[0m\u001b[1;34m'text'\u001b[0m\u001b[1;33m)\u001b[0m\u001b[1;33m\u001b[0m\u001b[1;33m\u001b[0m\u001b[0m\n\u001b[0;32m    246\u001b[0m             \u001b[1;32mraise\u001b[0m \u001b[0mexception_class\u001b[0m\u001b[1;33m(\u001b[0m\u001b[0mmessage\u001b[0m\u001b[1;33m,\u001b[0m \u001b[0mscreen\u001b[0m\u001b[1;33m,\u001b[0m \u001b[0mstacktrace\u001b[0m\u001b[1;33m,\u001b[0m \u001b[0malert_text\u001b[0m\u001b[1;33m)\u001b[0m  \u001b[1;31m# type: ignore[call-arg]  # mypy is not smart enough here\u001b[0m\u001b[1;33m\u001b[0m\u001b[1;33m\u001b[0m\u001b[0m\n\u001b[1;32m--> 247\u001b[1;33m         \u001b[1;32mraise\u001b[0m \u001b[0mexception_class\u001b[0m\u001b[1;33m(\u001b[0m\u001b[0mmessage\u001b[0m\u001b[1;33m,\u001b[0m \u001b[0mscreen\u001b[0m\u001b[1;33m,\u001b[0m \u001b[0mstacktrace\u001b[0m\u001b[1;33m)\u001b[0m\u001b[1;33m\u001b[0m\u001b[1;33m\u001b[0m\u001b[0m\n\u001b[0m\u001b[0;32m    248\u001b[0m \u001b[1;33m\u001b[0m\u001b[0m\n\u001b[0;32m    249\u001b[0m     \u001b[1;32mdef\u001b[0m \u001b[0m_value_or_default\u001b[0m\u001b[1;33m(\u001b[0m\u001b[0mself\u001b[0m\u001b[1;33m,\u001b[0m \u001b[0mobj\u001b[0m\u001b[1;33m:\u001b[0m \u001b[0mMapping\u001b[0m\u001b[1;33m[\u001b[0m\u001b[0m_KT\u001b[0m\u001b[1;33m,\u001b[0m \u001b[0m_VT\u001b[0m\u001b[1;33m]\u001b[0m\u001b[1;33m,\u001b[0m \u001b[0mkey\u001b[0m\u001b[1;33m:\u001b[0m \u001b[0m_KT\u001b[0m\u001b[1;33m,\u001b[0m \u001b[0mdefault\u001b[0m\u001b[1;33m:\u001b[0m \u001b[0m_VT\u001b[0m\u001b[1;33m)\u001b[0m \u001b[1;33m->\u001b[0m \u001b[0m_VT\u001b[0m\u001b[1;33m:\u001b[0m\u001b[1;33m\u001b[0m\u001b[1;33m\u001b[0m\u001b[0m\n",
      "\u001b[1;31mNoSuchElementException\u001b[0m: Message: no such element: Unable to locate element: {\"method\":\"xpath\",\"selector\":\"/html/body/onpe-root/onpe-home-onpe/div[1]/div/div/div/div[2]/div[3]/div/div/a/div[2]\"}\n  (Session info: chrome=102.0.5005.115)\nStacktrace:\nBacktrace:\n\tOrdinal0 [0x00E6D953+2414931]\n\tOrdinal0 [0x00DFF5E1+1963489]\n\tOrdinal0 [0x00CEC6B8+837304]\n\tOrdinal0 [0x00D19500+1021184]\n\tOrdinal0 [0x00D1979B+1021851]\n\tOrdinal0 [0x00D46502+1205506]\n\tOrdinal0 [0x00D344E4+1131748]\n\tOrdinal0 [0x00D44812+1198098]\n\tOrdinal0 [0x00D342B6+1131190]\n\tOrdinal0 [0x00D0E860+976992]\n\tOrdinal0 [0x00D0F756+980822]\n\tGetHandleVerifier [0x010DCC62+2510274]\n\tGetHandleVerifier [0x010CF760+2455744]\n\tGetHandleVerifier [0x00EFEABA+551962]\n\tGetHandleVerifier [0x00EFD916+547446]\n\tOrdinal0 [0x00E05F3B+1990459]\n\tOrdinal0 [0x00E0A898+2009240]\n\tOrdinal0 [0x00E0A985+2009477]\n\tOrdinal0 [0x00E13AD1+2046673]\n\tBaseThreadInitThunk [0x7624FA29+25]\n\tRtlGetAppContainerNamedObjectPath [0x773C7A9E+286]\n\tRtlGetAppContainerNamedObjectPath [0x773C7A6E+238]\n"
     ]
    }
   ],
   "source": [
    "#Dar click a congreso\n",
    "results = driver.find_element_by_xpath(\"/html/body/onpe-root/onpe-home-onpe/div[1]/div/div/div/div[2]/div[3]/div/div/a/div[2]\")\n",
    "\n",
    "results.click() "
   ]
  },
  {
   "cell_type": "code",
   "execution_count": 6,
   "id": "eed727ee",
   "metadata": {},
   "outputs": [
    {
     "name": "stderr",
     "output_type": "stream",
     "text": [
      "C:\\Users\\user\\AppData\\Local\\Temp/ipykernel_9088/3820312899.py:5: DeprecationWarning: find_element_by_* commands are deprecated. Please use find_element() instead\n",
      "  dtpo = Select( driver.find_element_by_id( \"select_departamento\" ) )\n",
      "C:\\Users\\user\\AppData\\Local\\Temp/ipykernel_9088/3820312899.py:14: DeprecationWarning: find_element_by_xpath is deprecated. Please use find_element(by=By.XPATH, value=xpath) instead\n",
      "  table_path = driver.find_element_by_xpath(\"//*[@id='table-scroll']/div\")\n"
     ]
    },
    {
     "name": "stdout",
     "output_type": "stream",
     "text": [
      "AMAZONAS\n",
      "ANCASH\n",
      "APURIMAC\n",
      "AREQUIPA\n",
      "AYACUCHO\n",
      "CAJAMARCA\n",
      "CALLAO\n",
      "CUSCO\n",
      "HUANCAVELICA\n",
      "HUANUCO\n",
      "ICA\n",
      "JUNIN\n",
      "LA LIBERTAD\n",
      "LAMBAYEQUE\n",
      "LIMA\n",
      "LIMA PROVINCIAS\n",
      "LORETO\n",
      "MADRE DE DIOS\n",
      "MOQUEGUA\n",
      "PASCO\n",
      "PIURA\n",
      "PUNO\n",
      "SAN MARTIN\n",
      "TACNA\n",
      "TUMBES\n",
      "UCAYALI\n"
     ]
    }
   ],
   "source": [
    "# Store all_tables\n",
    "all_tables = {}\n",
    "\n",
    "for dpto_id in range( 26 ):\n",
    "    dtpo = Select( driver.find_element_by_id( \"select_departamento\" ) ) \n",
    "    region = dtpo.options[ dpto_id ]\n",
    "    rgn_name = region.text \n",
    "    \n",
    "    print(rgn_name)\n",
    "    region.click() \n",
    "    \n",
    "    ## Generando tabla votos\n",
    "    # Get html at this point\n",
    "    table_path = driver.find_element_by_xpath(\"//*[@id='table-scroll']/div\") \n",
    "    table_html = table_path.get_attribute( 'innerHTML' )\n",
    "    # Read the table using pandas\n",
    "    table = pd.read_html( table_html )\n",
    "    # Get UBIGEO\n",
    "    ubigeo = driver.current_url.split(\"/\")[ -1 ]  \n",
    "                                           \n",
    "    #Cleaningtables\n",
    "    row_new_columns = table[ 0 ].iloc[ 0 , 1:5 ] #seleccionamos la fila desde el 0 y columnas 1:5\n",
    "    #reemplazando valores como % por share_\n",
    "    clean_columns = row_new_columns.str.replace( \" \", \"_\").str.lower().str.replace( \"%\", \"share_\").tolist() \n",
    "     # Selecting specific columns\n",
    "    table_clean = table[0].iloc[ 1:, 1:5 ].copy()\n",
    "    # rename columns\n",
    "    table_clean.columns = clean_columns\n",
    "     \n",
    "    # New values to columns \n",
    "    table_clean[ 'region' ] = rgn_name\n",
    "    table_clean[ 'ubigeo' ] = ubigeo\n",
    "                        \n",
    "  # store tables\n",
    "    all_tables[ ubigeo ] = table_clean\n",
    "        "
   ]
  },
  {
   "cell_type": "code",
   "execution_count": 7,
   "id": "0d6dd29b",
   "metadata": {},
   "outputs": [],
   "source": [
    "final_data = pd.concat( all_tables.values() ).reset_index( drop = True )"
   ]
  },
  {
   "cell_type": "code",
   "execution_count": 8,
   "id": "c0c61dd1",
   "metadata": {},
   "outputs": [
    {
     "data": {
      "text/html": [
       "<div>\n",
       "<style scoped>\n",
       "    .dataframe tbody tr th:only-of-type {\n",
       "        vertical-align: middle;\n",
       "    }\n",
       "\n",
       "    .dataframe tbody tr th {\n",
       "        vertical-align: top;\n",
       "    }\n",
       "\n",
       "    .dataframe thead th {\n",
       "        text-align: right;\n",
       "    }\n",
       "</style>\n",
       "<table border=\"1\" class=\"dataframe\">\n",
       "  <thead>\n",
       "    <tr style=\"text-align: right;\">\n",
       "      <th></th>\n",
       "      <th>organizaciones_políticas</th>\n",
       "      <th>total</th>\n",
       "      <th>share_válidos</th>\n",
       "      <th>%votos emitidos</th>\n",
       "      <th>region</th>\n",
       "      <th>ubigeo</th>\n",
       "    </tr>\n",
       "  </thead>\n",
       "  <tbody>\n",
       "    <tr>\n",
       "      <th>0</th>\n",
       "      <td>FRENTE POPULAR AGRICOLA FIA DEL PERU - FREPAP</td>\n",
       "      <td>2000</td>\n",
       "      <td>1.678%</td>\n",
       "      <td>1.086%</td>\n",
       "      <td>AMAZONAS</td>\n",
       "      <td>D44001</td>\n",
       "    </tr>\n",
       "    <tr>\n",
       "      <th>1</th>\n",
       "      <td>PARTIDO NACIONALISTA PERUANO</td>\n",
       "      <td>11651</td>\n",
       "      <td>9.772%</td>\n",
       "      <td>6.328%</td>\n",
       "      <td>AMAZONAS</td>\n",
       "      <td>D44001</td>\n",
       "    </tr>\n",
       "    <tr>\n",
       "      <th>2</th>\n",
       "      <td>EL FRENTE AMPLIO POR JUSTICIA, VIDA Y LIBERTAD</td>\n",
       "      <td>2923</td>\n",
       "      <td>2.452%</td>\n",
       "      <td>1.588%</td>\n",
       "      <td>AMAZONAS</td>\n",
       "      <td>D44001</td>\n",
       "    </tr>\n",
       "    <tr>\n",
       "      <th>3</th>\n",
       "      <td>PARTIDO MORADO</td>\n",
       "      <td>3641</td>\n",
       "      <td>3.054%</td>\n",
       "      <td>1.978%</td>\n",
       "      <td>AMAZONAS</td>\n",
       "      <td>D44001</td>\n",
       "    </tr>\n",
       "    <tr>\n",
       "      <th>4</th>\n",
       "      <td>VICTORIA NACIONAL</td>\n",
       "      <td>6109</td>\n",
       "      <td>5.124%</td>\n",
       "      <td>3.318%</td>\n",
       "      <td>AMAZONAS</td>\n",
       "      <td>D44001</td>\n",
       "    </tr>\n",
       "    <tr>\n",
       "      <th>...</th>\n",
       "      <td>...</td>\n",
       "      <td>...</td>\n",
       "      <td>...</td>\n",
       "      <td>...</td>\n",
       "      <td>...</td>\n",
       "      <td>...</td>\n",
       "    </tr>\n",
       "    <tr>\n",
       "      <th>554</th>\n",
       "      <td>ALIANZA PARA EL PROGRESO</td>\n",
       "      <td>17190</td>\n",
       "      <td>10.007%</td>\n",
       "      <td>6.653%</td>\n",
       "      <td>UCAYALI</td>\n",
       "      <td>D44026</td>\n",
       "    </tr>\n",
       "    <tr>\n",
       "      <th>555</th>\n",
       "      <td>TOTAL DE VOTOS VÁLIDOS</td>\n",
       "      <td>171774</td>\n",
       "      <td>100.000%</td>\n",
       "      <td>66.478%</td>\n",
       "      <td>UCAYALI</td>\n",
       "      <td>D44026</td>\n",
       "    </tr>\n",
       "    <tr>\n",
       "      <th>556</th>\n",
       "      <td>VOTOS BLANCOS</td>\n",
       "      <td>37820</td>\n",
       "      <td>NaN</td>\n",
       "      <td>14.637%</td>\n",
       "      <td>UCAYALI</td>\n",
       "      <td>D44026</td>\n",
       "    </tr>\n",
       "    <tr>\n",
       "      <th>557</th>\n",
       "      <td>VOTOS NULOS</td>\n",
       "      <td>48800</td>\n",
       "      <td>NaN</td>\n",
       "      <td>18.886%</td>\n",
       "      <td>UCAYALI</td>\n",
       "      <td>D44026</td>\n",
       "    </tr>\n",
       "    <tr>\n",
       "      <th>558</th>\n",
       "      <td>TOTAL DE VOTOS EMITIDOS</td>\n",
       "      <td>258394</td>\n",
       "      <td>NaN</td>\n",
       "      <td>100.000%</td>\n",
       "      <td>UCAYALI</td>\n",
       "      <td>D44026</td>\n",
       "    </tr>\n",
       "  </tbody>\n",
       "</table>\n",
       "<p>559 rows × 6 columns</p>\n",
       "</div>"
      ],
      "text/plain": [
       "                           organizaciones_políticas   total share_válidos  \\\n",
       "0     FRENTE POPULAR AGRICOLA FIA DEL PERU - FREPAP    2000        1.678%   \n",
       "1                      PARTIDO NACIONALISTA PERUANO   11651        9.772%   \n",
       "2    EL FRENTE AMPLIO POR JUSTICIA, VIDA Y LIBERTAD    2923        2.452%   \n",
       "3                                    PARTIDO MORADO    3641        3.054%   \n",
       "4                                 VICTORIA NACIONAL    6109        5.124%   \n",
       "..                                              ...     ...           ...   \n",
       "554                        ALIANZA PARA EL PROGRESO   17190       10.007%   \n",
       "555                          TOTAL DE VOTOS VÁLIDOS  171774      100.000%   \n",
       "556                                   VOTOS BLANCOS   37820           NaN   \n",
       "557                                     VOTOS NULOS   48800           NaN   \n",
       "558                         TOTAL DE VOTOS EMITIDOS  258394           NaN   \n",
       "\n",
       "    %votos emitidos    region  ubigeo  \n",
       "0            1.086%  AMAZONAS  D44001  \n",
       "1            6.328%  AMAZONAS  D44001  \n",
       "2            1.588%  AMAZONAS  D44001  \n",
       "3            1.978%  AMAZONAS  D44001  \n",
       "4            3.318%  AMAZONAS  D44001  \n",
       "..              ...       ...     ...  \n",
       "554          6.653%   UCAYALI  D44026  \n",
       "555         66.478%   UCAYALI  D44026  \n",
       "556         14.637%   UCAYALI  D44026  \n",
       "557         18.886%   UCAYALI  D44026  \n",
       "558        100.000%   UCAYALI  D44026  \n",
       "\n",
       "[559 rows x 6 columns]"
      ]
     },
     "execution_count": 8,
     "metadata": {},
     "output_type": "execute_result"
    }
   ],
   "source": [
    "final_data.rename(columns={\"organizaciones_politicas\":\"organización política\", \"share_validos\":\"%votos válidos\", \"share_emitidos\":\"%votos emitidos\", \"department\":\"departamento\"}, inplace=True)\n",
    "final_data"
   ]
  },
  {
   "cell_type": "code",
   "execution_count": 9,
   "id": "51d3aabb",
   "metadata": {},
   "outputs": [
    {
     "name": "stderr",
     "output_type": "stream",
     "text": [
      "C:\\Users\\user\\AppData\\Local\\Temp/ipykernel_9088/1003585371.py:1: FutureWarning: As the xlwt package is no longer maintained, the xlwt engine will be removed in a future version of pandas. This is the only engine in pandas that supports writing in the xls format. Install openpyxl and write to an xlsx file instead. You can set the option io.excel.xls.writer to 'xlwt' to silence this warning. While this option is deprecated and will also raise a warning, it can be globally set and the warning suppressed.\n",
      "  final_data.to_excel( r'onpe_congreso_grupo_6.xls' , index = False )\n"
     ]
    }
   ],
   "source": [
    "final_data.to_excel( r'onpe_congreso_grupo_6.xls' , index = False )"
   ]
  },
  {
   "cell_type": "code",
   "execution_count": null,
   "id": "c7b91d5a",
   "metadata": {},
   "outputs": [],
   "source": []
  }
 ],
 "metadata": {
  "kernelspec": {
   "display_name": "Python 3 (ipykernel)",
   "language": "python",
   "name": "python3"
  },
  "language_info": {
   "codemirror_mode": {
    "name": "ipython",
    "version": 3
   },
   "file_extension": ".py",
   "mimetype": "text/x-python",
   "name": "python",
   "nbconvert_exporter": "python",
   "pygments_lexer": "ipython3",
   "version": "3.9.7"
  }
 },
 "nbformat": 4,
 "nbformat_minor": 5
}
