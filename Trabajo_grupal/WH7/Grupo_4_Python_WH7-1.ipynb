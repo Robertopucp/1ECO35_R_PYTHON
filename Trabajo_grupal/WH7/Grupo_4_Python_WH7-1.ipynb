{
 "cells": [
  {
   "cell_type": "markdown",
   "id": "417ae929",
   "metadata": {},
   "source": [
    "<h1>Grupo_4_Python_WH7-1</h1>"
   ]
  },
  {
   "cell_type": "code",
   "execution_count": 1,
   "id": "e18f8b89",
   "metadata": {},
   "outputs": [
    {
     "data": {
      "text/html": [
       "\n",
       "<style>\n",
       "    div#notebook-container    { width: 95%; }\n",
       "    div#menubar-container     { width: 65%; }\n",
       "    div#maintoolbar-container { width: 99%; }a\n",
       "</style>\n"
      ],
      "text/plain": [
       "<IPython.core.display.HTML object>"
      ]
     },
     "metadata": {},
     "output_type": "display_data"
    }
   ],
   "source": [
    "from IPython.display import display, HTML\n",
    "\n",
    "display(HTML(data=\"\"\"\n",
    "<style>\n",
    "    div#notebook-container    { width: 95%; }\n",
    "    div#menubar-container     { width: 65%; }\n",
    "    div#maintoolbar-container { width: 99%; }a\n",
    "</style>\n",
    "\"\"\"))"
   ]
  },
  {
   "cell_type": "markdown",
   "id": "747a51e1",
   "metadata": {},
   "source": [
    "<h1>Usar los tags correspondientes para cada item solicitado</h1>"
   ]
  },
  {
   "cell_type": "markdown",
   "id": "fd008935",
   "metadata": {},
   "source": [
    "<h2>1- Insertar el link del repositorio del curso.</h2>"
   ]
  },
  {
   "cell_type": "markdown",
   "id": "c532343e",
   "metadata": {},
   "source": [
    "<a href=\"https://github.com/Robertopucp/1ECO35_R_PYTHON.git\">This is the course repository</a> \n",
    "<br>\n",
    "<p>Para ello se usa el tag < a > </p> "
   ]
  },
  {
   "cell_type": "markdown",
   "id": "6da92ec0",
   "metadata": {},
   "source": [
    "<h2>2 - Replicar la tabla de inflación anual de marzo en el rango meta.</h2>"
   ]
  },
  {
   "cell_type": "markdown",
   "id": "73da6683",
   "metadata": {},
   "source": [
    "<table>\n",
    "  <tr>\n",
    "    <th></th>\n",
    "    <th>Total</th>\n",
    "    <th>Sin alimentos y energía</th>\n",
    "    <th>Alimentos y energía</th>\n",
    "    <th>Tendencial</th>\n",
    "  </tr>\n",
    "    \n",
    "  <tr>\n",
    "    <td>Dic. 19</td>\n",
    "    <td>1,9</td>\n",
    "    <td>2,3</td>\n",
    "    <td>1,4</td>\n",
    "    <td>1,7</td>\n",
    "  </tr>\n",
    "    \n",
    "  <tr>\n",
    "    <td>Ene. 20</td>\n",
    "    <td>1,9</td>\n",
    "    <td>2,3</td>\n",
    "    <td>1,4</td>\n",
    "    <td>1,8</td>\n",
    "  </tr>\n",
    "    \n",
    "  <tr>\n",
    "    <td>Feb. 20</td>\n",
    "    <td>1,9</td>\n",
    "    <td>2,3</td>\n",
    "    <td>1,4</td>\n",
    "    <td>1,7</td>\n",
    "  </tr>\n",
    "    \n",
    "  <tr>\n",
    "    <td>Mar. 20</td>\n",
    "    <td>1,8</td>\n",
    "    <td>1,7</td>\n",
    "    <td>1,9</td>\n",
    "    <td>1,6</td>\n",
    "  </tr>    \n",
    "</table>\n",
    "<br>\n",
    "<br>\n",
    "<p>Para ello se usa los tags: < table > para iniciar la tabla, dentro de este se usa < tr > para iniciar cada fila de celdas. Dentro de este último, se usa < th > para usar los elementos como encabezado de un grupo de celdas en una tabla y se usa < td > para definir cada una de las celdas de la tabla (se ordenan por filas).</p>"
   ]
  },
  {
   "cell_type": "markdown",
   "id": "1088fca7",
   "metadata": {},
   "source": [
    "<h2>3- Crear las siguientes opciones para marcar (Lima Metropolitana, Lima provincia y Lima región ). Crear una lista despegable con las opciones de 5 distritos de Lima.</h2>"
   ]
  },
  {
   "cell_type": "markdown",
   "id": "7d325fa3",
   "metadata": {},
   "source": [
    "<!DOCTYPE html>\n",
    "<html>\n",
    "<body>\n",
    "\n",
    "<form action=\"/action_page.php\">\n",
    "      \n",
    "  <input type=\"checkbox\" name=\"Lima\" checked />\n",
    "    ¿Eres de Lima?\n",
    "</form>\n",
    " \n",
    "<p>Seleccione el área:</p>\n",
    "\n",
    "<form action=\"/action_page.php\">\n",
    "\n",
    "  <input type=\"radio\" id=\"Lima Metropolitana\" name=\"Provincia de Lima\" value=\"Lima Metropolitana\">\n",
    "  <label for=\"Lima Metropolitana\">Lima Metropolitana</label><br>\n",
    "  <input type=\"radio\" id=\"Lima provincia\" name=\"Provincia de Lima\" value=\"Lima provincia\">\n",
    "  <label for=\"Lima provincia\">Lima provincia</label><br>\n",
    "  <input type=\"radio\" id=\"Lima región\" name=\"Provincia de Lima\" value=\"Lima región\">\n",
    "  <label for=\"Lima región\">Lima región</label><br><br>\n",
    "</form>\n",
    "    \n",
    "<form action=\"/action_page.php\">\n",
    "  <label for=\"Provincia de Lima\">Seleccione el distrito:</label>\n",
    "  <select name=\"Provincia de Lima\" id=\"Provincia de Lima\">\n",
    "    <option value=\"Los Olivos\">Los Olivos</option>\n",
    "    <option value=\"Chorrillos\">Chorrillos</option>\n",
    "    <option value=\"San Juan de Lurigancho\">San Juan de Lurigancho</option>\n",
    "    <option value=\"Miraflores\">Miraflores</option>\n",
    "    <option value=\"San Miguel\">San Miguel</option>\n",
    "  </select>\n",
    "  <p>Otro distrito: <input type=\"text\" name=\"nombre\" required></p>\n",
    "  <br><br>\n",
    "</form>\n",
    "    <button onclick=\"showContent()\">Enviar</button>\n",
    "    \n",
    "<p>Los datos transmitidos serán tratados en forma confidencial y serán únicamente guardados para el procesamiento del donativo. </p>\n",
    "\n",
    "</body>\n",
    "</html>\n",
    " "
   ]
  },
  {
   "cell_type": "markdown",
   "id": "de89745f",
   "metadata": {},
   "source": [
    "<h2>4 - Crear un formulario para ingresar el nombre, apellidos, DNI y correo electrónico. Asimismo, debe añadirse un botón para enviar los resultados.</h2>"
   ]
  },
  {
   "cell_type": "markdown",
   "id": "abc7f428",
   "metadata": {},
   "source": [
    "<!DOCTYPE html>\n",
    "<html>\n",
    "<body>\n",
    "\n",
    "<h3><p  style='color:red'> Register</p></h3>\n",
    "\n",
    "\n",
    "\n",
    "<form action=\"/action_page.php\">\n",
    "  <label for=\"fname\">Nombres:</label>\n",
    "  <input type=\"text\" id=\"fname\" name=\"fname\" size=\"40\" placeholder=\"Escriba su nombre completo\"><br><br>\n",
    "  <label for=\"lname\">Apellidos:</label>\n",
    "  <input type=\"text\" id=\"lname\" name=\"lname\" size=\"40\" placeholder=\"Escriba sus dos apellidos\"><br><br>\n",
    "  <label for=\"dni\">DNI:</label>\n",
    "  <input type=\"text\" id=\"dni\" name=\"dni\"><br><br>  \n",
    "  <label for=\"email\">Correo electrónico:</label>\n",
    "  <input type=\"text\" id=\"email\" name=\"email\"><br><br>\n",
    "  <button onclick=\"showContent()\">Enviar</button>\n",
    "</form>\n",
    "\n",
    "<p>*Los datos enviados son totalmente confidenciales.</p>\n",
    "\n",
    "</body>\n",
    "</html>"
   ]
  }
 ],
 "metadata": {
  "kernelspec": {
   "display_name": "Python 3 (ipykernel)",
   "language": "python",
   "name": "python3"
  },
  "language_info": {
   "codemirror_mode": {
    "name": "ipython",
    "version": 3
   },
   "file_extension": ".py",
   "mimetype": "text/x-python",
   "name": "python",
   "nbconvert_exporter": "python",
   "pygments_lexer": "ipython3",
   "version": "3.9.7"
  }
 },
 "nbformat": 4,
 "nbformat_minor": 5
}
